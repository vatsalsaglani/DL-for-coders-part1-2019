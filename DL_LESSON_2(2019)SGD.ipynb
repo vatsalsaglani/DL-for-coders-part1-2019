{
  "nbformat": 4,
  "nbformat_minor": 0,
  "metadata": {
    "colab": {
      "name": "DL-LESSON-2(2019)SGD",
      "version": "0.3.2",
      "provenance": [],
      "include_colab_link": true
    },
    "kernelspec": {
      "name": "python3",
      "display_name": "Python 3"
    },
    "accelerator": "GPU"
  },
  "cells": [
    {
      "cell_type": "markdown",
      "metadata": {
        "id": "view-in-github",
        "colab_type": "text"
      },
      "source": [
        "<a href=\"https://colab.research.google.com/github/vatsalsaglani/DL-for-coders-part1-2019/blob/master/DL_LESSON_2(2019)SGD.ipynb\" target=\"_parent\"><img src=\"https://colab.research.google.com/assets/colab-badge.svg\" alt=\"Open In Colab\"/></a>"
      ]
    },
    {
      "metadata": {
        "id": "dtnLhbEFXsnp",
        "colab_type": "code",
        "colab": {}
      },
      "cell_type": "code",
      "source": [
        "from fastai import *\n",
        "from fastai.vision import *\n",
        "from fastai.text import *\n",
        "from fastai.tabular import *"
      ],
      "execution_count": 0,
      "outputs": []
    },
    {
      "metadata": {
        "id": "_9_NCCSoYEOy",
        "colab_type": "text"
      },
      "cell_type": "markdown",
      "source": [
        "There are some things that can affect the model, \n",
        "1.   Leaning Rate\n",
        "2.   Epochs,\n",
        "\n",
        "These are the two things we can tune and there ins't much we can tune.\n",
        "\n"
      ]
    },
    {
      "metadata": {
        "id": "qKKueWgjYwug",
        "colab_type": "text"
      },
      "cell_type": "markdown",
      "source": [
        "<h2>Learning Rate too **High**</h2>\n",
        "\n",
        "The error rate is very high for most of the cases."
      ]
    },
    {
      "metadata": {
        "id": "v2Kf-StvY6WP",
        "colab_type": "text"
      },
      "cell_type": "markdown",
      "source": [
        "<h2>Learning Rate too **Low**</h2>\n",
        "\n",
        "The error rate does improve but very very slowly, training loss will be higher than the validation loss which means that the model ins't fitted enough. So we could increase the **ephocs** or we could increse the _**learning__rate**_"
      ]
    },
    {
      "metadata": {
        "id": "dG4LqV2WZP26",
        "colab_type": "text"
      },
      "cell_type": "markdown",
      "source": [
        "To get a plot of _validation_ and _training_ loss we can use the the piece of code\n",
        "**_```modelName.plot__losses()```_**"
      ]
    },
    {
      "metadata": {
        "id": "VCA5kRJoZvcd",
        "colab_type": "text"
      },
      "cell_type": "markdown",
      "source": [
        "<h2>Too few epochs</h2>\n",
        "\n",
        "This condition is kinda similar to _low learning rate_ condition. "
      ]
    },
    {
      "metadata": {
        "id": "Xlw7TCPXaYeV",
        "colab_type": "text"
      },
      "cell_type": "markdown",
      "source": [
        "<h2>Too many epochs</h2>\n",
        "\n",
        "Its very hard to **overfit** using deep learning so if we have a huge number of **epochs** the model keep on learning from the same data batches and it could be good for the data that we have but it wouldn't be good for other outside data. \n",
        "\n",
        "To tell that a model is overfitting we can check the error rate and observe that it continues to impove for a while and then becomes worse. "
      ]
    },
    {
      "metadata": {
        "id": "4Pe7v-eoabjA",
        "colab_type": "text"
      },
      "cell_type": "markdown",
      "source": [
        "<center><h1>Lesson 2: SGD</h1></center>"
      ]
    },
    {
      "metadata": {
        "id": "7SUFMaQnbaD4",
        "colab_type": "text"
      },
      "cell_type": "markdown",
      "source": [
        "**SGD** stands for **_Stochastic Gradient Descent_** which is an **optimization** method commonly used in neural networks. "
      ]
    },
    {
      "metadata": {
        "id": "OK3WA5m7cpT2",
        "colab_type": "text"
      },
      "cell_type": "markdown",
      "source": [
        "<h2>Linear Regression Problem</h2>\n",
        "\n",
        "The goal of Linear Regression is to fit a line to a set of points."
      ]
    },
    {
      "metadata": {
        "id": "vgu_uUE3h5uA",
        "colab_type": "code",
        "colab": {}
      },
      "cell_type": "code",
      "source": [
        "n = 100"
      ],
      "execution_count": 0,
      "outputs": []
    },
    {
      "metadata": {
        "id": "k5Ss3vduiKak",
        "colab_type": "text"
      },
      "cell_type": "markdown",
      "source": [
        "Generated Data, matrix of size _100 x 2_"
      ]
    },
    {
      "metadata": {
        "id": "aKpnp41Ch_q-",
        "colab_type": "code",
        "colab": {
          "base_uri": "https://localhost:8080/",
          "height": 104
        },
        "outputId": "7be9744d-9b98-47a5-f841-8bfc8601e04e"
      },
      "cell_type": "code",
      "source": [
        "x = torch.ones(n, 2)  # tensor of n(rows) x 2(columns)\n",
        "x[:, 0].uniform_(-1., 1) # index into ':' every single value on the axis. .unifrom grabs a uniform random number.\n",
        "x[:5]"
      ],
      "execution_count": 5,
      "outputs": [
        {
          "output_type": "execute_result",
          "data": {
            "text/plain": [
              "tensor([[ 0.6177,  1.0000],\n",
              "        [ 0.5480,  1.0000],\n",
              "        [-0.7633,  1.0000],\n",
              "        [-0.2761,  1.0000],\n",
              "        [ 0.3306,  1.0000]])"
            ]
          },
          "metadata": {
            "tags": []
          },
          "execution_count": 5
        }
      ]
    },
    {
      "metadata": {
        "id": "z88e3Io7iRWH",
        "colab_type": "code",
        "colab": {
          "base_uri": "https://localhost:8080/",
          "height": 34
        },
        "outputId": "6ae96a62-3a78-45ec-b8ad-d46e93377857"
      },
      "cell_type": "code",
      "source": [
        "x.shape"
      ],
      "execution_count": 23,
      "outputs": [
        {
          "output_type": "execute_result",
          "data": {
            "text/plain": [
              "torch.Size([100, 2])"
            ]
          },
          "metadata": {
            "tags": []
          },
          "execution_count": 23
        }
      ]
    },
    {
      "metadata": {
        "id": "GDKulisujOqZ",
        "colab_type": "text"
      },
      "cell_type": "markdown",
      "source": [
        "a1 = 3, a2 = 2; coefficients"
      ]
    },
    {
      "metadata": {
        "id": "s6MmgHQUiY4o",
        "colab_type": "code",
        "colab": {
          "base_uri": "https://localhost:8080/",
          "height": 34
        },
        "outputId": "f0c3a00f-9beb-4a67-c345-da2977030b0a"
      },
      "cell_type": "code",
      "source": [
        "a = tensor(3., 2); a # tensor(slope, intercept)"
      ],
      "execution_count": 18,
      "outputs": [
        {
          "output_type": "execute_result",
          "data": {
            "text/plain": [
              "tensor([3., 2.])"
            ]
          },
          "metadata": {
            "tags": []
          },
          "execution_count": 18
        }
      ]
    },
    {
      "metadata": {
        "id": "W995ayC0ii6c",
        "colab_type": "code",
        "colab": {}
      },
      "cell_type": "code",
      "source": [
        "y = x@a + torch.rand(n) # random number to add some ones."
      ],
      "execution_count": 0,
      "outputs": []
    },
    {
      "metadata": {
        "id": "uJVH2FFSiweV",
        "colab_type": "code",
        "colab": {
          "base_uri": "https://localhost:8080/",
          "height": 34
        },
        "outputId": "afb78ac8-4f6d-41a3-ec8b-0521de5a0e18"
      },
      "cell_type": "code",
      "source": [
        "x[:,0].shape"
      ],
      "execution_count": 17,
      "outputs": [
        {
          "output_type": "execute_result",
          "data": {
            "text/plain": [
              "torch.Size([100])"
            ]
          },
          "metadata": {
            "tags": []
          },
          "execution_count": 17
        }
      ]
    },
    {
      "metadata": {
        "id": "os-rSyhGipl_",
        "colab_type": "code",
        "colab": {
          "base_uri": "https://localhost:8080/",
          "height": 366
        },
        "outputId": "4885f848-95e0-46f2-9f1f-b6d16cf83d88"
      },
      "cell_type": "code",
      "source": [
        "plt.scatter(x[:,0], y)"
      ],
      "execution_count": 10,
      "outputs": [
        {
          "output_type": "execute_result",
          "data": {
            "text/plain": [
              "<matplotlib.collections.PathCollection at 0x7feba99bb438>"
            ]
          },
          "metadata": {
            "tags": []
          },
          "execution_count": 10
        },
        {
          "output_type": "display_data",
          "data": {
            "image/png": "[encoded data removed]",
            "text/plain": [
              "<Figure size 576x396 with 1 Axes>"
            ]
          },
          "metadata": {
            "tags": []
          }
        }
      ]
    },
    {
      "metadata": {
        "id": "Jg0crQWoivY_",
        "colab_type": "text"
      },
      "cell_type": "markdown",
      "source": [
        "We need to find **parameters** _(weights)_ _```a```_ such that the _error_ between the point and the line _```x@a```_  _minimizes_. Here ```a``` is unknown. For a _regression_ problem the most common _error_ or _loss function_ is the **```mean squared error```**"
      ]
    },
    {
      "metadata": {
        "id": "CEoX57sqm7t8",
        "colab_type": "text"
      },
      "cell_type": "markdown",
      "source": [
        "Let's pretend that we don't know the value of _```a```_ (which we know as we have declared it) to get a line to divide the points. "
      ]
    },
    {
      "metadata": {
        "id": "Ro0-CB9qnS-5",
        "colab_type": "code",
        "colab": {}
      },
      "cell_type": "code",
      "source": [
        "def mse(y_hat, y): return((y_hat - y)**2).mean()"
      ],
      "execution_count": 0,
      "outputs": []
    },
    {
      "metadata": {
        "id": "FqQDjW6Yn3Vc",
        "colab_type": "text"
      },
      "cell_type": "markdown",
      "source": [
        "Supposing we believe _```a = (-1.0, 1.0)```_ then we compute the _```y_hat```_ which is our _prediction_ and then compute our error. "
      ]
    },
    {
      "metadata": {
        "id": "hv-qhYECqF8F",
        "colab_type": "code",
        "colab": {}
      },
      "cell_type": "code",
      "source": [
        "a = tensor(-1., 1.)"
      ],
      "execution_count": 0,
      "outputs": []
    },
    {
      "metadata": {
        "id": "E7wEgTF5qI-l",
        "colab_type": "code",
        "colab": {}
      },
      "cell_type": "code",
      "source": [
        "y_hat = x@a"
      ],
      "execution_count": 0,
      "outputs": []
    },
    {
      "metadata": {
        "id": "VSvoOmWbqK42",
        "colab_type": "code",
        "colab": {
          "base_uri": "https://localhost:8080/",
          "height": 34
        },
        "outputId": "c4aef8a7-898c-482b-9bf0-e8984d3f9e9e"
      },
      "cell_type": "code",
      "source": [
        "mse(y_hat, y)"
      ],
      "execution_count": 31,
      "outputs": [
        {
          "output_type": "execute_result",
          "data": {
            "text/plain": [
              "tensor(7.6707)"
            ]
          },
          "metadata": {
            "tags": []
          },
          "execution_count": 31
        }
      ]
    },
    {
      "metadata": {
        "id": "ijh5mfgiqwEn",
        "colab_type": "code",
        "colab": {
          "base_uri": "https://localhost:8080/",
          "height": 366
        },
        "outputId": "6cff29e9-a639-4ae8-c7bd-b2b6e8d8ecf2"
      },
      "cell_type": "code",
      "source": [
        "plt.scatter(x[:,0], y)\n",
        "plt.scatter(x[:,0], y_hat)"
      ],
      "execution_count": 32,
      "outputs": [
        {
          "output_type": "execute_result",
          "data": {
            "text/plain": [
              "<matplotlib.collections.PathCollection at 0x7feba70c1978>"
            ]
          },
          "metadata": {
            "tags": []
          },
          "execution_count": 32
        },
        {
          "output_type": "display_data",
          "data": {
            "image/png": "[encoded data removed]",
            "text/plain": [
              "<Figure size 576x396 with 1 Axes>"
            ]
          },
          "metadata": {
            "tags": []
          }
        }
      ]
    },
    {
      "metadata": {
        "id": "5ILxd2Plrp-t",
        "colab_type": "text"
      },
      "cell_type": "markdown",
      "source": [
        "Until now we have specified a _model (linear regression)_ and the _evaluation criteria (or a loss function)_. Now we need to handle optimization; i.e., how do we find the best value _```a```_. ? _How do we find the best fitting linear regression?_"
      ]
    },
    {
      "metadata": {
        "id": "_CHaToPTsQt8",
        "colab_type": "text"
      },
      "cell_type": "markdown",
      "source": [
        "<h2>Gradient Descent</h2>"
      ]
    },
    {
      "metadata": {
        "id": "tVJWiVW6sVYf",
        "colab_type": "text"
      },
      "cell_type": "markdown",
      "source": [
        "**Gradient Descent** is an algorithm that minimizes function. Given a function defined by a set of parameters, gradient descent starts with an initial set of parameter values and iteratively moves towards a set of parameter values that minimizes the function. This iterative minimization is achieved by taking steps in the negative direction of the function gradient. "
      ]
    },
    {
      "metadata": {
        "id": "J6Fs_yCGtZ2E",
        "colab_type": "code",
        "colab": {
          "base_uri": "https://localhost:8080/",
          "height": 52
        },
        "outputId": "50ff8e18-cc22-4159-f93a-90546f63d88b"
      },
      "cell_type": "code",
      "source": [
        "a = nn.Parameter(a); a"
      ],
      "execution_count": 33,
      "outputs": [
        {
          "output_type": "execute_result",
          "data": {
            "text/plain": [
              "Parameter containing:\n",
              "tensor([-1.,  1.], requires_grad=True)"
            ]
          },
          "metadata": {
            "tags": []
          },
          "execution_count": 33
        }
      ]
    },
    {
      "metadata": {
        "id": "21XxPZnOtdmf",
        "colab_type": "code",
        "colab": {}
      },
      "cell_type": "code",
      "source": [
        "def update():\n",
        "  y_hat = x@a\n",
        "  loss = mse(y_hat, y)\n",
        "  if t % 10 == 0: print(loss)\n",
        "  loss.backward()\n",
        "  with torch.no_grad():\n",
        "    a.sub_(lr * a.grad) # a -  gradient*learning rate\n",
        "    a.grad.zero_() # make the gradient zero"
      ],
      "execution_count": 0,
      "outputs": []
    },
    {
      "metadata": {
        "id": "zBPAdEXLt6dR",
        "colab_type": "code",
        "colab": {
          "base_uri": "https://localhost:8080/",
          "height": 191
        },
        "outputId": "5839ff10-367a-400a-a1fd-152a9092684e"
      },
      "cell_type": "code",
      "source": [
        "lr = 1e-1\n",
        "for t in range(100): update()"
      ],
      "execution_count": 39,
      "outputs": [
        {
          "output_type": "stream",
          "text": [
            "tensor(0.0934, grad_fn=<MeanBackward1>)\n",
            "tensor(0.0934, grad_fn=<MeanBackward1>)\n",
            "tensor(0.0934, grad_fn=<MeanBackward1>)\n",
            "tensor(0.0934, grad_fn=<MeanBackward1>)\n",
            "tensor(0.0934, grad_fn=<MeanBackward1>)\n",
            "tensor(0.0934, grad_fn=<MeanBackward1>)\n",
            "tensor(0.0934, grad_fn=<MeanBackward1>)\n",
            "tensor(0.0934, grad_fn=<MeanBackward1>)\n",
            "tensor(0.0934, grad_fn=<MeanBackward1>)\n",
            "tensor(0.0934, grad_fn=<MeanBackward1>)\n"
          ],
          "name": "stdout"
        }
      ]
    },
    {
      "metadata": {
        "id": "lSMmegTkt-7_",
        "colab_type": "code",
        "colab": {
          "base_uri": "https://localhost:8080/",
          "height": 366
        },
        "outputId": "87cca688-3a78-4296-88b3-6b56cd4c33e8"
      },
      "cell_type": "code",
      "source": [
        "plt.scatter(x[:,0], y)\n",
        "plt.scatter(x[:,0], x@a)"
      ],
      "execution_count": 40,
      "outputs": [
        {
          "output_type": "execute_result",
          "data": {
            "text/plain": [
              "<matplotlib.collections.PathCollection at 0x7feba70b48d0>"
            ]
          },
          "metadata": {
            "tags": []
          },
          "execution_count": 40
        },
        {
          "output_type": "display_data",
          "data": {
            "image/png": "[encoded data removed]",
            "text/plain": [
              "<Figure size 576x396 with 1 Axes>"
            ]
          },
          "metadata": {
            "tags": []
          }
        }
      ]
    },
    {
      "metadata": {
        "id": "HQhUS5XOv6Cj",
        "colab_type": "text"
      },
      "cell_type": "markdown",
      "source": [
        "<h2>Animation</h2>"
      ]
    },
    {
      "metadata": {
        "id": "AvwptWrBwAQ2",
        "colab_type": "code",
        "colab": {}
      },
      "cell_type": "code",
      "source": [
        "from matplotlib import animation, rc\n",
        "rc('animation', html='html5')"
      ],
      "execution_count": 0,
      "outputs": []
    },
    {
      "metadata": {
        "id": "wwOY5_74wKwB",
        "colab_type": "code",
        "colab": {}
      },
      "cell_type": "code",
      "source": [
        "!sudo add-apt-repository ppa:mc3man/trusty-media -y\n",
        "!sudo apt-get update -y\n",
        "!sudo apt-get install ffmpeg -y\n",
        "!sudo apt-get install frei0r-plugins"
      ],
      "execution_count": 0,
      "outputs": []
    },
    {
      "metadata": {
        "id": "O6AlOmACwfuT",
        "colab_type": "code",
        "colab": {
          "base_uri": "https://localhost:8080/",
          "height": 418
        },
        "outputId": "65d25286-5a8f-4de5-854e-ecd1fed27f65"
      },
      "cell_type": "code",
      "source": [
        "a = nn.Parameter(tensor(-1., 1.))\n",
        "\n",
        "fig = plt.figure()\n",
        "plt.scatter(x[:, 0], y, c = 'orange')\n",
        "line, = plt.plot(x[:,0], x@a)\n",
        "plt.close()\n",
        "\n",
        "def animate(i):\n",
        "  update()\n",
        "  line.set_ydata(x@a)\n",
        "  return line,\n",
        "\n",
        "animation.FuncAnimation(fig, animate, np.arange(0, 100), interval = 50)"
      ],
      "execution_count": 44,
      "outputs": [
        {
          "output_type": "execute_result",
          "data": {
            "text/html": [
              "<video width=\"576\" height=\"396\" controls autoplay loop>\n",
              "  <source type=\"video/mp4\" src=\"data:video/mp4;base64,AAAAHGZ0eXBNNFYgAAACAGlzb21pc28yYXZjMQAAAAhmcmVlAADx+G1kYXQAAAKuBgX//6rcRem9\n",
              "5tlIt5Ys2CDZI+7veDI2NCAtIGNvcmUgMTUyIHIyODU0IGU5YTU5MDMgLSBILjI2NC9NUEVHLTQg\n",
              "QVZDIGNvZGVjIC0gQ29weWxlZnQgMjAwMy0yMDE3IC0gaHR0cDovL3d3dy52aWRlb2xhbi5vcmcv\n",
              "eDI2NC5odG1sIC0gb3B0aW9uczogY2FiYWM9MSByZWY9MyBkZWJsb2NrPTE6MDowIGFuYWx5c2U9\n",
              "MHgzOjB4MTEzIG1lPWhleCBzdWJtZT03IHBzeT0xIHBzeV9yZD0xLjAwOjAuMDAgbWl4ZWRfcmVm\n",
              "PTEgbWVfcmFuZ2U9MTYgY2hyb21hX21lPTEgdHJlbGxpcz0xIDh4OGRjdD0xIGNxbT0wIGRlYWR6\n",
              "b25lPTIxLDExIGZhc3RfcHNraXA9MSBjaHJvbWFfcXBfb2Zmc2V0PS0yIHRocmVhZHM9MyBsb29r\n",
              "YWhlYWRfdGhyZWFkcz0xIHNsaWNlZF90aHJlYWRzPTAgbnI9MCBkZWNpbWF0ZT0xIGludGVybGFj\n",
              "ZWQ9MCBibHVyYXlfY29tcGF0PTAgY29uc3RyYWluZWRfaW50cmE9MCBiZnJhbWVzPTMgYl9weXJh\n",
              "bWlkPTIgYl9hZGFwdD0xIGJfYmlhcz0wIGRpcmVjdD0xIHdlaWdodGI9MSBvcGVuX2dvcD0wIHdl\n",
              "aWdodHA9MiBrZXlpbnQ9MjUwIGtleWludF9taW49MjAgc2NlbmVjdXQ9NDAgaW50cmFfcmVmcmVz\n",
              "aD0wIHJjX2xvb2thaGVhZD00MCByYz1jcmYgbWJ0cmVlPTEgY3JmPTIzLjAgcWNvbXA9MC42MCBx\n",
              "cG1pbj0wIHFwbWF4PTY5IHFwc3RlcD00IGlwX3JhdGlvPTEuNDAgYXE9MToxLjAwAIAAACX7ZYiE\n",
              "ADf//vbw/gU2O5jQlxHN6J0zH78VuLo0N73OAAADAAADAAA3+gxQ69cxTHrAAAArDVfA7X5gp4ul\n",
              "P3RZ3C3DKcCTynwLIIz8BTcJ5yGBlCbvNpb/eQCLwcNqw2xeI22SKPCL4ZhyyjWkNGDvEHwkFaoo\n",
              "yZTmVBlP0IvruXMjqCINV9q2q++Ln04UOgSrUDL3/WrMQ2+KawU8eA80nCn9TtY255PmhO6S96FZ\n",
              "2pW3/XHWghElrqz79LJfSFhh+qnB6BURSuhDza6Y65YLAFjDnJHAXlVoWAOlBYT0GWOcET4yMKOz\n",
              "PO1InbJCif+AIDAWrg/IFarJsj91lE8V6o8PfToW5SzzRGvkVfDLEzmdwLIo4epFjmsvs1E7VyBo\n",
              "0JFgYVtdyteibi1ypEootpCP/fJrZo50YK4ai2Ze3gC8c2zQcFQPW5DupU7hOxM3fQyY4k/j0V7G\n",
              "OwPcr8jGb6/S4ikGdMHbWMBncGTEEnfwWl1kGM3o8K9feZEwprHy9/9GX91HqeOBoO8PyUWv5d8r\n",
              "kpBxC/4UBQMkDoB/Rqv+FAAb2ZvjUwqLw7gEbu7w8nagoqdNWSDcLTlJVE5U9ntuasmkprvTeooS\n",
              "74G6wWX0ic7jiCvMi5zNzUFsN9E19uqZtS09ac2BEcQ0gyE8sZpQKR9LdpdwkdNL+QgER3mzVesu\n",
              "y+XWFVplhCbftuqmeXdWQfHA1huMt/f36vPMvhUWQE4yUECiEwvVWcxsQfGJ+HP/C0Ds9VkPkcZw\n",
              "Lqlcnhq5WrK0JQs+VGfyPexcMMHKD6W/67SaQjSjBJE/spqter0jrKFoFpHSPlhxC5t5xacwBmwO\n",
              "PbRUaYknGt/KHVJxuki95F/6V0irIfVghnnLj7zzgqg1i38N0XXChT997sQSHk92XW78eAF+M5PN\n",
              "67QZRTR3fGwK0zf5fOe7xOYQ9mt4p3i5V1onUYW1SgJgKBo9fTIj3i3xmjnqJdmPMZERWhry+xvY\n",
              "FT4iaWbQ4hPiX9Mkqu/KZtERa9kiyzch945raA1ZSJvHe3QbRJetWLKfRB4mx+C8Q11Il26K7j8l\n",
              "9mxCQVuJWWfXU62SdvHw6mpn+9tyF3SFZ22/wDZRpVNKAy11Hj0Zo0S6TKDlzueIjmFp1bPdhJZL\n",
              "ESYMx+mc6pudDvQYVOmOcjxeqmnjREa84HdhQ3U3YHmcCdnW+DgisfM81bbloy8kFC3YdP+zuDXY\n",
              "8vXSsgonF0dVRYKIxKO1s6EpqYtZC5eeytGdH36W799KdxzaTEEKJtx3I9C+vdDsSbrlJGJXvpar\n",
              "lVlGvEKZ/TiuTvFRFO3BVIsTG/eDbN02TA81ymG1EPY+LU9k2ceqOBrPhvQg5m4LItdgxXi4wlv4\n",
              "c7O1HnEMiINqYWboGtjj+a6joFfzUSZiSo41JpEXkEUxhiO8bO6cgARKxpDJaY8HXf5RfuXjyDiS\n",
              "ktrPwv3CFdei6cCPqx1AjoclWS8Fd51Cwj/ZbcAWpWukufG3Lrl5GvIz4RiIBrjxYhOxINMVzubG\n",
              "t04B7NGZFO8shAnWQp0KCNvh3j+XdlStAQBfpAiK0Q9j0HQ8ZJmeg2KYprJcTmpi7/oZV2NV3a2u\n",
              "rjLkqNq0IPUMJrPn3nOh1bsJH7zTNz4qHzIVW2MtSKXDQRY8wVnQia3mjt6Fy+ljlBzEqS+AHKz/\n",
              "ADeGf/xbBtzmjHJMqlifVHrAX4oMgIIgZ5d1brEYa+SLARBylV4Y9ZjmX2t9+5a9/XgdPlQRcWrE\n",
              "+Az5jBaCTAMYorRYtCaaqFkT2w9eWsoxpbqkHr1W/WrZsh8m0fVBccQeNW2GYmkja6StR1vlRqTw\n",
              "KCO96bIkm/iT52fBIOrCVx2nLIydh5kTvAba1juim8damv2YrZ7ABOGAYB6ObzaMaGAHfNqyZTzt\n",
              "gnZE7tYw9PtBXjxIafQE/EhK0WVr9iWwaorT4xE9QF3yDP/xFdAm/Km33j0KvQ9dAycNJwEi571u\n",
              "bBFFKDA136zEzOAekbMJAq5mdkV+dhl7NPLOQXy8YoJ+ime9a3GW3EF8NAKFXSlod2P6mrQVcGUH\n",
              "F7EGWgpLpXQ1UERtr+uBKVeX9OLhHW8ksbfYC6Tsvj6zMKyaL8VRspMo/m8g5K9/TStPSlqNUq/9\n",
              "KFVDTxfyu/sqNBVQrk2QZtVcZ1rKHKtqtrRPYs7DDw9VYEqIc4To89JLYQEuGkozfsBLvn/zRWHZ\n",
              "u9J0iFex8zGXJhjlbvMspZToKgWn044Md8QXkx/3+j7w9dRqFL1DhJnyiYhKjuyaaWrJQfUFuwl9\n",
              "euaYkF1bG/hjfWWnrmEd+fxWTSQmgymR02FQLoVRZruDymsLBufZ+P/ksENR7OTeytXTIYq/UfJF\n",
              "bGleTVtdMy6f/gs2iI61FFtJGOpXa/ft2Qi8lx9X0wBpR69K8MgQ6+vm1tQWHlN0eTKZVuOd/u5d\n",
              "eiqNeUcTwEYgtmAkQk1lJsJXoC1mTiR9qb4/2xIxM14leC0dpA9Mxa7PgFenzx8IpOHaUEA5++lz\n",
              "TZDY1cX6f4f7KzEOnT8g/bv7zfakVp/kJHCtcK3B4ONI+Ig8CTY9U9YOoQVIkjdMO+seHl/Kgpf0\n",
              "5resilSWn2++Ts6bAeL/5zjuTbWcUi3D4blBu2JAP09gQB9yYBxbPU1X+F+4JR8n+1PTi87k0ZS+\n",
              "esjOgBAbin7B/Jb8WM6pm6yMdaU+TLDFe4rnyCTc+JKrQJhGyoWRrZeEf2akvFZgzEKMJ5uzlPDz\n",
              "CZ4zE2/f+znJOm3gGRnn263xs4Dyrqin56tQZms9ThgeVwPCPCf6DbadqCKKu6ECqJ/sIGYF3AJO\n",
              "Mmjydc2lItns3lEJzaoLjZxfJqEDw0IF5GDqSsQwSD00wyXK/rjgWKaJeZuC3L7HbdEb1GABQt6B\n",
              "mb7HJ6zelcMR9jyieblWacBIUaW7nCBZu32aIdkaoewF1mP0u0UWHmwXj9wVuUjY9FDloRc3A9G7\n",
              "aMPJdDueQ+8iqE9t4V6WOsP8ArALR4TUGbcXpM4x4qGZXCcLKC4CWzJ33nlbeHXMhmskbVt+21e8\n",
              "MVoa27cX/Ntlx7eWvmoFUWPF48doL7k922aA/r6sy5QNTBHGbFfJ8/tHfWoAWNBb4V1PescyY/BP\n",
              "6hfDl4o0zLhDLT28OkiteJcwvP9lAezPI2GSyQnOW0WWUOFZ6L1dGrltjX0BmNklMfCyjRT0yzp+\n",
              "ldpKTSzCap2/AEzQ6VwonGsJuIN3EFZuU/SVzhohGUf8pUKA+XzrByKsPBpHcsh198zDOMo75DOK\n",
              "jM2WSHfcv+iKJwGSV49DJc/n3WQKnNqOyFR0YvST6/k8drL/I2F8IbJwrmpgtG/Cm5kK7j8h9CFn\n",
              "PfLpHN6i2HrE8f80U4vzyszilksjotFQtDqvvT6ExCw+PvZ+RPmH0GU91ZJSOQImrx/2ElqyLicm\n",
              "BOWtW1KCuKJe20/9/yDVb4VBb4+TnfUEp5BUe+9ru6RriD+CxwUW9BbhaT8YYyz3C+rQF1LyAyNd\n",
              "juCFGdPEWAIlRQU4nZNGuCkeJnO4sNN/t9NxdzMWkvGuPu9O3ofkHt+6mfTReA49szbSGS5D7JEy\n",
              "QjIy6tUCWNFdfxAODKslMhw6P7jO3X/tcrW9G1Y722gxhEmK5DFqCXWfXBF/j5SaSrsZ2Y0oKBKx\n",
              "j+mnP61zkVfxXz2gKcohs80xakhDA8jPdAuLzycCTYiO3Ghsapn4BTWpwSo/HMBqxxMPVSgpIsRY\n",
              "3GLhCA5LE6rQO5d0iHmpVgeGtOkDhLBL8MgDUsWvuuhmqvkBpBOD7jL6hmNDIDBl+9Rqwr3rKnjw\n",
              "eoNz7NIDj1gAw2V6o17QzLn/X1YFIkAwfukQdh5eQknj7q2J6bJFoxDJYhqM4844VSyF4WawDToT\n",
              "MPZkgbGyKIykfvYFR8H71swj5PJBtr7f6vTHkm/uY1+L+YrT96VnuE4U9oT5B44M4dvok9sQI/VS\n",
              "l5ZzfyKbRU6V+umD6s2uJWVH/JFOC4aJoYS7ycs9ThT8gKtNO5r0srlmTryOpvfqRH/meLTCd8ze\n",
              "uzDAeAiGm0eP3UtQsoaQrTJf9hspZICei1PpfIjD100KAafdVevWBNFpiZRxfTwWmAk8UsH0B95o\n",
              "DNtCjvylz7f8pWZ/RlNyCk97IvFlmtIpvQVygc4PSZQ/ajq222VCwrJxfSQc2O5oCuO/QI2neYQG\n",
              "RVzTyzsHh5lSnTuHyBtE3//L6pXbdjVqrfF+Pjj+DeJ+HfJuLcn8iqbNl9571BC4rif4hoE8Tzhv\n",
              "Emt8FY85P7fFnzXOZTcom//4MRwqiiZiB3p6sgFzQvon9MGV4/JtHLdd2FxXiaV6MFTjPYs1sv/A\n",
              "55OFmdU8Cul+Jk6DUsSWDYd50SYtaJl5cCF3poQoqXBbEdOiQ2tCVf/upDviMASIiUOMdDj0uucF\n",
              "+FexVRa/tzXz8H2F3SzhvklsibOKvCKrAdRUCIka8VYoU07MHZSzzpN+pswzWXBoIugTOZ8dhy9r\n",
              "mKuzKaV/pNugdvXZ99Q/NKF427xZr+O2ShAXIw86qvA8MkqWquwnxdRoMZt8AmuDG7PuLfrATpDV\n",
              "SyIKNp/H2mS6T02SticSNwsYT1RvW5ukvfMgA0cF4CCaTiTH/7DdqnR6HDaHkOkrIACFvj2/lCF/\n",
              "EkKkPN/rxLYU1n1f4DKwkyLVdkG7mtrsiXDN+vuMmocAXG7Jc3Hy02L3vZ9k7TvDcdDR+VwDCHGx\n",
              "gKU+muiXBla0ymaXEPzIXddIbGMydWPFMM6KY/KGiGn1EGcLC1/pyC5rw1RdsVUVh65az8MwHnOk\n",
              "IoiQo4DGqM8D/+ZDs1EHvz/5BzCz4ZfoLnDEkhj7R+H+pznidfTNwNJK17LGfvs4CoPL1P956p+E\n",
              "cgYcCpPd/93015drJwDN5CLCMC/RN7odkTaGsNUdn3bwopXSi0DU7VW0/0DmdQm//dEPYGFfznxL\n",
              "2HOU8llNfRDv13tTs+WvNclm0/CXwjn/9/xfa7IXA8b1FZQuMDnDiynvYLbifs/mHYMDGXe1S4SE\n",
              "sUpbe9CpZNCMo2RmHOrgMsiTA4vgyS6+iDPgFk6Wba/5/yFQFIx8o1wZDszgrQxiq2thrvj9aGAB\n",
              "bQx0dBD9BvKGX3PJWP65jr6nGqMMj6+Nx+oC8wsDkDHWHbe1ad5ba2WDeSLFFxkM69Ft7P5dL45K\n",
              "rRsnNQrJbwDBUo0TWpxidYCYDW5PCI+6VeK7kCuRlncZmlP91hUUsKmN0cnAwkgSXNLc1PnQWldp\n",
              "mVsi8dJ1NaynzOuDty0t6aDr5Dkq73yZTY+L67SWBbwdLdYMuGLvIDm34aBGLHevctr3tUTymRLN\n",
              "Ewr3eRHUvi32WM7HHHt4d/WKw6lPam12Msfma7893S4PC+DZSmqJQ7Jw+Ol7Vl8bTQ93H2V8sRiQ\n",
              "VwvrlkAUD88C6vMDNHb7X42m1Rz/J3kxHEZ2uXenM/+5h+Qa05YPMspsgsX+LfpBlgZtLxhq1e3e\n",
              "d96iWdrlb3Tpjejbp6syO+0oc/Hj6/0mJxcCfnpKAPgpFqQz82Hz4FNA/N1m2XCNV3Zzuxvga7aR\n",
              "GP0+KUDcUPSdeMZK94zdFImo1YhcP43w3QyRjBrH6cwRn1VTCp5rc5mIgmsiUOATDLvyIb27lVsF\n",
              "jD72R+qGj0LwTLv82eHkrJxQAydenYkPB8uI197OSrjIsXvsFx3BG8R9YznQXxsDZBaaPn2CpLzH\n",
              "+rkFfh3E2GGjgYki+2tIwFDziuEtOgkizkPkjJXG5Tm5Xm7QldYiCaiv2jJvtiAd58Xee/2BHQqP\n",
              "yp31GM4mufheTygqZGaMTAHgD/om+3AtKoNzkdwQBtcgqzq9ry8sFaesqQq67zn6/MxBb41OTjMA\n",
              "v40O4XETEvAQMBGxv44XhwCTS2yEfYKOwcP1mpRv0aF8TJPY5xiT87ggszrAqYrjG3IpMrGiOAkt\n",
              "N/MuRC0YJPYC6ysf////2a1iV3m+75t5GWeEgVFthCRf6v2TICEV4fRw6xb+GacG5BWT1qRXtPg4\n",
              "awTZfR0vV2osXN9V5h5xSSoX8xcqeeCITYdW76h6DeX70TuTSq/Hx7MRz5wpaiIhyY2p/qDe3Xpg\n",
              "meox3HujZx+ernN+5edLo+yXaWpJh0ukA4rEWdatqriXQsshRNspN8Sic39Rny3JlilHq3F8JFRF\n",
              "x2AtzO+bdcZqdGkoCUjzUuRt7PqBKU1WJUVmgFTabSbmv9WSYjMqOYB5bviCm+6eMmnKVuzoEFoJ\n",
              "leWXRuLTwdy2+pSBKspi65Svv64RHUaHWsZuaYJD3SlcVnvd3e6F8oVzXiQHaGb5Rupz2psqNCEi\n",
              "MkUaxJlZzi7X6eSkkvc5UzQkvtllp8gxyPDcr/1AvIylmb6akAR2hN/a2Qc0vO0YGkJX2SAm/ymn\n",
              "P8DZAKJCQoAHkbITGtRWueyHT4U6Cr1wJZZzz/W2oUjssALU1eyy2jNLF3hIjmT07CE76/4rk3He\n",
              "BvInD6fbsBtUMpfK4a5TnwUrdLfQchvTd4O5cclmJO6diZ2Y7I0GXdMuOMaE09J2DhiwGn3Rc/9N\n",
              "2EmH2zmhZck9/3A+PCD8n7hIn6vzjrsYnCeBl9txUpls5gkJLltwqQmAjaybAgqXh4ICkg0na/P4\n",
              "Wpk2bcApzHIi3YTiLTIMpdawvtXGOdEoqNT1byo1AXfrKVg/MqJKIGAoRE/muohEKdOxFdAKJtwE\n",
              "tnFYVhtuOXQxlWlKEaHMFX4M3gaK6eetjGobD//FhsDAl8J/QZXd0prOkIuc7ILCzpdu81eyinvJ\n",
              "Pp6VYyr+h3ZsVbA3HzMRr8u+VkY+YE4hBVYbxqZXbcmmzYamlfYwzSQv77LX2ueoKWs857c5JONr\n",
              "ka1vISzWvn0ARCXbbKGMKewX04fJj5x+To7ErDUlm1RW5R1eQv0w81rYQPvK1Fpp1riUF98I8CD1\n",
              "6Q/ucpEGH0GveviIUOii2NiQpgqMUxeJBLPm3cbXM5B2pJDTNpeySLVNB7S77Xiz0oGdP1lGWIHs\n",
              "hIy6KAZE9Rb6HLqsyUs8+uZ8UF7YJVGGdALX5UTQ9YmGA7DXwv+sF6x4qEwIdcA/nUwl3L5puWpb\n",
              "U+3jaBhvjnzOox+tmtLSkQ4yCO78RqD1bWRZtJtpCVNHNg9WjuJVvv2eK+BqYZw1BWGmbcDgo/eK\n",
              "bREY1QC9OIMJLDKgqYFgkwZ0NwelJlnzFdIn1cGpKnouFbM3HDxzj2AfJHkEfIN81Fw0mKkqD2zb\n",
              "P1mP5qMJKHyydGTSW9wHflUZU0FjCoY5ijuLnmbx3ZMefUYNqODAVgw7Qov0l/2bT7ORDn/8hNh/\n",
              "TTcrR6qr8Ae4fBqBwWP0hMU7+feoBr2dbEYEHa7dXE3Rm25aiKZtvsxY+9n8+zSf6sf0r45Ltgls\n",
              "pPunwsPrpF78KWKTWjSpmZg2oQ0XU/PFYtHLud5JOZZTJGUshZY8Ry8xXRW/PEjS+tFbSOzhdLY1\n",
              "lgGCfCA/EOhOaubFiQVNVTjwRTvaxXM+IBdgPxiD6gBVJSEnUBAUbK64dXFlcDlM5w8H8t1WMwog\n",
              "TEKvMDe8uvIaLjMS6aOmxPcGo3OJ7nHix+bRnaVxkJc8XGCVGmKHBV7yBTFFZBnuzp1h9Z/eAOJ9\n",
              "W+Wb8eSw43wn75TC0QZ6fSM5ozY7QKmmiWpG/TVgGqbj9GWnQFQOu3+YyM4amtwzYO/FVbrnjjMv\n",
              "71YQ1mY4w/djSj7RWGKVicAQbHt+DhnSudhOS393hDmvrzCd77QeseSFC2QKl4mFoaBMfq11/q/s\n",
              "hYC3P84VhziGDgWO0NKio3wfx5Z/J6HhdotgGQxrAUOhXoUy3pwizHRwZpRtddK+z5ByYqQmhQ7G\n",
              "ZUbfXo63ydx1KyxvHz/OJGZaUrGDVh5JEpA+VtMJoNCX5YIMSf5EHPv4CuOk2kYVSeLrEa+NZhsz\n",
              "MiF2R4nSzRAYfdbuGDF77yJTasnwG4aE07C0eSKrsgUYvf3MGE6vr77/kVDD9VKPlDgFOw/1YH3S\n",
              "Roze7kdXQWDQNJE5TVUII2Df/dnyjEPhWPH6axcOkSJULzj5aamfhwS967I5HwPeiY50o5nkUNTV\n",
              "wD7Id7ETmXVtmAWBXimwfifrCgvr1fGOcp5EM0M4JxHtevPC/cfqfCRnlSkYK9zrxxReJfzVekWy\n",
              "hLuqmpgvjEULlbpoke7vl4mBEZWHHLY9GPfpDUtTSi6FFipGTYauOROvv5SBc5bvC42S2au4/DCO\n",
              "yfmdihqxc8UDdyEDAXmQezG+T/PORao2McbLWfavWTOtIutfohpkesdOcYtwQNh6oNZ0tWT1NLt/\n",
              "IBcF1eTJ+VR3OQSYFEo+d/0F94WYD+zKxmptqioCZ+mLL7OumAkm5MlxJjLC8mnmWODP4v+YPyYS\n",
              "VcSL++W4qn+yfP/cixFpzim+EaOVnrpga+Q8I1gR+kc4HV2sS6ekAUMtgLmyGbmQ59eM4jQwFZ1+\n",
              "dN0z3HH6sbFs+oWn/TzYCUsyUgTuc7RZYTE4XnqNw9Fmlce0CmB0UO06L3Jw4kGbcB6XxUL/+6OU\n",
              "MKKRjjV9v0kRwbhJO9yILWvYBYzLeP09ivqxc2Se9RzJgKa4Ty1X6iyStaAuMFCa/RkHZ0SDpDLw\n",
              "/7F98OVFCieINMG/o/xbcTR0zmqnYWbVEzOB8Ea9Vpak4lATBV6OGrufW+ifgdjE/z/Cz9JSKtTH\n",
              "tNdMHgz2yLO2XFCNIr92+XtTeh/1gzdgslxkrkHFYdR9R+llczbMwkEGy6CKz2kYI+KKNHcuFRZL\n",
              "imXleKb0AgPxUmUdTLu+kKNbVblhCaAwYA4UBeiILGrDPSvYJ+ryRgiMDd7Gvg5ULg0UUWf2Wt0L\n",
              "CtctM8mEGWX+uqXuCyvXfXlCHZnjxZPQyYYKBjmIZAcm7Xw3fknvl4UMIckbzaBGO7Hd0MRd+zTX\n",
              "bUamjkAP25KxdFiGQMcuVsXCYewTLGKoCkA9+BO4wJ6YqZlC2vEj3zIppJUxWwpOX1tkCZWaCI8h\n",
              "qSlqYpwX6oDpSaabnJmTAXj0BhReKjZnNcsc8gjJC+o/V9ssM2QzMyBO5RpbNfluf/O5zHCejVRk\n",
              "wJGantflLtOTpKeLPrVKoW83xjr3IV2gFExa7k8psGuXchNxyJfAaW0awo5vnJuo85H8sPSNL1gh\n",
              "BjAXYxzSoHiMN6eatVgKixoOCvGvFxaTYOk4XEQbIahLyd7sCRWaMxXfq5nENgkUY3p5Uab7esk8\n",
              "Y54nEX22LySlCDXYLlqQE0Yd8G8OQKAG11xiHsO7cbIW0/qj8hAzr+jZIfYJyyy541KXKJfQXBOI\n",
              "7QyRmlAUr4PSpRXFVE9PwSdKKW42fkujfS45+3qOFrH3DXnSBwhIbO4i2QXWrYEjfX/miFb/IIak\n",
              "ylRs92H/rgF0DHNeLLvTar/QN0NgEDp5XGMb6ycJ/DnWuC+kSBGoYrkmP0nt1R9fPMSleIqXCjoS\n",
              "1Q7/bAGECSyoLzXNlOrXp1PFdEXlGCbbCsZ/W8P41fFd37RQDiy/5dFK8E1sQIVBv3adwWM14JVP\n",
              "QAi75rLLjRWEIwgnPoV7RLplaeAZ0SUq/Z0RvXgCB7c+1f+IYnStz4jUv2WpWocQAUKFiuA/xZBQ\n",
              "YDuTiZ/bWYw+SbmDPaDjtl4WzAeyIy1M5/HFOQOFDJ4arLEihpdXuFCI+cTTqvbQtscDVzWU6U21\n",
              "wh3zcil1ZDjNaXtl7Z4M49jUZ5knKY9a4trygsw6AQxXaitWiRqQsWl8xJShhOO6L+9SvHrMWWbo\n",
              "Xwc4FXuTlbGtCBDapAhFdvSceO5jCd40YkbWJS2LBlfIJocSGqzV4yyVNYvu5ThMpafwt4Huf2/D\n",
              "I5ggNEg+986/g7HXOGz0g4A4waYcdDAAGGKvHr39Qu048tNOFkwn1dONNpdK3N7OoC/L5Ps9eYMN\n",
              "hkyGCK5ZGTraHjqrZGG/ZxEkJXCvIag4qt6ngEw7vUZ+W70psR+Wr9/AAIgVAfNuBuPl8X7X9Kun\n",
              "RyIEhOyPmoID6OeeusnABuHGH7HOLV3csNwhTPsrz/Wkr5zRy0N9c7sRZKNr3F4JbRx/RTRAMMx0\n",
              "TfXr9vL/5zEtvc5qfgiuU8zh6927HGehSq1SL+7LeMmLTK0NguEnNEhQL8hxKbqdZshuUL9VXTTN\n",
              "rutIWxvVjb0RoXEVrn9Nte2Aro9BDXqKPMeq+Zl5fcbaFP5tuMQMsoOMp1BMOM4oqjW/xkmwUw/e\n",
              "f0JcK44kWZdAEmo1Z9uYon3Sx+N4usj8SnBNtRqCrphSJvNMpdYe1dhhUXUA2yODwLnODOT7Yp1C\n",
              "6r3iCLOoecIXkjXY1u1pnByQQ1OPIrQhCYkmpL4JA840bYAD9iWxAqpfUXfFQriP7khz0MMSmY1y\n",
              "e0BHuGwaPR72KvJNTD22ze/YUtDhp9jtw4dIKFTdolxFhXhdwvhxaGhAD4APWpSJ0MT2nv3wyHxd\n",
              "PbL4FWBSxZ5d2z4jmPOPO48X7nAPUCCTlsO5Y5ppxhAzaq0JbSZW0UiO1T6RFBjjRJGncCXewBd+\n",
              "q90slcw/ov+tQ3sMFKTnIaqPvp6tOzorkViMEHW184OEa8H6RCxnjuEq7zNaQqG1VA1tA2x4+NXO\n",
              "aOGwGMpRmKfKMNUzPkWiqufHhkhpOexI7jQs3pfLPI1lX8e25bqvBIWfS6ior37/K89mZeK6ok8g\n",
              "pICcXUKuIzanoebqWd0ncuOxRIIuf/O8ZXgec4cu5AXz7l/gW8ar0BR1fEkxnDuSlH9I0QPOkFu2\n",
              "c/3lRepAGpsJOztX1kjbyErQSc9e1dgWNNj+As4uUV+qzSBQ93PFcmoRAACxVY7OZ/+WSVmIi6Wp\n",
              "qrbbJpn715NG2YlReEWRIwf9l69JCkl1bXTqWKha6tp40S7gV7H/I/y+rS08jZmPxRJiGvUMd7b0\n",
              "rpZ76njzi20O/8pC7PDMCL9VxkIVVQ9l5rnANqr5ZAZRdre9EHngPDwBhB8zxVpTnIXJT0pcfz6v\n",
              "jJmR4sd8Gu/zq3bKirUAANiMa4Y2dPs4swmzSVGZNu7gOVR73m9fS0cHWabLHubkK6+KeKQ9UJMu\n",
              "3DE4//3+TCbEsZA+ELGZbQC19FGVQI/Uku87jiDHmaMh/vTQ7mTnqN0zlgHSJFzC3VvtdZm6djrH\n",
              "V6HKss2fPOtD2E/4ayzksPzbQi68fMXDot0zanvhU1/oB/6AiL2oprPQC+4ORy0agbzjm8kVGpjw\n",
              "f9qIXm/G6L8Gk8YRz0ZcsZaRdh5GuCTsv2fyqW54FFJJswF837d4p2L4zttlxKPInt0LdCnWb0sr\n",
              "5UoxOKx/L54TZBg9qtHgjZ5jhYf/N0eJdxtDN59blvtH0rLiBte+Tm+8hEjuICDJNBlnQl7pXM+2\n",
              "/Rbn31dFZfQusCW6teIguPjkbWJXh9LYOq8xGn1ZT4ujQ/3T1A2fGwLpMV7Qo7n/eOr1SWPVNAmu\n",
              "XBrjPOZLnvJB9Ej+/oCq9s8nv8tDHyLSgDceLvNaB+VnrcwSZPk2oIckBFme6l8RzjVQZc00wj5u\n",
              "CnrCRjRSuwblNf748C4UizgKoVOk6rUJ5+0fXc1fAb7AU5veVSqgYFE1v0ME5OEeCaHUYjWGVvjz\n",
              "93Sy6Jw8L/s6gwO+9VL4IbLVT1g6V1S/AQ7hicqCCcyx0ZzoL79Wk82uK5cVNynpqLptJGIXKd3F\n",
              "+OdM64dvsvZqvxqBbdZzPER6sKeBsfk0rFcEbkx3WrNG9Mth3+9H4JtJbS+fq0DGRku9q8QrTbQN\n",
              "ITzluYImeC7EcGYye3ijMnRX79P6nLWvWQhSqZIS0noJfbBUtp5xdwQK1aEMU9gFGWNC4FvoMxLO\n",
              "kx4xrcwP+MNGH41WLdDnRJ8Zmo+SQyh9Bted3FJsLUz2UQha1kJO4g8JoN4zps8qKbjiuNvZ+DvN\n",
              "oJ3/qPmDH81Df7nEncVkoL6329wl/Tssk+S5r6npjKuE4SsBaGyzd2bdtrxfbCvWMiWcDj6wgP0a\n",
              "VGCPZY2N+0wcVm/o1af+IQGVT2/lfB8Ed1exWuSdVt0ClcAKfQHTrJl0iZV/yfNNU0lRXGXfcNpA\n",
              "0xLt0EgMQvep2oLQeCY/dOzZs3N5I2Y9cNFL29KvzfEOrzA9LNj9SBWWh9H5I5D5J3/gar62a1bC\n",
              "ODj3GB0shuzugLx9/f9vl6kUOmU6rOcRe71PWxRCTlyRJPFev1wNXYL33DjXOhV1XEk4ZtTuSv3/\n",
              "mCrXmboKphmIgZ5ZQYTSLnMU0AHwbAr5urZd6VNw8nPOWLAK+cOUV5vdhlxK4Q8rbxTW1PsXaKlG\n",
              "uLs3pIjIUDIwXP6cVXUGuegisLfudz55SjxNvQFfxjqOhkbg+ZJCLYz+3/m7SSbBFfEer0eJ0txu\n",
              "Etm4e2XZaZMyxFb5RWVejXV6w/8NKMh6AJJ1S2vSynfKlf2ckdjnS7KANttZVh0SFqTh/SzFHdp/\n",
              "PrD7TZ/7sl32Ll9a1DG1p2YjwsQzsKeWfx4Ho0Ij/Bn1DSQ2rg0p2euVB8HSclZRELL8fGbgL6aE\n",
              "jSHUqsyiKL9YMapIEC1LEpUmXtU02ZPA6byHICvKnA6mBbESCpWraVGBWUKhpWK4nOxUKLpCnXCT\n",
              "yl6uj4Tx/WwoZ132bMBh4vmMHoKtr3NeGQAw5nQuXFVfXQqQuekrhgADz7LeW004Oe8jb16F3CwN\n",
              "ZpY+EGppZPGQxw4vUJ0N10swl2UqAG63wEyZTcxD1xgDJRWLb7NJPkIHLvTItXeu9CHOj+lMIlwr\n",
              "NqYeFlktTZ8oMwnvR1yZ+yh0p22IHeUftT/5GSneAyoNqNCg2QPgKdv/qcqWQmtDT1MWV9S7pKIV\n",
              "WFGtluwwkidbqG18aQTJB4zAkhiZ0eIZytusWD8IW9cqZQZoeKyrLLBmBvtraPJMI4SEjQ0HVUgT\n",
              "PVDC7Qj5wvSh6rh0xwWh1KL2d9rYReGf4Rhs10XUoDyfKrMF3ATTauXP28n6slmBihLwCGpsEbRb\n",
              "zU803Cr443nceNTgAAF7mK3bPEH4AAAnssyAAAMvAAADYEGaIWxDf/6nhABdAACA/QofBMZEDUan\n",
              "hdlhZEkhl9tb/wBK8+do6tuR/X3m/pcqb2ySc352/rDN/uMhn4aBCXB0ugM0hVzJbRhGYu7vlDQJ\n",
              "kiUBjhJ/P/zo3V4luiHgJlOLTtK+lbmtPd4BMRXU2dCiHfg46aGRB9oAlArBHFIrT2kpZj5q9Csm\n",
              "/jRF/5g9+8uslXcwWpQwwXvsHhqgFRRG/1SVJ01FLFUmz02e8EQ8H5imaif58zlDbOIEyv4C48fZ\n",
              "E0AuErDYPhnNWLfmVrm8WdWymE+60q2ZRPMdKcbDKQIGzWV7TayaNseBi+3cCJ/ipyHqlpLy4P/L\n",
              "V9IeEHE1zHaWYuUJgxsT+9pVrvUcZZNUltgG7SCKzvRtWFjG8QRHuMYvz2wRn7BzSNv2J8bSwS0u\n",
              "kmUr0ExMft596CXl8pd8U8ZZ1jM3eJpUF1iEkrcKrJU1pvqMLMUme6lkOaduFdK2hHv/SkGKzfP3\n",
              "R1n7k6j+qyGAtDm5bmZduNVzKsmpEebJjBfRSBLTANXSN1gsdpDj8W11qUIZOuUMzMxuZ9Gpptay\n",
              "51Ub8YYkP68ijRDIPP0R2QH6nUetjpMGJY/VLIbvOZIjKfmCpMMc+LkhIMJtvhGqeeqKfW1aY8Nf\n",
              "cWzcdWN3UyfEDNJAtKCfrrp6DLJBdEfmY0YeniG6e/9qK+cmlGHse4m2LUHgS90z82Sus1UD9Q6F\n",
              "meCPLlfXX5owOZXXRL5hpLRuayuiAXCQ0wevSxf2K1m0qc9hik/VN6+g6Wn8NasLh61HnCXP9NRz\n",
              "M/R3hdVm/MVrF2EtZd4gx5lvOXAHJ20Fr6SDvH3va/7rmZI8YGwfgb0CkvBzLkikPB6K97D0VfVR\n",
              "/flxzbcqMnwSoAog8oF+3HfRvqyZZPfjngwvtVsZmaENDyeANBqG2N+E5cn2NdVwmoBDuyK7D6Ag\n",
              "cUdFoSpllvGHqF8zeKO12gGNn1W01rtibgWYA9C7UVIRc6AChphGxt8ft+oGEpSr/ceRzivycoQ/\n",
              "NI55tW+zTfff77+2SySf+0Peykstl+zAlEk860CnT3Hp7AIX4TfBX9bJ1pevWMv1QNqA4tWjTOxP\n",
              "XYQ6VbHdYi7cwA0Y6oaN1dakedpYeRTzXim+meed6oLnKAoUtFF9VFsJeAAAAqBBmkI8IZMphDf/\n",
              "/qeEAAFq6fXnN7SbRosf3n2SA5lcnW8AY/SUfYZtV8ljtmj7w6NkjZw3TZQvylw+KuGmvvAz2coI\n",
              "+B9PRqtYRjnIFEm13BEdvny/hJIHJ2vPiMvzzjQNq+Wck4XpRYSeKcbzayTpCYmTWIV9Z/toTAtq\n",
              "HO3Iahl+A+DMVinZZmrmFTKw5JrzRCsunLaJEqknU2qrhNirtBC/taVf5JPAVAM0BkPXuXeh6Jxm\n",
              "8txV+jbDYiGCq6mTWusbROV4hXPsrDWrdJYFIkhfxXpzV/4J2eSoLAkHaL0NOjOZ90+67u9wJQJh\n",
              "YU5zHVWNUfLy1OX1G8MB5phDDkOx5I59CisJebdA+seOcCIbxd+gFuDDvVJsu3W4y60zBf9WhYw6\n",
              "gkievWGh8n36wF+194GUdCJ5Qm2Mccvu5MEtRlK0lrEAAW3jyFt8jdgiI+woTrvaKVIaclccyJiq\n",
              "nrQOu0JDRm4ci1o4u6LitaxIfEB/KfC6H+CsmCCS6cmqgxDOXAqfLYw2Z891AQ/Og0vYUl8sC6G6\n",
              "/jrMvCRq1ZrqcNMpgksC8Cv7De/AU+BFyc30EkXR04Ygm1pBtRUD5QHrh3Bw1j0mI3KWamxB4+dZ\n",
              "9vICHHTmdybEdByDgY/7rRF/YGdz6ra86DgnvxE9y0k/T6f+5JW6hDKLVwUs+w1tHD5TP3JjT7Z0\n",
              "9s3O3ECCwZg3k81YNMWs08kpkv6TBadXERN6kwmakh3dV7ZcsLKiegHrZbKFX1toRN673n8KAJI6\n",
              "JAYVgUrlYkLyODxhScMWEMwPryu/tjVU7ap2cikiGQQkvMfnrw0/adv6cCytIZYXe4oQCh/X/HbW\n",
              "2ExxGpewsg+fUAzAW8sfiVDOkC0aSQWPoxE+N6qDyKuFlU0AAAKBQZpjSeEPJlMCG//+p4QAAAZ3\n",
              "2VK/oYQhCtyWAZnE+nbZ47zyeE/QxBCM5PyLB5a+T7oRzoeeR+Er539F/ywe5J2MHlJIdrYsVoUX\n",
              "qa0DbtOT+ftlnKQyPFL0caps9kzutzIwGho2D/EcGWz4xNNLEMuGNaOv+aVvEipj+ElcNNI4Fg2L\n",
              "84oB7/8X2D6oT/iaSghfexecATiDjnbMWWf6E8gFu9mpZbdshaaI9W/uC4xq2cmaKrvQ4dXjykoZ\n",
              "7J31cV7Pz0sNdKWZcMyamIA2jXlcIjxUjRDU9V55f8h+JMj4dFzcogAZC2gpnjy6wFypHGP1bPq6\n",
              "URcBCs3UmUcuI7Wxf6XthjAe3y8lFveiQd0OqLCpqFG8cYGNNIIVYHC/9f2T0u1g326ChhnrZdCt\n",
              "sZcPfPkACRiOhzABHqVopWkItxBgUEbm17SRAjpO5REvICO5nzlilPZ7AblNM5Wp85nGp+eoQYM6\n",
              "+gvWUzavEwYkP8EmFhRkLgjhMtjSneCFL6wCn2srMcCeeunC9CCTXCV0/5ZkyfHNgktUDysifyfA\n",
              "gJzvYyn0IjjsDDToaKdGw961wuEa3MbnsZdnE2s3+oQ0e5NEhyGiiVBcxna0DY50uK+a0odQOWUV\n",
              "3zi0w2XFR7FREBbNTVhWCbyCXcU2Y3Wl5u74Y9F1KGjLsjeCU8l9DH32un8cyx9XgCV3fABnvB5U\n",
              "Qq/WfZ9nj6E/qE9Sq0bvY7gLlZ8z8G90gdHn8g2v6cPsNWjhQHQoXJASuD6d4iCOH5XeGu+mASJD\n",
              "HnDezQNCp28WLTu68xkeT0pkc84oSLpvqnUUpZ+Az522Jf1blZd/vyPC8tXr6xQHHxEJBDwAAALm\n",
              "QZqESeEPJlMCHf/+qZYAAASg6OQCUg2+rqgH/9O2TZmCRZEsihHdXfA1Emd8NK47jl/dRXkqd3eS\n",
              "HrOE6xLzVJBxUP/n9ZK5aSo5eei1NJAbRz/btEwWVyBChQOkyFGjWTQWVqYUtGp4n6++93oe4SXB\n",
              "ouH4LA4bS9R6zfo82ZztuWd+r1zJSyXDGu/Id7CFdrqyzAcJ4m3349t3lAl5RSlrp/6tcJZoEtzE\n",
              "IVVsWwzFJ3l7e/GkN12iQlAgBO1XUAg6I+LdIRyB5a3qSWSfcHOfFIr1KT/xYXK99j7xZHm+OXc9\n",
              "dr6Lh+n8XIrvoOEGei9TYa3sZKJNY9JJat/GNeqnERByjB5MzUqUKVonu2jnlpf+hx01E+RJ9jEy\n",
              "iYljXxE30h6029JLO4jYBNcWXC64KFJ4b1vJx6+vK6EUevDF1/f+O2hsjoccqEe+85IZNSDB+Mqu\n",
              "nCt+Fl7ToQs0sbhmuTR2A0sP0VVqY5yNsgf7UdoLrfYc4iuF3e5wN6pQBCab1lbtPfDXNu5CyhvH\n",
              "meKKbPeyQF+MnNQGqPJeJrYHRpeOOYq3rOVcY3nze47hNo9i64oSv3wJKhUmkoQa3o3/h9MbUltl\n",
              "+vLncEmOeewKXWWtwi//mu19G5naI00vjhpHhWRmN9dfX6qEeKGYTMZpismgf2ezwUsSv5Po+hJA\n",
              "b4WiD7STX9dST650c0F9wEK7+4skjnl9anwewRUBdJ1/Ra1kv7HkYBx5GN8oUudaFG+54dDbcF7t\n",
              "tZ6K19TZp8OhJbkoYiwmGen7WZKEnMHntLVZUsauyAAxYACInj7fvkqtACvYh6j7ilFMFC4MU5Ef\n",
              "FkhbI/w0uhpFiSxNriLSn+eHYoDsleeSKZNqyQ/3fJuH55PFugam8UCKjZ28Pvu8H/4ngtacg2ZS\n",
              "xSX08j3IWyNvQAFQumiraY0QmSro+mYimnptA2vQfQVTuRIZgbw8tSlryB+XwsKt+73HTiFo/2Bx\n",
              "wQAABE1BmqZJ4Q8mUwURPDf//qeEAAAYeOk1JDNL72sR5gQ+YdoZVXFfV2GoI7aeXYJJBwKxzD1y\n",
              "bs+SEr+2tkl6z4eaJGmY3WVQX+07H8gkX9eO7Icd+uzsMtjoxvNfGrnH/eZNFmv8JtXnREoGwhTK\n",
              "vdmeXCIi+E/QLqkSyZjtaIK4Rowb/uPiiGw7KtDNW4eyJprrPj93N2qGvWcTRDKyPXHi+SskYe+r\n",
              "EVGwV93f8RdkId06M1dtt+BgNVGWUQvLpUjxXHP1+96tvAJyLVTNuX3tIqx9US5BfpUfmO6npFSL\n",
              "oiALOF2liaAvUJ0U6c84UVPY9P7Uozwz9vFpy7xn5EwmbDpYdE11SsePt8wWtBJ8Y90oRH0AxaR9\n",
              "AXt7TgxxzkiwWtxt1Q6YRjh1g1SFZ+7QNYs//Xa07jTnoD1zO1F1zhPQOUJVyC6CYFNBf01GOt6o\n",
              "n/MWTj5sNDvQfBkLVQsix0cmVUIIOnAMptpR3AvcDuNcQvFNRfyIZU5DTzyye15EiwSQGqxKhsti\n",
              "ePi6Vj7j/F+oI5dxu1AadWK9CsBrXHbr1cA9RchlPhvQfiqLe1+8+GE5sJp90uCMdp8v2nNCDtXu\n",
              "ojvu/8Xdi8LYXlMy2peEPiIRUP9vR59Dd/oZLhUVVIkmEYOnhwIHowJbl0AR+9ImcFOb3DPXwudZ\n",
              "huZwHliwzK62nw6OJK9aniP17PVYXRqHIVsTathK3MwinyWadIqMZRB4Uf9M+p4Cm/qC1p67Yz6F\n",
              "bvXOqPC7pVuY2prxsAD0D1g5G8KXLII6VBkefZhFziyFy6sgSEEkT8d2Mc9QI4D1WEA93r9uMoI6\n",
              "kmtZiozPE79c5eyqK61ZxidIpmFLEfdlKDFZ2dI5UdMlZyRvwg+s/NMZ4cKup2OvLbRl7Li9x85V\n",
              "KPHFv3RCM/akHCnnaRg53HFNmaBqYMcfSHLQ44luEuk60HRynYy+ioaE3KJ7+V5SOFVfZFw6JuRe\n",
              "NVxRG5cUZ8YwehacchLtl5dCa+KbFABPtEyumHeQuTZaVAo9TQvpCg3IX/YJ1PU6Ms5f5jO633I6\n",
              "NW+G/AXvXb3GaDS6Lk5MXK6NwcA4cFIe5xt6BeAfbtcncppOFxGfNxZ311DRRvfjsatvVKS2pyL5\n",
              "ZY2rDMeNwDFr6Ygkrq2j9i03pCnkjuTHrL5A1cygQi8HOsd+T7dEtHsrzCKLvTOm3mPggmvNjC1o\n",
              "icP2UOBGJmh8u/OHBBdWz/nocRbjmQ6Q4K1eOSN5TIlzd6rl3AuE3UamTdb16SuP1u5Iz6GhAqim\n",
              "0vJ8XTo8vDrORc/H37oZeqe4voItKWGqNC63QIeHsHwu58cys79WhMzZcpYk9OWJwEqsV+SfbS/2\n",
              "sab8QbSoYzPXd/eeO8oNACRSR88u9IdtyrqRy5k3dwaYnj/IBLVr+IGr40e6XFhpFmD+dKEbuLae\n",
              "xg4krS+jQ+j/KbH4DpwhD7IzTs0owj8AAAG5AZ7FakK/AAAILruVC2S+gmiZLG3DtGwmGvNv+M1S\n",
              "YQbLF2+FoCzwDPAALQdUgiUhbgCAebbjbxqFR8LVcNL7BQ/zKuQEMRh1CLdrjUc0AnP3JPwrkdQr\n",
              "ZQYl1xVSnPi1KBPnMsDFn2KF8CbPE3ooDJKTK6LijXT7GTvXpGhZi3Vx6/CG0UgPQjjhqTi1DPk+\n",
              "zxCQPrYWHm3Z4UlLhWWUZjn7W76wsoaZqkuYA4W7UskqemlEeevu0fHpN6Wk7CEMVs8nYmxqxztV\n",
              "eSfMoKP/s+PZOFb/70/bECWm4mlpXD4QbPLwTH15kG7FWwNuJ4eK4Yxei2O0B1AT4PF2KLzHdtRi\n",
              "4nyuU1fXdxNiQTxFnH8PANmZbmKqqYb6UazPjFZ3+ZTpZJP8S+yNYv+FY9YGrGba03sBbC9Ol60q\n",
              "WVlOQ82LgbcbmTogxFzKg6GWs35LI2+X1489NDS1a7xdLuVSh9gmPRQpqhhUzm1s138WhKV1aOBx\n",
              "WVhsXkMUVGkVrSCAWPYyHqwRXPXnKEFF6nSFW5w4ep9Ayx7eqQ92Vg2jfBy/Y+TQBO7jIsCVulsn\n",
              "zgwro+Qd3OZYAAGVAAAEBEGayEnhDyZTBTw3//6nhAAAGJEzPB925ADc580v7+mZja9HGTbVh9a8\n",
              "L9YO2js+4FphVPIoEp7z+K2y4Vn77c4QHEhGAVCl52rqLHp+foJCuNYpAM+bkxvTefzIX4hOraTq\n",
              "RRbA14R53lFqjomtJwPmRJTqSQRL2BXnCYVNtHZQmt4GGv9aHhSrEwL3Wsl6mzVmFXxQ+ZQRyc5l\n",
              "tPhPk6E3Neqk4uCG58vnDaZEIugRBcfhu5H1VWmoTCojndlGZRnuQIpBKRHwI5fh0gVcOsdzRN4X\n",
              "/Tx22aDcjBQVpEqUu8ZZjsYeO0F3cEMvqCPa86ExyvxUymP3QTVbazz07a2YLY/v7Ssx06+TcgAB\n",
              "XuHc0/kT83jLqlcgFq5HyTWmKzvPN5D6R/sYCp4tS8axASRK6gO9x6VBntRpwZ247WcNaBEqpJcj\n",
              "RfGfQv6qruwvuXKzdcXeZM1SUIyNbKvTiXrzuDvuSPHz4uvaqhHSmf30PlV8YOo48oAHXkvbO5dR\n",
              "wz3ezTdc4GH0+UcPFXYG34P0Y0yr+ne6wYGyzrd9YzfwGTAdnciB1kksxLxyhOFznsxRJhEHjikD\n",
              "yiK7syHE4RXtP3GC+kLJN2V/eQ7tM141w3Q0acfuWexjU4WodV5noq2SuHguyGQf11Qqi3PMHfWX\n",
              "53C8JpwfSVjpxJfrXAHTkvjW9/pubxOAET2mOiNJsE5aeVcdctcA4lDV4kY0W+X9HnNTr75g8fBn\n",
              "Z3CKxyyufVtFLsIGfnUhHwT7evyNjnYr3I3KnA4CnpQC8psbnTmsT64LhZmc1KZoeuWbcpxJx85O\n",
              "HULrDeq3gZfBbhXq5IIxSU9gOQpQh37wEZLNz4dpJR91A1jImnExBrYKAguQ2ljw3NeY0Gx8c+s+\n",
              "cu9ZIkJ4sgY7PybPE4PDOnTrc1HBvUXlOHWOApNVmBC3mxM5VN1exFKC0ZOyMI25UQBCP5pfvc+H\n",
              "AwFHiJk59TOss22kAxGy6HuvMJBbGfnz6X/nQLleV0n45sgR+SeRreRO6sGcaknslCXXIUplfaZv\n",
              "iW0xsRTzEJKzN/J+CgS59MKrMRLtIw5eK7E8hvBjxKWFXrcUWZdxQ+Pox2ypN0iGzLaUWPiVoduW\n",
              "KvXBdC6GADPu/YXuGpNTkzLlN+jhOWMDxV2+k3/LL4eGn5VwPBM51KWvDk1hWvSrRXlaCmaM3Sam\n",
              "SQVU4z4P4wT7qSvfaofAQBbF5sa+mQzrQjFCtElkYYgc2SokbyfSoRQKfDBjhDrq/7iG911Nh1Uv\n",
              "bIT2Sd/xju9FDsk2tbjapIrmggh0M8QoIDcqPNEPgRkT00j3up3C5/9sSNkjp6dO80xxYDbl+htV\n",
              "fXIw7Vy1efyp4usxJ+r6ylixAAABOgGe52pCvwAAMQ6XkYExE6MmS/u98UfKAG47IYUdq8TBFdq/\n",
              "770PKhoywKtJQnlcfyyKd1eWvpEUqnTPc3o283EL3Wmw23zFDuA7uF+hjztfJb5RJ/7zD3qYs5b6\n",
              "2QDj4PiJzdrBwXUoMkZD0LNba8rxf2vGesxWxLRoRQlsmFiA/p23iKIpRKyQipWxZPGIsf6eKfSe\n",
              "48pwqnu6FFtmfUqSCj7Qt6fkqh3F85oroKIzz8qIxSOK1IqWLZ23ks5RHqTqsUaSUqZJFOOywIsN\n",
              "hu/YRlqWOn1mIm7HZJwWxJOeoQPkstPtcmi8nx96crpUyZak9JehWOcI8Vw/rUfN1HEA3gP4DcTo\n",
              "yKQqk22Y56H1PibrDlDHWGkb134TNdNqpjTc7hSLU6MFOepKCThWnzpNQp6yQKA4QvxbAAAC1kGa\n",
              "6UnhDyZTAhv//qeEAAA7SeO2z/nqQKkbRdQAfDHq2R2+HpcTU34JuhD+PYDre9c3g+1kosFcspGR\n",
              "s9nEF/hQGBuYj98W4KOVCPqDF5Ur415I1W6qfXSn95s7SKLllyX+5/Zk0frOUXBAXEJi4F+WkKyX\n",
              "xCzWJAcrX0UFq/F4Eu7RRKe1JYKN00wtRxnajoQfeefcIWVQ1HhoTTald/JSUu//pH8qqrRZryqb\n",
              "uZ2ApqgrJF+D55z22lxSQXCfnQoFfLJgRSmW1daVQnrjS4raq5LG4+YUslHH2wfTJ/uGVY0dRGTl\n",
              "cN24AzW/OadmY2GcsPGi+MFGonJ+D1Uzymgx0sPHgKHNXVjo4zMW8wgAh9QU23Ma+F5Ngfozrpjp\n",
              "BRXlJtYAawIkWBGND4mogYs7yKao5oQLHC9sog39Sh2EshFAMKysJ/EZ+BhMG6KUo/d10aI/ZEU8\n",
              "BxQt64/9HDT5rNMFiDB9KdNp7UzMXvVEk8pvVTqkA6E6hiqbG+1IO1yyiaCp69HBD2sG15GaHgFA\n",
              "0uroewp9FRt9w+ERyllXjrcl893FPRIeaTlq1TCLfFWp+NxbrGQ+WPYMmKPU4qhEQj32lYfIZmnF\n",
              "9/qourGmm9cDZxdrL/3KYA7I2PcyuysRR1RvDt0ZcXAHl3EyOWVrnngXJcXUw+DGAG4TbYwx6mfn\n",
              "nb0zgsGRzCGDURMnaQ5ZJY3ahjbHmd1Fft2HaZ0Ah2bl3PIBd+qNV0wMmDxPSTuk16Sy6fyUbyko\n",
              "4Ww79tDlKc1zeKS4Wolf735xzCe7MRPBq5rq9PEu8nRJzd9xh2PI7Ioiwxqr7KV0qX0wPzhxSlUw\n",
              "ODBn+jHsQ1fbu0j0TRuDNGf2Ys1yHbsxXeSRS5aegLOzVyLvhkT3odWBH8dudCh8zMaDg6cnSC36\n",
              "2aFJu4lTWXIodkF0OT1kQR0UimKY8tIx4lmMWTV//u+KSlPQfAAbMAAAAoVBmwpJ4Q8mUwId//6p\n",
              "lgAAHdLR+god3AilXA0cWoC0zSdBpHDrYljzk8ycmv6jcUW+q/dd/VfGq7ETp19arcwztNMIzxrl\n",
              "dZMuoUMKAcEC76l4IejSrQ2Iy+HGuKQRXjraGuqShQTxFUx2Mwwd5ZgNuk/Q9aXnVI773saI/OTe\n",
              "zApKl9OZJcfcEEAVfB4fa4gS7eRq7YHr74FPbvcyIrKIAnzxC10ZNxHggHiuayb6qKmFjgrYKHeQ\n",
              "TJ37kgAWEnXxRlt/bpJaenrPXfmAXP0EQaDD4Z9HIFqbqhsBKSeQluN+Exf6cbUwHlgCbzZN7/Qz\n",
              "gYxARyF5t53sLcNmXO2VbsEpHcn/14NUWZu0bZZfmYE3BaVB4+6IFZ7sZUGF7pP1WnCXv3mUmtgh\n",
              "BC0FOkUnj6dOPEv+dbJU+PPUEpAtcN1bXvPyP0ZdV3HTFgTOzazSAWoJzi2WbKBOzXk4lEVDx5UP\n",
              "rsj09flPrYuOT2faMieHzIATJfWSPzLuR8mVNDuMDjAzMssXYtJKg3aCeB6fxrvAIreJx7bYcgAE\n",
              "h9doy+u+QQ5z8lIUhUr1tQcZfr00ixwnMrCO3uvB6IFF8ajA4mymj/6L93tlXBmezrFl7383Poym\n",
              "89ClzPqs+Fa2UIlwopY4nPG9VzJlV76L9kigUPzA3FWUauW29MvdhsWxSTOwHiOcnWB42lG0DZks\n",
              "9KUi3aQ0ezdpNv1mqMhZZFCVbsQStkSBFxufxciKNV3YCR59PKfptV5lAK0uF2jQMcYi+wPhC5+W\n",
              "5o/AamOtJ7UojJI9VRHRk7me7S3EGPRYMk/GPBXOv622NIxEZLSxshS+54vOpScBGssKP0Z1QN9m\n",
              "seY9X8MAAAQBQZssSeEPJlMFETw7//6plgAASA18oAoNyxSuO0U9oT6Dkp7JlowgdMoHYiiDs17l\n",
              "eem5kR/TL7jJeVlS6GR9NsAsFBBny0ffRISVd77aGJczAY1FodakDpAuDBOXKkcXMEwj7ALC7A9h\n",
              "/JRsgqozCuzFrkk/Z6nQIb1BwHEKrCLc9DwvABGdGp6XmGL1j6Ty7c2S8CHdyTIYBtAiyubLCgNW\n",
              "6+lUvJA6oiq7F6Wgxo6FvHttOcL9Fz8ZToSlY3y/75cSWFVZ7RSjplI1qCLUlfH+DNLdjrs6QfNQ\n",
              "gEXp1B1TtAvydVRRrcnOosjb6lImkViJtuud4d5h4uXEEKqTuXCE8x6Zz3o9hzBQhYpKSzk5umeb\n",
              "3bLB46Z16Ee71ongc1KWefnzfMvPGInWtNRhzP99ZFrS6ZtfK7TZM10eLvKO4qD2TLgAu7lD+mIV\n",
              "t+vSFVnBlxTm18Vv0Vr9pN53TJFwSwFW61C6+zbMs/49VGDosRdywtaybsO0nH6OnI8h//e/+pGJ\n",
              "VREgArJ3CX+udbEEtaHSj6rK7O86B/CPIy0qSWoPx/wp7I+rHGHySxaZZ2aPcHe4czs948fuJm9I\n",
              "EQkmI9HWRid106DEuNi3kV9XAtin3NcSevb4hWJa8IvH5jlwztkvXLROd7lMcPUZVCnapql5SIAf\n",
              "CINp0Jryf+px1E30wZDHhBgkNmWB6hYP3DbZ1uKKkgxDVbsTR3H8VmkHm9RvsEZZycaG3weIQAVd\n",
              "iZZmLHe6hRPXOhrFF47DcqoFNEm/Th/BoxDe+payppwqyzGiWe8yy3n6XhxTVfFxOQKOYKeGOzpm\n",
              "/38EVywqB5PotZHeMn1kmLxMQaboWO+x+8ya+E1vH/cfosld3jGcdCkszNFAnbZW+9LOJu++6C3B\n",
              "E5L2spA/Iq68TX7sy4Ojb6ZbkRsatC2wdW0f8jCr8VgiMNx9HfwV/RC//vWo+7n+6EEGvUHYqPg8\n",
              "RlC//N3SwP+B16+kHweYO0Vrs3ap9uCK8HhwkLjLpLFQV74jnF5LRjI7JuITKsNH5TrMPmVW6hwI\n",
              "H8KcVcHlM1H1IgdJWB5ROdshbTLhG1oKbOP0rpaeiqXDXxalcfr1nVrnW39MUMYdPNho/Pif9Sok\n",
              "y8RYTHRIHrMYmDAozRYYpAsP1O/VKFqnEunyz1GMTZV0aNPpD0ARVIEriTJkrnx6aXXpMyGk9jEW\n",
              "3VT+g2ZCFcCbu0Qvfa1vEZ9j+IxIs+GUQSeFWoH415ZLUkSzev1jSZvNt0Ofh0oRFCZxMXjJ66pC\n",
              "GMT0nG9OpK4PgymWDu75H3cFA2FgD/YORcBEuZRQFn3NHUOTLlk3uTIwRtfE0Z2Qa9KfbdBeSY1M\n",
              "SFBKZxOPwm4AAAFTAZ9LakK/AAB0GJbZsH3SkiAPOsm0es+/c8DQs9wNe+5hkhaOAScae07wXhuz\n",
              "L128ruoiMLroL/NbzOg0BWjVXJmhEzkBFcPmuwGiZY9XP33HrH+aJ0yZ18y8deohTi6+jDNoeecf\n",
              "3+w6CZUt7KvlfTaWPmi14uuSa8QVsPZf/297CnTr33vllAJNtVlwWpunMtP0ENhGCGmBnmN0D/ba\n",
              "Yca77MLxGyKviF+cdxI/WCjw4TLxDsr3HHQv5QwV/PeIDCCqrt/bA0An/9gytmhtM3re9WQXqIzX\n",
              "KUl8meYf1Uo43jcLK5mwmpss3sCHujMyKuz3/TddSQ0bufcVAJENO0iVgxCS7WIIG69caGjior+m\n",
              "1LjlzzgQBHsfGsG6UaXIWe5238f5/KuU2jowQob+RGpZS5dK4AOZSgEnLIKVHKsOt1F1jU/eAQVG\n",
              "tWO6RH88dVlJAAAEKEGbTknhDyZTBTw7//6plgAAtu+qTHp9LuL0E6H//CKPYIAhtXWuN3smYR4H\n",
              "B2Wt7hH8gvIg3GV8AU19EVX6Nakn7OVr/SZdZojkZR5kU1zlJ67qF8Hni3g7+l4ZStljAoMEGQnH\n",
              "3jA57bySiA+m/V3pLmzS/+1Hzv9ipZDqvqNGhvLCeGqrFmrCGDbyh/2dRPfbGcqrEbNpFB/Apgxp\n",
              "IrRqhtywx93jOeleF/d7qxz9oFx7HmKCAKDC0hge7SfCAG9QsvmF9gE3LdSteSs/kBnGapUXWN7X\n",
              "o+9XwkF8BiUR5ftUA/H7HY6RXNmt1FcTP1PwFV2eNlEKWmie9ig1RUOM5xdA+whhjH8CVsU3Hrkb\n",
              "8uN95zvlrG3To2ZnAy2Ce8vDPZm07rzDpe0wCXWFwDN8iffK7PbyZNZB7NXd0LwU8wPoLmIHACDC\n",
              "lrLZlvbDIO2LbtDbGOIjrEwHEUDCi6Agzm+UqPbKcXxM/cDZ+dOGON1Tg2ANeEJ4BUyrXAxccMn7\n",
              "LalFQHDQmH8KWbpaRKEHSIvqm6x6CqNUX5DkMORz2fPovNHR0H8pRU7hDonlgXtlY3DtEaBRIh9P\n",
              "uj+h1HHCzIistZTyfGxiRG65fX561t2nZjj6CEWiFIlNaJApsyqbM4gcMn7zeAQobb2uOoMo+pDu\n",
              "lzgc4jBSzXpssDo+zT1+F5Srnj6ig6VUo7+5OExkKPzquqtBdrQmnfSrHIX4SbvbKsaNrjOC5kke\n",
              "KeO9VBXGBHn74rl+YZ3G8Y1d/u0Xme+ZXcy1b2J97aZfgJdgTtttkpF/zyJ7cZmtpkQ+IWUabQGG\n",
              "iAKiCqT3+123hc0HKmr97jo7cQXm6t+OMv5aSPqoF8bRqlZXZfY1Vbxgk2sceog/47taVqTDsZt9\n",
              "LMVYbZkEvyF6lV/0QLJU/P2HcM515TyQtW9qHNv4VmIUwp132zwXhET9WwnIHJqrAEAlMNZO0Ewf\n",
              "7ronD1Oe6FhIvJkejLcS+svFGAEtsJqY1OTis6IDK+jid/OgeR49/fj0pi+K6M810EvxP2mEqQHu\n",
              "lf5yEINpXYaAhTRBviSr7FCRcCX8nzKpW8n61SLC1S7w/tf3RoFF14dHZc6ZumfPNQ0qFa1254r3\n",
              "J2rMotFs0RHX3ZLtTXlEreRSqUy9+tu6h5ZVyLsQsiw9D4LjsaN749g3AeBGKno+8hUgwfVuE8Fj\n",
              "8ZAIjPQ7Bso4FYRzM+CiQn3RzreNv78OfeSsI+Sbttd8RwRZLC+1Xo210h0OdpiFtumru/u6Uzjc\n",
              "37lbMV5qDCYQ5TXxkzdwODG/kzG3yEywOx1gjTvmH9/kkB9x/YsnKysUfQPEHxx63QH1EV6qswOb\n",
              "pJMWt4UQeK7exD6aUexjsP1TkWOIBFbRGSzRyxyD/JOh5nPIOuNbHyU+Ea6vQnmT4ATdAAABPwGf\n",
              "bWpCvwABHddzAsIxAyRIdA8VUs6413jSQAvstYshUy4h7SR3ilUSkY0HXe48Mav6qh5/nva/HFx3\n",
              "OTWpu9Hmc1s3OtY2tMWRZDi2feMtkNFLMfiM3roo8dZLSRpnQ/YH56k0uAlZtzad/g4DceDQZW34\n",
              "RUZ/UgCXrGQUEC4nIMVoKE8KddWIOJE0QcYeIWu0j7Uzf6zsiJ/NckTmxiUZpKpgV666ccxmgPcl\n",
              "UkcsxPKQCigKc4aqkhEDjqEO/Qt33ymDUXfen+80HGqU5r8iqrNtDh2QsY4gwaMHdBLDy6RbKRMW\n",
              "6Fmi9gTyz+xlc97rJYVD7+WLrhkP1h5WBJVrh5mrf+o9RMY4M8EChMubqxGv8kI3VseqOW8vLVL1\n",
              "3etVzxZuY/Q7WjguhYtrWg4xZOB8lAWUUEGJCx8gDfkAAASWQZtwSeEPJlMFPDv//qmWAAC2+ChS\n",
              "BajybbFxqcVq1DEx5ADcFgX3xIoHX61k85Vfe2FGqG5zktg+LJffnbySPFOwjhi+2iuPCdo2L33P\n",
              "ZVN2BShrs942wfleaGHhebXR2GndrSYCryU3ktK8Al1GKoE+MBqNvgAmLJF1NcyNcj0GO9TTOUQv\n",
              "QAzyNIHHt74+1eTtsxrN/oRdSE4B/66Ztx+xyqhmcGl4LG/5a1ezm3FGqeSuLXhknkhBgzJ9z+g7\n",
              "EUEYZZa0s2L2jlofy5g6/h/WvTCqew+UCI9pztic+XcpX+AH//zkOdBmaUwj1XIhJyfsKaCTVFTY\n",
              "H+V4lu1r3/B1wZFjsZb6jhFbcAFPdPqhgQ4xI1YZ0HNuQzZBaznMS6NQ7rc8dskJ1azsZ+a8dYpW\n",
              "jn0sQuMxql8Bw7xwJPN/CJheZCUsgIwUx7TxdE1fF4cmVpdLwBLpoKKVQ41JBs1DFdqG/JfKP8h5\n",
              "Au4Y3y4fuH99tNdADrz/XBy+7eugo4/jJYlml2EHOXG5ssobz3FAAU779FiFunSXv75yPtIb/DwO\n",
              "xG9bfLTPW5rZJ7TzjQ+AF55quVp+q3svkmt2ygdsCctvVVtwMtdDAxfDDaY9lSsbFz9BT7tpN24W\n",
              "8hWMVbQwIvxz/+bmiyUiCMR1TkjFzct6uNNKM1BTFCkSYli0spiRrDVSR1kiiE85O9t8UsdWKSXw\n",
              "Dk0zjnLFuNNeCts4EfkUIe7J0xcmZreyvkpU8lgNKcmrAXxkJs6/pXW4uLVqjnpVIsLKbncme6gJ\n",
              "5OP5CDKdtFtZ0tcL+9DPWzwZ0acMtbjRnEYbzPAwowJZVruN5e6F04dqOx+Fu20qX8MujmF9ttcn\n",
              "o+W8onJfBZaCnPXPkN8/rlMg4Ofpvv9pqRVBo8KX3AyEkA4bV0uWPeK8irvdf6ntcw3RdgRWP6fr\n",
              "LWRue4fUtA76NyxvBGNiZjr212HzaBVpfzDZ9fv7xFIU+3+GxRe9VZFLyWB0liGbQu5cXmocTGp0\n",
              "Rf2yRuCX5IAQg8cQ5ASZKyisLkLc0EwwhHy8ixxFu+Md1HEcavNHP//mX5DInyH2Zvb5SBpF4wtG\n",
              "NnnOqEUGVdUBf4jnwq8Oj8lw5kHx8Pt5wTHB1abgzXeEBJrhV3eKBU+hhssfD0HJD5pTZXEwlGfu\n",
              "+5UWxZ66Oxn+kPegu8x4DPCndUF8NRsv5WjLmic05gDR+2LLDEEeeJZNUA3V4nMd4ojajsszDjLI\n",
              "qwpPhVkLuNG8XoWsZKOSlG2rRtn1JKHhnY76SI8H9AsJwOl2wRtTNkjjA8iP0QgTq9GToYTtSFH4\n",
              "eSj/V85gZBaq67vYfOyV/15MQqp9FpPifcBjhjx3CLg/RrfGomvNtDojDlsk7htSXdtb6DP99CYV\n",
              "OmzTczmUfgA4Vjiv4eq3BsbzT0fJIkTXuYzLsqLt4Bn5AN4IDTv1wuZM15LBlWFYKCWDIAOFJXCm\n",
              "vkHaWBpsXdKkJSburZQf9u3MxYEooGluEcSoyBqQsiQ/9Tm/3I2S9XPKy0zlPYhkas0tBnekdhPk\n",
              "70ddAW9nmsAcpoe1IQAAAWIBn49qQr8AAR3QGOtsW3WF/hwAWzzFT6Pqn8OnilMBchZGGtVYnVwu\n",
              "Jf7XmrjzIAvceBXe/1JKFxN+zis8JigfYb8BkVM820tGyE8wX9c4vv+JitPXum9KsPfrIDnWJRah\n",
              "u4korZ8aErVFC4tErpDrBEkjC+qpPQGIWcSPyWuIGdwB/3OgLVXGJxVtIkeGhZeTDTZeZUWdTrhF\n",
              "oaRuOPG2wyBafU63y1RS0UVSGNwkyYbGitwadxRBxOlB45onWWjrIFwEh4Z/2EtLkxNu2PUzBpEZ\n",
              "Jt05C86+gcoC+4HCskgeAwp9g8njla6b75GZoFhZrmt/nfzAXo3Qv4mrrnV6x3iRXX6IxTwbPNjS\n",
              "2x/clFJJr+1XzQNVN4zhvv6lgCNjSsQqQZl9uugfjk/TFoUGsX7FlKoLlsJJhj0COIR2tf8TNtVL\n",
              "0FwRUo9xsh6Yz3jDE/2rwprNmJIxLij1hgsOwHgAAAQVQZuRSeEPJlMCHf/+qZYAALbpGa6gBYCr\n",
              "nCyQQEn5aE0EnH6cnGa9dTMSD5EKP9Jyy6rGNGzCQaeSzqYEH+BnZWRpVpPKW0vj5dxyWlnf391p\n",
              "VGGVIpn2evkQJ5PXG/aeBHAEn/ajXRsq5PaxPUjraxK1Gfsng03UUc/ZkuBQ6bmReiamXo6zCza/\n",
              "QjYLO3ghT5GpxHjVZKTrqclgSDhfbCygFxddL/muGMzIFwzM/x6gHpKuQ0Q91ElNVJY4sX0QpNH6\n",
              "0Y+BNn8yAX9dN3cdhXdoXcVS4W1ZTtJzskCP8Fk0TEfL2CUpWt6vaRAFVmDWDMIvxyekmmVX2Asx\n",
              "kOpWyokx8eikqABqkPuGwl27eql2mj3MPZO3Nqpp7zJwpFx+mDFclrGcuBXoBXsbKLHVSkwNijmX\n",
              "r4o/YhfQWeKGuwQHGmYoOxpauabugX2j7juyupA212Phr5YVHkUPEixQJXbRU/soCYGJDCU73VOe\n",
              "y5dxOQ2lVexPWl8IzIC6PcnYqi11aapXblV3IkAOA1Uw+ZqhgEoGo6POgwPmpR1DDtPWss/4lyND\n",
              "040UO1XS5ZRuFXNmdFVZ/Cl8H5mN3yCTuE3uSXcGuEhZIDeB8cNcPSjaVOpFIWTxGVhmUgKtKeQ7\n",
              "MwKx6MMcJ2cXU/iwDXaVwEWHOLR7IPMWBoZQFWMeJt6UI2NxZaqUrqiqUFXtzIh98dRbjHPC1Df8\n",
              "A9gG0HdalwRV0OvEB1/5LqhNEyiWB02OOBDSfdcIDPDsq2rG2f8amAZYGQSkoFy+l03HbpAbDo51\n",
              "GZkuzgRjwE+pKTkKZaIVyF0wp7euY/92IsLpLk3ZQMIsbIb4UobFp1UBDKHfSoTyj9F2nCNpxbiM\n",
              "U+uxrfuTbijNBLF3SRAlW5JGcHSgbZH3nJHt6HLQ9oTPTQWZTwCsSOFJJp6iCWQqupJ8jlmiZT8P\n",
              "xudXj2D6rGSJWKvg2ZvuM2fyt6aD5zldWdkTyDmtQzJ7AKvL8PaDvDm/w3HW+Jji2gBY4adXXCXV\n",
              "05T6Slbkl698F//3rpy50ZNUBA2tDPaHpDA+4IooyvUpwzhCO2gy2fnlO8CYRr7lTbiUTN02Me5u\n",
              "9O+f4+jnucJamngYNJKCA5OXYm2TTb+0IiaCjoX1nQthBeoRFUwTzm6JOWjyo6E6RXCDbWifkpCn\n",
              "Of3ZiVYPMk8Hye4bPyd8zuwcl2YJxarkv18ix0fVEWFtFy7m/8+BvAsAF4oFBPjSda1mvjGSMO+B\n",
              "94NKrV/IzSOzMB2EmjLq/xgnsiOQMyd4swm+me2DXCyBcHDKltu4KyPNRGbOcoiTbtzR2IKJHNuP\n",
              "w+/4EkaR60J9YS6m5M9ClYPfAtSk0qfGpKVpyLpGqvOjdfkO9mOBJK8cYvgs8VGBTo3AzQAABKpB\n",
              "m7NJ4Q8mUwURPD///qmWAAC7dTVABEHxJAf2zPce78GIHDjBiiO6lZfij0cNbSNl857WOJ4l/CBA\n",
              "qE5GIINGUdIFAc+O0LXB2Pa7aPMco+vL9o/zL+pwtjngkz5QmT/sXtVVvJLFpzxiXx9HH6AO1USW\n",
              "UrBJRv8Vp4CQkwQTLE9Y2Kbq/sBu5330mn6MMPi9ka8H0q/6YcNwvtwWHjOITq3Xx+U1f7/pe4/a\n",
              "XpcMWLY7w4QpHjNzo3urOPku9qjEDaRXutUqXDGV/0LCHKmZLGWm4AwlQOCVoLW7EMNU7mRQ3XWK\n",
              "HRc5tYwjHnFv/L/jD/9txCEn3PzVsX+hLMHOaE7Jssid6kaJWG2GE7hmbI20I+3dxHstElFz8wYh\n",
              "6WUHXwWxEOR4+jdYXhyC0J5Y3hzKa/uxWnfU6+gFm6AwjuCQEwI9vEhMgFBGZGmgM2QBpUdkw09X\n",
              "P6HAEeb8UmiDjRdWQQajv8IdKdn9XXA6uNhg4/d+xYV/JmBH5tNCEziIyIiPgUU6b0JNLqI3DkOU\n",
              "v6PbIhb6X09GFjJKKd1+GwCG2GOI8pxU3gUaF6/x2HFU1dnAwE4WiAeHSxu7mFX5CGPxyF3oi7iS\n",
              "C//tqcWkWxHuXyiFgQvHBBGCZkR+0AbKwRIJHqzqoQc8bacAofRGEzVfX7nV9j94jfVvm8bzzOPz\n",
              "D+ihXISWsUJrI206pcUJMW4tRfQDhyUd9g3I2MXwimwIi5tRV4jnHXVW7IuO9BIjBiax9FT23bnf\n",
              "mq5gcGUF49n34NW5dOUd5HWmsXEUr+06FOHwWd3yQ/PfcHzvS+vpVvrorw/Uol+g7RNVvCy43ltU\n",
              "XxR+DHwWq7Ab8tr8tQA8s5n9/UwDJBx4v0OD8x4Fsadl/5NRB7wy7xkBWbP+J9mo/PCt0nKYlMHN\n",
              "NhRBmiUb9sXSbcDmCFRp/45bQ6H8TcO9AJWPnmDRWR18coE883i6FvwHzOvFHgV7h57Qxdg0LAjH\n",
              "oUqrF/IGJf1L3T9ewL1/TVLLf5xJ6KFInjWKtWV4pj+WUK3pXMcKW7i/k7VtYLsy+IBLF3e+GSYj\n",
              "Ig3UrF0hfL/yIl6Y53hvue8Okg4z+kpl8Tz2Mqf4f4L0KW3C+eu3PxNA/PJgzf95g9ECLjtFerHa\n",
              "u+Tz8UPbGW/pz+/fvO1UTUmCIuUlBXrewYHA3i0PiAvM/k7st89lKSc+PLZPwJ4kezq3HpUJYMsQ\n",
              "bxDVGsIFDfTZ5AGYk7Dzd8+WHp0AopkaGpn/cEBvQGlRnGUZ/kAzXvRmyVE0d3iG+/TRijiQfovg\n",
              "Aw/TSmJcMOQHPI6IFyJPJqz2F+s55mMzcMCf0c0GchSP2qF9SXIEDQgZ6phv1fyM+enu4FJbU22X\n",
              "5vNHww5jcawOHP4QxlzejBj9uDHadbKdXGAYLiaMM6MpDvO4nhI9IP0cC052ZnLIflzuW+LaPyoQ\n",
              "jkw32aroO1anoEOZY5HeeySfyo1fRBfEBciAtnIWxIivEEC9dkaBr2CfxOBkF/3cCKAg8qw1gZvh\n",
              "5KZ7srbHSUzU9azkbQiUf3gIAXpHzDIt2yRbwPD70kfCQuYpH5pkHsZZTTuHG7Bwqr4tUfMAAAGT\n",
              "AZ/SakK/AAEuDILIH3wDsJGJno1f6OV5OWh2ABJChWIpbj1p99UcQ55AfFXXlhGze+aQjD3uxRcc\n",
              "qtIBh1x2kjlHwXeKcL7Q08tl0ysYyHExRr3pxwdsV0v1EbbGFWV6rtjoR9BwKCXOugl3xMGSloJQ\n",
              "RHt3DQ0igGcFH6Dbwa5RlUlBs25mekySsOu4slCnP0hh2kHmU7J/Zp1tMgAD9mbcFXy+H71N2MlI\n",
              "GOttw2IEsAYphUMY6FAujNF338v0R7yUBHNd8TV5RoCQhi82lhJB0W9GaVwWpos033mXJWb8NzJb\n",
              "nOi5hTBUzD/S37zSsh29BiRSYv0I5inVSrtfwhSU5x2mZmQ4h3FhyDm4nHGnBVpA2MdfrkSXqnc/\n",
              "eoIOeePznf4BVzpFFq5WAA7DIewPZppWoNJ9GRJcpeNBbs9goAQR/mFErUFDy3ikwVAj6xlv1uJM\n",
              "oYpIvXP2OLN6eDPoucSpHuxrmLgI3kuugvVL6rx+tALI4zZ7w2QF5KiKfKyfRc/OaVGGI9uRxnq2\n",
              "loAMWAAABvVBm9dJ4Q8mUwIf//6plgABvJslgAvmynHYd7zjqKPbCkUpextgFucGQmzs3m6yR3Lx\n",
              "/aGanGtwVEF2nrfzg4NnaDScV90PE7GX3LovqJaPBlo7/2w4jryQCDartLgRfE45KQqPvTyXIia8\n",
              "/hDxQTe5bnkCOi+WrWhYnii0GiJ239wZZoRlW3fZfEUnWyPuXYUui0oYH0U/RuAVh1/9Om3cejXZ\n",
              "6Q4V3DpCTTwMonntOKOU9a+HYyqpyNlTeUhudNpixFbPw/3JY/hlV2GM+/PesZu0A7QwqGivw8wF\n",
              "72JLbQPfp1va4yltDJFiBBhHhtGn+fWULSyTZYxZhWB3mEwD4MWIiKiroGilMWBc2NCWyieSB6Hz\n",
              "ZiRHzp/Q+AFRaWUsFpM1VK9W9kC0hsYiNtQ430Cvgx+d+YiezWHfTid81XT7BX00/ja9lCLkPNNC\n",
              "sDXvYazQmkgjOT2bNjmyhgqR+IWn1ZVWAyBjn7pbZ/EVQ9os4Q9TepSTCz1DUMe1JDdYmbe+T0mf\n",
              "esZtZ8KcgukDtxo/Pm+XM2OcmMtzr4gLAnp4PMSxctqEMCm/+etnDeJoSiy5QVt9zGAmw749yMqA\n",
              "sfDRcmABQb6I9tOqBEmoxDt1U58FIFCMuMDLJOYq2GmjrO9jhOWZP1T1JaOM6b6Wb6UxIaW2lnix\n",
              "iSJlqfY8qw/4NtVJCSnvnkPMzwhJaUJL3hPELaiLC0yDJPk2aHJY96WmqXkk/HmDfUPdqMCuVeMf\n",
              "foNQfy717o7QschOFm0pGOpZtNq6EmPr/u1AoOpMAHaTx9CCFhcd28X+3eVPDqSdZBlLytoLF3yQ\n",
              "XCnqqWIDZfjS686ox+LhesvG7r48DVyevgAmN6TVSTF8Co1ohZ3l4yRTWT9CJtBue6760TAwkUnl\n",
              "/2wIjPmdGQeTM6DeGQiZmGPUf8n+lheRM0sZclfp6NPQdg8h98TKnkxjmnMTO+XUmw4WLpnjjsHr\n",
              "pzDuxigqpdRIGJKjJfgdfElczrf2ZHQ72U4N9Acdo7CYj0uP/529ljjXUjfrLGXUt1BBFuSEnaoX\n",
              "75yJgQX/aSstPzJmHbzsQSYbKD6p/1NuB/kt7VtVZdb5/E5jYd+1oclTTkUsM2vbSjVn1Bo8ZJ4l\n",
              "FvbZWkhMvV9iWL3sfY0SzWCBj3kENn20KuyLtZJfQCkve1aETeF20kQynG8fvJ1AbW3aljRAW+u/\n",
              "zQMK7Prn8KH4hgfEdzmz7qrak6yEW//mIhEi31P8U8vvwovZtYOGRQ1EZLlDCqt+Fp9PhWVaStRj\n",
              "A8EIyDYCAlHUP6GQuv8qh/yycra9uepScILwqY2TF3GT/dUtMSfcc97I2HiH3TNt8s5G87SGQDv/\n",
              "eoulwUQHkM52aPqaZFKfvgHxbhUi6hF4FmVPQu2i+wPPLuw74yEoPO7Vgb+tKhor3RQ+yRnSEuUO\n",
              "AKw5ZFVOjlu9d8zi896dt86z+zVeXcWjSuVCQJNq8Fl8xJ5ffh+6sNm9uDIrltD4Hoi1g333kIgp\n",
              "8WvaDw7lvwokId4nWX+RiFpg5wuIFAFEYtyP7ayBgcd4VpBszDIoTnVAATTA371EW/5kKDXWoWhO\n",
              "6szz0dMSQtzbFb0q+9QntLMPaGT1Mkm4jxcUkB8UrcXOC1DFYIoWRpaVM8pFWhO3htbMLc184bs3\n",
              "Svje1rUrhFrVm+4zNL7EdwqTtZC8B32dHvk73iB6VDV0GXgqGgz9aNFc8aFI6jQPf6RxHoqtFJBX\n",
              "AkgVYrsKNAMsA1eJtybRn7RqBFF4noXnW/rg7BZGEG19xcmD0xlpkht/2Ifm8tfIwnoQF9dOhB5a\n",
              "EVrw+DOjOhXH3lZCINcx2iH1QV7bdtrak5bmXa455tRoIsctcc2EvhPlodcjYtbk7f4DW4PdKmbK\n",
              "lqcFm/nCvvD1P5Ew8huIaKD+p80W8mTNWgtn8vpcC7knzT2cnE2RXkXwTyJZECuqYDtCIN5gzi+b\n",
              "jh/Cksrn7hM5+qSQeZQSRBkSrUSOshMBAlP68bcmldEzJkerbYo7KzwmBXxoFbZKbde3uBANkFv+\n",
              "wkwTBJ0P8CSfVUiU6eby6eq+brZwbhRE1ngpR7EwqmvLHR/nOd4MrDHjofePdxPJdj88K0Qa4haz\n",
              "jZKklKJHE9KHh7LR6qWSDhTFB++mI1TC6upbSkt1bTlhMe/yPflxCPftN9MVQHRYesoWN/KEdFO7\n",
              "Gd6TnmsEphRy+hQYKe1Lg+oDtJVoPCP5DZajZU3EAtlFrRMxocUZ1TZUClQ4PZdlV//x29jUlnH5\n",
              "sM1kTdSpGlRpvmy8OYmen9wtcqkgFW2MhcyqIBVJVH3ozAuXpl8gecIabveCUI1ReR7BSnKYy9/u\n",
              "y4QFOMdniIv6KB6ehbEpBUJcltb6PgAAArlBn/VFETwz/wABh1ZR3awKZtXhzG5d54NIwAmXJi4X\n",
              "ZN3VQbQBU41YZTSAbWoXsYS3VUC+oHc1UoGrocEhvw154+ZlVq/NZYDAq1EG83d6krqj4/iUel07\n",
              "5v+OItOIJF85jcMozTlbC8oBA+M1Wl3sT6OjADnhEOmzZUC3eFy3z/mJV2XnaTSk7xzyTGJBkw43\n",
              "LHsYFbghbFuJAFs+92HNnmD3FWiswBRwVgnu3IaRhM32hAzl/X3a6WiZ22PBcSoTvhQlApOJ2Chm\n",
              "Oo3eMJUdIzEu4M9jv8oaOR9Yc+1Iz3I/UjSUZlHuKf3MYRWwiWmsxa2kR9/kPCc9/9y4aWNHBt2Y\n",
              "mwTVEh7kRuCHfTH/zYfBSuaFXqPaoIw6w4Dfm0+CrdcJrYU7g+9/BKUpDVub5ePXpHs2VR7+WXK0\n",
              "PGHzrsZmeHo0JPRXGnUWsyeiCDwcD/kCBS+Pzm2AziBSTtZw3zb9qmZpEw6/Fp/jS2riM1pSd+K0\n",
              "KWCn9ZTJWvOsSiTDr68/jzwxF7cX+UOWYacprdTKZVWtJRQxvhhDfvGlCgu3WFQV88EdFNSd4AW8\n",
              "yP5nQFCWcu78EhEHPttpej4OFw0I1ICzf0tJY539ejYR8IcRZZKVxRShsmaIjsZVngx6BNJXjDvw\n",
              "0couRSzRTfvBQMc+pKsDx1odDr4eEtxz18Z5c/yFk6gyTkhjaR8m6JQ+D05bIlR2QmEvNuX4kZ41\n",
              "8p7SkHP3ClJZ0VBjdxQLm/zFeUigp+H8apOvcJUrx/h8TWbS46RPZb1Sv4H4rN2dl4UNwdmXPMAT\n",
              "tr/KGP3k4JERxcFBCY38cZdtCqPv8LdfFuh5fqsAIcR5WGIK9BdrwBF8BtVaMudopxYWTPRYm9Wb\n",
              "a2N0lNwxGGpG90He9ykbo2kzUCxuZylKNcZMOIG7OYkek9+9mwFlAAABcwGeFHRCvwAC147Naxc1\n",
              "wwuIMys8AFoocQF+0ZbhyJlGVSukqabuiRyNsoGo3knAUIA3M5FGMW/y7sf9bpy7sBavscSnEHEU\n",
              "zLmLR7A50w5p8a5qvxFcxyhx7Q37j2iBbkuPqZtaSvysvDUg/jQ69ZeX2dtYGyz8ANd+Dfl/gKf/\n",
              "DHtHB5s5vBRNZWMXbqeoKD2Hjff/6zq/oSaGJqGa5LD/bXWS6+EZ7W6W8wOa5eWkA+ZxBPxfSCvm\n",
              "08XulOAhRxsUUnRKrGOiPzWLc5dIw7LooH4sOFMFj4IcU5cCCmYYfC+0p25wwtGA9dRvNf9I79Oj\n",
              "7p7lU3Qpwvcu+BENqLjyLsQrgLEUrzn9chC7wfHrob0BzcNOhRK9X9Ue6FUP0z4u4BAGFYqvBdBO\n",
              "iK1nzpPq4rGv8LuHXjDwHUpgAzF3A8zGTYBUH37RWNUGiBgyplmQ8ub3LC/0aqUeDYEALRLI5TdF\n",
              "ybIBVj+s8YvwCjVt0AsoAAABxgGeFmpCvwAC1LgGcAIPCY+3OyeNWQQAXDpWpZmUoU9ZTDsLHbDz\n",
              "LqM6HEAu6MuC9q4XqAra72igij/2X5GQ//2zfBzIe4pdTd+/QHf2uCrTRLFJYfZf4BARvuIsMCIN\n",
              "BL+pua9tkUPU4VXaVmcA6rWzPVv80j4sLQfIWWiIbajwlIINNrB8z12K3piLSROv+ReZDrd/JCGk\n",
              "G5q2l4sg4M98OQI3YTNyHyHqkaVyaHkNdBGWwPAfCnsid6Zw3Uon5s8tiVxxiFa2di0Pkaq8rgsm\n",
              "NNA/fx7NpAQE3hFrlYW7DyFVRwluo6O6ObQ1IzDNloP3sc0Afqly+6Ifb2qrTm8gzDv+O/G+BYCv\n",
              "cvN1JzBBMWhzPCecQlh/IS9ZdKbLiwi6QCYRDFw1CWIASJQdB9IhwtbEeYwJa8oWLjItyL7QsdoR\n",
              "BSBYxidcilzK4NYuSFZPIlSTJQ+LsKcHA86AZSFbTLKExt4buthP5lWG5ndAE4fH1nIMZL+yC+UK\n",
              "KJq+srYQlxtx3LGKoVlcpMNj5lUGxf98cO+1eM58+l+BYzgTES+8kfBzi9etEWb+oaltRn9RdQqC\n",
              "Z0Duyu6QUACGegDBwWqhwysAAAdkQZobSahBaJlMCH///qmWAAHHOJUAF1XVEOnOwu6JnIATVcGh\n",
              "bfZKpMudOhlvyWfeuaLMJUvdxnE0jbNhLhm5gNcpvdCx/NCHcpNx4wW4sQLRs4s9Hkn82UO4rMLK\n",
              "WShVLyH2N8ltXRDuamVwPs/17ZPCJI/xAAyBdLjRadYu5XjhnLt4pFFzKGC4cLDx8QFMxgqO1dVN\n",
              "oJZBfufI0sHkNVaIypq3p+DmNpxD3kVq4Dn5uP8MZXwpeD8i86ZK4SFGyDItIMTt4lVwWNQ7xic1\n",
              "XOZc4aO9QqvULn/L8vfBotaCx+TmM5MuHu/orGZohgRIjds8MUImrp3z+RK6Y3vz5jYbg0m4j9TG\n",
              "1aFwUNE/xWwfLcgbrOuVrCNhD8PmAaGpEzesn0PIVLMW2BJeyX2Rnicw8kmU30p06iHi6HTquMuL\n",
              "3+szFcEMiD6cLRhPuBsQbWx96qkfwn+dTxIn7vmBXKNExXEb581I+CzEgcljoAIdaX/qxAFwlIWi\n",
              "gZOTRiF1oOk+FQdjn8X41kv5jZEE8LYnvwbIiOAgrT3jm669zJjF3TU0sNwnN/TpEodLFUycErE4\n",
              "8mWaqCgbMS47RfTAJ7yGF4KS7g5qJ9FhuKovlArjmndliDNs56vLJjeQQe/CyFTypabw6DTgB7SM\n",
              "FF4gZU89Iw7UHOYHvPMotogicU9jAbJ6o6oHhVCPZKioihg5ITXxSZkscJME+hBIie2N9rp23eFn\n",
              "GQOt2JrNYZFle7j9haETPC85rzA0VQ0w3rczuskZUoKUWN2yc/bk3RwR8FwAtx3JBz516QqXT6gV\n",
              "omLQMNKvdp8BaME+cLCBdJ7lK9BqnuuhCFAAFKHAPsW1/ZuQ6Wc8leWlSPvGChZSscb0q1o2IzHo\n",
              "6OorWlgR3YTX9Uzw79h/NF6oOEnmxRzoT6oLEN4/G7sF2tiC1O9jKt12LpczCUSk9R7jUz/nBC6Z\n",
              "JbZnL9g9BUT5eQ77hueU9vbUYZEOkQU6btYIQtd+vapDuTYbY6lz/TFWNR0fl80OjNXD3YYMk92M\n",
              "803OwqsLwtIvsObwEFhz9YxxuAcJl0Wfy9R6wmYsSirDwaJ4RQK5O2MQZsEACbxbbDmoPgBTFqPC\n",
              "MepTWaBhVZ5dS2HBGdK4JfbUUq4q38NQXl5/xcAGhG0huOJ3cLziUylsXV2iGTXdss5huu34Ez4W\n",
              "1kKTmauR/g4uG36jZ+P936HcbTimHRC/sT3UVKy35Mr3Z1oBaiWncZnWEauOO4odYdj8EaPMlPdG\n",
              "V8lwf2kQXQ4SE6jW8DiOIE1AE7ZIMv+V9YY0G5Ct+VALYs7D3zwEVZ5AVqX4xvLuEqqA8zbHIxxI\n",
              "0A7e5M6Cb/zYY6biX8JYTwDiNhryM3PZu+9E4k10kKJcOX4JfmkwYuyCxRPvYxF4yX2g0bApWKK5\n",
              "+HwXt9IS1/wLAqwGsO+Q9m+905RNSYEYgcS75t0tAdN4YuUs3P5EPgn22XP1/ohqcPeg40lNAKH0\n",
              "U69cguMSfHTx3M2OJgsDf2654lhKcf4DOCemJiZRvaUIAZmMdZ8knAZoA6ADnRVDUVGAH7olkRDH\n",
              "mauI6N2plAjltoj07Fh0BCEi1QS7WG/8c1WlvX6fpklNN2r6QeMPkOirxDklsM7gH9r+0e//wMEH\n",
              "fpG3yCF0InTrajp5VIEiojzP9mj+X+91UdLWgSBKqYzn2O6QMMZQ9W2ObJbJQ39vwSHppig6B/i1\n",
              "BOV6NsIlAFXCa5IOp7Qq94l7UTFLoHXolXzi07MgLlcV8NByQBGFhfuQ8eEtYm206tr3vhIx388R\n",
              "F79FsqU2JvBQW7hxcP7EjdTuS+t1hcRSmeCnkI1k4XqiRFA1vZMWS2eA9RxlIJ1vZMoqU/Xx6Cd6\n",
              "Cl6r5wo84HhWaGl5GVJho8Pqc/nnd+VpNSdiAWB1C9M3xAgaLLpw+lhafjKSi0qa/j0MbQ99kX3j\n",
              "/8zpNv3L4jDIicdZzxDQZwIz74gdaB/6/YFaBI2+gRxaL5iKrr2e6RQfouaX/yDWvpcmrY+DXXuK\n",
              "Gg+mh02wO1X3rz4biPjANn/tZ5Yh/T52PrMY32tte1LoSfptPUXen47dkdCEC25J3i++9AXVo6W5\n",
              "XZemmK8u7yVXPclOPdtJkch9YNqkbe0M2z4tGQM9zEz0hG2iIR7/Aea7lX6R/hH/7oh0RqB/ox/t\n",
              "XDpaVqI9ScCzaI7MQftAOMHYai08Fg1WrndjbEUVNPNfcXC2sWIQm+C4o4WelXd/P3pNy70/q81q\n",
              "gFjxAkUPzdCCCEO4SUJ10NtuKWgiewVWN/tzg5Qcrs7z6NoUwlVh4ltk3QgPHeckEUlw6cYARmW/\n",
              "HYH1lu1Qlqyc4DUJcJG2lw7lgJ4eLcSTmlrcuiPd73GTg2AMWG7givrfmBchJAbTjuY7xMq4q2sb\n",
              "N8NedqpsV0O5MhsL1qj/msCLlqwFkGRv95XyNNedWQ6kEhw68CBrHKSC/WpqgI0//gJbuMpkWfnY\n",
              "ey2N5m/CYml4vzliBo0HSC2hu93XKtmm62StlyRbUYEAAALBQZ45RREsM/8AAYz3bDJAucAAul7O\n",
              "8OJ3Kp4IJrK2V/KJUrJcLfYrZWJ3HmT5hU4D+1sYw6J195FUVoHL+0kYPjpufbMg/4tZsEfdfBA9\n",
              "wm39Wvy9DsclBtRkPdr+lhBoKsVDWkLaRnEYbCwRqMYSe4YyzDi67PytVBY4scUc3fNiHSQcvz9G\n",
              "gzzLf+LzohNIIWgFzvaHVvojfMG4/EYfMaDOOOuYLajiQQJK+sR55c59w6W8Cf++KcB7uZ9j9D/q\n",
              "/2gjgUkFt0fh6Bu+pAfsz3cCYNErzjV8m1KXgVgWiSPIS6ERe52Ueer9yXbBx1tRYnx/UJR0Gdok\n",
              "7VFupZeO0vVgLyBEUkAfbQk98NrpBStOAbW6egi61kzyjx+OdkFElfz9udg6hCryHPuKpFks0XWU\n",
              "01w5kUJQug4HehQx+86BfHcYDf7VndurjTI3e1Zy4Zyonx0H+SaW76p9LYVwJmNKPQdOS3pSzby8\n",
              "Oy2Ak2I6XbxE+KwWbEEwgkrjG/NmLcSekbv+vFuPuRtQ93F/r8CtquJhkwzlhdem75fegqK1CO9U\n",
              "rRXSxIccdWcUBBsfpEV+fagBmtB4J6oEbXzdoHIK28wh041MVQ2apo6fvbscHHyav35zIW0fZOZL\n",
              "+e1sPhy8pdkTO1cUroecdm/ufDoYaU3p6d7m8kvr086j39f1akHtbPBv9vU+o+kExHejz+38vKhk\n",
              "rxyBD0oCi0lMr2L3jvG2oAP5JnhDFW9aLO59Qsh1L0HRMAFYMkl3xzUqN+wdq2aHvnkj5wq4dSj4\n",
              "TOwhGmU4RT8OT9Q+SZyfwsvvJS3jJUryBPubmvwbdiHs4DfLtJxbDmXeVNUCbfEHCzFoUJLz3wAI\n",
              "RKui0hLLs/n2RzRSeuyb3sBJN68dxdNa/twrT8f0eAS8NPUYkV8LGg+xbQmmIGkhQyZVWwixNQek\n",
              "AAABpgGeWHRCvwAC38UFAXSmQ1w5jzxZXdDiMwSct3+5oIALp/23Cy05x2VYUZ2xmqAfQ+JkoFVh\n",
              "8o/rU0HKSyBx6aUQPHp5+4IhIAIto+YxZEdCMj+ZKVHHQFu15EaZIfAsqwswDAkWLPWcj47LUTcf\n",
              "COROrErbeTL6MT6In1QmAawXqHsq6FpxYC0l2LHudHXrXentb1vBTTenuWxZk2KWdbJbVKiK629S\n",
              "FOb9HUFuxAIuwjlMoul5hL9guUXUhNRasmcHvRr9Ss+mL6hyE1K4FT6dGTRSMQVKf8Nwe5EUlaWc\n",
              "kQdgNkbCrD3pfENVjIiYTxE2NbIRLPJvIYhlnNRmvDtd2LR5rCa+JQRcu+I6Xn5IAUcCWnqoMAZV\n",
              "sb0ZDjuVhG++EkuVgLuJfn1SCdh7KrEcj+mOOo8ZXpyFX6opR95qnWFm8IgEA8nTcoD0ZUpuK4/O\n",
              "lNnBRc6iTq0cREAenvi5TMO9VNtG7+ta7oxCgulZLfbhDgw2aCt4/nrfL3vFMJXpmU9FDT3jOfiz\n",
              "bXzkSfKFbhlwwZNf2aoagI0WJ/Nbg2ZORG2hAAABbgGeWmpCvwAC377D3JEX7Hsb+p0IxxogAtKK\n",
              "8PqtRUur3HIDBngLFUzCPC5Mn6l5LX/LUzcAuXzyX77KK9C115RszH0Z4QuIQih8LCwBsnLNlYMf\n",
              "XvXW01kJsNZ6utnyMoJhkgHq3Mxq1Wc7gLix3Rcf8EGnnFmn1AdlkJS173t2F7qrAeMBPjNSkRCP\n",
              "+3kzUY2Ux6lKUTz/TLuWnNVajvch23PzFEtf+V9gvw8RJGJjcHVDuMakOXWT3PNrK5/2vo1Nb1WL\n",
              "NS29lWmgzvzZNZB7p9vM194bpbqfZKkNjmqtqxP++eyAEHNg8ujYVrQLDnwYUaJrMp0WsxXlaUMF\n",
              "KGAUwD+JsAvLQHvWcafCGjUbDlYEZjpSRg6srxj2leP+ineVB3SyQ8YaeqlwPX+77Naa6dbEKrQQ\n",
              "6Qj/6Pp6hghqcDj0mnZ3Sp3ys1mMKEz3s4ZIhqmMejFn90sw7ZFyyRGoHfnlcpMQXrEQRSQKuAAA\n",
              "CBJBml9JqEFsmUwId//+qZYABGDXygBGVzDH8JPZqJrmpN1VzlX3kV4Odn8mBBtzrcLxlkTpUxxL\n",
              "xo20Ss06/WEuz4Nz6WcpFARjpHNuScrtfkgRVUoFPBLu2MzNkgt1O16r9XQt+by7A6ROUmf46+sF\n",
              "AyzRpZKm06i+G4Kwm3pCKnVoiySvUa4BE9oLsvk83j71mSPMqvzV1JfWPT/5ePSj3xBu5AqzkNCO\n",
              "I8LxyESKBYaQ9fJi3wpbnk3fFRItyjW/B/2PRJyHsncXZeNMAgblL+twjdv5GkwoE52gBD85cPLF\n",
              "9utHNLikja5Z8PSUg5TgUhPrxrkTiuKaB+0nRW7zvYgjancVpeveR2gNdybsU1tFq5uhCVOna4+O\n",
              "f6IDceQXdXaFeM5nr+uzB88wHOFv+YCzYMvY71e8/418ETmYrnPOjbm7Xa+inJFdl+po8JKW8TRI\n",
              "O8wUUqTOhxOI/TwsvN+rOsBJ09uXaahr9mCVzHzpCebLSkpKZ77tc9eUBZn211sQd78beP5KHMaq\n",
              "BIRJ4t7YIHEF1d5uq1FvXqgV5XLjI2ETUFJdSHBwydOtZ4kMgkq4g8pdtnN8w15ugdib0DxJOBkf\n",
              "1GUOYPyKJWqvYobkUasTk6qr/YhV6KjugFHth44Pjs7qjIXaCe/vAQVCHNJXWFAT4TJ5cdiQCGga\n",
              "H+dMPqNENbVXLSzoF1LVnjXUsHiVmlEkLZHw2p78n05jaoDwHLH7ktWyVhGQOJzuzqLCE61Tx7R2\n",
              "QxYzdXJydtPtJ0m+vvgUQdzZd6QQlPUCTXNaetYuEvuw8BLcYhGtjFV/zjhpbNg4oTITywC9Gm3j\n",
              "k7Rqu+illiwzwTkvbN9uoc3SxponRdVmBDHIfhAiJDM0agNgdVEos7wjlTjbdf5yU8uoTr0v2uwU\n",
              "73dXok6GNp+MKb1H4EFk+wpprKT1Cl2HY51fgCedLt0XnAkHtxKISUY4v3yfYEQiw3NnGwloBQj/\n",
              "Z68/85MD2LzOdd9FWTY5avlhnZaKHGXlcPEK5mrtB71vwQMaEg0W6jIGUhV9dGY7IPDVX0du1xf+\n",
              "tWWZulnfstx8Vk4MaqG+os3iwnTSpYZyOPtkZHd5dbmVnx1NabBVJUL+OiOML04RBBJF4wQ4664N\n",
              "ixc1uC+HiWIKGPn9VtefM99lADw04QdiH/vbz3nUc4cwVAekfMY20ir8wpW502WtheR3twY83Y0W\n",
              "QeCE5N0eILaKlJIyYJvGHeukvpK6ic9zOHmhijFkkfRSihnqRdIJnKV0laxP5dO9LqpSuT/P4ikm\n",
              "WOxtXcEVVABgEyyc+VwUwCpOhGffD6D2FErNu7TxjNXWnfbK2S+AznsUfC71KgxDd/QBxZBt8C21\n",
              "gJJ/H6OqCfc/doPN7Hw++0CnmR/8WhEVMMlwo7nmQL/47SNqi7ulun3/OskO9gZQQtD2sKQHnLzX\n",
              "ij4jtwX6UsKklUnjb/x0d2l91j1h4Tr4WCFejT/kjm83qPhU7TaVOaDyZ7ZvTjhFr7J6lMjprk28\n",
              "P+Ux10XIfH+VcsdIPXYFY68imZU7a0YuGWjpyBqdwEVEwFpTWchQYx7UPAoBVfRuuslVzaoLWrGo\n",
              "CwpGkTMVCIkCud5BwN37LqeXb55TJ/E8cMwbHj7Xtn1AjgF2YvXgBDtVikTCkT3+oHrDfv3325oN\n",
              "sbfQv5f3L4yGh/ZsEPbyX6tFEzmAhESi5FnyIvyT/j6soimuIEVbNGt76XFS+Jfmpr/0ZiX/7/0G\n",
              "+ATaqSaQjt8K//Tqwpiqj9bArYRGHZvlDjIm1u1y8mtgA7BktUgtxiJjoI4RpkNZfxxtSgEnujxN\n",
              "Z+Id45Mq6mSRen5f2hJhL7FMXsXveqpNxiy5kjJUt93FqRTJ5J6cVTDTUXNI9uhZx9n3am/PD/Vc\n",
              "pHUDpvyC+Uy99XLtYQGy4RaH1UZst1FdFEPDpR1a6xfrcECb09ecv4ZVA0rakhRqf7aoZNNH+Pm8\n",
              "5fJuJkKuwDv8EJGKPAGaI2r5hAxziyxxTLbll/9Y9Ym9Jf1JsvH4lHSt8UK6Y9Foh5gaviZujGYe\n",
              "MrBKWk1sLQXmfPef5zzQ2l2AzQ9S8gnUprJ12az5vRUaZQvVhMI0ehs1jLap+59n49swo6FRHjOv\n",
              "B4GSxrn0b4/0YGtP636fO6dITvg8Y73lIlqQc/DEWI099NRZg15olJTlADF8gO7gNCrGDp+ro9wg\n",
              "fTF8Hd/k0aVcC5nOZ3JYCI4RZc+eWRxIyyZRobnsHuYdGir+zZl+XEELom8AZb3SaxQd+Q1pU3HL\n",
              "hOl6lwVPG3R6t5YALaB4e7wX3//WmnmIXK/7z/LR65fd9D8HQYw5Y1a3tptdS0S8vC7fx95rXk6u\n",
              "VJv+60TcPOiduX8LmQJBXbzonqkiGihjeuWl1bIf87soc1QLka30oWOCPxE5bdy7ySMV2TKjqHQU\n",
              "PO5phr/X8H0THb2jy+hEXt66GAGgOeVTcmyWg/PJUI7/uKUDYdX1Qd8gBXRdSqcLraPgSZW4HrEI\n",
              "C5jFOM8nUJPVuZnCnqC52ODBc6uVf7TaO7D9RpRvNvS0+qMqIHzgTyiXoA3BiXOFFGvZPQeROeI0\n",
              "PTBuBTc/Aw5hdi4z6Vdr7frhZtXg6bOyGqJktwkGohpOyNNwROR1Dko3/gMn+nI+PquMUNtej9NT\n",
              "ssVjhUeUaZsPQOL0GTAKEV0lwRnUOTQUEswRI183TVVrhMU9k2c3llyPwAbomf1kJ/zU9N2R6BwM\n",
              "Fbj8tZXf6ImQ0tA8VitqCQAAApVBnn1FFSwz/wADzMEISWQhLCSa8rteJAPOwAS8nzHQD3AR/z5o\n",
              "6bgsC3CHPrVKeqaN94o1o6F3+C2qqHmuG05nEOYb5g8YmjEs8FSPg2XXD79jDOleThm1qrIQGdMD\n",
              "TEHQl5EeSZ1CzuGXm+YkdxoBkYDJbzUVcAnFdmALdca5gzfpOvVkX2HvjpLLLUXDo6ne2oIfXj5M\n",
              "FlZerfw/v0B7EAolo6E216p4lcstBiVCDwiZ8E3gz7Qd5EE3xzqb+Pzm2/F+Ile606gRjjqUV65s\n",
              "LEJTPNBYrVB5gerGCsLFbsJRtbUCz2uNQrH8grPM09xGQloP2w8/n2hr/1McEUiSRBgpEd8k6T8V\n",
              "mWj17K/dc9Uu5/4XRBjN68b75B6s3yzKkWHx92B1L1h8T1yyp7sWDBFfzxE+80wHMYP+uQQbyU5S\n",
              "uCAB/EryA90WNk1QZFIx1kEaBIK1is0p34+DjJsSqkbQ8Q3tK6TZ+CUdD71/haESUS61912Xr4gm\n",
              "vo6oEbnVi2Pyto7q6vO3Vtqix7BcUhMTtKmyuPSvm4W+fQuz+jCb5UkJw8v31k+UVIXc4dyc1vD8\n",
              "4YVPFk5OESDYCP+ACRkgIf9+Byb7nfhtCCVoSQw5+NgAE0rIv6L1r/xwT8mHbIzQzExmiM7Hbn0x\n",
              "UTQL+ANREomIZnzSReaCq+2WxgFWcjAosp7WZk2+cQpYyo313o9ndKYWCZWArUlLxXaDxYftSaFv\n",
              "gA6nrfbUF9rjDKDKAnYzoU6OaJ0XTKOIAJxwfjoe4w4thzR4W1TCe8PX0nVm00q1QjIF4/CRSwDC\n",
              "PPjofnHqCkpyfiSd9LF5Md/ovFKCwEhLZbp7TdqrrIzS88+Q/vQoLyv7v1hUnW0z3ObHEVJPAAAB\n",
              "RgGenHRCvwAC5aE6xXb5UmmYAEqn4FZ5logzMM1rzoM1eSWBJRIb1ri7urNGBWwPV6JcuQpOgS10\n",
              "sM2gOcUg3UAYXso4PoFD0uS8aYJc372uXHaT6piu3OUeAtoMv1RJjgdo//LPGZQe/D2/naDt7Xc5\n",
              "lUt4T6tFMmax8Tnc1lFtGz2rHE12QOTjo+ObMT2b2v3rF3nwiZyw2PmUe8pzaU8R2XuGQclSCe0c\n",
              "bhSfk7nUFLi8MSiEqmRQrOWFNJvn9UtbrQrY4jVZ/RqwCaFGcdY/ivZBQzPkzJWU9yqyRmdiQndu\n",
              "UBoVsyjILzhDw8BPSLc9fO996gh8oAU9F8gk/i4cEC3o/hVkIoQnfFtZpHQ0yvTipFEHqOV6bJre\n",
              "QMsU6Rnb/CjJQ9JzcKsH38jSW+eqFyC1LoHGlNlRspzOxkThn/8cSAu4AAABXgGenmpCvwAHGQLA\n",
              "CMe5lRux5PW0gNZXzH056U3ZLLv7Q6zEfXIVcYIVmB3WiCSrCUkYDEFmm12NK+FWMvE3+TAWDLIR\n",
              "K5rs9ekD0lGKAlKk8tMCQsTwyVFhT0/uwkrn+sS2XcCQxZrhkmE7wXW4ymejf/gZEFjT46ufaNVY\n",
              "V+tVGoXmArLbxWt9/v04YDhi5BqQBbGaVEv+TTRpyV+1eeb+hBEZuZcRT6J5fAqQ5rW/qsGO2icB\n",
              "X9O8EHnfREMOty+juvMV23cBCN4VntDs1iCh+nrzVkWu2771oYofKpnQWGNZyWDZhxKqfe3QsHZB\n",
              "vRwECl6JsTLlZEgNZ76ZjtFx6RfYKvnt5PzRzP5CJ1h9eAvZlaW4q5wDVsVGcWgBBrva6P9YHkKk\n",
              "I5nQL+nwFjEmHhCbyA+HILcaReEoWgMh/8MilkKUt/eMOut+Th0xMLDSHUlhAx0JJZ3jaoGBAAAG\n",
              "a0GagUmoQWyZTBRMP//+qZYAKlz3wRS6Bgc8uV1j81BzokkeIUUyiwEYmhlJzZ8ma1Iypb8mvatu\n",
              "qZN5eVbTl+VOvI6Xt3J9oMq+VsouS8RbrRQ6vzznjsu02MR+x5a4koJSJ86Kb43AU5qvdEtweCLj\n",
              "zm4Q2JmVwe2PAKcq4BJb6epGnTbqp5j9SWg8MpdpuBFqOZ4M+mK4PTxzfJ7t/LaLuWbTsZWYRjyb\n",
              "f6MLf2IUI1qXkY3sG5FcR7vh3QLSnzpzbsVnvm8ye3jINZMb/oYh2AT3Awoh2E7k3eb6Nl6m2RoF\n",
              "1VhFDZ58F9tV4OoMRh2tFokKjppbduHZpLvKc+HKJ2K5S40Sm4Yq9nsNcnhqPrwEcvNR5FGANUt2\n",
              "ZMqXiNfYJwU5ZG7zBj4liUgHfFyX8WsxRwuFVuGmNW4QsXLxqHdxoyfXlqUTBZDstWRAKQLeYjBg\n",
              "f/Y3FmWGpoZd38P038vuio+BmpW+tAKCFxWhRpJcFtkTQrvDnIva0rQ1eCKZNpIvOiluFAcAKgLz\n",
              "Z7G9FpD6zkieMaQ7EoxairLIpYYNCfIolC3nS51SdvhWDY0XhstKnsXow4+rv0nojMiBt5X+MqJI\n",
              "ge+4GUpoabqOyqn4pjS9j3/wXE8+KgP3FQH2TxrJWNgPULO75CEMrmG6jF2Qb62M9rKUb3DAB9Nf\n",
              "RCdt1Rg5SoIMUJMybeNtolqHXZwILPmygEGJbum1gdMQ6iBXFuNQr6wNwX7FHL4fud2M0SKppw7b\n",
              "DZq3HkQfXuFiKecxc4LxvKHgflKtuBAtwysuqDJ9TopSWAyJxWGgPJ5WVxER4OcEnUZdn5evhlWY\n",
              "b7o/q3UA/xyk2lSzO4DaSGTVg1k/udVzBwhDsCudY1D7WogvgJqgyp763snWsrht40FOfSlAN/aF\n",
              "tJEgdDb9TSPVRuOQ7iVbUL0lLgf6WT06V7zih1SlF9Uezmi+P301Cl5ov4uULWEcBvOfh/qZD3FB\n",
              "2S4enEtjjmYRAhFy3YDBl8DgA43NwYSGu0/ze2HZcnS8Z8rrOYP7rKCeJN4DOMYP4JMLINTtW2eA\n",
              "zpakwSP+kxqI4110DcKwRMJibSQm5hmedyytFuuT00x2VsJB65Mxvb1XZze/MLjBOl+Q9Y0y8R7h\n",
              "mL85yr4HuJIMZWHJVwSZOnujf5lFihqJ/xO2PKqTWufYEwpjg8gXhXdhSuzfpHOx2zjQZQ/2L8R6\n",
              "/w233aXwcufiMjc8FTOROLl+3ScuLz16SOD9pF5Pfgx22bAZB0uJi+2h4CpFkAn+rmCBVywNUR/Q\n",
              "gV1l/sXDPN/BzPmc7j0leBTLQzxVATlaO6ptsC9M/45fK86wu4wlKQjxZUUhpAIZ1ZCJZm2TUqL1\n",
              "KWCW593ln80NriNrli5/QoWOL/2t9MwVMdjWsCQqg9FL8oBRlJ9ZedT7uJStRO+Cvn49JfMAllFY\n",
              "mDACKSHEvOeEpNBTPIk54OG8Mom38hGJxE/nrgcAnCvWLcYpd50sPICrEmQIQmMeP7IcGu+G2zzn\n",
              "Ha/KaiidrFZbftr+xKFrozYoYvyDtBwccFfzZOcbF8d3HI2IqDx143NlAk6QNQXFtw/pRpQ6ucsH\n",
              "QEVGtR2DoSbxGHPBgfHS1XPG2gk+DRJiF9QOxvZEVlG1zx8LV1Frq/3WmvePVPmTp+XJ1M6h7/IK\n",
              "q7TDGxjb8QIfk9x6ntxnItNpwgRQVQ86NJiR/UNB97e0TmxBM68baO8pH1sjs9mT4/yxcwOpzapP\n",
              "ZJVHFWbJbHbsx5m/DXXtyHoFp7qvlw4bXVAlgykf3dRdqjc5nQ04+NOPwarCnYH4isu5dEosHXJQ\n",
              "SlCG2LAPqfFzSEPOY+P/qjH8rwMUgpfoz++dx/rOpc3hPlHG/t8A4NWDcG7ARXUczJ0iOSIZPQPL\n",
              "3pwx6dQkoUTXJog3SaSLO4bSFenrm2W4CvHJfvLQWRX+rsEbM2GULuCCv/0n0eK/Wycj5aReHuFY\n",
              "r2gino6hEofVH4Yw5z5cpoMoJKqtP3DToKjjd800exGdLIl3PEbQelPpdMwK/VMNuidaH55wqOIu\n",
              "tcZEpVmp5E1UKAxq+LdxXa1c8dVIq0WQmZKJDW5VpzopMoIQwyRkDwyq+1sWcd1NHn2qVW94qbZv\n",
              "nD9JaW2vQALBl/W9wYtjHKhPXb3qfBn2ox1fFN+g1S0VaxuBrhOCru0JuxsEGgYFAAABEgGeoGpC\n",
              "vwAHGQLABxQSAuKOoEEsY6sYkPOCieXNj1+6aYVksReP8xQvHigq/H2+MCZSDHZRkXkpPGCFwxfX\n",
              "h6DgmZmymvW9bPB/Mdzahe6Wlvby5qmR+164ftGrLwncAP5wWJd0jXZIUBozYb9MwinsTbWmX9Bh\n",
              "Cq7jyirl9oTdrrpPCyp8Skz0L8KdM/A0ykCUtccHBTNq78XhfQpYuAWIrXbZE+bVxdBrsH5+cjvV\n",
              "XRKYFAv84tLlSzMWupMs5/CCNywWA/RDPxYcLWsklmWeImWM6d5ZUIQgxfBrsYKx+5mwRaP7FsoZ\n",
              "F4FPwuuVZp/i7YP4yTK5Hp9xfQMule1X2BVXV6arOb/H7Xu7bHB6BTQAAAfXQZqlSeEKUmUwIf/+\n",
              "qZYABGWiHb1ABsZ5aCcMDWNeszoVzKshid0KBj+soZBOZp32CSpC62lM03xgtCr2bpx65F9NjUPc\n",
              "832msa5blQJ6VkjN5kei/EC/6i1wKaSYC9uvR/yZPEwzinZhZ7vQbXhnyBCCIksP5NbisWCOAwD8\n",
              "gidWwZg3mWC2PSV/yN64y9EaJtT/X8Yq3CBNt101ZNr1eh1CKdgON/J26Vk7H1KPzuWpG8PZdKMs\n",
              "q4r2fV/GDlgcBtzNNDSoNPkzCGng+Jm4aXkm0h831N1Yi65nefkMLlvnlPKz9EJk1wnqBbeeDxI2\n",
              "Hwy9kbAWch1riH+/f7SZfQHs5rrjsYU8bAsctV1s0L6SR9cE1KKhY1PB2y6rL4Yse4NvbGeEAGns\n",
              "5SqbBugF8GKnG4uLcWK/IM2GwdDWvX4BN+SyXKNcgBPPigypSJ6bzL4B2UWaYsCyyBxAxXKA1qbW\n",
              "gGBbMXCZOB+HFJP1fboAPKyHpHpfg0faStCEKaROoRjBtzFimqA6K8E/qpzaKyVk9opToHlx5TVQ\n",
              "zskluji3cTi4pP6gl4Tl44I7mWLiBmVL2bv2TMrfwa1viarcz57sszUwuhvNRYmjRTfoYKullpFq\n",
              "5JUe2hO+aYEjEQ6Wqq8QZCq3+Ot/3EO2F5Neey7ODoWOpZDfZZUOxsaOQdKvmbExa1p0N/HXoezP\n",
              "qS0J4B7DFfZslfB0EO9PwkgBHJhJJEF7FRiTQrfxte14O/rhGujYTf4HJ2jQ8AHC/kyPMLm1L4Jj\n",
              "B21/maibE6UllRz49kflvISiUfoj5TKIgJO+ZjHDAt+ZSF/HksWAmWeq9mz6sBw/4FLoH7TiEa0A\n",
              "CsYUNRO+aX3t5wXTMKaLsCOb0HLxUWmZtuaeBac1UCfzQ+JZ2kPf2IYruCZyCQEbKymoqkeXOuxi\n",
              "I9qjc+V4rJYeWeu9JCXaYf37aGK9B8wHCIQD4jt4k9teuuyieGBBEhQTrrvA2CFiYLlUFP2ZyiaC\n",
              "ONT5yedAwRwQ5/HbAM56AQx2IGio8XiBJzYlD14hFqVBz9JNMOnL7IIToJTi7wddU7fQjSatEesB\n",
              "1FrkuwMarbLHhtTU0J2bhpyQkdmgTY5X4s1BkY/Yp6YAyZJvudxyiIrfutxL4C/SfYRT1eXxnnjF\n",
              "0Ay4ZKPB3fgGrQTyQ0QuWytLyBnpmfrFZvJaeuXdIE8PkFqWzZxQeMjoi+JjSIUn6lXjIO1TphZa\n",
              "fegK3bLHEpvGoREzh9ZQjZ2WXsUiF2dz2F1EQD9ZGk89xHAap/+wOjZ23n62OqTQG9lYh2N7kgyj\n",
              "bV2Tf5ZL15Ym5SiqILF3JvnrozD0g0VFPj6ExwZJoeL1wMsKkYkS/rm6iFDsCb0nFwvr3sgtXuVd\n",
              "SpCikaI3NfcupmWGvEw0PLn8DJI/CiApqPGp6Zt/MirNcsIqk+xQk+o/nnC2b2z13dZkNfdDKm3n\n",
              "WHJCIXcRgY49t6990Bwc4T2ioygZyLTkLHsFmihs4vDik/NIVgSVHKIPvX6ROM+/Rr5piINx/0+c\n",
              "xz1YGZTHa//H1vbntITDOY+GtXElEBxdmgrPgeDSFDmvJh+2eeUpR3DZycpMI7AfXaH19aI7yJKb\n",
              "SOSuN63QsKceCcKJ+AqVbkwQyxE6D/JphlOcn3Dm8yUmvep1rEdnf8anTA1idqFlzeBIB+aEwPAG\n",
              "lP1qoKActkt/ZQoh+niFHar03xgvXD3wlQbsCkupzf9+epBdX3Jmc6pXiaMx1EJ8gTbviSKwnOks\n",
              "qlIBqoXb/ExJtsT9Wuz/b53ijGlNlF/4coPjEdowx5vG7xYuW5EP5KhKu3F7dCGaa+iAyNUnrUqO\n",
              "XKguicl+Q43/p214FUZFySfuG/mGfomEeDHO8VoUxn/C2l7eKeXCIhOQM9Ijd3aoJWcAEn2vdhgR\n",
              "H5lTQoT+XAmqhV40TjgKLVkvzdygBacr3En2EcrRXkYT6ka7KtcxXLBQdXpVMazWXThzKM1GvDGg\n",
              "7SXCVynIYN7XT7LLY3lw0AVsvFmBRzoG6QNlKkgwR56ku/5A6rzXRxuEJEInrl0ynwRHnWJZa9KE\n",
              "3+Cb+8JAs35fJeVWRYuRUCpvCJbNTFH1ObKnzYhN9iE7efoZSAWy6H2sPJHWg/gjWsYufnzmYUAZ\n",
              "yG0/GO3+nkwuPsIZAHYFsR/PZKDktAgx6vZG4ae2meZHD7f94oLT9W18t6uxyVSVX5Sp32A3RRDD\n",
              "YsvoE3SUmWhkEt0i4SVJ0/7jV6lGcLSj4w1xK2FdeaVJNWfFhZdm5oAK8mUctLM7GvThThNxPNdG\n",
              "oc8D8P+jd6wdoOUajPvtdKKrh8del2p04Z3SnOQoL7oGKAwDFR4IajFBiboptXQ/S2drfkV2x8Wy\n",
              "/fyMbqu3UY/6Ok9TXpQa7RSEIwx5YWGxLmW1uo0t81myKLqzG6r1yN2RzLDL7gSmgf+Cvq3SHkaT\n",
              "av8RIec+OR9NHGF+uI49EmiT+x8tLtdkXIApegmc9p7q2S2veKjIdaHmlqCqdTt1ZGTxxLS9mQ9G\n",
              "FS7KlUtlMaDV6dfK4rw3QSpP54vUCWOGXfZsLDZT7dAJqPagyvpMIf8Q7lNQcHKXODaJ+cZwgquD\n",
              "xkhHQ2o+Vd/7dlgBGWG3aCIQ1XPgsS5h5ziIGQlkBTldqbBF7RaBcMhIa4nOW4jLHwVYEW9xWXVB\n",
              "AAACEEGew0U0TDP/AAPAgTCbq6fEYAW8esXYQEIV4028ymOUDDyESAvEfzARgu9s0T8KeUHWAV/8\n",
              "DRcEo/8hgVVxgcxLfEOTQgQGHLp23Gpy7Jj/FegStThd6wN9fb7flfBVZ0p54wO3X/xzHk9YGh46\n",
              "MwbQWx3szFJb1YSvTRGhd4JSl7gmgde8tebgmWrrdr+EmLIjCHFW+t6+e/BoffCgXEYV0RMmggOp\n",
              "Lqu0sy0zuh9T9OGDmj1b1p2L/zvtuKbaot41AK1x0mm/rSg+a+K8th5zrymXp8tCKPSdXvqbHqyK\n",
              "/jr32alPtIyfZf9yVtS0VS2Qf/aich1onStAJdJTdqQy4JCSd1amNGThxBNEWBYW7DA4eZblF9k7\n",
              "7J/tvbiCbmfqlmxqzFKz1P2BOxs0f7p32n8edzN3jCbpims3fr1kSzXBS+9nJMNEVv3aAYO+0jQk\n",
              "bkyVnRk7ycxKVF0ypsQce7NHVIzdQ0skWXsULxhH2dca2M0sUT8dLyFCM4qBtnIBvBsiqnPVbNuu\n",
              "lvou/pTgFc620oRxs51XgohK/jwUu4CHREhH6TrkyFW8aEvGgy64GYwGVdFfgqWaXnTut2tMVokJ\n",
              "gxWmtShb0Vn92YKWEKCWE4LfN8lORkEd0fPoWhwNfFzta6uajddbdl7grHCIjxNUZoJrpm3gBudp\n",
              "iNf+oqDbSrtzH423gAAhtwQqoAAAAUUBnuJ0Qr8ABvy53ptjADbRcEgb0tDUlIBBN4i9GdKoEBSD\n",
              "RrHGzopxE+s839NiLCXv+qvRgpV2V1WZ8/1lQ9PBqS8xxL6HFe2TWP39esE0isRMuRazAMLVVfTk\n",
              "adEPR+jCC5FAWzILuFdyhaFe5+aJDTuIHJiiiSFnuECtPdIlXauFHgDCsaALuK+lpyZj3DmnmLzl\n",
              "MiIDrkoXYqOW4khGF3REM1/A4fmy9tXV/IBSVYmv6shsRvsas5VJs44N2Ro6WhZaX0gk4VdQdSy6\n",
              "Ys19pemCe9ibKIEA6sAufED1woDybC6xv978RY2tXGNSvjLgXcmE7GhKoo/+xbvIqit4K/ODi3t2\n",
              "8fpVIgaxgnp6hgKG7SGmEaKRMQa+EGlJ2JsediS9uo2sVGAPHR2YVAVs6uAf5edb0XTZhWSnf5pY\n",
              "PZ3nwAm5AAAA8gGe5GpCvwAHDBDSd+wAXFLv2JMBcQVceBuMiYwOXI3T83sruYzOOfXe4caHeMAQ\n",
              "4ydyBL3pDr8O/U5wjQv41I55mgInoK1wBYjSHLtYpxK1IvLcDSqGw3v/5N+fdO7eQUtVb1EZ+Dt2\n",
              "G/H51uic+lR2Kn5gf99ulSbe9xLGi1mammum0d7Bya9MpWr63+BzxIFGNyjfM9cQOFjXuEG6eHHG\n",
              "7Et1vsiYhDcemGNJxe8doWRsRLid8sPm0DcXJfsvpNRAI7+O9sMEYh9cc8wgi1SM8wE1AzXySL3Q\n",
              "ijbxCLv5er6l7oka+Yn9ZCkOk6pdKR/dAAAHg0Ga6UmoQWiZTAh///6plgAEgPmqAHSuyvO+9ntp\n",
              "BsgbwOlfb2Qg9SPPs7tMk8PJTIh9osRPgDLvcieySYRWZbQ4vNdSogxnhDihsCd99Vmis9DldGNT\n",
              "oEOFH24jMWYYuymGkkALfNvZd5kAXB7R/k0VGWq93pOMHNYeysWfwkLMLfxDCJX8SQGCM7ia78A7\n",
              "7DEEeRAMSefY+EvT3OFotyE+TCWY1luKZ03N0dOmqA40V+OHZrmdDNF3C6+qsfxHJEJQpj56u5RR\n",
              "EDYLmuyJRJx6I9Yh+AaKubXo/UbwTWPGllNqHAblvWeaoF+bdA8UAJr0RdLE/K387cqtfluUeTi8\n",
              "1msUGvn4atLPATehe3WmueVJYemVWB+5iyE947NbsG+N/etngrQ2/tFgGi0rWuv2cBLgoe0evGBJ\n",
              "L4k9FR7lbEJSEUI/iv2lXwZjsmutLk3bissFXnwIwmWzqoOQYldZmpxRE9Ohqz5h+rBZdYKjHtDB\n",
              "8hVnSSOmVUtIjrtO988VmfHxw2KWMjJhcqheQFhFCzvZ3iCGJW1dTy6O3emZz4I7ac+IyE8Pacoj\n",
              "2isQNLqaFCKri0pgCafLgvmO9o6qIFnmGGSdPNs39ndATFlgxboGqHQIwWrTJd2HSOK14w3HqvMk\n",
              "FDfTuu4c3tTIrnOqCNnImJaKXu1503M5VSwdSXFi3BY+l7zISAkOLtOiZTxwU09NQoT6I+y2W9I1\n",
              "iwJHIogvg3synANNPkL6KvW/hAmGgDAkFLD0mDdZzMOdhAk9yOGSJ0Wdyf9vCECCo0GTqkPid2XS\n",
              "jIO/0y+YZCP5tGoYzwxkL9Z9+3SyCHuVpSl3tvmMVOAzXPrUBxRN12xO/gh3NDdZ0dtjHbxkryZp\n",
              "QkiU0hSnR04d6J3j/ICA0A4k8jKrcVLQ8ks0HXGatjSZ1z7txnmHapwD71M/fMCKBCC/BLDVdAOK\n",
              "Nr59vbJXoAiadLJydJlNb5lE1TQz4vW6dwPWSunU95v+l+jW5ZwvWOAJ9RwB3wmvtnhG65Dg/7bw\n",
              "GVRJQsaycCwJj2iavp9s69y/G4OcaYfdYFbGNEDjv/yF+dG7BeLqN/8AQiEA7kx0Ixh7HvFJX55E\n",
              "Sy5aJcT8VHJLJgRZPiwSMi9gjOM3vThV3N+Sasg81cFsTauiblkMxlWHSZRmuw6MPxNMiWjDOPVc\n",
              "7dOvx4w7nEkQt7sVxHlgT/NiqqvvUgxU3eZs8JZ1T73fsXem+jQJVMsUpe8+ldiffx9IrcVkx4GJ\n",
              "muGkdgJ87JjKQ7L33YVAesRO8J8uxahhrPyr/N3vGpSx/WKnFHSvNEKQBP0QstpxaDcTi97RuuI6\n",
              "IfVFV2hnP82RChjgSed3fNALYDdxsEU5pdEXX2Wg1sGxVzTHmVJTbvhxHwfCCuJGj/BxE3mgIxsk\n",
              "dGyLzoXFbta4sQuwon0g3WYTAIfl10yk4jmkvBLzAcgUgG9wSc3bhDlkYXEgfDwkTDGqV7YkfYHI\n",
              "BXAXYMbVDwMYcHZeO5w0nJeDWg+s9Fam+7D6i+hJUtx6Z0zYVPiciUoPQKShFRihlkyUB4aaxC+G\n",
              "TPKg0XYcStEdRqAammVNWdK2b3STmvoDD8ZxYyiegjCuvfKYSy/Ct8DPKV8dp2G2iPIodYl4xDre\n",
              "qtIv1O7F9fzd2EIG6uDPShbqm0T1vqzbfCgqTy5j0pHGJm9C4CZvvvWsc2xElExMk2VvnrBwcYbl\n",
              "EFaA+7h45OQHnY/hQ1Bc6+Tmu3AJbMD0zBQx1tMIlIQGRU1Y60/37mqN19HuyTKZHlw7A+vFRiwn\n",
              "55uqGGHshM0TGSb2qyMWgtDciR2EKdHWlXUh//Ta+3+EI4vpVdp5qjlvFaRz3iqnkRNPvYGGaON1\n",
              "9+J2cDbWdIgnd3PyT7gaL0KcNfdc/UgyLDibHR9EUsjTHi9eytMNlWc7veMsG3VZ431nV0boxm/7\n",
              "1We5Jf3jedcu+irWhFYMxccBkNxx4zemfGNwQuuwnaX7qcpLBU2IHGx9ydKLiWL8LpFRBMyi9vXR\n",
              "txdi88i/M0sAo9whotEKHRA46OXT1OdGr0lepDVqeM67as6wAhKr/1hA0Gz1gyvPR/TqnYxoM0cI\n",
              "ZG1Pfife9lQi+u4LeEt60mTi9Zga37SEa2PnwUPF+XNjNxPMaDg5BhTpJfjv0x2hU7y2FvW6geoY\n",
              "PsYEZ7IRL3XzRHbahPiveeIR3HnXImTur6kswlt58Kdr2nJKsilNNeppxZiMOd3s04U84pNoV4GI\n",
              "MoIZqL9OLrQ6b5iRi8wGnGvfQ2UO+lph4wQVHixhH7Wit0zEb3o3uktmpKkd/0tKPF7WdgFbWAN9\n",
              "pJFyQoBKTB+PcDkIV+eV9xcs4Esrqb+Oad2yDUOuEaDq89Eo8SXZKIKkToc8Ys/G1j1F3z/yOALp\n",
              "B+lVQwrCoxW0f9Tlipe9G2ClqXfQKrC2zeQzX8bJ2oQer5/quUT1Y0gEgVXW9472LujIV63QtRT7\n",
              "zKEUVuoGLK+Pgpmz9SKqW1jtbfQ46u1lsFeQjcgI7pEt+HA8G4+Ief6x6RS26G8cIW/3bBJvSDFi\n",
              "HyjHEvQS0D1v3VS6oQAAAdtBnwdFESwz/wAD4lbqr92fbYAFbL0v56PD5dtOkHZSvxeMX/Adxe3u\n",
              "d7BxwBLHyfc4TeqdvLlF5djHdiVDXAgzWlhkRZcuZgJ9Dhml2HgJuTPx5irEqQu7ZLZTLZmWOTY8\n",
              "eOkxnHBY4Ba5GMWdyZZQy9c5Ev2leCxFd2RMglnH1YLsN0qDEr/vkYqQFKPz4gQuvkGjtgfEur1j\n",
              "AnkarFEpMgaHyt7WcitO46jf0jtUM6cG+niw7lnSMRyZofZ3rxHt7oYbqRxKV7cBQ53sVIQgsQM2\n",
              "qvlqYLWILuGajRLqhgVhg6YaSZr/ELp/Oo8jelIYIS5IORK0qS8HdNh7ySIKBmmPtjq83y+rGOy7\n",
              "Samx2CyYs/FCczjbWf9f1mZffeJEqXcPkkT6eUtOZo2lnnW/DzW46AuWxzkRLxBVsYCLIQSvZqJt\n",
              "nBLoGfZEWtRQRsBoGhHBKxJIpb/1PjE4bQU70VNbvfnblHlKA1+NhXAAoAHIXO3THk2GBy0ZgKgE\n",
              "969fyFYCQGSqQjQrQIKHPEO9X4Un2SLwOrzMDFT9BzZTTiKWOEub2nkn986SK8QSvmRNpMeJaoAT\n",
              "5VXNgWnueE+luo+5hrgi+tVRGwr2Ep5KGU5A3hbWkIQJOBtRAAAA7AGfJnRCvwAHDi+h8EMeLhvA\n",
              "dgXdmvrs95AC1B2HFJqQo6FuqEkb6sz6jeGmpsGjhZT8QAVirPa3Fr6iAhPlFdf5Ohcy5DAlRj88\n",
              "JO4qeAJ7PO4KZ+hENyrVK/Z2WMpmeSEIYeYi4WWfff9NRKEvqvToc0hIwg6m4nCEER5Kg02xH8Mr\n",
              "pRCOQfVq/OkmhOnK5GFqLMAPrQUzTs2sNYGY91ojWjgwWFZUKrfUE6B9WHjMYId8FeJPlA/M8uQT\n",
              "wVc2ucndoHUCFfX3TMBsXg6YLPEsy8RJpkY2DSPO7aRft2CSCGWJerOAwy/fKSvgAAABBgGfKGpC\n",
              "vwAHQrkAFgj+IJnDzctneAC6RHjO8am6FRvYBwxpp7xCtVnbgu6E0KFFES6bR5+NamNBxNLtjDa4\n",
              "I6W1GbLULxodtgAjV998EzldPCFAIxxEltdKs8ixO7FPHPafVRYB2wpUSVqsC55kaiez/uCbw9oe\n",
              "ERDSp9R23yzjGUHRNyQl8CGBS18MmwV+4MhUFZQhKJb//QUtMvSUw1whdIqCklaIIeN2LeFEiSce\n",
              "ERw3qUkY/nqslw1mKmPPGHp1S2m1vHIDzcsU2a5zF12xUuGkXNjAac3q4ooflDSXDFmeQAzGzHD5\n",
              "aZXxCwZv2EVSQbegVHG11VxFN4nC/pd+8L8nybgAAAbmQZstSahBbJlMCH///qmWAASAG3vVy8AR\n",
              "68u2gddputDOd+2c2FHdMZCCmUcvU6/RdGqYIqYFiVr2VMOZJ2vybrhYQ15cOmWeI2FL0heEZqUe\n",
              "cPPRAXg8TTcwGv8sAuhWa1aPfeJmEe8HCrKqsP0a7WJ8Cv3VAAL/+14I5LOtrlSeZVfLX3kUsS4Y\n",
              "GkWPgjf+rhsEQ4t0BFUZVlGZYT0VzqjYoYsj7T6VY+ojQLf8MHbiyNRWcJUK0ZyNF4XachWAs+xx\n",
              "2eK9C6nQ/hfQCDVu1R1/sfS1kk3XxYjkLjk+QxaXeamVCGJ7hJpn08fCfu7qJf5CC5K+kl5uH1cI\n",
              "rKuvZ//6oSf1/WUWYeEJUT7i0KPHUYWPF+Hf8xImSFJon4ia93prTXQJzP0aOTsaxh7Z5p+CN0hO\n",
              "vMI+5DX9igtUV3QmWchzrXSr2rub7GksSDVEUdO+GYPippnjXfRK9AzycX4eFSU9AnQgITIQ86Px\n",
              "g5Nv7JDLnfXVBoSkrRxd/3MuVttwMx/sBoqTaZaHYF/5s0kMRmJjIwUofGoLyFJ9i7J96k20xPpA\n",
              "22xmWCvYMgoDBMJlK2eIVkR7uiLKl5vPjf4QXz1HlTDdL1OkaNrO31p+LrrrZhGLtbNRPwPZH4S8\n",
              "oBl1OrYd2VSjZ/enSqgQu8RbCDThq0s8v6H5RcXtCLqKKFRLwK49pQtsqffAugY6pXoCnn7E+DKX\n",
              "c4KR5cwv63NQ3U48et5cqsfCRQiLE3kPoy1+AvCELYEy+dk3FXgeuUNk6GxPSNK9WXMUTR6oKMol\n",
              "6GiVM5oLMjo6tS4f8RqXm3NUm0NOmGAwOuklAQ9eZYSvKd2f+lZewRj/c1eGPr1+yWhrQK7gihqa\n",
              "6Yhx+2I7pWpB73rZk5yUoY43LOdNvNZKuATI/6BfDn9kUYRPRrZmVYLDlo9gLOhRd75XcQSPw/VR\n",
              "VWCMDZ2jWyTm0F74UVnYQW5+CPOZgfofxSbpYVacqOOF7IuUBH0QgE7FcTjfVNOBrfRCW/MIVUxN\n",
              "Wz7iwJ7qeEJrWah61NWPLQIfOkv3uPxcEdw1zfASloHjAVFi0CYFHW+Pj9KxM9shsPD/fFjt9VC1\n",
              "wPkkFeROCOx/9+puXmmfMfkd0brvauf5+lWcdHUmm5+2X1BK68gkmPvBwniSwn49B7sKSxCR/Xuq\n",
              "CBD7KdRnOCHZsb7OjxQvCE1wRm9GFn8Xpxbtu53sBlalzRDk/Qg34a/X7ZWcfbDMNUawz6tYjPHC\n",
              "16qygnQgZW1ck9S0uqcJtaes0exkCVspWGH1btJ7aGXsb7a7IRLDfQlcG8iyuYO7/YxckP+iuudl\n",
              "DEaYTBFOHI6c/n4wVPvaP5gv/WpTwAg4L/xdovnh8TFOKbCxmaWfZkx/Aw+oaby+Et0eVbwy0UFi\n",
              "5y1ATK8emKOcICnqQn3B+f5dixTXizqFYp/4kE/Or+pmz6RxaFBCd+2Pv6TFY8oqSCe2kir3iFDc\n",
              "HF2lAXirnLIW9UxeA+IkN5jKHEZ89/M4FvLmnwL/gc0gu11pbdppqC5vj9m4AI7BNxnKiR5SbaZO\n",
              "ZwirarwrjRl/t893S3rXfMY0SqbDJb9u+hy1bsAtwdujm9+T6PMSSLdXdwS/QiPjwP6TVt0JNAov\n",
              "E8+A53NljmglINA03Dt7zlMI1zIh/Pn70/kBPBATKNreQPapKDCJeXVym0pyi5c2MrAfmufJ4PvI\n",
              "nOMSDBJ+/MXcEWB4gv2pNLm26iZZwqNs8AIfIBqwvi6UI2qiogmcKljRX3kmLhANasUDwzWx5K5h\n",
              "N4Yuv6SEL8U2Yim5xH3AEZiZwjNVeeJhDoYbe25+Fzue8uQoxmZBRhAHYlFuSEcHwbD5Wfj8EObZ\n",
              "4LoKFBQOz/FS1ie6NNp+8xgfakYklly53FzZE+NZaQ3LvS+mrPfMYP+Vne/sDGLQ91rXmFSpokyO\n",
              "gJs3BrL9GAGuWnQx+6DOtL9qp6Eaa8oSKlqlGVpl6u58CMARJ7MurpryW4WjAfyG27LRjvKI5gPR\n",
              "jJD/hx7gR9bt1ZdYfPpNy5MVvdoxhr3b8+LLwMClcys1lgFSyfJgQ6yHr2/DMEAOCUcDCEVr/act\n",
              "+iRK1oBOXktx42jxo4cn6q770EeEuByDE0M5FqlT4dyZIpev4cHU7DqSqhfcqbt486Nvdzkg4Kgz\n",
              "JiIS7o541E4qK71Wneb05TToGrXtgyNhmVG/1stf6cSpkQav9Fcwb2lnk2/o1w/a7TASDzXrQo1Z\n",
              "AECA2IDA11RT4jfApM3DqQq5+S87HHyzN0UtASQA1pLfCZMOJe++A/zBVop0r1EyeTCVtQV52cH4\n",
              "/9hZL5mCi6b3haTNPjgNKzhkoJ0q0MewgE5NfseoHvMAAAF3QZ9LRRUsM/8AA9aLjG5NZj9gkoAC\n",
              "4MASWqj4lH2B8bn1amVTYqwC+Ey8PhK2ii5s/gytfzlAQ+4/WAgW0oI1imC/Hzi1d4QbV04VtawC\n",
              "5h6S7CNJ3q9fbnzjvU94r1/xGG32OA/j4CmtlVzoZr3UkeZAyonwELX1AoMh151TY5osISHWmnJq\n",
              "qYUHrABZNtlo2fzugY/Aon/BLAMymONqDdvFy9NJEJxs0p/5qGUGYiTVP6IOdlL4l4aHfgF1/SrK\n",
              "r4oDtx6yU7fjssuWofqLC+Rl8Y/lQQQqjoCSk5PEQLQEkmmMkEpkLDs858eMUrX3VCROkdn6BBB2\n",
              "6ydQT/LziDU07ROZUJ+l0t773dYzyLj8RpyuuN7RxsxfQMtZpFpUQXwIQ3jUBItJMdDaAxnHVXsy\n",
              "aKoCS+6d89hHmzEfWCz2vQTHwoBJWEe3P7qR7jG7Ize7MDTs3DVdEEguwfqkr0epGioAiGMLVfBO\n",
              "4HQAH/jDDSx8cCFlAAAA7AGfanRCvwAG/KZpnKf4yk8AEsyTW/HITM6ToGCY79lG0EtsvHkOau5v\n",
              "lDNOuMYysNjVq8OELFcP3qsNPVemMrSS14cqUleyXmHRdCtOMfxlTZ4C1th0P5ub1NiYAjnFVFN7\n",
              "sDvVvVHRhEp2LVkzWurwKuTRTvwQR90bbldSRZRy4UBeR5ytrqrxQhld3dA9jUzKvHqsUvZ8CU43\n",
              "3cI3D2rWzlbVOtkjWErCOH/iHyyf1+0H9d1FvvNqAFhcTtCZpztvmHV70mo2sYC934cvMnpv7f2P\n",
              "R82rQIpr5OnI5y+D5IP49juzh1qtdIz4AAAA5gGfbGpCvwAHKLh/8qO/95g1/bSACz3FRGoMENZy\n",
              "8uh3Aee5u+tKMpKeK5p2EPBLRyTbi2GZUTKbMP2TkW/qXj32NGmAtWzYJfgRTxoVnNNKc+qPwYlD\n",
              "/4MXv0dUZcSaXjUC7yJTvIZPJk2m8g40VrsICThjl3iI486bqzrflgTO++ceaJ2eM0xB5og7H2fo\n",
              "XDLQd5mxhfap8uu9UwE5WMKU6gox6pd8aGVWoX6/cqOP1Ic6YYGUv720NXdCLslkYaLVpSUu188j\n",
              "fVVZ4S3Nn0BBOREtH/ZeLAKmCjEM4gKswZnBXwk5AAAGSUGbcUmoQWyZTAh///6plgAEgBt9qBUs\n",
              "1zMALR5cXNrI1HsGmeSvbepFZ2/DRD9U/JDGmN5ZCwNpRDomBegTQVgKQmKr8O0ErmyzVWWm7YKM\n",
              "LOLKlMGScVUQBlkpr8dQB0mC0AnsqtTvlFIG3XXwLKbUZqAf7gSolJgfQU27st4GQheUmMJ7ohpY\n",
              "sOYfEIa3UWcgsai4l3v/FToyWj/bDZNDLdYkuAP1OhmIe6mYY8xCfxabrh2IWjXSwVT0S0JooBbl\n",
              "cMAw6vt6ic0UO2TT+jlcn6Ff3kjQrcAyCbXoxcqW3uFG5xnMvRXN+n1tQYg7cPsy3HHcOMfo0ZgB\n",
              "/kTbt1nV51AijTsY331FJYMOzh0s5566+2qOCm9y1l24UJc07+xTFNcvc44KK/R8IpQwRyGj3u1Z\n",
              "lXIcPaZ0cUcujgUbJ7qg0ZYprrC2vcs/qTxOrzAsk+pYE3dnkiwFqeklIwAMhuRs9Emc3fFsvgAG\n",
              "7MDR9DCKKgaTpS+XHrtwu38GqXlN3zr8yc3drwT2UrQYEBR4VzkkjG24EP5XvJgf1adZ84UDXs+x\n",
              "i87f7uEe03hXv2YHQDAIsoFxGh/3jlytwmb9fXtQ6s/9lnvoW542U0tu7taSlgnlLAEZj4fVvc6i\n",
              "CjikMKNrChrop8lhmcDA6ai437Mk1SZaH4g09qTwm+pYR2yYeLQHosUz1FYhYOMrC2GMGgYUD2mF\n",
              "ViTctgfA/K7zfnoLoV2goG9i5CHz/GUqGW54LQ+X7bH428LxxC//B1JwdPPeeAVlh/SMB5hC5klC\n",
              "eIW05xNmTb3l0entKbBqGN3L3W7w+Ptx3/PW2zDQiagJpBmzbafZ/mwPcUFPP7ManMcIW46WD2Mf\n",
              "TRUaYdyAMMO0Xcjj7QIcO9o1WpquniTnSd6gkeaqullYJgFxck98BDILi3m8TWloiGJEX8uwBNBL\n",
              "JJh/D63fJP5gg2HNDu7LqvMTB+EdaPYDa/Mqj0dY7FjkDUI9d1NG0hl1ZOAGaJdcNHfAu0UkpI34\n",
              "Qp126CTu0991SyuS0CxaNufCHTIBGW2RUkBM5jME3gMfAkb/yIQK1W/LtOQdpSxg+jJYd8RO/GZs\n",
              "N5UajDWVk7F54QqY0eLG9SU0Oe/FDAXmaSmV8N+jIcxe1aRnwOocdWjEh7CDFGWhVOHyuHealtZU\n",
              "KyjjrBXRbm5abnvliCIul+Bp7MroriEEs/YmEvrb1E5GqxuBbtEzFIZp0XUftrFIWT1VDjO3XmWk\n",
              "RfBBc8vruO48mozEqcaJRMG231JK7dZcRQ7pYksBTXF0k6S161+GMLk/foW5hRXii9lNjuKLLrC5\n",
              "6SKTVGt0VAw+G/sI8NfMWDBoXneUYjtyRiC3+NahDjVqgiOh1Jqob6CRwnT3hvjfdtCYsn+bSmMt\n",
              "XROrN7GJmZITKZqCKf92j/UX+cou1x1j3XguO7lSNssgSw1Hrve6XTOcc8CI1KHY08nxoybscGlX\n",
              "rfih5s+DknkiwTnQkC6998a6nDWrRzLTJj2qVraNtBrnoQwwdIV3RT4BkAvSuc/U0Lk0o0i36GyX\n",
              "2kLFSRpQieUPBP97jn/X5+gTkNocXn2zBYuDZ3c+COAHouuQPh7dEHW1RfjX+9kD6XuSiMYITOd4\n",
              "BKdXxygvNNAXU+APppNJe+Bx78Fyhf5FX9eFlhM627oe8JPLKaystXlL0+p+pEdd60DMtOYvstxm\n",
              "IcmYs6akuM5i7smygSB59Le/pcSAKe/LZafyHUSKMrOi954ykHbVDlbuRjQtPLOlcLHl0JImUxhv\n",
              "5+ckuPlwrg+6VmQt0fFG6VfUiivZuedQfh+63yqV+aF7LUmnegkN8++YUd1PeKRvOGaMbUFtqPS3\n",
              "MgY7X4E6LN+KqvUzsmiA8W/3dorhO35WAdZ3kn70Uv55RocCzsi/wSG+YA/GiXMz98SeF6CxBYPo\n",
              "vvUeWGmytxLKsnp7nSCwfETwXhH8Kl2BK2V/3I4kIorkctH9Zuz2iYIUjqYJXkAVO4+0HfO5qssS\n",
              "O0V6Uj+J65upT63jli+I0WeY9roYXP0BNc6N8fW4NPzH/DvHf1DkmGw13Zl5eFEciUe95Nk/1J+o\n",
              "Ci677xxbttgbUJ4yOaHSBBOaR4eeJV2rDAADtwvypzRuSPPyk299lPXULSW2EJMAAAFxQZ+PRRUs\n",
              "M/8AA9aLjdy7j0EzfFABa9hHWXLtrEs5BMekFGgWSZm+kw8d5KfHBSmKSfuhGbx6hjVM6JowFHvG\n",
              "zTb5Q6Lxgh8+T9IW2yLnmYr5js4UtDPSUg3cI8oISQBOqROTZvreG3pW6jgIClyZy7JZ9Uf67crT\n",
              "ssfoeNy8oc7cgXbKJQXxmYLbof/pC6as6RjflryKEPD+1Ftd7FtM78j2T/7ebTfNMpllbsJYYu4+\n",
              "dbdQP3yWJqe9/IRhfqBxH1hWlX8C6jcUf5HX2RV2OxJgI57oPpBpUa+PVgTGBBxlKrJ2pLfbxy2H\n",
              "5J3SbpBbsqsZjwua1n06N9B5bAmxRzJFIRyrcfPqodTzzzaTyATjWiZOtjLS+kNolzh224OmeQT1\n",
              "S1EP1RwNCS2Go6OcvGRTTSFEU2QDTLW3QWLWh+zaIK+aA2NelRGGlGIfKgXw1O1PvbivaC7Qf0i4\n",
              "P9bP3+pGefveachq3YIigP4oWPFTAAAArQGfrnRCvwAHD+eGfVgBbssc0O4+oCf3GYjiRgHY+xLf\n",
              "Smspt8nnLCjeUk9Arzn/YoYO2DU9lPlV+q4VSGHndMaLT2lwyf+KvT+SgCPR4vOhfXtf8iLQjSwI\n",
              "c6ylgbqvlKqPTtjHUC6Lb2MZp2+4OfxZzQr6Rg0uB80ypbU5HbI6JMKkflYXPn8kdqCsnLexzf8+\n",
              "S+VdneiXZz8kdKgmzWLS+L3mHCZGkykwZIoIAAAAnAGfsGpCvwAHE+cqABJTzoeSgev7BJ5HEKD0\n",
              "KgmWpAww4FcgQIruitnU31CubZQgsDXyEZzg6ArZ+JOqEmRP2gHz8VSq3ZLGZThDle+587ZbdSv8\n",
              "JncYNT7EcCUEDjM9hNCJ87HNe2jPNdAIguBmaYrWY1kOS8EFmPonhHszF7IiTQ0IpybQI14eui3x\n",
              "RxjpsccrbO8bmWpUs/M2YAAABjBBm7VJqEFsmUwId//+qZYABH/rfkDKAF7v+6yQxXIBbz/sArAn\n",
              "vi1iXrrPXNlAwZKKQBqOvkD+NyH4kMLct3QSlk7QHeLRfEQX/kzHIDrhiuv/UZ1AiaNHxpZtLP/J\n",
              "jxeZfWdwXf3/oA3JyXB4YibHj1eSR22OsawBkpBTDa6qZ8dCNjkNxOmSZsiVXQDUxRnx8FD8ue6h\n",
              "2kX1Pl0G81fTPokPJPrXsnDsZrOnKXCWDIVNH5NnIijHQ7tZnAd66rqP9kUtuLjkK668o6Xh+5EG\n",
              "N+bAZTA/ONLLwq2eT02xRUt8txO6sRMAitiIw+u3fv6zy0yWo5FkTBaBbS8y8v7W6ojuZMpuRupx\n",
              "mT2uBVTRqXQacfYDuYM5Hn6VVSRUxXsAoGyt9jupcoK6MWT4EgE44QNEHoUBr/D9rg1GJfNAnZox\n",
              "EpzdmJfkPl44RcM2rJiGT44m3hEWzbWFce5qZwtOPkroTK3sSh2Q2VsmZhjVnFSZYUf0f1fHDJZC\n",
              "NeNEgQxpbCMsxInp6ZkEX8tEiogflZppSMwI+RK2gYwARtVbooWxcXCWpl/g8ZTuP0kv1uO/hG2H\n",
              "xTiuKC1YRt91Zv2JVZ4Dn5qYTCLac91bT5ZHu28miK7Eb5FI+KxdxTM6Te/aL8aIXrOzjTtGXicR\n",
              "ZLv0cUNUym7k6GvhF9zD3ZUD3SKF5snClmBuZMdDez8ueQoAQUhWPXd68xTD4UFrNGrR9la/rSdu\n",
              "LdplR6yOwpkLVWZa0TBFA8hY+gid/hUKUssxTD6bLgiY8jMu54gG/5efiFNH2up6z7/GhWPvfzkS\n",
              "R15Zu9LOG8G/2c3W7K/GMpJ3soRCTHESJN3xWt+bxMjcHhRnfm+wVN49blSyqC4qumkczP9glr9t\n",
              "ThcS4XeHP7PjGVoOZqglL0q8gGrUiyTQQtupCaxgMwcYcioMxeW/0+n3zgnz9ToCkV3F9Do34qJq\n",
              "Aqximeu26x6TstBz8qLvfr0L1WXewkz9mf7aOuoy9teBER8rWarZ0ysdAvS7sOcFKVI8RSfoS3ba\n",
              "Y42EGQL4Dg6L5gi3NnsoHVowiq3BLZuOrWf65z/7SxsSeyKG+gvd3NzUPYdqFmv2pL4TqAuvfcqX\n",
              "4uHDcOmJmC5UmrhHreobnmnmAD/P5yA3SmC8oeHFUKoaKHNNUf22MpTQGU9l9flj6ihGVwVS9baL\n",
              "55Ml/y+sMja+XARVsW2Yi7CsKagLP8NwP0GMx8kHyb4aaqYW2nuz35TiFueNyjdD37odTYZ8zxM7\n",
              "PipkgkVBQ+Vz9ZvlEBUPzMw8hJNECcHIFHQ35N3XYvIml85N5riHcxdX8DPYof9uUNSwKVD+jZ6D\n",
              "1//ieOwAN6Ug0Bl+w7WZPOatoCePlKOCiceAtTbuX94F/fE0zCVRxdKj3i8bGPQI67kXb2W3+n1n\n",
              "sLBci/wAQ7NacrZH6YOA+bgSapeb0WNYDg56PB4hPPv/CofnxStkwPBS8FwhO/4GR9r9Nbep6fBL\n",
              "WzyZqgLk8QHKHwHM4VzbQYLzHj8No+EL3f1dnolGf30k/R9uhTtfwiXhV9XzqbL6F7Dvl6SPGQUB\n",
              "p9z9HHTgk3B+dHk1DWIh2t1kX6YVP3Skqr9kJJqsY5fkC7AWbJcw8Di9EwJVyDKNToQ7t51XY2cX\n",
              "rjqGQ7MNne+cqDkiOzTIyZIli+JwwuvD/4/mDh20DmBFBy4BIEoGphyuwL6M2IsfhDQ3c6xjMzSu\n",
              "qCfcawM3ZM271yBsgepB/yPP4uwkxXjpjNnx2oIq/6/Pu0KTXg2ZNyfTKDzoM7CFPMChTGp9aZrR\n",
              "jYnRBx+p+/A+iUFr2fYfnsolFkLHl+dR/EFurSz2b0LJVQ2J99G8uM0ltGbNk50GgSFTWqihZhJ5\n",
              "g94e50xW/u4SDG3Tj/6Hf1iUxcjToP0eWVv3ltiJR8omKQ+GgjEdhqOmpCi+QfQ1ZRlIc1tfSC2l\n",
              "8dd8w07dxIrFHO3818905Cahvugipi8OGJr4docB3Nic8d+E6LpxhcuBANOTU5IGmVTyt20MXiDe\n",
              "eCgYu1/v5OdEcOT2as5uBVzm3roNlROqPbOLrgrFnQGdmLHMVk8JaMUDFTXIE04LGueNLQGtgDz0\n",
              "6x3DZUM68IEAAAExQZ/TRRUsM/8AA9aLjdy7j0EzfFABxt8Xios2vGcrdL9o8/8c6mvOY+yMg4yz\n",
              "qMdKkiMoaaEQnLRX4yLx8R5Y9WX2sJ9Ay/dQrHWqGqiuxTvgs3utX5FZ5bi0ZBjQEcExXExTAT/c\n",
              "TZpucKMkcB+Su+lH0MjxiGKNOyYLxWmV3cU2/dkDniu2ursRa7221DOwMCPaX8/a/1NJPMyrFDqj\n",
              "zU1A//BdMgnWJjQjgMUubUxmoXCYxQEepyBDim3d8FMIrRBTpH2l+m6FOaUUKXiSSAeELcV0DDwh\n",
              "cjJfipaSr5qaT8YeSefQDapmngMGEWXl4E0CQAeCBABCUnpSJG35CEFMx7FfywuYb8+b118xGbZF\n",
              "Wl3OUpWVHfrFEoCLGdSG7GeVY+oGPcyfq6bqXCRLFTAAAABTAZ/ydEK/AALxxG/KP5IHgQASuHHt\n",
              "yV8wWr2Wzo3NyX2eTKzN/T/Kv/h0cFjnQp1VFIOyVOLJvWecDo8auulMoYvVCb5Z8K4uDL4jxhIY\n",
              "AbxEBFwAAAA8AZ/0akK/AAcTSDUABdAmTrG4hhNNIXNkjMEhQAO9TSTHnvcG9k0T9DMWHezDCtfP\n",
              "EC/rRH8+eBKEyC2hAAAF/EGb+UmoQWyZTAh3//6plgAEf+t/LAwAJF8P7eFhCHtyY6hBXBZzesKj\n",
              "tTqXA+Py1qFYWi/PIrRavu1YUIA2OJPDgk1RsWFGlgCv6hTwO4nBVtsQrQeU6n9yebXP/+fvnd5r\n",
              "1d8eKFBr5GUt5pRweX/OckCHeEJEhmXmyy0J685o2Gub8ZHyLqpcjH9Ez44wpeblbPqdeSvMsUfE\n",
              "/G2tmQBEK74/vK6F0bu1Bx7b5omcK4RiBuihcAbVY3TpzXULvlrXmnnKRxAO3cG665aS7WItvj4V\n",
              "vIsgl2nKyADcc8OlqvBKXnukgC3H4yuGWRV27+43Wmd75PHnyUTBICTLJVYHMi7PYveSQxY7Phxj\n",
              "vHzvdL4uWdXnpbrvR9d5S7SUyic3qql8tH7Nwpc3c7e/G8EV96FZXr5p5Y/BTUOVXXVl6cnMltUT\n",
              "6wVfgK258GuZGWPomquVwv7hkxdBakatlagGE+utxK4AoFqiVaruCoLSafZtwlPIZ4j5y5fqNbet\n",
              "zF59KPc6g1sYIezt7KGDyiJBrA7hGVlg2ICNN6cXMIH+r386m9Cn29I7QXmeaewWe2EcFZdFL5YH\n",
              "0B3onpm/kzL2cYe0shflyRPlRO/Jvpz6NIMYIgfWa8XgYg12c2Y0oxyooKHjXK+m8nFitmhVCQbw\n",
              "ZT8oCGEnITlywAs2eC1rE9GnBL4GWcZCftSIx0X0rjYH4c+ug66lcftmQPGzdyIrSORONcd8RUAi\n",
              "CiLJuQ71ovJ+3nG9LoR3OQgFXCZ+yEn2fwDYai2z5fqZbEMMH4yrgcDoaInqvkfIFuuGL4SGPNpm\n",
              "UK+GzMTdx9cpmtWYlz9fAPh7bWN72Wjob7PHdO9tQpqukaadkwsO11vQnh+j7VmHmh3Hp8GLRmc1\n",
              "uav2mAlciuhaThxOaWNkGPC6u2Fup1rA4oPjurfy0cO2fRE15aWXYsP9H7FpYCmYBNZpIuiZt5x4\n",
              "Id7fGKIUNbDtGhnDJjExOF/eJ3+l3HHIBeWZmlDCZ8GEyqayXWGcYrdqtcPu++hCgZ9isDNtresS\n",
              "CAHg1wt3Ky8VpKYLEFhe/vuu6u6Ru23EM+BbOPS7kxea5zOzM8QmL1RlP13l/yTm/zUNrL9O+QJB\n",
              "v8cczGzuVV7cnsmUdMWS93Pzy/H4JTdEK78vfm+2nruUejcNDpbaev/nOZ9dfwiqco6b9LavdWD0\n",
              "AZplCP3CfHBnpUG+um4LER4IyddaLRWJ4fXnVjyws13UX/XVAh5sbqVpUt8jBSqrEG3bi4Ar6C7O\n",
              "zCRhcWXoevWm5Ilzx8AjUCLc6CXAC6ItzycVQLTrRggwnrHs6fQTZVzn4LZb9gFgE8xi5Izs4MLM\n",
              "awPpbiPrFxAZh6FBUG2S0laYqRuS9ykW1Qs0TS9DDuFdqPW02fqgKKno23EzNS+0qqmAutPZTz41\n",
              "H4J3jvqVmHz5najYrHRG9F1QA3wA48+45Q8wxOhHKq+BZaPyLQBj3jCgwOhsIuoXaODpvPgXiACB\n",
              "w81PL+FqfiZVUk76p5UxB0KUhpu2ovlZQNFbwn6GWN8FSgAbM1dGfkkJwyi+/x+uZwKEza/G2QAB\n",
              "PZsMHJvLBzbEN79xCg73acZm5nZBlUq4O9k+0ilmamLGirZfWP1NYxOPOQgFs3sQxXABptQvkcsu\n",
              "FJH4aBvjOuGhlZlgu4bhLpA3r+8ZdLvDlnsXAqhsTBI875C4XCTGNw4Ptm2YcZp7Onqy9/c8UFua\n",
              "fyn5mc4KGjGuDHGqDeYqF/4SJzotmRAG3Qf7pXHVrk/FOZGHP8704wgsCSpG7ZfCu+c9P4qvM3Kn\n",
              "Ls2HX5KpzZt6u1FG06EcST4OJ8LXFLzWEnKlxIPHKrCxG0CFxx8A0QrDuOCFBbb5TJcQHZI12Etj\n",
              "QhA2gBI8rLr/79THTN35CZZwyt6RlikKSA9b+9gMhDIlUDfYs0AwnvJhW8CaeZx7m4XjDVVSMABw\n",
              "8shUY0de3ZJ9QVbm77AyQmwsGV54ucaZGWz5G8sho/Z8ZqcAA/xWAalO73LieU+3Nu4uIBBWsQTK\n",
              "BpDA74TkgtK8AAABJEGeF0UVLDP/AAPj6QAC5m1fAhnZ1KEnPnJGVMM1ucsadkpPoIASYpHyx6gy\n",
              "mjvuX7nyh3hEcWWNYFaWOBQDzl7CIO6JQtJ+yVYQUm/QolSrWB4i+qVubCLO0uepICU/MV6ghGUx\n",
              "v9aEu+cMYQcZ13tkOryBd3qF0HhoeIEKdYfT2ECNaK98aqTwzLorMGAoCDWenZMRzULyGMAMgj+2\n",
              "7xYdxk/J4bv+r3TFyduv/Pu0jaBpHRQbCnNFV7O5tbK/gwUl5lN/I5bsKfgX+JUQ2o6z9Rk5Qt4t\n",
              "38ref+7gRjXKW9hrxdp2RffJ78VH/+1Y9ujduS4QeallKc/ECTn6UFvwgHjBy/IXjxEpjLWJ/WHC\n",
              "hsiBPlisjBsyugkdHr+/j5PLC2kAAAAhAZ42dEK/AAB8YfP1twiYFxNAqQQQWXSuumddCRgw0IeB\n",
              "AAAAEwGeOGpCvwAANM6Vu//lzipEHTAAAAU0QZo9SahBbJlMCG///qeEAAjnXssP34BWFZ+Fed1Z\n",
              "91q9Im0bmzz0L6t9MeoFQnSGdmywGvVKyG99HxtSUEJVP/XLauLCAo4olzh7N+uJgqMB67Wd3lYZ\n",
              "SVx9QBlQDHOvw30WCmUheV9haMVgAbLxt5u5wZsW5C0+Ksd8GbhZBEAARotVf9KMcl3P8ubGq8KP\n",
              "sV/8e58b5yXc3vFz2TbcQJ3amb4dTE6oWlqRSKwRGkoPVI+MfH8Yxm9PdItdMAjIEP/UShwCqCXc\n",
              "av6dSKl7QZUoABZpK/fOGrfsnOpU8nWcim8l270GUlM1IeOSFN8kRb03K3mz3JhNCW7FeT+eJSTF\n",
              "cu0b906NGlcKE8QqhUcQusXYpdqKGbGeiRbAkQsnsnmoCW0qi7CaMS9SyRIY/V//Thqej+5anYs0\n",
              "rSBacwUOCtLvTXgG/f4zo+SXGLPxyxV/RhyyWK/Gbr4tI6pDKmCuXAXGAfcIk5pXBBrDCU3MGd8e\n",
              "znr8jWRcOHy2EXFaItLQXVx/hIkjY/MS/rw+7roZVFh3AgRICO8GkYaZurgdxYtxmxUikL0Iuf7g\n",
              "N6vXPxwduUK/aC+xUpHADHLDF213IZBJK6lQTLdimLAX6RiuFwOICgmfAZLUnAMHByNoYKLJZylS\n",
              "ECYRNlk/rDBAER05xnXEL3UQ6t5TbyvhACKltv/3tgz2uiIXWU5HJu7+v5YF5yvH2fXCSETToUq+\n",
              "hDBFHSJLuEw/Ggts2Kvs6i2mwRybN0KKWvrpaGy8m4hIiRXIJQa9NMY5yGaSKyHDv5GCnMb7a9Vq\n",
              "iE0mpmFxYMLG4xguCp/UVKggW2aLBpefsE5X7kx0KXIzQqPwyKr4SnejXk7wEZF2b4EDy8CkzzFA\n",
              "RwJXTVUSv7VLiwZnc/9QVfIjdx7MVdS7jw5ZSq9Ray0Z6UgKT7HandGr/O5BUP90n4RTbXPgcjHq\n",
              "MNq1yK+GkroQ9xPCh5UR1rXcoM+NrNWAAEDUWVXzU/Tc+R0ELIgQGQOXPpFK4aF4Uep0BpC3BDaS\n",
              "vZhsEckdRwUhx1Y+OygDmG21DLfku2oE6Kfx2OEcRNf0pbkoSyQWV8KiaNWgAA68f2abRXNpfOzj\n",
              "8J95sxGnnfYeUAG++MQuP/DKqA2CMXtUMdEX1ZnGi698rUGSspmHk/Ajy5dDZlmlrdVF/UaJDEUN\n",
              "UMov4Kgk6ZWYwXuN427RHqU2CtMyn7t86l+vQuh24PCvnOGimyOLW/EWqImWrniOa+dv+qXsMR1R\n",
              "30YztQhU2PeT+yu0Xc3n0gX3YK1CYDhxOyq7yeKfOjH2ad+R6CG5EIQQrfL+cwigLQ5arX5ufw7i\n",
              "lxNsgrISh7TuDkB6iXD/ifWMXWLg4jg09kyiHoJsb+/fkzwaPx+P4iQKSLlZ8CDf6z9W77mGa5LB\n",
              "Vg6tfpS1Rpo1snRnkU1T4LHa2UYEGf5UfEuSz00U1EfURMtHuFDyMjT5Pw0HjzdBw0Awl0wc42wm\n",
              "gSakie01iHU46iNUy9sPKmhO82KPd3cdXqun+pl9kh4BS/JRYh/7qtpxGyV/ugcFEWHmaQAUglAt\n",
              "SYaEAKVuEV/36/Av3KX3llY5qy4Ph6ABF0CIlCFnhzDDACmNfMFHA86HMuYfnArwLS8L/eeJ/L1T\n",
              "5xlWJ4BvwDmIfOfI0dEGydwmSehCaNlDpQ2vkY+MrfLHsC/V/TjNb45eNoDOsDKzu4VkvypWsnei\n",
              "I/1yenKa7pzKY9d6VI+3JMV3JLZs5fs7Lh51mJDjytzHTZu2xLfDpNa5liqSk95VAAAApUGeW0UV\n",
              "LDP/AAPWhcZcgBa+a/eRfoWs863ri1V72BK3d7Yc07IVyj8o1qfare2iYc3EtAcshd5gAziYfqfm\n",
              "TEyoBc3JfRjeeo12tAno16rGqE1igQql6Q3vbCwOPK5Q3fhVTkTc/zhlEGogib2hyclerhM/Vld2\n",
              "iNmbKer7+DC67ehuXQYdB8hknjXTrvdWJaRWisb4w/t+4KYzwAfiTKZMUd1CwAAAABABnnp0Qr8A\n",
              "AAMAjroTQGBBAAAAGwGefGpCvwABPmnO0eiFrMpkm6XwLTgTFCiNqQAAAklBmn5JqEFsmUwIb//+\n",
              "p4QACOl3/EAvyeETB4tfN0BeyPVkRFXacJGNalQ0qHaOHr6MCvYW749CXatCDI5APELd72LUhGgR\n",
              "6d2+30XATzMwTynAQeEZTdaUmqLNZ1/NEJLUey46NiiQyyTjHzct44DgK0MiYpswVDXCv4soYwcd\n",
              "eyBUdFSBRcNLTGRVRFIRIhHJ1uKiFfvoF1SoeJfl/C0z68D5+Iwexr+LogdgcI8XS2IlnJZlOBTf\n",
              "gv+0GT5YRZVFV3KmRd9+loc7E6qly2+g1CjjRRPZf3x7YcHHSghgffU6cq9SpWS5Uhkzp34cKd/Y\n",
              "0bWGfeHa7VR0ecJucRa4W22mGbcCvCzbaydA0oCbOGNvucMN4zIKlTC+aNbm8EdTx3xEgugNhkDE\n",
              "wdduS1cp/Nnp1Q7pPar92V/SwJTTVWDk1iY3cylF2vyNQ6DETb1g/oLz5q7MB/ocZaXxfyMuDRta\n",
              "1TewbeTkHJcF/O1QSZRD6hUW5Ud/VROhtJaqUvoEd+0xF52G6+5y75yFyWY4vkCZM3YH4j84QGZZ\n",
              "ls5pbi31TvzCyAoNu/MI3IuHSGOTBDuSTwLdKEvjrP1CXDopvbJPcGvGLAfCDYKPjrlzKd+G3cNB\n",
              "N1tBVJSZn7YjEZXf7PX8fFGqIqCBC4p2aINFnHYLdzvFyzA4E4RDQ9RBpE1u955iLULy0yzXVzUT\n",
              "M9pYGxjCz+jQBFowDGn6jq1u4pJmj9xFWl+m4+Wyf2CuqOZm8ly5eJFwDaanPUv/UjyZUAfdQWpu\n",
              "38AAAAJ7QZqfSeEKUmUwIb/+p4QACOc/u0cgGsQWODEfF4FixvHchE8pp87IGSiJyOFxRq0Ul25a\n",
              "770DNgO6DvL8uJpxpgF94MqHoxO0YZjXYDmX4NyWH6/R6ELHoaQlb1ACZN71qh84XV1bnPVv7sHY\n",
              "kmrhDWp6VWYFCs5dXYO7zuG/MVAcE1TGzncnQUfVbPZLeZZTWG46piVlCCOGhxfzqGGLrRDoX5dj\n",
              "WJwlAqBU243rOqTrKLylLVTWNqpr+ON2ltLmSEF+TxPvGP5CPyhBpey6gTND2k8X0L0fXUU61qVm\n",
              "FSgM/ylJNW747trd7Bca2A2ATQMFBagcMzPrMtS/jIeG0/+hlRWG8UiGOV7oM6uRXeP2rqqYh8ur\n",
              "ShB3V8Wf/wAPdFCiR/RXuyio0X4vW1/MLF3L+cxtr7wqFFXFlSZ82dCfGuq8TjoUR1HQqf/pbf2P\n",
              "gyhOVC4ZnJncQCVv68iVgA4u5Jzvc3+Ec30nEqyyizxqvRun8zXKzzUOa5gfN29r+V1u18bH0BgE\n",
              "ekMfdHIdDVtEqH9tIPWuOi5aS3nwd+pbdnzj5MtkHHZlZ+IMLl9x5HpyfTYvVwjHhNioaFu3dlHj\n",
              "SuDBKspXmz3AskzGyqCZCMmD9mhgXK4UHvOtIapoW+DxhV1t/qsyp0L2ku/CeqxyhGo02PgFaHRS\n",
              "jkLO1CRSzqD1hxoE+ZSvuiuWxCSA0HpTDOOgK1i/P26Esoe3ZBN8D+gPCFkOQ/DXsIgzgRCZEXvH\n",
              "dQAw9LE6+Ydj4mJPAt5UOJ06TILFcmSm3DD06DXsOaj/s15UpIQDnhh0pYpMGcbb2hbg7YPnbgtB\n",
              "fxujy85Zn8YU8SaneEAAAAJxQZqgSeEOiZTAhv/+p4QACOmL5ANYf+2WZtHvssv21sVgWkd+8kEU\n",
              "xBjiuGQnFFg3RxGWe35xDDgkatpPpHgXl8cH423+ZiEVruwgic7RitEDDKbNh2nZMYSBmNlPKoHH\n",
              "SbHU5ukdeoXVwgXt0cGMF93nFn/z6F6kH4eAP+o5qinC5k20HdWJovbXBUfSK2SXBvjg6SBEDOZ5\n",
              "D0cZs+rVIAoGxrl40gSDT24BuDFeFqiee8izFRNqml6HshElNKl4eXyTrJc2fAg1f2cVy71YvVew\n",
              "OGiMx1MsMaU4hhERn5/7fR9cyhhgRy5a60v3M2GBwhOVR2hY86F5OYA5iyK6V0BfJoqSbXsLzTCP\n",
              "SMNQ33FQPLAh9dbeTZXRz2x1Z0WmNtoXXiM7zjtBqNBVIZ+J/C9ZMUjBW3PRdHW6Zwd1WxHaKGLv\n",
              "nzw5NHOMF16Rknu+syiU+jqvUwXkHhaONEr3Hxh+PWZ6cDYJN7OilfrORGn9RfZAg1qsraaNIbCD\n",
              "eRlO84ohV0a6yt6DgQExbABIPVAvt31y3nMV9mz1YHzXqdKT81TBF3QgfFkS9A+aG4NI3rh+GZDa\n",
              "bjNpc8JzTgwsu2JBrbNhsIAAVAdW6PCJy6ZQDjEqvHrq/wUYozqX2I8u3dOGdzaMMFjOLwgzSw+1\n",
              "mIFfkGyoJ4Rh3T0zYmLJ/Bv3FibJSwX9USqMLOQ0YwDzyr203/s6/S/gptHtmeh3naOIPyOZVQBL\n",
              "zQ5ya9d4Hu2TlP5kP8VyaB2bSikcFksZ66dEja224pvTb91OBG2Pso9x1I/ispBhvheGpSvNbn8D\n",
              "nvDDhgxWvNzx42eEqxhmnQAAAk1BmsFJ4Q8mUwIb//6nhAAI6YL8AtcmuUnt+9WvnNsEyVWOF4TG\n",
              "qYvLSjY3XNb6cBFyYkrvBx7FHGjlG5PIsnNjgbw0JxpuPChuR2htt0wN4VM3LEuMX71+NNGCMT4W\n",
              "8SdBtcfEzeCMFMCvZJ7Wi2j5G7bNh2t7WY2oRM8dftNC2sb3E8H4QZNflmKgc2h41MNprQDUaD4g\n",
              "FYwpIE2T6P5ZmL62uwAHYkd+l5NOqa/t3YF9RGj7HbMtEuLrVnql/DiLVXkdZQBdz81q+QFVMPru\n",
              "RZixKD/cCC0J1lkjQLi017tNszvBDVJ4E5l8OkUOky+VqruMY7MGJ7pi4V1g8YQ5HdlJIVBt4xMJ\n",
              "GWH0tYOrODFe3WRwkPE6K81FESluGVw2CJhSFSHZQ6Qctvi39ECL9ZA+T3p/7aNn0rwJNWfaMuob\n",
              "icE45p4otY6qdT62Rk/Vltjz9N+EufpAqDvs9EyIARXIuEe1rhwdiA6/FxqjQMHMh9N4B5QqwSQW\n",
              "xxl6M3Hh6URqwURdzqKsvWZnqbUwQjZKbHa7JU6adL3U97F/kVDoIa4/jS5OZg50Tw8EZwe02hcY\n",
              "PRkuaUKbR+9NWQeWB5zDK4v5wwDOm3gozZ3HGnaJf0d9QExEgEnoujqcTs2wqty1xfcafxUeFsqJ\n",
              "7w9bttHj64ecqRLSYwCfWSWkD5bBHyYfly1+gmXx/+k2MzpTA2RMc8iTXOl+cFEsn6e7MhpteLzV\n",
              "MPYU6fvT8sOwgJXL4GEWdU/i94FwZlle6oGkwNZOyFC9NIAIV2AwAAACRkGa4knhDyZTAhv//qeE\n",
              "AAjpfNwDQZkSj+UWXW3gSR0ZIlPKNAQl0nSuPVmyMdLN+U9d6yLpZghjpEiVmxyyhBd/ZTu0c+SC\n",
              "SMcPRglEo2NXLeFBpY5cXAf8f9HvoDbljYsYq6nj5Ik9ZCs+9wm5IOHLuyJ75M1faWw2U1ZQ84er\n",
              "sY+6xLjS4fv+4utcJhqjtASE8UwoWMzEy1hKPMdEcsiEtMKC5awVAqfT1vplwQNkaID6fvvZm+Xl\n",
              "F8NsjhtMuIUe9gBEwxdJaKEZUGCJnG2KwNmoV77aPjnW5CqqLv2XyOWcui6WwXbdeuX2Fbov2MKJ\n",
              "xZbb2yr+eGpuEmC3C9rXq4p9wE/dBysdsZwvyfJs4qZMIumn4Uts+xvuMq9tb2MPM15deeJ1wCtA\n",
              "ZVq5d5kGoJOS0IoFEJyXWD1d8WZe5AzUT7sH/+oOmsFDOzQjEzeT1+EdiNf9ZrVPlX/WJOatYQBL\n",
              "WrPpJfsEXI/3YQDCOVGtpPTxkeAcsH8AgoO3ooHo38dPg4y40YCBUuyabPC7AmpXaPr1ZsitRoy4\n",
              "ek+4vTbX4KWS37WzV66rzwDwl1fq0aNcnvvXZP2DfFd+063BOJ9piBpXIZqBqPDuazxfrxysW8+V\n",
              "mDFCThFmjnpFCfy9/XeUMLLXf0/AdPqWHjHPRFwoOZFTxciPTKTWbqIiSQwuJBZRT0kUyKV75yk/\n",
              "UpWrsAxFlu0v9PqipoGGbRIcWumb67KtgRMZkPFAqm9cGTATctmwj1VC3JuDDVWHeafdZ114QQAA\n",
              "AiRBmwNJ4Q8mUwId//6plgAEgNpqAJ75NnKw08+SggBUCQLxNr6ug4hEB8PEFZhZK3K0jHsoLrIg\n",
              "E7/76T8KyVTmPZbynNqFIyrhdb+5QjZW6Vr4Vk55GCYx5T7q4xIF6smKHdzEqqj73EDbUBJzCMf0\n",
              "l2z8h9xd82cZAmi3S6zej53frhxhGRPAKTyTakAzIyB3DeVWVvv85xJbCE76Yg5uwq0+THT1CEq6\n",
              "1fFsv1sXpEw2otU2T9V/WJyy6MvmjyExGuGR3YNCCmkmV3uljaZRC7lGDZuf9GMN/KGnpa5sBDJ0\n",
              "GuyqegSlse5U4vrikOTTD3sXJAt5gheLfHckcHvEzx0xJho19to7nKPlxXZn0rlKu1ate1EmOk6T\n",
              "SvXOZCLsm2QXDx8qZehCvmt2tc0GA6b6CLFGwQgrszZGF0FiB1guTkMH5TQ0/PbP6GYxzSmTMWYS\n",
              "JvGX5nKcqO1DosOG+i/PNM+4dmdT989rkVwYPaBwVKIqiVMqhwyV3NHjx/mlGRY9sui26uzGOMtB\n",
              "gIIcq4JYDattD/E7Cj+CKnfTD2NAxkVrAXhXO+ryCDRqPGcFcyF7leuTyDmmUq9zTQ8OQBknVnz4\n",
              "hMvTUBgCESaA8ulXsESlZOcGvpyBFcLg2ezycMq3LN5w/rE/feJDOY40y0KZVIvscXz+DLZC0Ub4\n",
              "jXGkRDfqzlXznzrlfagEa8wBiadrYwavY9y5RliXUWI1ObTVgAAAAftBmyRJ4Q8mUwId//6plgAE\n",
              "gNpqAKAgr3X5X5YeQ73OaPRMVUWkZgwQNk47GkmrHY5kYHNznh2diI2v7MkrQYRsj8itUhczeSrh\n",
              "/PRJGv1pSTkjoK4pDwUZDiflYsUPBRQoIXD5z/fEJRfqbMx6MS71pbdm2NR/1tUMajvr7LkNFGpG\n",
              "oun66c4jAFdGM3m+TCplOnaPwd5jy6tRfFZHmdY3k5ImmBCfqzJAVLg4kYXtIWaQoRECLG8ByRiF\n",
              "BH4u4q8JuGBwPL3kTlIPpwxZHB2qb944R4Qh56Fc6olcO/PaM/+ETO/MJ5hTIxhdF1EDFcpHK+zF\n",
              "UD3KB391bX/9+ZUWod7pF+3Dp/MtPn89spk2TU+QE090qMYRhUz33Bapq3EqnL5bkvjZqG3F5Mj5\n",
              "vCfHDw0d8hPnBviuNRiRx1Mq3MZYt514TKaJNXcbNH4Sm7eEE6k4ZWQ1gw7ACW2gKvqSUACzxYqR\n",
              "Q7TVLC7I1vOwhwYxI7y1H7Nx58jjW18MuOAqEE6m5Sxr510lORvPudaBHXS0EP5J7NGL2oMduidd\n",
              "r2eruXJafIlI97oHQ2Y4OBauw6nK1CYGPvWwyyCdoKxSDJhR1J70lfzZOcer0MtSoZeoks+Wv0ua\n",
              "/nO2XR88Z+8Q6tuMbh4sEGPSzcsZDP55eAiCQPMj8IJq06sAAAL4QZtGSeEPJlMFETw7//6plgAE\n",
              "gN0OAQj4MCDv+acDxxBpdwTcspTHoV7pMn3kApMF7gJ+xcjPgYeKQ0n34EhOO2ltxm72vw/Luzrp\n",
              "9d7yanuUnoVmdUjyd78p8/d1JxWymbbL53UmwgWPo2QI8lKrA+H+vhGaVPJ8j7kLLT6JcHl6KiBT\n",
              "Yh/hTxIEM6aSxYWRdcFNJVkC6PtBWUau5Z7xcs4C95wm1hPNfIz/yxIvS/rIveP10Q64P+OhliA2\n",
              "JgvviojRQncuOUnb09i51vBUQh/Brf0Xs8i31U9lFrQYS+iRJ60MQtIoVzIxFUmZp5TbQfY/M/G/\n",
              "5hZ9u2t8puBsHwYuLLv0mIEpI8VL1NB/FI95eGxX6VPO8GReRbcMCVrCGjp4ymmBcKw/8jXJnmNU\n",
              "rKJDsWtBznwwfTmXIGMj6FDKCNGwrsUYFPrIJWRLcJAan+vsze6/aBKuH1vxCThUpkaoRN0tQOVt\n",
              "23/g3C0zTJ3hbXKO45Fhl5LmKqBK4H1DdusXEtRvQHkmm/uJBXfwCVijycvN03aGvMc0BCI1ZSZR\n",
              "p9KUTKhCZgpX+asC2oWVzjeLAKrwWwp2YN2+3jjccCntvN2U7glCmIOZB4+Ons16WF5eA32lehfk\n",
              "vKQiTevch/HM/qlG3+L17GGOsM5T6U0jWYTRxiBTEogKUuPOGSP0eq4WFSLi/eUY+B+BbsqJ1WcS\n",
              "IXz6+Bmgv7S4s6h036MhflWk0zXmeGAYEincFzxUagyWnKxe1JJPdmkH6YjtIwR8sJnRw+5aRaio\n",
              "u3iD/dN0CW2jLE+Zqiz6oaRohxQaiS4wysiUCVhUtmnlv7ncpTvzbrtCPk9nPgg12sxIW8DgQx5x\n",
              "y+K/8DsikQtQsJLppipk82hZ72FR+9E2tAaodtZs2xFqSCe6s37WZtii6fa1gshn5yItukBtomsw\n",
              "oh1nZtd/m9vH1IqMKj/3q3JXfO181HHl1ufzLgstRyWjj3kitYk2ZOzcLps+dgl3vvNpCt7XHTUD\n",
              "uQAAABUBn2VqQr8AAUdp428fLQB6A7AAb+8AAAMfQZtpSeEPJlMCH//+qZYABID8lgC/20hRwTDk\n",
              "H9dCTwMDuWuL1yKMLNAkPSn2Fr7ANV0206NQ2AVfbb3fq2rn9zZj19nTYEXlbeWWailMhLibwTdm\n",
              "FQAkslvQPxaVx1cbyODq0APaq/nixLL9YQa3xwQp+BFbwTkHJlAukv0k962+Ra226sef/3iQ9D7W\n",
              "sNrVulJrYzdExGR2BsrGAAGYVXLCW4GhNpiJYOocZIYSIBuJP/O8RcP2zIk192pVoYbZ7KnvtIDS\n",
              "53L/MwSeNcUwXLK/xKqSo7TEyTPdNTLOmOd2ArWPN3ipwEowip34tO/99VZI2lpYi97doiGY44Ew\n",
              "6eHkHsE026q2U4hsRiyCHQ+o4OopRqkPR5kaE5XaVq+5fR4H+y9m5sTlcH9le2Vl53cP3P7Ac/4s\n",
              "EkDFYC0ARUVmXWHN1c+BDkQ0rHDYd9soePO5jm4ekAefgViVjrYI/V++dMCDwVRGMTcnCasT2w6f\n",
              "yJ5nrJe/qEI3WKHjim0P8ymYcb2d9EzTYEiH8J6vxXhrY7jAThYoF+RB0NrjlpUzX9rDZO7EUQQm\n",
              "ug7g/oS5dXgAntFE7gkmSWbFXNeXwQWhms6WN5T/ZPe1UfKop+1wyT6ZAb+CDecUJfgHqPrZcj6g\n",
              "FM3QXJ89XErqlsArBxZ83UtporeTAM1TLSqIB7w+Bu58exob1mLJ2yx894khlhIDuFcdtd5LRZWz\n",
              "9CH6Ja/oQVHnYC74P3HuH0+NAWt2E74HGMnJ/73CSnrbkJ2kJVEKRT9/SFmRwiFAw5C5Wmc8Ia/d\n",
              "SFzOfM4J0TbUYShNIuWtdPo3eByBVQS0fJWxpTEgRHJX9uB1fYNoehHfjqPa2y1Qna5BctcOkZpL\n",
              "XWJLsrUuNXLBAxmWXYLh36Trc8VIszOZuwPRq04t4XSmC98AqlsxOCNRmwHk7SVYIaWtsOHqZUOh\n",
              "suvviDGTQJTgfc6PWDGeKtt6U5c+jof6Atzl9DDxRYK8Pd+Yqv2iaVNgRskMw+FCUzAGzAAXKeU8\n",
              "10iwrefX0vFdJqe2yDJnwkuyZEhZt1eKzfGIYmQkgQAAABBBn4dFETwv/wAAAwAAAwHHAAAAEAGf\n",
              "qGpCvwAAAwAB/K9FMvAAAALLQZusSahBaJlMCH///qmWAASAG2740AOldlmpbmFoecpqPolHZJFZ\n",
              "lIEh2vDEQJQSxyBs02VAY0dfx/2BsEwlZa2uS4b21g8vHIrYTHPWvzkaC73BhJMuS0s00nh6mXqA\n",
              "NdrCiR7nJsbT/pbGJi1gxOkvzc4MF350Pj5FfJVpqtHdfsxz5bE1zUSeGS74xKTHSdWbtVPVDrSK\n",
              "IMCRFAawUyJdSWWVlXhs6vgJdUkopuE57kCceLdhmCfYzLe6RLLZeF7lobJUC9DQUnHOAbnVQC2B\n",
              "b/9W3jEWXOCkASNUVUPQHYNw4lrDdeYeruL2dUjEcAGjMnKAURWFd14DFAA9fyHGPCMYpkUNLBB+\n",
              "SgOPczKYT8EpK8PJcrw8MDWemrvT7GzOjpQcVXejvurnaNSHCgnV2CIOCNDNzMp8Z155zU8t0x2n\n",
              "kcJxroaihoe2i/qh8d9s6c0kpgGOGac3Lmwf9FLkygagTh81niJe8mv99QqL3Dy5I+nBY15K3PkX\n",
              "1SuUc13l0dSeBrPM5u0cn3M37f0nfaVh+gjyKUqZKQAw8hBGaaQojrb5o6COUamEAZJ3A2Cxv1eM\n",
              "zq+/UNZznANEzLeoLxWA+dK+sDVIaWJa55tmANjmyWsZOdV337dMzIspK70uRKSPLcYlew3A0gUW\n",
              "NDVEuP3uyJV+ybhHZT4N47H6TdDJxKHt7WUCt2M29v4t88FbKIZjQ7ShvE3KB+gGsXBzsCCMA/1C\n",
              "TjMJZ+qUJKIiMmJY6/8CkGl4A++mjsVvzF+7BgRHkK16Vkr7GrSYFMjZWVguUYMb5050h4DigmTo\n",
              "+jzdykxCkdYTNHCqSJyLbU4GzmBtt/KWM+6aTP2Yz/0uYMd9UL/5vkRW6pN413LOiNrSNYh9BV1Z\n",
              "unZIubmozy0y7W9fFacVxYEaiURcmBRWcJ+/FUxYyJW5KDwGjAsNQdaAPgMD9BNbuQAAABNBn8pF\n",
              "ESwv/wAAXRhsMD+PvV8CAAAAEQGf62pCvwAAgsjqgKzWkfAgAAACikGb8EmoQWyZTAh///6plgAE\n",
              "gPmqAFa8eHL5gg6aL4PouJnohZVLBeHAf8QJObuMQLUwvVB2MOwlkNan80TKwIaBHw/oWx6tcp9y\n",
              "2+TBzhtuyWO4JHbBXWmh4zhd86uEMWVJlyZ1UFR6XgQhXqzqjsCm8k5GejBFlItVO3kxq/JUR58L\n",
              "nZZN/FDmHDf8iRtPuor0HM1AIsZ/RhFSLUWlzrrjaQalkz9kCYrMRFSI4WuITAn8+A4QeEHdhfyx\n",
              "K3BQmqknfuVUFUURp+32VnTEfk+FGpMmgOUxzRgASH0atAmZl0JRNg48XampQJq6uYVOclrnb2c3\n",
              "DwNpv1AUner6WdM3fyUQGXvsRUAmiWYB+HlEvdxUPW3+Dt8ukxpnLP+THE484QVILP9tO+h/05Sa\n",
              "l6CxYyrTJf4bma7Js3snKwdXz2v7TvPPD7A7xDtFWTi9eQWetoe7RuueZzVWHw/V9ScSGgdrE0ul\n",
              "gk9QAkVbWcd5PZcqRZM2deg6HiaqvxQxlrUsHwcRQb4zmB9Qqny+dmKwEvaE5JVjxZZbWsHHnnsa\n",
              "MjFkJm93nEJcbTIdjnH+M6QPwV6h23Ivv/NtEjefHW0JZhPtjTYKzVJzZ5c9HU2j+T3T9gCf3BGI\n",
              "PnIrKI6Y2NMO+6uboCBH2+1KKSPppHTpq+5BeKectEYrd+kjQgH7wkMZdmrWT9bbMzcmmdRL5bwI\n",
              "oMW8soxGgC3EtlSBZVJS0uAURGcwhttDrjCR2avTFO5EYh/S7GmY8IypxMTtgxqJSCba4jojZEjX\n",
              "a3CVPh5pceAQmROiMwO2zQQXr5qE9Nubtu0w5xxmSqncgMXp+NnMdUCDARi56E2cG4WUw5/eX5Ll\n",
              "kKrXBDHvAAAAG0GeDkUVLDP/AAO1yJQcqKa4AIIN7W6rOoWW0QAAABIBni10Qr8AAAMD98BGM3n8\n",
              "+BEAAAARAZ4vakK/AALo06rzNglAG9AAAAIlQZo0SahBbJlMCH///qmWAASA+aoARU5fodRX9HSt\n",
              "HfMsIRMnw9pKXQMep0sjgTjMp7YfZnyeBuCTDpa2dNmjomHNdFn88WWbtGv2G/NM+4EJdrB56WKD\n",
              "ap+2VTcYI/hRum9BnX1U4NoJ/TRlcqc1GnTmt8IsvrhmpocgaQfPRi+24w0S6FV9pIUmvQ8g9yd5\n",
              "aQZ8ZmzcDDR7Gdcx0I3EMPt3CVIxcWX47BYxtzA5YorLiMWZlidWtOMxDcBwW8diIBoysiV4ksfE\n",
              "LAzig9Xc+1Pb2LDrUIXtb3wKaGY5nre3o9t/JddpyNGOOnSa0tADkr+I960UcXhvvFAWIjIFHR70\n",
              "TRhRebvhXtZYJkRZQabhoCAWJ856nQLa/hmO4O+AFb3K5CgA1PFvGG3WQayMhO2Xxj1vUrn1cKPw\n",
              "4rUDCVCWP1Ert0v6LgCFXoN49atRy1Fec62bDfzhswbMyQcQ94POGsdi2YcJXRH+u/jhpPIIubqs\n",
              "0VXob3cKpqIAZ1rciF2EC5mcIrwgNq+iGPgb9Ip+MIwlV1x3jGeFSCQxzQpf+sGEi97Q6IrpHf7D\n",
              "O04mRsXxEp8sEhRxE1p05kRNWuQAw2y+CVw070e4XufmVE4iK9f7eD6ev6U3RDvgwwhQD0+wJlFM\n",
              "IBs+FMnliqS53w9IuWbEDeDDjXE+zQA55abP3cjIBl7/zzlqojxYapmgHO9xtDy5hrL0DL/8JWrs\n",
              "w9tENmusAAAAFkGeUkUVLDP/AAAMP8X87p8R9oHzm0EAAAASAZ5xdEK/AAADA/fATRK9HBWwAAAA\n",
              "EAGec2pCvwAAAwAB/GUjPSAAAAFdQZp4SahBbJlMCHf//qmWAASA4SYArdDoM0FRmKDGznSYvbhv\n",
              "4FjAVJ05kkdgr65RuNXOTwDuVYxGvOvhEK2njCfIM3Asa5N70kkwBzeKodAP0aWw266DnSOR3kde\n",
              "YOKtdzvIlcnz2f7vD488gHs5vxPXvpGRCjpqzCwjF1pbe361NPKU0hr4VGWcM6yDl4RJQ1gshvbH\n",
              "UFX7sPVTk50/BlKAvsKn5zpE1KanxyF+LQY//Av1+en7feuQ+WVOSMsxk9+Pk1MPTd7MTN4Cijwh\n",
              "bm4AIxuBm8A2lkOBBadav1qZ/371tgvmBGa8gEIqB8ErhR+mLFmnMb8+qijBz9Q3lBn4IpanM8o1\n",
              "Po79TdG621EdP95cQHSAYzwSHHFgQxZLwfHR/44riGAfZZ0ftV1ViPUgD5pWctWdDZCIkdvNnYIQ\n",
              "SoZH3NYSwBkRhFV902tE+mJHFhsFzefOyl7wUwAAABtBnpZFFSwz/wABm/jJ2FWzOFFCLmO8Fa9u\n",
              "oS8AAAAQAZ61dEK/AAADAAH74CM9IQAAABABnrdqQr8AAAMAAfxlIz0hAAAA5EGavEmoQWyZTAh3\n",
              "//6plgAEgNpqAEU/282LcDPk8/W0fOtMzCAOl4URiFpxi6X6mQoreyAvIVG7WA2hn7d/uLvg0c1U\n",
              "IVo5+seLvVkDEoo963noQIdLp1fXtjbCDGrpEmrcwVmKOR48rQWoZdKTYHngXxhSPHRO3Vo+5ALQ\n",
              "fwvYo7BefIrPUkfEHPxi/mx3uaps33tCaRPutcRFIgPDY82wKgnmCzWoAewDdLm3jGjrYx4GdDMA\n",
              "MD8S1rLkGACwQ5pHW5/lC6TnL7pYXr2iuJt/F68uAVYJ+3D3sQSseY+daywZcAAAABlBntpFFSwz\n",
              "/wAD4chTB+RjWDCH6xq32BLbAAAAFQGe+XRCvwAAAwBHXQt4r4v1dC5G0AAAABABnvtqQr8AAAMA\n",
              "AfxlIz0hAAAAZEGa4EmoQWyZTAhv//6nhAADicN+6QA3RGUF4yWTt8NduN0TkR8/9uvOmB1zvsqr\n",
              "ujOWOq5+iH6n7MNroKHQQ24Zy7T81xK0F5PsSU8AeGzAbwoATVDjHEXWyWWfkwBJlKgYCFkAAAAV\n",
              "QZ8eRRUsM/8AAAMCK67t/Yri4+BAAAAAEgGfPXRCvwAAAwAcTgJp9ej4EAAAABABnz9qQr8AAAMA\n",
              "AfxlIz0hAAAAGEGbI0moQWyZTAhX//44QAAAPl6kXlABvQAAABRBn0FFFSwv/wAAAwL9EXf7Fqkl\n",
              "MwAAABABn2JqQr8AAAMAAfxlIz0gAAAHb21vb3YAAABsbXZoZAAAAAAAAAAAAAAAAAAAA+gAABOI\n",
              "AAEAAAEAAAAAAAAAAAAAAAABAAAAAAAAAAAAAAAAAAAAAQAAAAAAAAAAAAAAAAAAQAAAAAAAAAAA\n",
              "AAAAAAAAAAAAAAAAAAAAAAAAAAAAAAIAAAaZdHJhawAAAFx0a2hkAAAAAwAAAAAAAAAAAAAAAQAA\n",
              "AAAAABOIAAAAAAAAAAAAAAAAAAAAAAABAAAAAAAAAAAAAAAAAAAAAQAAAAAAAAAAAAAAAAAAQAAA\n",
              "AAJAAAABjAAAAAAAJGVkdHMAAAAcZWxzdAAAAAAAAAABAAATiAAABAAAAQAAAAAGEW1kaWEAAAAg\n",
              "bWRoZAAAAAAAAAAAAAAAAAAAKAAAAMgAVcQAAAAAAC1oZGxyAAAAAAAAAAB2aWRlAAAAAAAAAAAA\n",
              "AAAAVmlkZW9IYW5kbGVyAAAABbxtaW5mAAAAFHZtaGQAAAABAAAAAAAAAAAAAAAkZGluZgAAABxk\n",
              "cmVmAAAAAAAAAAEAAAAMdXJsIAAAAAEAAAV8c3RibAAAALRzdHNkAAAAAAAAAAEAAACkYXZjMQAA\n",
              "AAAAAAABAAAAAAAAAAAAAAAAAAAAAAJAAYwASAAAAEgAAAAAAAAAAQAAAAAAAAAAAAAAAAAAAAAA\n",
              "AAAAAAAAAAAAAAAAAAAAABj//wAAADJhdmNDAWQAFv/hABlnZAAWrNlAkDP7hAAAAwAEAAADAKA8\n",
              "WLZYAQAGaOvjyyLAAAAAHHV1aWRraEDyXyRPxbo5pRvPAyPzAAAAAAAAABhzdHRzAAAAAAAAAAEA\n",
              "AABkAAACAAAAABRzdHNzAAAAAAAAAAEAAAABAAACwGN0dHMAAAAAAAAAVgAAAAUAAAQAAAAAAQAA\n",
              "BgAAAAABAAACAAAAAAEAAAYAAAAAAQAAAgAAAAACAAAEAAAAAAEAAAYAAAAAAQAAAgAAAAABAAAG\n",
              "AAAAAAEAAAIAAAAAAQAABgAAAAABAAACAAAAAAEAAAQAAAAAAQAABgAAAAABAAACAAAAAAEAAAoA\n",
              "AAAAAQAABAAAAAABAAAAAAAAAAEAAAIAAAAAAQAACgAAAAABAAAEAAAAAAEAAAAAAAAAAQAAAgAA\n",
              "AAABAAAKAAAAAAEAAAQAAAAAAQAAAAAAAAABAAACAAAAAAEAAAYAAAAAAQAAAgAAAAABAAAKAAAA\n",
              "AAEAAAQAAAAAAQAAAAAAAAABAAACAAAAAAEAAAoAAAAAAQAABAAAAAABAAAAAAAAAAEAAAIAAAAA\n",
              "AQAACgAAAAABAAAEAAAAAAEAAAAAAAAAAQAAAgAAAAABAAAKAAAAAAEAAAQAAAAAAQAAAAAAAAAB\n",
              "AAACAAAAAAEAAAoAAAAAAQAABAAAAAABAAAAAAAAAAEAAAIAAAAAAQAACgAAAAABAAAEAAAAAAEA\n",
              "AAAAAAAAAQAAAgAAAAABAAAKAAAAAAEAAAQAAAAAAQAAAAAAAAABAAACAAAAAAcAAAQAAAAAAQAA\n",
              "BgAAAAABAAACAAAAAAEAAAgAAAAAAgAAAgAAAAABAAAIAAAAAAIAAAIAAAAAAQAACgAAAAABAAAE\n",
              "AAAAAAEAAAAAAAAAAQAAAgAAAAABAAAKAAAAAAEAAAQAAAAAAQAAAAAAAAABAAACAAAAAAEAAAoA\n",
              "AAAAAQAABAAAAAABAAAAAAAAAAEAAAIAAAAAAQAACgAAAAABAAAEAAAAAAEAAAAAAAAAAQAAAgAA\n",
              "AAABAAAKAAAAAAEAAAQAAAAAAQAAAAAAAAABAAACAAAAAAEAAAgAAAAAAgAAAgAAAAAcc3RzYwAA\n",
              "AAAAAAABAAAAAQAAAGQAAAABAAABpHN0c3oAAAAAAAAAAAAAAGQAACixAAADZAAAAqQAAAKFAAAC\n",
              "6gAABFEAAAG9AAAECAAAAT4AAALaAAACiQAABAUAAAFXAAAELAAAAUMAAASaAAABZgAABBkAAASu\n",
              "AAABlwAABvkAAAK9AAABdwAAAcoAAAdoAAACxQAAAaoAAAFyAAAIFgAAApkAAAFKAAABYgAABm8A\n",
              "AAEWAAAH2wAAAhQAAAFJAAAA9gAAB4cAAAHfAAAA8AAAAQoAAAbqAAABewAAAPAAAADqAAAGTQAA\n",
              "AXUAAACxAAAAoAAABjQAAAE1AAAAVwAAAEAAAAYAAAABKAAAACUAAAAXAAAFOAAAAKkAAAAUAAAA\n",
              "HwAAAk0AAAJ/AAACdQAAAlEAAAJKAAACKAAAAf8AAAL8AAAAGQAAAyMAAAAUAAAAFAAAAs8AAAAX\n",
              "AAAAFQAAAo4AAAAfAAAAFgAAABUAAAIpAAAAGgAAABYAAAAUAAABYQAAAB8AAAAUAAAAFAAAAOgA\n",
              "AAAdAAAAGQAAABQAAABoAAAAGQAAABYAAAAUAAAAHAAAABgAAAAUAAAAFHN0Y28AAAAAAAAAAQAA\n",
              "ACwAAABidWR0YQAAAFptZXRhAAAAAAAAACFoZGxyAAAAAAAAAABtZGlyYXBwbAAAAAAAAAAAAAAA\n",
              "AC1pbHN0AAAAJal0b28AAAAdZGF0YQAAAAEAAAAATGF2ZjU3LjgzLjEwMA==\n",
              "\">\n",
              "  Your browser does not support the video tag.\n",
              "</video>"
            ],
            "text/plain": [
              "<matplotlib.animation.FuncAnimation at 0x7feba5f13358>"
            ]
          },
          "metadata": {
            "tags": []
          },
          "execution_count": 44
        }
      ]
    },
    {
      "metadata": {
        "id": "ag4kx3eaxLEn",
        "colab_type": "text"
      },
      "cell_type": "markdown",
      "source": [
        "In practice, we don't calculate on the whole file at once, but we use _mini-batches_"
      ]
    },
    {
      "metadata": {
        "id": "JTY2BT9XxyEk",
        "colab_type": "text"
      },
      "cell_type": "markdown",
      "source": [
        "<h2>Vocab or ETHMOLOGY in Deep Learning</h2> "
      ]
    },
    {
      "metadata": {
        "id": "McWXEQEUyOJP",
        "colab_type": "text"
      },
      "cell_type": "markdown",
      "source": [
        "\n",
        "\n",
        "*   Learning Rate\n",
        "*   Epoch\n",
        "*   Minibatch\n",
        "*   SGD\n",
        "*   Model/Architecture\n",
        "*   Parameters\n",
        "*   Loss Function\n",
        "\n",
        "For classification function we use _cross entropy loss_, also known as _negative log likelihood loss_. This penalizes incorrect confidet predictions, and correct unconfident predictions. \n",
        "\n"
      ]
    },
    {
      "metadata": {
        "id": "B4avhUIEysCE",
        "colab_type": "code",
        "colab": {}
      },
      "cell_type": "code",
      "source": [
        ""
      ],
      "execution_count": 0,
      "outputs": []
    }
  ]
}