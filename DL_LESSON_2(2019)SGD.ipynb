{
  "nbformat": 4,
  "nbformat_minor": 0,
  "metadata": {
    "colab": {
      "name": "DL-LESSON-2(2019)SGD",
      "version": "0.3.2",
      "provenance": [],
      "include_colab_link": true
    },
    "kernelspec": {
      "name": "python3",
      "display_name": "Python 3"
    },
    "accelerator": "GPU"
  },
  "cells": [
    {
      "cell_type": "markdown",
      "metadata": {
        "id": "view-in-github",
        "colab_type": "text"
      },
      "source": [
        "<a href=\"https://colab.research.google.com/github/vatsalsaglani/DL-for-coders-part1-2019/blob/master/DL_LESSON_2(2019)SGD.ipynb\" target=\"_parent\"><img src=\"https://colab.research.google.com/assets/colab-badge.svg\" alt=\"Open In Colab\"/></a>"
      ]
    },
    {
      "metadata": {
        "id": "dtnLhbEFXsnp",
        "colab_type": "code",
        "colab": {}
      },
      "cell_type": "code",
      "source": [
        "from fastai import *\n",
        "from fastai.vision import *\n",
        "from fastai.text import *\n",
        "from fastai.tabular import *"
      ],
      "execution_count": 0,
      "outputs": []
    },
    {
      "metadata": {
        "id": "_9_NCCSoYEOy",
        "colab_type": "text"
      },
      "cell_type": "markdown",
      "source": [
        "There are some things that can affect the model, \n",
        "1.   Leaning Rate\n",
        "2.   Epochs,\n",
        "\n",
        "These are the two things we can tune and there ins't much we can tune.\n",
        "\n"
      ]
    },
    {
      "metadata": {
        "id": "qKKueWgjYwug",
        "colab_type": "text"
      },
      "cell_type": "markdown",
      "source": [
        "<h2>Learning Rate too **High**</h2>\n",
        "\n",
        "The error rate is very high for most of the cases."
      ]
    },
    {
      "metadata": {
        "id": "v2Kf-StvY6WP",
        "colab_type": "text"
      },
      "cell_type": "markdown",
      "source": [
        "<h2>Learning Rate too **Low**</h2>\n",
        "\n",
        "The error rate does improve but very very slowly, training loss will be higher than the validation loss which means that the model ins't fitted enough. So we could increase the **ephocs** or we could increse the _**learning__rate**_"
      ]
    },
    {
      "metadata": {
        "id": "dG4LqV2WZP26",
        "colab_type": "text"
      },
      "cell_type": "markdown",
      "source": [
        "To get a plot of _validation_ and _training_ loss we can use the the piece of code\n",
        "**_```modelName.plot__losses()```_**"
      ]
    },
    {
      "metadata": {
        "id": "VCA5kRJoZvcd",
        "colab_type": "text"
      },
      "cell_type": "markdown",
      "source": [
        "<h2>Too few epochs</h2>\n",
        "\n",
        "This condition is kinda similar to _low learning rate_ condition. "
      ]
    },
    {
      "metadata": {
        "id": "Xlw7TCPXaYeV",
        "colab_type": "text"
      },
      "cell_type": "markdown",
      "source": [
        "<h2>Too many epochs</h2>\n",
        "\n",
        "Its very hard to **overfit** using deep learning so if we have a huge number of **epochs** the model keep on learning from the same data batches and it could be good for the data that we have but it wouldn't be good for other outside data. \n",
        "\n",
        "To tell that a model is overfitting we can check the error rate and observe that it continues to impove for a while and then becomes worse. "
      ]
    },
    {
      "metadata": {
        "id": "4Pe7v-eoabjA",
        "colab_type": "text"
      },
      "cell_type": "markdown",
      "source": [
        "<center><h1>Lesson 2: SGD</h1></center>"
      ]
    },
    {
      "metadata": {
        "id": "7SUFMaQnbaD4",
        "colab_type": "text"
      },
      "cell_type": "markdown",
      "source": [
        "**SGD** stands for **_Stochastic Gradient Descent_** which is an **optimization** method commonly used in neural networks. "
      ]
    },
    {
      "metadata": {
        "id": "OK3WA5m7cpT2",
        "colab_type": "text"
      },
      "cell_type": "markdown",
      "source": [
        "<h2>Linear Regression Problem</h2>\n",
        "\n",
        "The goal of Linear Regression is to fit a line to a set of points."
      ]
    },
    {
      "metadata": {
        "id": "vgu_uUE3h5uA",
        "colab_type": "code",
        "colab": {}
      },
      "cell_type": "code",
      "source": [
        "n = 100"
      ],
      "execution_count": 0,
      "outputs": []
    },
    {
      "metadata": {
        "id": "k5Ss3vduiKak",
        "colab_type": "text"
      },
      "cell_type": "markdown",
      "source": [
        "Generated Data, matrix of size _100 x 2_"
      ]
    },
    {
      "metadata": {
        "id": "aKpnp41Ch_q-",
        "colab_type": "code",
        "colab": {
          "base_uri": "https://localhost:8080/",
          "height": 104
        },
        "outputId": "7be9744d-9b98-47a5-f841-8bfc8601e04e"
      },
      "cell_type": "code",
      "source": [
        "x = torch.ones(n, 2)  # tensor of n(rows) x 2(columns)\n",
        "x[:, 0].uniform_(-1., 1) # index into ':' every single value on the axis. .unifrom grabs a uniform random number.\n",
        "x[:5]"
      ],
      "execution_count": 5,
      "outputs": [
        {
          "output_type": "execute_result",
          "data": {
            "text/plain": [
              "tensor([[ 0.6177,  1.0000],\n",
              "        [ 0.5480,  1.0000],\n",
              "        [-0.7633,  1.0000],\n",
              "        [-0.2761,  1.0000],\n",
              "        [ 0.3306,  1.0000]])"
            ]
          },
          "metadata": {
            "tags": []
          },
          "execution_count": 5
        }
      ]
    },
    {
      "metadata": {
        "id": "z88e3Io7iRWH",
        "colab_type": "code",
        "colab": {
          "base_uri": "https://localhost:8080/",
          "height": 34
        },
        "outputId": "6ae96a62-3a78-45ec-b8ad-d46e93377857"
      },
      "cell_type": "code",
      "source": [
        "x.shape"
      ],
      "execution_count": 23,
      "outputs": [
        {
          "output_type": "execute_result",
          "data": {
            "text/plain": [
              "torch.Size([100, 2])"
            ]
          },
          "metadata": {
            "tags": []
          },
          "execution_count": 23
        }
      ]
    },
    {
      "metadata": {
        "id": "GDKulisujOqZ",
        "colab_type": "text"
      },
      "cell_type": "markdown",
      "source": [
        "a1 = 3, a2 = 2; coefficients"
      ]
    },
    {
      "metadata": {
        "id": "s6MmgHQUiY4o",
        "colab_type": "code",
        "colab": {
          "base_uri": "https://localhost:8080/",
          "height": 34
        },
        "outputId": "f0c3a00f-9beb-4a67-c345-da2977030b0a"
      },
      "cell_type": "code",
      "source": [
        "a = tensor(3., 2); a # tensor(slope, intercept)"
      ],
      "execution_count": 18,
      "outputs": [
        {
          "output_type": "execute_result",
          "data": {
            "text/plain": [
              "tensor([3., 2.])"
            ]
          },
          "metadata": {
            "tags": []
          },
          "execution_count": 18
        }
      ]
    },
    {
      "metadata": {
        "id": "W995ayC0ii6c",
        "colab_type": "code",
        "colab": {}
      },
      "cell_type": "code",
      "source": [
        "y = x@a + torch.rand(n) # random number to add some ones."
      ],
      "execution_count": 0,
      "outputs": []
    },
    {
      "metadata": {
        "id": "uJVH2FFSiweV",
        "colab_type": "code",
        "colab": {
          "base_uri": "https://localhost:8080/",
          "height": 34
        },
        "outputId": "afb78ac8-4f6d-41a3-ec8b-0521de5a0e18"
      },
      "cell_type": "code",
      "source": [
        "x[:,0].shape"
      ],
      "execution_count": 17,
      "outputs": [
        {
          "output_type": "execute_result",
          "data": {
            "text/plain": [
              "torch.Size([100])"
            ]
          },
          "metadata": {
            "tags": []
          },
          "execution_count": 17
        }
      ]
    },
    {
      "metadata": {
        "id": "os-rSyhGipl_",
        "colab_type": "code",
        "colab": {
          "base_uri": "https://localhost:8080/",
          "height": 366
        },
        "outputId": "4885f848-95e0-46f2-9f1f-b6d16cf83d88"
      },
      "cell_type": "code",
      "source": [
        "plt.scatter(x[:,0], y)"
      ],
      "execution_count": 10,
      "outputs": [
        {
          "output_type": "execute_result",
          "data": {
            "text/plain": [
              "<matplotlib.collections.PathCollection at 0x7feba99bb438>"
            ]
          },
          "metadata": {
            "tags": []
          },
          "execution_count": 10
        },
        {
          "output_type": "display_data",
          "data": {
            "image/png": "[encoded data removed]",
            "text/plain": [
              "<Figure size 576x396 with 1 Axes>"
            ]
          },
          "metadata": {
            "tags": []
          }
        }
      ]
    },
    {
      "metadata": {
        "id": "Jg0crQWoivY_",
        "colab_type": "text"
      },
      "cell_type": "markdown",
      "source": [
        "We need to find **parameters** _(weights)_ _```a```_ such that the _error_ between the point and the line _```x@a```_  _minimizes_. Here ```a``` is unknown. For a _regression_ problem the most common _error_ or _loss function_ is the **```mean squared error```**"
      ]
    },
    {
      "metadata": {
        "id": "CEoX57sqm7t8",
        "colab_type": "text"
      },
      "cell_type": "markdown",
      "source": [
        "Let's pretend that we don't know the value of _```a```_ (which we know as we have declared it) to get a line to divide the points. "
      ]
    },
    {
      "metadata": {
        "id": "Ro0-CB9qnS-5",
        "colab_type": "code",
        "colab": {}
      },
      "cell_type": "code",
      "source": [
        "def mse(y_hat, y): return((y_hat - y)**2).mean()"
      ],
      "execution_count": 0,
      "outputs": []
    },
    {
      "metadata": {
        "id": "FqQDjW6Yn3Vc",
        "colab_type": "text"
      },
      "cell_type": "markdown",
      "source": [
        "Supposing we believe _```a = (-1.0, 1.0)```_ then we compute the _```y_hat```_ which is our _prediction_ and then compute our error. "
      ]
    },
    {
      "metadata": {
        "id": "hv-qhYECqF8F",
        "colab_type": "code",
        "colab": {}
      },
      "cell_type": "code",
      "source": [
        "a = tensor(-1., 1.)"
      ],
      "execution_count": 0,
      "outputs": []
    },
    {
      "metadata": {
        "id": "E7wEgTF5qI-l",
        "colab_type": "code",
        "colab": {}
      },
      "cell_type": "code",
      "source": [
        "y_hat = x@a"
      ],
      "execution_count": 0,
      "outputs": []
    },
    {
      "metadata": {
        "id": "VSvoOmWbqK42",
        "colab_type": "code",
        "colab": {
          "base_uri": "https://localhost:8080/",
          "height": 34
        },
        "outputId": "c4aef8a7-898c-482b-9bf0-e8984d3f9e9e"
      },
      "cell_type": "code",
      "source": [
        "mse(y_hat, y)"
      ],
      "execution_count": 31,
      "outputs": [
        {
          "output_type": "execute_result",
          "data": {
            "text/plain": [
              "tensor(7.6707)"
            ]
          },
          "metadata": {
            "tags": []
          },
          "execution_count": 31
        }
      ]
    },
    {
      "metadata": {
        "id": "ijh5mfgiqwEn",
        "colab_type": "code",
        "colab": {
          "base_uri": "https://localhost:8080/",
          "height": 366
        },
        "outputId": "6cff29e9-a639-4ae8-c7bd-b2b6e8d8ecf2"
      },
      "cell_type": "code",
      "source": [
        "plt.scatter(x[:,0], y)\n",
        "plt.scatter(x[:,0], y_hat)"
      ],
      "execution_count": 32,
      "outputs": [
        {
          "output_type": "execute_result",
          "data": {
            "text/plain": [
              "<matplotlib.collections.PathCollection at 0x7feba70c1978>"
            ]
          },
          "metadata": {
            "tags": []
          },
          "execution_count": 32
        },
        {
          "output_type": "display_data",
          "data": {
            "image/png": "[encoded data removed]",
            "text/plain": [
              "<Figure size 576x396 with 1 Axes>"
            ]
          },
          "metadata": {
            "tags": []
          }
        }
      ]
    },
    {
      "metadata": {
        "id": "5ILxd2Plrp-t",
        "colab_type": "text"
      },
      "cell_type": "markdown",
      "source": [
        "Until now we have specified a _model (linear regression)_ and the _evaluation criteria (or a loss function)_. Now we need to handle optimization; i.e., how do we find the best value _```a```_. ? _How do we find the best fitting linear regression?_"
      ]
    },
    {
      "metadata": {
        "id": "_CHaToPTsQt8",
        "colab_type": "text"
      },
      "cell_type": "markdown",
      "source": [
        "<h2>Gradient Descent</h2>"
      ]
    },
    {
      "metadata": {
        "id": "tVJWiVW6sVYf",
        "colab_type": "text"
      },
      "cell_type": "markdown",
      "source": [
        "**Gradient Descent** is an algorithm that minimizes function. Given a function defined by a set of parameters, gradient descent starts with an initial set of parameter values and iteratively moves towards a set of parameter values that minimizes the function. This iterative minimization is achieved by taking steps in the negative direction of the function gradient. "
      ]
    },
    {
      "metadata": {
        "id": "J6Fs_yCGtZ2E",
        "colab_type": "code",
        "colab": {
          "base_uri": "https://localhost:8080/",
          "height": 52
        },
        "outputId": "50ff8e18-cc22-4159-f93a-90546f63d88b"
      },
      "cell_type": "code",
      "source": [
        "a = nn.Parameter(a); a"
      ],
      "execution_count": 33,
      "outputs": [
        {
          "output_type": "execute_result",
          "data": {
            "text/plain": [
              "Parameter containing:\n",
              "tensor([-1.,  1.], requires_grad=True)"
            ]
          },
          "metadata": {
            "tags": []
          },
          "execution_count": 33
        }
      ]
    },
    {
      "metadata": {
        "id": "21XxPZnOtdmf",
        "colab_type": "code",
        "colab": {}
      },
      "cell_type": "code",
      "source": [
        "def update():\n",
        "  y_hat = x@a\n",
        "  loss = mse(y_hat, y)\n",
        "  if t % 10 == 0: print(loss)\n",
        "  loss.backward()\n",
        "  with torch.no_grad():\n",
        "    a.sub_(lr * a.grad) # a -  gradient*learning rate\n",
        "    a.grad.zero_() # make the gradient zero"
      ],
      "execution_count": 0,
      "outputs": []
    },
    {
      "metadata": {
        "id": "zBPAdEXLt6dR",
        "colab_type": "code",
        "colab": {
          "base_uri": "https://localhost:8080/",
          "height": 191
        },
        "outputId": "5839ff10-367a-400a-a1fd-152a9092684e"
      },
      "cell_type": "code",
      "source": [
        "lr = 1e-1\n",
        "for t in range(100): update()"
      ],
      "execution_count": 39,
      "outputs": [
        {
          "output_type": "stream",
          "text": [
            "tensor(0.0934, grad_fn=<MeanBackward1>)\n",
            "tensor(0.0934, grad_fn=<MeanBackward1>)\n",
            "tensor(0.0934, grad_fn=<MeanBackward1>)\n",
            "tensor(0.0934, grad_fn=<MeanBackward1>)\n",
            "tensor(0.0934, grad_fn=<MeanBackward1>)\n",
            "tensor(0.0934, grad_fn=<MeanBackward1>)\n",
            "tensor(0.0934, grad_fn=<MeanBackward1>)\n",
            "tensor(0.0934, grad_fn=<MeanBackward1>)\n",
            "tensor(0.0934, grad_fn=<MeanBackward1>)\n",
            "tensor(0.0934, grad_fn=<MeanBackward1>)\n"
          ],
          "name": "stdout"
        }
      ]
    },
    {
      "metadata": {
        "id": "lSMmegTkt-7_",
        "colab_type": "code",
        "colab": {
          "base_uri": "https://localhost:8080/",
          "height": 366
        },
        "outputId": "87cca688-3a78-4296-88b3-6b56cd4c33e8"
      },
      "cell_type": "code",
      "source": [
        "plt.scatter(x[:,0], y)\n",
        "plt.scatter(x[:,0], x@a)"
      ],
      "execution_count": 40,
      "outputs": [
        {
          "output_type": "execute_result",
          "data": {
            "text/plain": [
              "<matplotlib.collections.PathCollection at 0x7feba70b48d0>"
            ]
          },
          "metadata": {
            "tags": []
          },
          "execution_count": 40
        },
        {
          "output_type": "display_data",
          "data": {
            "image/png": "[encoded data removed]",
            "text/plain": [
              "<Figure size 576x396 with 1 Axes>"
            ]
          },
          "metadata": {
            "tags": []
          }
        }
      ]
    },
    {
      "metadata": {
        "id": "HQhUS5XOv6Cj",
        "colab_type": "text"
      },
      "cell_type": "markdown",
      "source": [
        "<h2>Animation</h2>"
      ]
    },
    {
      "metadata": {
        "id": "AvwptWrBwAQ2",
        "colab_type": "code",
        "colab": {}
      },
      "cell_type": "code",
      "source": [
        "from matplotlib import animation, rc\n",
        "rc('animation', html='html5')"
      ],
      "execution_count": 0,
      "outputs": []
    },
    {
      "metadata": {
        "id": "wwOY5_74wKwB",
        "colab_type": "code",
        "colab": {}
      },
      "cell_type": "code",
      "source": [
        "!sudo add-apt-repository ppa:mc3man/trusty-media -y\n",
        "!sudo apt-get update -y\n",
        "!sudo apt-get install ffmpeg -y\n",
        "!sudo apt-get install frei0r-plugins"
      ],
      "execution_count": 0,
      "outputs": []
    },
    {
      "metadata": {
        "id": "O6AlOmACwfuT",
        "colab_type": "code",
        "colab": {
          "base_uri": "https://localhost:8080/",
          "height": 418
        },
        "outputId": "853aa86f-481d-4bd6-e3da-11e253941f16"
      },
      "cell_type": "code",
      "source": [
        "a = nn.Parameter(tensor(-1., 1.))\n",
        "\n",
        "fig = plt.figure()\n",
        "plt.scatter(x[:, 0], y, c = 'orange')\n",
        "line, = plt.plot(x[:,0], x@a)\n",
        "plt.close()\n",
        "\n",
        "def animate(i):\n",
        "  update()\n",
        "  line.set_ydata(x@a)\n",
        "  return line,\n",
        "\n",
        "animation.FuncAnimation(fig, animate, np.arange(0, 100), interval = 20)"
      ],
      "execution_count": 43,
      "outputs": [
        {
          "output_type": "execute_result",
          "data": {
            "text/html": [
              "<video width=\"576\" height=\"396\" controls autoplay loop>\n",
              "  <source type=\"video/mp4\" src=\"data:video/mp4;base64,AAAAHGZ0eXBNNFYgAAACAGlzb21pc28yYXZjMQAAAAhmcmVlAACxYG1kYXQAAAKuBgX//6rcRem9\n",
              "5tlIt5Ys2CDZI+7veDI2NCAtIGNvcmUgMTUyIHIyODU0IGU5YTU5MDMgLSBILjI2NC9NUEVHLTQg\n",
              "QVZDIGNvZGVjIC0gQ29weWxlZnQgMjAwMy0yMDE3IC0gaHR0cDovL3d3dy52aWRlb2xhbi5vcmcv\n",
              "eDI2NC5odG1sIC0gb3B0aW9uczogY2FiYWM9MSByZWY9MyBkZWJsb2NrPTE6MDowIGFuYWx5c2U9\n",
              "MHgzOjB4MTEzIG1lPWhleCBzdWJtZT03IHBzeT0xIHBzeV9yZD0xLjAwOjAuMDAgbWl4ZWRfcmVm\n",
              "PTEgbWVfcmFuZ2U9MTYgY2hyb21hX21lPTEgdHJlbGxpcz0xIDh4OGRjdD0xIGNxbT0wIGRlYWR6\n",
              "b25lPTIxLDExIGZhc3RfcHNraXA9MSBjaHJvbWFfcXBfb2Zmc2V0PS0yIHRocmVhZHM9MyBsb29r\n",
              "YWhlYWRfdGhyZWFkcz0xIHNsaWNlZF90aHJlYWRzPTAgbnI9MCBkZWNpbWF0ZT0xIGludGVybGFj\n",
              "ZWQ9MCBibHVyYXlfY29tcGF0PTAgY29uc3RyYWluZWRfaW50cmE9MCBiZnJhbWVzPTMgYl9weXJh\n",
              "bWlkPTIgYl9hZGFwdD0xIGJfYmlhcz0wIGRpcmVjdD0xIHdlaWdodGI9MSBvcGVuX2dvcD0wIHdl\n",
              "aWdodHA9MiBrZXlpbnQ9MjUwIGtleWludF9taW49MjUgc2NlbmVjdXQ9NDAgaW50cmFfcmVmcmVz\n",
              "aD0wIHJjX2xvb2thaGVhZD00MCByYz1jcmYgbWJ0cmVlPTEgY3JmPTIzLjAgcWNvbXA9MC42MCBx\n",
              "cG1pbj0wIHFwbWF4PTY5IHFwc3RlcD00IGlwX3JhdGlvPTEuNDAgYXE9MToxLjAwAIAAACABZYiE\n",
              "ACv//vZzfAprRzOVLgV292aj5dCS5fsQYPrQAAADAAADAAHT+nONH3pRxwAAAwACvnvwJt+YKd6g\n",
              "eWNMdt7BeT6sc5XAebeF6DKHTACcPHN15AIvBw/l7mqzqzSje7Yv1vEmblQnoMcGjWZUZBs3p4jh\n",
              "tghw2D+p1tWOdi79v09FhDH+yuwEuuxvWW6wzk3VdQz5cfHvHGXBFzi/srI3gMdGgIQYdx8nkxb0\n",
              "OskUVJlTLnWUXCELYMA0OfG+DddDSAp5ToFOXAZkhAs2S0WNDl7hmeAjGd2xvr3fHb6uLr0SjorD\n",
              "Z3y0B1gLM29T4CcZMmRE9+DVRWXEcg8lN89bKfgzVSET23Ku9mCK3/Lj4YG0c3oMqD40K6UoqKp4\n",
              "LsnPKku/UQuyWXyKHnb1Eb7salqaxKdJ5Jsu9NaBSqeyYplkN1xm28DPXwkfiMUHFPGO7N3sSVrO\n",
              "Kqnigrn0mpP/L91j1uO0hvOJgfoAqiZydI2FooYZCvwtApITzC52K2ZvkHhrtkbihkQfta+HopA+\n",
              "EUqOQWMGGOHz1M8qC6c0FwXUg3+y6WIqS0lE6vlYfDPOWalJpv1mqZcQP9xqmpdI//1H3+sOc4SP\n",
              "FAetBh9WlHEGG7bXM33caQTmv8Y24rh0rpIUl95oS273eIPaCwUJy6U1FF3oygjncC6tuXw6IYgR\n",
              "MadgQbvlWp6kIgBNWueQRhNLh6gkZvzncyZ1ZhJw1YUuLyq+SK3gpjS900Jbf+RDzeFuPqFB2j+G\n",
              "H86oEumzqflWc4R22GOe7klPzcoITmbaTdhyrmOPL36it+xomDVUvPhnswKARpq0I1lCmxqahkDT\n",
              "w2p6TiXPVvuQoHyrdJ7eCEfUL7n4JBdBucRYgGiWXNTWgTQdpdsFtlTykZ8uSDP3vKPPXIxl4Ysn\n",
              "LBzHBsTcKKdxQARvK+W/fsl211KtATKu/txIqMqoD5PP/r5xdlfyrDgSu4B1INkL3Uz5r1dz5MkM\n",
              "Kymi/OUMBNtJMjgxRXiCfCOlDvIyC1i4wnIOzHiqMIQGmJ5fXN+UQ9aSdKYCbge72yogffZ1H2+x\n",
              "VtSshe3c2VMI3FDlEvDFQJ6axCsqx8zCUh2CxpcEHQz+yDijeQOyX52We+xtTcQIRv5puBkeq1LP\n",
              "Bgi5FdSjFRm/LqtvxWsOXB9bZI1HchchlKIJmE35YEPOHMOlufXtmDjaNAm/hjABbKb7EwvsWi+F\n",
              "irdDuedVYuQa7iELaKwCWgKaQ+vwm2x7dadrrvloF93vnfdtpkaOzogecue5EBwZ3BI+ApJt71bf\n",
              "MxoM7hBsnSm1NcMp0Nq3AaPgbcBiBwb3f6QtHens0XVl3lFabN1G5DaN6o49oe7u9ANBdLfysQt+\n",
              "VGYQJd3l2ykFfH/x4AxKVGdvxcB842ETvMIFFF+WKOf2RgLOfvi5ey6whBz8j225LCqNNQnWXp0d\n",
              "rSfaBdVP6FLF86xqoSYft0PMA3ROylJvWdNqivqQ1q9+UpyLSvXqgQ10Oofkh3ACV8nbgxUuJhqx\n",
              "NKKkg7p9RZ27YvPDhOAnE2F3GOwUntZjXlE0/MafaNazrSGoZMUbrPr9/SNUPiVu+Lwb69+YLeIj\n",
              "gEZCN5pjXpCafpTUK8VadNxRSDmop/nyc2IBYGe62nt0Fl10SKQq4/S1e/qVZeF0KVjnueN9yu+L\n",
              "a5Jhfy62M8/9SAH+3RhKfP38DpC7KquX0dkP3tPGc7AaMVxolOeCPoQ0k/auBEvTB/FhvqcA/wV5\n",
              "bSEkeBqucv7XytL2fRfhd9pDkdQuROdnA1p9JiVy27AreewlUi9DlSBFw5wUhWXm+SPfWPsLKA+7\n",
              "3sN4xgTjFh+aAes0Qm39q+CcuAU44PdnXEqCdxxSgQlpYN6wlSt9CbMIN3u74tHyMsK7SHOa08GB\n",
              "99pLYZzTWQgofczIO92t+DL1Or2D64eegHXe5Y1zLghop8BJf1u9olv/i8RBQDvEvIA83mJmH/Sj\n",
              "gHlJvqHertYR49gXkMNoytVNbfWhba6qOo7dw8RR2LUJj1SqsYR+mMnkvsNqH45TX2t8zld7JCRn\n",
              "+Yw0kom7m7ruBHSt64uDS2PB6G1d6leZANOTUiPS7+5jXSmsZ0m7eRSmN07hLEEGiH69cGQsPksl\n",
              "xjz8J2EtyFWrQn0jsw1PNHqXJL9fcvzAfx+9JndTGbTzvYPC2r7cpvhqPFpMAWT2yySjEc8XJmbr\n",
              "vI3gnXJStFsx2wHlC/Rm28a0+n5xgBD260FhvyPsW63HUhoaCqj0h4VoNaRQWVczU1haQjRZfkAz\n",
              "iz3rFl1T0LVGt6/6m4nDLk16Z3fO7gvFaiQbnkk5FWqdTRJ4Hth+5cMFCI/Ko6z/6h+/O9G6YXIv\n",
              "nWv1dSrnoQByoci3Xyv+slgghas5UwxPtP1jPrFy415gebocRZ3vcLlTOa/hiIc7LUS1QI+jTkB9\n",
              "SRK5XhvwK8sKaz4KxxihRzCfpa5yxe9KfndenmYe6OzXQ4gci+Xrd1cpBuHgqxwW7XX+hLBfxX5i\n",
              "wiRrQmn8TJ1gqgUCRkrrJZkmyhnzlkYsz3yukfv4JNbUO2Cv6+9yUed+dlIv8A81Trneg1qyf2Cg\n",
              "tUXjrx51g0bSnh5G91nHe6fYaSgMwXhsDEhAFAq9mIo5lVWcq0nuORpc5nNav6n6Ft+VKajo1Nw1\n",
              "JI1NySndyqf+7VfVQaOZCZzjGpb+pXskkCCoyUiUEpZtt3AEbbZrhX8G8P+OleTbflyLNInVBIVp\n",
              "U7OA6yb4/A/f8I3Poy0qM74I/y7vAQSdryfclP0YAgb66icwfIcnbES6b8yOyDNmKXf7ST77bT2K\n",
              "D88lsu/L01S6HkuPm48zAr7V9EwEd8+sloMwNJPFJ3Q7ClAr6dvZ5P1oOXleBC7BCR+y/ha1pFTU\n",
              "luct5wlLQJKWtXOjaCwhYOidgZv5po9IFGVni7ReL2CmrMo5KFaquDIzmcmO3HVEoPOCNnJz8IRs\n",
              "fqvEiKLb/4DvV2l9VHPhFz5s+26wQ958QvYtQAJMHHp9wARlrHhO9p5atfTBvSgDyKH0BiEY65pS\n",
              "yPu5rPd79fZv+59mmuTZLC44UddrdL6di0a6n7tNco8WX8WSq8mCPgYiMjKMFD/GFhNwdW83Rwsv\n",
              "aLGQdgsfS/vMT86kc/IOerixvGxqXj5iKxbVLT8Q5dP7gwTAsO7TapKR/BGTZiEry4HNHl8UyUke\n",
              "F5MRXxgxVQMbAw4dcDI9pd/xN2i9YkS3UCpw2PtNrrCXv5WQzvQPrWFUBUKXXCR+BqgsdZDUCxGs\n",
              "YLU8g6kGAoBo0+1xhRxVBvHC5XAOGU0C/fdE8iLcAnTkJA1kYI6LLWxm0CjhCARrhCuOutH4EqdN\n",
              "THw/jcdympGfOMBVhz9o9WGTFomAXmkxlo0oWQXtCaAXHLTNqs8y3eRT7Nf0y0Z8qfMoWe5bWNj+\n",
              "kqM/8o2kLBkD70bnsQO553GtAS+42NhW7OYHfJ2AyNO6T8m+Klb4sfCukpb/DoEMF265VDhn+xcy\n",
              "jupR9CVUZjvhvB5W5dZYpyU9xTGjH3MCbl0PI+Q7eVoDa0+QtQid+qtNcF0DPcZx3ayt1tbCfpXD\n",
              "bEkdi44g39F0V8X+ETaRWVab4IBCugA1G41//op+EB8wd+1pT8hQezJfQxMlPAkTQtk/1AbA5PwX\n",
              "s2HhH91KUkSSrp09iHc5XEB0QfnY8H3+Sw8TJoFWrGuWfPmes0DwxjZhEF/oG4oACWiS1/qVOFPz\n",
              "M8DMJPjtJPD8dO9FUrbGUOsji9RWPsUYlw2+Yuv1jBBlSUgODhIWO9YBzAYZBn4lztcSrPixAnUc\n",
              "PbAacDbl46cwcDa825VEAIEsn3KIKIWD07FJvtKjSvNmw/sgVAmBmrvd5NjDc/c9V17J7iRS5kKB\n",
              "33dxn2uMcfpOVyUrxGiBrybdsYQhszNaQR2xitZ5TstMXyqyqxSGBg1Sj2s+uVoxcajTLJ8tN6pz\n",
              "/wtk8oJYSzTtfWJPLEljBOPdeQx56FmxSUPLLJouz5qQe1Tak3XrK8TtycFgSwaq3VdRal35AxI5\n",
              "jAWtvr5D/HLo5Hdo6wFVykOsTQY8rJqOQgaYEJYRcu2WMWvOEOEXl/RO/U4mQNpO/47fLrO2AhR2\n",
              "ffQjuJH6Cz66t8Icv737B///heydavx9+yw1eHDxqnLxsGG3csyaTTIqjKys7jukPr6x2q47W+F0\n",
              "mTTXk6olyFg1mtJbzx29B1eKsxniFJeWnG45IdkAf0l98K5vbTI3wOBVsAVMVd3symYu5OSfs1vg\n",
              "ZrcpOqOpytc8b8j4mdZBtKbV80sutWmNvzF5NFKokDCo/Mp0IHjbU2oM4IX1I1VmLvaVAOQt8fQc\n",
              "gPqRAqZj/XYxdXCyAvHJqTfE+gGRwM4Nbj3+p9FejoC/SeEF49yJPGmH8cYd3o0xJ86m4+oxOCyt\n",
              "X0Bp0EbXOUznBMyEYOFrYlHA+q5wJy4LrIRPgMnyyP1AEXMnmKKneoDO7FMdo6Te+oBGa9hkXdF4\n",
              "aH2Os5bg1301iEcfYulfmdrj7Idwc5Tl84FTVyS5cyE/OdLWFrO5vqJyXNl9y0uSmwlD56ZqnWpx\n",
              "yl/mE6Xvxd0d+eEQ8hpPq2o8KCJy9bpjoKsLUYxj9PHsDYbgAXYAAyLDurgABIN4zVzI/LxZW6NV\n",
              "uXtA8rc9bVayz83pyi7zn/19z2MRAefBfs5sOkuv6Lmv9Ln0zbPRgmy7Zkmmx2cqbaeFWZQx9sFb\n",
              "4I9hUKGhZ29vzPKzsQ5T98faYKMe6VLIe1JOnVHo4QjMbxTtxwGQ1MgIqV8PdhmqlAUuJ1RIyzbE\n",
              "DVZB9XqwuVXCPnBPy4zcPHrWLQiBSfo7WWyZd7BMrj7f//csjJEWKdEumYqvaqaPn1/UhkLm4Kdl\n",
              "oLtWY10xXesV1O5zH+mJ1iYg+WmgojR5Exbqpv8eTJJwtLeRtwai+ZqAf9F9cKKkGj11qgASfKjK\n",
              "Vz05K65atIrgMmFnlJB8CX4bb9UtBA1w4grPIAGY/FOfmwLIej9bb2ceXotg3QmJLV8kGvv/c8YT\n",
              "zvBc0uEkr+S4RXAmJRf05et//eCoFk8D4Kxp/oFhBmIX1a3l4FoJo1TXxhKFYlpp2YEembZjA2y2\n",
              "F6HLRNbcUEPN1VazWr7feSyQaO4aXcoEwSwXgRwHBlcerKyIHcLIGQIe3JmGZhD7eWUXlelKKa3b\n",
              "BTDxnvzofQf/jdv0bHr2QOG+l8X+cl/UcUoM5VdOQfsBsEuoOywMFkEoly2l0Zd+WiOEouPbxrAE\n",
              "8O2AM2iM/Wap5JTtpZzBjse+996IO8PX/J7fTpti3+hU/K+lSkutIYtRAIIglVZ6BdC0Tzj5AMxk\n",
              "aXKIXf+hDsr6dWltoy8BS2fmRASXhOIM2DHkVKd0sszegLuaaokYHtZg5WQfTJW5qRG8isKPy6+W\n",
              "aGcIFR8s1uL51G/5p3TmeEdnck0VGd3AqebDYSzKRok3yF/X79b4xlYhjr+VxR8SjVrxlZsvvrF4\n",
              "HoscczwqnAKto0JV6jfhNs9Y586x4j5Hzfcs2RCNf0X2OXZ8I4JI+hKLIIz+UNYp8r8LabqflxrG\n",
              "4MXlLn9unmUQDGiCGsPESHcm6xAsS8Xc46pvMKvKcJOqMEh+oV5w6puKFMOLUoUssMpmFQNgc6MC\n",
              "l6Z42Qonl5K2NJQQoK+Brdnao2z/wzIY8H5/KsBvMERink7J5Vlvis6UZUZVCx4AK9hnVWQQRdNI\n",
              "kd86D47aa9E+tAqcy8sjUPjrYIjKG7UL/gjyX4kFgP5jUG326LaCtEjTAJk6D+rg5bPLEzHBDsvl\n",
              "5UiP1/e5eAZ2BziPAF2i+ieAW5YGF4zyf8qXCZ4qbUe4gxye+39LdwmWykzq//ZG3xpwsELXRYKH\n",
              "l4bKaITgTOErRIVeBUwQdmKyoymfr22qrLvoO303iU4zTQNrmsOu/Z/WLcKTKal8umQJG9pG/t2S\n",
              "QjUqCfqZg9JflqnmV8zF1iIuXD9HJJtMO1/JUgQ2+ZqwTqt/kyFbOT3C4qBAgNYhgsNPTOkKDhYN\n",
              "tQ3/EW69GVSzdK5uraV8tjyGYMV480V5frZW2qQ2vqOohpEoZ03YtcUA+R4VoE/uiUjxaGXwfQUc\n",
              "PrTK15kRMNI5CNsntF8GpIhj4xqjFm4hntJye4q9kiuNNZd/tkg5ntPZjq7l8Ev94LgMJJA7Rt/s\n",
              "jBVMgYTq4w4MN0y8tkoP0D+lf+vu9xKNOYQu5BgOUhtBBXNfMphzI05ASa0T7stf7ibXMg8tHfLj\n",
              "s+szbkIRSYQ6BWOdWtlnDpm5Kv6mB9GXpm9DktF9lJyGS5R3RY2aNAQou5aPEqI1phRttttxwePc\n",
              "kEpMoD+DO6BtFoxlabMvwHNRbypOdhmCgps0B35mKYiC4b3JVMvyDBQ0Q44QerpEBkM+Q9/3y/lQ\n",
              "DlFzty/SlNDShj6ocCb8es52PfokHWUBGaohKvp+tv5D79VxD2qcC3S/kXsALtBm3s3dgzofKkyb\n",
              "smshV2jiKxzwfiCKVvAgvx31iEg0ds5Wt5R5Ol8i8Mw4jRDps9FhSc3JfYd9yWr0J+4YFMt9q8KP\n",
              "EM3q+8/cwu5t+W2iR5KIeY4FU98gXcUcX8w0FU2dPHJInd7OKK1D0wpZzfXQooUl8w2i/rmTaR1P\n",
              "D0DkxXA8TlVVx2d5EEptARMyIE8FmD0PvSOp8WKN2R/8gl2GMMa2ff+GVTyrQQZltYy3VjL0Vvgh\n",
              "cHEsjqIt+I6a382e0nY40l0y4ICUh2V0t3swc2CNQFzUot7Wr/mL05iXN2irEXc+WJvs44VOHqS1\n",
              "sEU50FzIyta9idTzePnaU/f6xI+D3USSAt4RfcmZWUbV8zoJjz2fTU/SV80Bd7VD1Ms8Wi5KUFqI\n",
              "pQ4BhyaYKXvfa7j4jG10ywKmgldJAOqDDeiyulvxrYItpOrbbwT27RB0trs34rd1tu7woQLphIuG\n",
              "ewZzXikJY64UYfy55njgnCkzIv+1c1IoY/WI4dfwmT6BcK8Hi8V4e5PmZ5jh1/ts5UnIAji44Aq0\n",
              "qptAXYcqJ06iC17eM9DgpEkz0zGcR9dqWuz6hLMtHfU/wkkJC23Ic+d7yugDJDLTuuuhWq7GNiJ9\n",
              "vKoruQ06GRkf8z//oMD/vaTpP6G+053dPxpx+ILsH8DRi6i4r+6oj1x/fhQgs6TFqhRX6oKjiveg\n",
              "rdX76+fu/YkShBcijO+9qt6i6vJleR7x0U6bD+OTw+JG3lmaegt0V7cAlWc2IFwrVqc+N9H+F0M+\n",
              "sTB99ZW4PrfdL4/b+Fr8q4vqwwfIWrpFyFFzftTHIWrbLVAsocB4XiUfqx7DmuFNvYMRsUoNWqmy\n",
              "Z/3uP4LnFJ0VkQlcQBN1Zoy8f/Fps1VwBM6ecpORx5E+tXQKWtM7aBFEKmfKjMq/gb8nInQ7g4+X\n",
              "ThlYTlnera4prNt2GJU49q4Ta9kU9wWFAnxtmBcUyWpGuWDiARinJBPrp+nUg195W3dmqqIwYq4a\n",
              "Uw9GDs9UGARFIendKV/pOO5pDFGsu9cMAEPAD5SpXJedfYLvHAFmusaZlK0brvyQPqp8Ua2td1Up\n",
              "5l5bJUpUFAEorFmv9fe6SQtj+9E9iWY70yto4YyZvVM5PVkKBBzjoZg6peW4EYIEmrfv3ZPdzlgS\n",
              "rYy70uhD4Hwsjk95ZqYBIacWt1UPpOMvAUn9C/obD22tUhQRhwgiM9rmWIjBZCWT69zx7fsSTybI\n",
              "iVv4E2PIgRxUZJBub/bBdqh6MZsRGh+7hhvYzBqKI+dIyqGc0I9DAAA71XTMGEtC1y8c94yVkZlq\n",
              "SIi9kpRQ/+QjJaa1wRIcosPJteDqsIHb5So4q9ByvNv37bxF9OzN9puOoOIU/z+7zArCP/Wyf/c0\n",
              "61ybouypAOt0z/qpf5Wjcr5exz9wSH0Qk4yg1XODz7L6CARGGoN0lyG8XJH7D8oCbRqISCrINGYa\n",
              "U1AoT/kpQapvgcXMZivT4eAhGgPUobKKbwN6AFEN7FSSSFrn6J06A/a1YtTgdelH6kjmC7thmZlY\n",
              "2CgiXQ5v/B6vbqTfRQTShZofZcDFCqeg2ms26ZoYk+5fMqmcvrPrdsdQh97k9HXnyQdHX4WjDwGe\n",
              "To3KUxKKf6mMaW7tAKVx/br/ospF95wPfhl7eKxavOudmJOomBUPJ+WpsYlrQweYxahOQe6aOvBK\n",
              "g7m1BtqN2LLnPsac4494ugdt0LPiGNQ70ZHthAYprdOqKFfqhOCsC5o9uSI+aiE84tdBgj8rvirf\n",
              "nDDZXJyDmO0xzJ/01M1DUPvOy8d2qjo4t+ELyg0Dbo0d6P1m0SLuMCfq0xcdKe4WChJJ9T0vzJHP\n",
              "f3oe3WwRNYqbI44PgAAE5WPl3Qtj4+MwsJb43xGNjoAa92s7xXy1uam035NncFWGGwcB6qDapji7\n",
              "qiEjtIeW686V0lQyHtPKrh3nGPSuyKmyE4rdatmr3aFsn8Q5juJ+JgxAv9IOYwF90T0Y6OYSdN7a\n",
              "5We2nNdkL6lrvVtnI32LAnkqithpgtv+VnfV7ybc6PEbBfrKJZRBIwsU/2/QVlq30KmQVXW+8bDg\n",
              "bFkykavwxEBLH14J/SlDHQswpJh/fsACjOJtai0RfBys4iBWLClYM53ZDYLhNamqWjHKUbrtPMVn\n",
              "nQ8Usl88tpNtxbTbfaliFHuKPprD/70ABWT97konhv6/2RSS3/kintVSkKiyZsKxdheYA9dhyhYc\n",
              "gjm82zUYxkfcqL6VvIx7jeG/gqkjFB8oJFsANywl7j6tbW7VsvA0AqCIil6nxqCArBLEN2wMDv7y\n",
              "2xLS/ph1zCr0DIitDcUT8pX5HTlwBQ/JWunvfpS7UPGYAMmp22QPt43S0zbK6PAxllwCMFRnRJ+/\n",
              "Q5hUAB1CziY+uWcvmP6eaQ8dOHngXGFSpb9Bl9FzQVGeLFDs1JVzpCEmTUdv/QZAJVAMw0iMaexQ\n",
              "3gGtB8GWy1xpvd5mFatgcMqdnfPYFepUvvXkZj/L0xuiruGrvojv6UteqtInD9OR6sMu6qaP59OK\n",
              "c5KZ5PS+K3tt0zR9PZZZW69NIZMPmfEeMQgZSW1xfgnkcFj2PXDF0iorV8LUWb0Be/cm9U8Tw8vm\n",
              "ez4FrDKCf4q68cpQMehqwn4MPMwOFdeIuRYcxldTTtWNCles9ZPCpQZxB40sYdrbVQ+neHiIGQGB\n",
              "ipPxKnlhswNVG6tFm8kD44BrbbHUrNFt70IGXsCXXoixmMLjvoClW0AT45xNgXrNOGpv/XfvaPaC\n",
              "hZ8HO3xmI7hK2dKxDoOckSfOrp5gXNPb2IC4clVi7M94WPXGGZyexGz4aTYzl7/Zf/Z3z7FBKsw3\n",
              "89/V4g6lwn1touyETlVja3oYWsn8mY0hPwi5campCOipGH9ncWv5c0giuXm+VEk42O/4xxKFfjit\n",
              "khaMD/DTO63NZ3UhzLljISQD5Nw/PWTNT6808pOXEQwTWySgj4/Lzdc0EcDI0/X3G1lczkbOuKs+\n",
              "mjOZ9UQuoV2qww60eaBDTyFL3lsh3BlTuuSsDRp7+4LkYX12NQ+kbK6Edc4v2hn8G+aTdSzEKfEf\n",
              "qzUWVr5sBMXrE05msV6A88dFYTr+BQExfjyCTODXLGyNuWnPdSc+B/zXgVOasbmbkVINccL5cZsF\n",
              "C5isxkSe5utBivMy2q/sSaq41Xvqp+qLyAYFekbZxIbV9joK+pmr3BALJlLwrWBasws3/1vuElbO\n",
              "+5ni9B7wGvHvMXr5t/ilonGK7m+aUxxL/QdVvkga7R6l0TWvvgOBKWoGuuiIAYMEWKRQQW5zNwS7\n",
              "s6VK/MqzHrFDUoWwrlFH6sZPJ2p1X/iRfUVOu1MtwXDUkRjbUFMZaQiG42SiOmApGG8Pbqpy4Wty\n",
              "8WV5Vzuh8/0qx0l1RICtzJhlszsmd5Pp8EOLQEkS820AhydpTZElBKubKQWRfke6H+VKgaa8CEI5\n",
              "xyyeJO36BtGJptT6Kc2Cd0cT/nMkt+emXpX+naJ8pQt/ZdUZSSduqxQ5LIOBOZhkfthTeKwaXppN\n",
              "KNXmXnKhW4EmnzVBa+Qf4lLZzeo8hcckr41eeY7cMDmab1AULT+7clcv9X6fme01e9Axtg+ySzu+\n",
              "/90V5y2xkLahUmvHGDosPAXqs8PdGl37/bFzluaQWNxmO2somirVAAZCnYbw2XLh5tgiNppvrpBi\n",
              "PZnj2SbLJIY/gdWSuKQc4avInjio5HLeaYMb43rrAZ95NWrLNb5NUUhcRS53jB47ayXhCJKl130f\n",
              "3cz6Cd711zEVZBp4f4N9plpUTEsciAO0ps0lm/cYW4N7aCFzUN1sW8ob2+ILaS7Tv6a5GI+JYFOE\n",
              "MxBdm6eeyMuZTuyCPXAOFSvT4UXBmPmvH022tza817xA/2AhNDOHkhQ0TzPwcXyW7TloOWfq/9B0\n",
              "mtxkoWquX9Kx+O/VVt0mrpITxV86UYV1Wk1AWnumcejvWzAvlrRYNILlclw49W2sJ/Afrinp1kli\n",
              "5Snzc1raqY7paj+bW+I+FNWnN1rsFuQ3e/23P+TysUtn8D2KoqjFCTk1/NCFIAINWT0VUXY5JH1n\n",
              "sXeXaRdj0wKiCqB4S5cHYCQh53Y6ysXHklgmAPhT3hJhnCtB9kVMKew/QFGysxqcnPxTr+mHjbbY\n",
              "glmviuoVieog5NBaAUrfcW9NeaJjIfbl13iYUZfQCNOqNcYBQG/GkRIsYzcZT8utAs8GApmyKzdp\n",
              "Sc+5EVNKFMZlGmjTNYIF9PJ/iFueFiENqeaZ5dzV0zdCnuaCmxDuA44CQCNPkqec9qaPMKbHNXQO\n",
              "Ls1V/Xvj5+cgmbvauInDBKuAQDoGy0BQmXi3UCVmocS20DEnzux3b50Cukw5OE8BVKM35j1Rcjh+\n",
              "hlyVHyt3TJfxaKw5OnEkTsD0nsi6gleC9+cSErcBR+oi3Grmk3Amr7+QVo2Drdc4eTozP8OtAjAM\n",
              "JMKfLzhQiN9BQGB6TxjfYQa705W1J1vLNpdcIMxSwPjxm0hAAC7hAAACl0GaIWxCv/44QAVAVKAR\n",
              "LTZNg/AEhXx8ZKUOr+aEXDkbxt77KkFn4yhp//gvG2OMsWqyQ3WfI/nOz6dYEXSfkCm/Sx6OUvf8\n",
              "GtShpDS7o9w4f2Cwg6CvfZ61Qswcm4ZYuvHJjGloD2Gx4As4Rz9CeI1vhzh3JlPZ10uExpmKuGlP\n",
              "Y14ysPNTzhdgSy+j3c5z2p3BrFFtKEnut5uGooEmN6tGgVIgvp+QaO62yG1saEBQWTvOhd/qyFXN\n",
              "LtXisvR3hy3AEk+m07o6tNTxcqypjYdMx5phh+vqtxygjpYM0O+MIoE2qrYa+5ZeBgywOLC74Q7H\n",
              "NTGYfnbF+CFZsC2Lh68/LlPXIN0N/MfgSH+fAL/dJd3zzFb4R56QHG3a2WQPYvJmlexQ67zzxU59\n",
              "qgFLnzVlXXtmZB6/yHnZlGm9LN2vPmvp3kmxw9XtaaRKDbNV/pjH8DopKIu5NEzfzaK/d04a80h4\n",
              "nkYcdpWkyUDDrt8Uq4rtLHpEA6sI6eg5LT6tqzsi2cDdcIE5jpXEcmeL0qk4CGn8hpyp6o11CO9e\n",
              "tn7xONlt/RGxyh43JUHGP6Z2UQqgUz7yoWYLag9Vw3LBmRgcHWC9aIGABRLoxIkM7acIHyy0etJN\n",
              "qDSFdstngsa5IXESYDSsy6BxL7JhyyrfhoseaQZriNJYHnap+0h1ZR8z15IClqCpf/FjwbI0WJjX\n",
              "Pt6BTeKKWKn3CgG7ueBYZHAVQEYhywrcqwyQojgABPtQxf5qqnyI2w7uav+M1QFVdRWHuYHpcoLT\n",
              "P05e+C689nyf0KvyGD9aQaiYJDpCu1TX8PLY0vwsgzPGqzXdZE30ipQ4hHnbi1AI4Vjq38sqHAT2\n",
              "7hc56biAl59uL+O+c/9OQR+blkgyNAAAAg1BmkI8IZMphCv//jhAAO0eCWjpvNJxCgbk9z6gaKBQ\n",
              "b5l5u6rT4b9aVYZBWKf6B25QvGCCxQO9jJyhKCKJ3W3/z4y/df+Jpbk9AaENxWCEEujgEYu65fSs\n",
              "TQPsr2GrVyMd/29QIkAlbodVwLZ9rtDl8664l5rg50Ok3gOwRDfFjMcI96f87blG00dVKzCkW1VS\n",
              "9ylVIypLKTDJPoRUnF5PkUg+dwYQsc/2ioQO8gsp+5DEID8p6/LDvpxHG2872xEEqM9N7xT2njoh\n",
              "6cs58iTsfC6bnAJR6tA+IXk4K2wQooFoL+8Gq3kfMgM7+g/hI3L/n5RQrCwcV3EownDZwQxiZFze\n",
              "UH0gcJOr6Bm8+Ojwr6UFLORkIVAKrMYxfJJKvrbjHkmE2TEsftgfupe2Q3wVHRFUQJV3ow1VvkP9\n",
              "NEpi0mjVNN0HSkqFTgPyFRQITRyxFYG9e4BKW/5YWROc4WIXAy+zyRJ8ao+DXNz/nCbSCtl/OVoN\n",
              "5ONz3O+zgvEXrCH7eUjZE74Gn37aeSF1Mf29LuQRu53NSuminfslFRBUESX/5ZvA/bFtGeT4hjOf\n",
              "YA8gewIP0CEwr8Kqgj9PuLSv5dWjVIV2vRcWzoeOj48YCg0P9UKHgsGRiPK02LyQttztjBwANhMq\n",
              "ePxAyKyWnv0us3gxWzY4uRbYPcpcNWlcYAoHXWLUMEofwC34sGEAAAIMQZpjSeEPJlMCFf/+OEAA\n",
              "7SetC0C4rmAWyACG+ZdAz1aBLEdlji9YbnG3KgjU2cklJkiowoV50dh2CHyaBwybkNlgs3cRBsUZ\n",
              "tn++7tLLIQA7OsAcNE0rkIfeexlYFuVk5/1STlqP9R4UNrOq/WvrC6PPybcEhADV5t2EfM5OujY2\n",
              "KJi9fCRweXjKh3XlDvijRn+GzWCRg2/bqhucxgBLjymxsBrYbCvR4pCx99IshYUetX0wN9FsgOLE\n",
              "cShLFzOL5YVtXJtOYBB8OO6hKmKu4NxQjOVzebWAAcTabFni47/sOxhfgzSIeZkpZhic2CzB8wCt\n",
              "0nG/CM2QGOixeLUH2ZtXnzbNFU5rJ0ZtG8sJzXuP4dQ/1YNL5jTD5uD+1hcO0ns27a9n/kvD71He\n",
              "hxV/qE6GqnZRxKCoFpmSrol0N+c0LCkkj/GIkMktd3V3Rv8rvc8uRyOaRd/S2StL6cHfCcytoC+K\n",
              "OLCdoYpK4/8MSQSxTcg/GDBjVqKQGgVM1DybHhSI43kRuUaz1Pr6DTJHtN3YQC+3bkiwZgcQFdt6\n",
              "TUW/ce9/OwEGY7yUFdjODu8mo8dqa68aS2AK3b082ZHFWZm/aV2FLst1MkhccJ2gO+XlGTMstUM8\n",
              "UkOldpNwqlfShxt0d+S4Ned631RLiwItlG5zFkUHPKIl1qlwijrcB70LwkD2N6qaR9EyA44AAAIz\n",
              "QZqESeEPJlMCFf/+OEAAAIqLIIPSBHSKUfD/jTpXnlg7bg7nvgR7EQvWD+KCHW5pqjcKUPlWhd6O\n",
              "Eri5OzIojM6ygAL640TLOG7dqFborxzL2Qc/nJGmHgFcuV0Aj2TSPyJilHdsUwsQYl+Cy7IN+46G\n",
              "EfCZbwCdewYBTRBbhSxFDqHJM9D64g/VliiVGOk+yx8oBrJyMbs1l5mCxcoLKgoRDbMg7w2Ww7Qc\n",
              "xzB3VSQxB7pAQOJGiXDAJuCJB1oeF9+tBkFMbVoTW8UDMYxSqspNDPfmK3Mx2xcHmaS+ZnlKjCTK\n",
              "QoBs4D8Xmkdzig57hbbrHHbIHyVMUwSe8/+iiCQWsv/D3L7jbKMys59yA4MyknzcXh44eEtwMD2Y\n",
              "hqzEakDwgpLbBxmAPbdBCsWcaVcI0TDasreI+m151H/qSZa+gEjU0QSc1Q4L+NQtsXphja5F+8IV\n",
              "RNhddQYOjT5ot7BcCR1iRIMAAvnZm6YSAuC+/a/EtJJNsJbWH7jDz+nWd8YI2oezFaOy5YA9aPgo\n",
              "vywgfY8vYREvxqY3D8mP7mlpXCGaWxXEVnqiVmL5PIS6MHPjiBInRFg4nvZRN9kAHbLMsUMsWjdk\n",
              "fVdd1W1PPxekjCZrZfOh1fAFF5CSb64YvglFjbKpKSjY16oKrpPinPW6VC+425MHiUCHwolbIrr4\n",
              "d17H0Nse7k+lRTCFmCXf6gwvt6chBv0s72q/Le4939qCswEjMGb0Du8G7munOOUAnYEAAAMLQZqm\n",
              "SeEPJlMFETwr//44QAABT7Yc40jgAiB8PX30oATU9T7gqvkBG7Q+eJzCdXdkJSFlMCT5yw2vPsGi\n",
              "6uMcVqi2wWazWwxktQEljlbr6n2zOMIO1xMOG3zQKTl9AYwU96KaxnmR36fcteGCY19Brc5gEDaV\n",
              "HKV/0Csqa1jLJKaTh8d1ucpIjQhZiBzDrvRztIG2tdcd+LJw560Gm4jlU1A71za9lLxCqjluksfY\n",
              "beBEc6JbPpvCdlJ+FliqsnFskTMEkh1awhhRL00gHL2sOAkaPqHKpyOpNjn2TYHxAGtRPn+3bZsw\n",
              "DkQG/MjXgm70YMU4r85nhqRlS4fjm75IXXTps40NZcSoGv42JBe8/z+ofxqhWNEIrQhjd42dyUun\n",
              "02E6xJ0bY4s5zLzGubPEOiqn+hp9vC6ZkoQvPF2WM9FyUJD44zCN/5OGUdDxf5RqXMLwMHBuImlv\n",
              "RqGfECVFFOulqKJaMXIcmxq5YvLu1JzwxKEKWl0gWEz7yD6I+m7t9LlRBfcmYdHj1cfL4xtkjAbC\n",
              "lseMOhWmxloeBJwRyHnLO3d3Idn6JNS8Oi4IqsF1Yhl/ezXzpzv2EP/MwlmzVP8Ecry4uz4m66t8\n",
              "8BC4Z5zKkui5Wuxih4xsuKfOcy8aAGaJxvwUbbet+FfYuzS+lIIAH6fd+10OpDXNRGMuwo3kKH8k\n",
              "t6lMdwtHuQKHl6gvUSgLjPdKzqWrk9kb5eY4V0K1Ii/80MpCq4rZ2Mf1ITVWYtMgt3QRjiMWyv8Z\n",
              "XLqYiyZ55heuWSF3vwV/wmntAGSRqrNVHNuyY9tgZo53Zk8w9tyKznQANV/uMv/1OFpH+IA+6b/V\n",
              "9I5RSJPqEEc8cLPMzhdRhmCJR0wDAYY8ZT1C0oPeYJgbpZ/sLKbtPV3hqpMp+hmF0L7e6/tTSh+f\n",
              "G8gdS4+OLPABL8wC2A4SUxImYffRki5xQgArlS1KEH+svCJaJ6nngVCLn7ts3RfshWzmoaEgWLTf\n",
              "TESWiZtmUSEjhUwjgBwBnKqY8e8wLjiSe3h1F6YPRrFCARsAAAEhAZ7Fakf/AAAVDMJBNDdrtHwv\n",
              "WpoDqeyWMbv06LfMTNZ8lHfSwxMdAKJy9gAtKBXaYdLOZFAqHl3BeLiFKpbek5cSwDPuZaX7Kp2H\n",
              "y+3h6AwJv8zGafuiGnF3Hv0kN6AW6pRIWkeLjc6R3wH1eHZuiLGzspob4YUC4UidnZ2QIgHLA32o\n",
              "VFl2trXa2x6kZowI6h3qzu9xNkdP4vhxPdL7YUibQDsWAYe/p0R8GE03mcse2a1TxCqqBo0db55X\n",
              "Xz+m2XbvMC8oJ+30Z4rD0RvU5TTUFv+5aTGFmCLnaFsshwlH70Ileil749yb9jhoy/n9o6wWXsbd\n",
              "aRlDj+vfCBo8X9VhyMjOIEMs2aZy6JSVbMKngO2yi/EGQJhB5lgAsp2kLQAAAslBmshJ4Q8mUwU8\n",
              "K//+OEAAAXNGUcW8z68QA3XnR2HWNCCZapIQCJweNvH85b/rt67ExKURsLyxzmZtfVKYxCvXGu26\n",
              "xUIooDCtJXguuxll7UWmn8xmIyEF7qfYwvua2kS0r79Gao2UbOR6cC3BTfwxeMQ9M3Z4hbtVd5x6\n",
              "xIzgWQB7yEG58Zu1yatNMSuPUhjT2AMJ9tDdW3PTdtplUqNu0tdQexY0hLOZTLv2qlLsdOqHuoCU\n",
              "2YA/UxALdLA+nlCmaqsyq9w1Rmvd0v8freJR5AoB/wUAde4KVgLhRWjilCFPSVE7fohD7+Ie3qDm\n",
              "6n5VsR0N9MgvNQXOOoEtfU9L0YbDVcylRZSbpUq4H9AVzFOXeMYt3IiOO9ZgOX9vGnjsEZB49WC0\n",
              "da4kOMoBoh5hs1O3T+mp246MpQasnKn1SNDK9gcQX7h7YtpmHui70U3hi5dPloDyMm1FGJhvf674\n",
              "9p13woUcYpKy2Vv2BJLy1f1hZJrxeuePCNgdoL1hY0kylvZQlY8uJxJCkO+XAoJsDFtCNNiO5rou\n",
              "RCUCO/ssCFnKibh4n7d8Q7tUcnp1iyoAeJgBwbIH/x8UFfIrKUkA/QAvnNtoJ1rWwD1Howi0WwZT\n",
              "psEh0/tHaG11WbmLwOMgewU3BoxnIYEzZ/371Zmn8vwOJxGRm/NnDvWCvKtVqSEyraCsgTrem8iy\n",
              "WPGYWqa33dZ/5mXHtdy4ROEr7yWH1u5vS8DueZXRKkp+pGkwJOwMQ5xkO49tUJoD0hGfSHvFU4gJ\n",
              "xuf6OwjUXPsk/tQ8w1clX6Act1E+4VgtQZW6nKM0Qf7kWuWhGyygB/nNmm32qYo3+d3WFzcjYAh4\n",
              "B+MQeuGsh57uqYMHpEH3gX3qjsEdclBvGOSw00keIPOK+WThc8VY0Gaysk94ZAS2PfP3pmH0nrK/\n",
              "QxvcXf3N4RBa7pe2EHoZ8woEnQAAAO8BnudqR/8AAHbgfN89UvfBP2vDi41ogjtL7Y4m8Fy7fjwb\n",
              "RRA9AAs5XXt/SeoErladeeB6YIthA1SYeBKIn2qmkxXUtVtYKjELw0DkPqpQ2SQDJRVkNdQv0sGK\n",
              "fJeEydrsCW8WOKOWygJwcN9C9ogaBZikw0KUt8fqLYcuY1k3powsGBO0kxsAXi54dcdkGwn4FgmT\n",
              "KjcP2Lce7eTZQqdpcqC8xg8mJnPuCNbqRo1QST6LBfi1/WI9iLH2m72ZfMYO7c4+ggReQ10sOLTi\n",
              "vKdbJE0jq3BrIASxpmRcXKQodAgJ4eauRPCNQG4xYa1GLAAAAfxBmulJ4Q8mUwIV//44QAADiHc1\n",
              "M8dc7i1tSHQACdTBKXstzEiQeM9rHivmSPcXj7I+VokOq90iN6/qZVfFxG7dslhSVKNODSaQg1Jy\n",
              "yBS3F2JCaILsqb6p6ejGL9Pgmi28BnRRb2PAcVrX7oMoIG0+yVZ0l9C9X3PCgtD31pNmY8x3cR+j\n",
              "fnxuqGQlj1R6rMRWjQb5NDHhKgGgPvUVareRrF59NthJ3FTofZYLvH7WnbS2LAVFHkyR7sT+wmNi\n",
              "kLktnv1MRCuS4L+B+o3E9ZmfrEsTIpEMIrPa2sYQg5C179H3x8mwyg919uQ+45GRgkZhgh7Ww/ff\n",
              "uJkhhySDpTkBc4+Ov18D3+8150m7LDqaIf+thDHy+4TrCo+8UivwBvf+4B4CunBC8cUqsOyqho0p\n",
              "ex8Ju9LzKyyLpvJHHkYjLaAaoLq2TlHCWC3jbiEcGxnJYaveP3car5z+HpszLWUdHqxwwxZqwcQ0\n",
              "U703xV4XLhBtJg71I0wi1vBxQ2uV0tk8tgcSFVudk70erbU3XHa1Tzc0uoerIQu75SDwv3R02lBX\n",
              "u45whQLmtF+O9uQjF0IVZbFUyoFdcsAHg1+0dgnKukBgompf81dMpfV7VrSLyY/nnDpwTrerw6lE\n",
              "k1nN9J1DM2G+NfiIGCQbh6ksY6xh5jarE2IbaAmzhaSAAAAB0kGbCknhDyZTAhf//oywAADkemkR\n",
              "fRAAfrhRkq1rMlpebc9j2RmYzHIunkj34f5FPiRN4vA6qTBd82vA01Edk3jYdFyvDLgzaGTCFzGe\n",
              "OYqCRlRxI+K/jSzpaVSuBXiydNcZBdkJq8DYyQWu/ylHM883sq9l3ilh8ii3OCGDS32wg4UJdnj5\n",
              "qJ9KnXwuGMpagIZtq40RCon6cCyv1YD8zAAdZ5sxlQ5dN/D4cA1oe1IV8upVEbFKtVH17vbm0jkt\n",
              "DzeMJ3D8UIFtz6IWWJYFLRCotzUlbW62HPEKW37RNQFQ1VN3u0lfstQNwj229aBZcdjoiPjH/rhz\n",
              "ZgzoQt8A0ihN98ssoBVkLexYWCjICddq7dZGqdgmbh8srd8YqLKUfmhSZfmdlUUpiTS/S98/rEl8\n",
              "4Sn3ZG1RYeYrCpy066cba9xxHUwU+B5h17eMlJvLWXHxM3qKxRB72+88SbcCC+fnJaorxLpc2glg\n",
              "gn+0FiT+n//7o7Fb0tTuUI76zvSS41fx9lvF0GVk09XB7fnFZwZLmPGayVR9+szR/qWMj0Kq4Z3D\n",
              "Z/+53QyZWumxsUXOfXikWQVYHS1uvYtoUghKJ6i+y5I60UkWUMrurvHpC624JMEAAAMHQZssSeEP\n",
              "JlMFETwv//6MsAACMD3IAQj0tE7bqGUAokOG+f4IZ64DbyJA2nVRC/jd6312Nsp2dyI2CinwyiRS\n",
              "K/FsMJvKnSxiLuu+2EKWiV78n4vTpUC6pYfc0LkGVBonXZ6NbjKqMc+f+j3NOYyNU5gAkZUGnd1B\n",
              "rw6BHiRnrLBiEWkuTNyhP0FlMJCiGCIs3XrPY2zCt8r5W5TSSyyPdmylXz4bIINZP8QB+/73mMaJ\n",
              "gohd3UQ0WUoMxmnQSm1GAx1plHhIueVAGSBnxdY3ZZKDxr7N5XGuobSCsRLVU4iiWvVKJXmj28xp\n",
              "NrGXX5Q7V/ZKP2Fb3YurMuHvhkRZoo7yu3CaK1gF8kYH/0Vg3H0Q/UvLGv7tFaLuf+2d2tCu0Uo8\n",
              "6GSC5XcYOKblUJX0n7sM+0hQ0HnSWF+1WrE070nl5+kXOmP5X7iOdfEAC8HkvPs1LVUoUWohC0qm\n",
              "qDjTk9ZL2LUws1QIipqdGhSXr3Ai6awq/qKnJW7OTDWcF9UtjgCbQeXR6FtdwUJMQnh9/qNL2gUZ\n",
              "n4SKQVUH7Z0OfeOqi4LydczRt57yen5Lj6/jMyfoJCYyo1B65247TToaRyNmr1Pzc6YEi9VXRvcN\n",
              "HKxMgpWCVevxGIl6+3qhrwolyyRxj+DYHeZV6vAB7PT5U5a/kESSRQINq9rm0ufj0NMPD0nPJlIk\n",
              "zIX2xzkA3VZGHuciTQvhlx8WAUMMYF0dXsJGW3qb4oeYO1O1kxk088+4Vykjhh7APPuuAe7tjZc1\n",
              "dwIbA3N/0QZRtWcGHjGlZ2FatiVnMpTuyCTHXH9nGZOiHjg8UvO3JXt4hXbdoz0tXKpBU1Q13EtF\n",
              "iLW70mYYjAi0kHgw+s7sDxt7JjtaTjbqgYV+zJryNVTPtTV6OqS9VLHV5vdMtdz5Rz6aKp8XoD5t\n",
              "n65A6gYZZ8NRJwmt9kT1iKtXXylBxwAAODBHrW3lYVuFqW/wYErZRsdSIcQ0y3CRVwFaWM1JtgUW\n",
              "HA792HndN+BzDz53XKhxi2WV+yQceXuERFYKmAAAAOABn0tqR/8AAR32xrEwxGvgYAQeGh4OC8m4\n",
              "VC5kXC3JPLttGALuafuFxylDaDaKAuRMkTcTgCQc/4cb/HZd7XOdGiXwpqfeR3pRSz+TOFwcCByj\n",
              "Bo9eAIMq8pWq58zgomja2xWRzZMa6KbtaBC75Jy2Xm6XT53q2E00PTqTwEAP8m3jOp7ppTm7X+NZ\n",
              "oh71MjCgq5W90Xgw5dUtvPlD/8vER4tweC/VZzaGKs2AnPEexZIY0R7T/GYb+UlsfiqxWQgPZ/NO\n",
              "WhQRCKkI/3+S1hhV5Zu2UBdACzi3TTqWASIQ8AAAAxBBm05J4Q8mUwU8L//+jLAABZKWb16s+W1d\n",
              "3luUzIeuRAJws4jAAIxjm3vebXgeq8qpG4WURtqTRfcCaVcZWaMB/QGrGis7x2lv8SJdcGoDnVio\n",
              "F1fJjv5DQCpnrArfdMjZJdUyT7OQxTqIgphIKTKXTMF20LDhaBY1Vx3u2rNez5dRWpUV7NTJj63m\n",
              "nzFHm0JwsGKqXCv3QStXcX8i9FyRFWIv3tOrk+lRsBFZk3QgeZiTnBoChfKh7cL5LXzf/10zh80l\n",
              "aeEAcHTCszFeE8X7X1iAFqn6os5S1Nuzp6XRkRa7OwHccEIJbYPjPKJkYWPB0Smzv5kN/BB7VBm4\n",
              "8Qxo6peAch6xquLIjSkzCgDHY2RiFNtf4W1Xw3L/K57pZlJE0lGrcU+j1GUeBl27INb+fMPk2XiX\n",
              "wJX/AEaGwZL80hC9VvW5u4GkdjyUiaYgdTFhzOi4/z3T0VFuZBG0iZ9fpxIBceTBcha9r21+9MM8\n",
              "L5jNPGhQE1PXe47YBDRT+1QkE09pYMEjtVqwysPgY1JK0eti/PNgx8hChykJ9yHDlVIERua+2gvx\n",
              "hMgdfq7ro4hGWoa7kcDRCMYG4oGOAuuert2lDpdLIElU6OagvoiaJp67xn+IppybBgXraVQK7Yup\n",
              "nplfO4MSxF3TjazMiYpjBw842Qd94+cX+N7j+X9juupWK2RchxUqKUXhoL3gST0pBq5IvywSwH1N\n",
              "ken6UWTnUIzhSl10/4LKqtH0ThxWa1ABsQqLmd0fA2iqH02OrdAA1s9ukIac1y7S+RzJSKs9AwPf\n",
              "aVHkQ2nrBM9cPazbnrEM3dBmJ3VkmxFgSreRoEd0K9CBpCYXog/eWxpNyz0BcFfaAyIVLBJOv9Bj\n",
              "pO/9pJkbiNzkD9yapB//0YHzGtNQWgwkEtMjZCUMr31BTx5GBODuQAEAAKfdWYer/3FbV1ZTO819\n",
              "JxY+a/A385jxpRzxZFlyhUA+jslMGjzC9HfusicNFxSmDV4MklrXD6Jf/bxqVd9TwmDK8T+82esC\n",
              "FuNWrdemnvQw0VY2U4LunwWVAAAAwgGfbWpH/wAC1qfPdBFuDeVcJcut6PhDydwgCcAhLfU9eEz2\n",
              "2oehc2bAAzQl3gU3b15Zl2hkBUAHcAAzUCCS1D5r1k3eWsQFQ5tGli9p6AXhFKEyGx7neL+tZCIT\n",
              "L9Ra/IaMGTCzej9XuyHtz+8RIsFx+P36V69d5cuA7z37nQ9oXRqjNuzOs7KcCCgm/OpLIWNvPN37\n",
              "8efbH4fC9OaeMr0EzxGRk8xUkwqMOJiEBAuCclxsGfzbAjcdwvaCGdBJQBUxAAADkEGbcEnhDyZT\n",
              "BTwv//6MsAAFkw/6i3EtEk1rpsWM0ArUujyMhrqsJaB/KmEq9kgGUp0wiwWnw/DAc+IN/Zh4eRsN\n",
              "dgscbYp9nAcnLicSlCMjQGkavTyDrJIcid+j0xNkcLOaDTemTzQXke/+PBN2L/Vw6AhlyqOiNkwj\n",
              "15kyGIbNASpo/Up1VbTLtiPZqPlk4yu4NnR2l7NU9VMZtprlg8Ufj+FJPz4er/JEn8WbaB2IR9ad\n",
              "hXINXYVlVsVnWJWgNVd/Gz5Q+cFSENw224UP4f/hR5NL8SNFbLy/X0ObsdNDUWR+qg3NxeGl6yQR\n",
              "y6gdKWS+iJyjPpymhSf7CQQxXhCqZbPnnaM65Vx2jMuYp+/xZrws0dpvjm+iJtPVky8GYkb0bcJU\n",
              "A75vycwnmEyivd3sUzsc56pA8AVGAZvjLZQtjxbBb43TQmKHDI2P9Rg1qPzhd7OK2zRS5ZqDcV5M\n",
              "hqsLk0UFiHw3NiXKX2BjX3c1ZgqDqyP+4t2mKz7tI1UBdO6TSvS/cSzOG0+cfJVqX5icsKropVwN\n",
              "Ntk+ZOz12hpvF0GEN0eaMmWCJGB8XLIO4FII78we7wtLcRYPakHxchTaYwUXtntmlVemxDShDSq/\n",
              "Y0uzZ4JmKy60XHuPZUP60zEXn0b1t0OWUOwVuTTB6RqiA3sJVPEZCXbG0e3dnNhuuCC0RKnA/C7H\n",
              "FdDmGPdlIViU8zK8Qpp406Mn+xWrnL1Dc8MVwry/CHzs+6PESm7NhOxdOxh9g/QWYaXd04tRx2L/\n",
              "BE+2mE4ECqRv8LkTl2/KkLuuhlBwc1e/uMpy2aNnaZ9bx23cCbyg+Rg7b9dHCvfkAWVeP1gzCf7r\n",
              "ou6W4W24IpGhE/CK6PSj7cZmj1LfR1cd1QnPzJmTQqIrjH1S1cFZVw4HTfhCnDioJ2K13KPX6ZiI\n",
              "tySRKTepVu6Drz/jy3fn1i4aJl35OQWtrXD0jh/keI5Cydh/PWvUpGiUNzbUXMKMlqYVHpXLYs8b\n",
              "xHh2SeXI0pn+IS341CJ056KupVtAJELmlxilgH9H35HLTnpl90VBX5USniIOuno+ZewnuGpLdaRb\n",
              "yqVONYpCsV6mD4SC3nEzIVjaHsNDxnmqPfLh8lZEDGzmmAjKKOkLhd6IqiRM8GmuauWn07ubBCh6\n",
              "0SVwN/C78kR+aRvzzxpQH16GdK7vn/okhGb+ryggyK/HslhEs9tXsUIDpmKZ2DA9oQAAANUBn49q\n",
              "R/8AAsV8/MO8o3sfUB44Y3TjS1YTKpIAW0OCf/dHuaTQEpyzO4byKpsNtSaM5BS0nDoSmPNaAerf\n",
              "OU2kmllKWfP7m/0vSdx7TMllRUXksM5sFTHP6V0XnVmIpZN6QSfnvjtIGGoKiHh7A15HdVUxQiTv\n",
              "dAkygtz69aVdz31ApxqsVEbdOXfLfMtaIRXfzSb2UuQmlLqhOHYJmTCyivUMh2Ec6paEq8DTFzio\n",
              "2NqnFFNcmG41KfAjkAT6uGPHYvyUvnd/kkjtDkoppOUunmbOA5YAAALnQZuRSeEPJlMCF//+jLAA\n",
              "LN2DUBBdr7/HDs4ED3nvJsNJG1MjqNZVqs5Wpp5eNtFOfbdW9Q+5SEEAaDuAptoJw9v9OVQHVBsl\n",
              "7KmblQdKeS2x7sFtj724WuHsxU2QUh3O0Bwmq0TkuFtFdjOwBhz7XgYbFaTl7DDFwexMXySjXlCq\n",
              "FqxftQLv+EOOJEiC7s/KKbubhs35HRTDsrJSq/FFLfPLaCfILfvdqpvCBtE2167ozzQRtPjEvpSW\n",
              "oNShDL8Nmj/VyM070yAUmZzXtfGY45lblbXdAPKnM6twvYmxbcqH8EswDCgwblQok6jiTfGT8OvW\n",
              "lEQMjuTFdCj19pKHGQZsryr9VJu+3+6i4BXjBXxB7sDyFMZX+R5PD76IQeCpAwsCkZMoE+IAOsyw\n",
              "gJ8bPaPQ/2ME8Ut64J/3RO9ccLXBW9PiP5ks3t8G44ETfNCBNoF80DCbwyJg/6SkByxtKTBT/6RV\n",
              "EwbQh/NA1zVFoc68l88dVYTy23c6LpW+LKKU/4wGXwJXP5/ZYDYamKBA+ICkZaEW8SHzHFXCZuNU\n",
              "ylL3j312CD38rj9MgDBRVYVIdXrnJGm0OCj/YuBZpsESmOx6pOBNody1PzUjMuigt8gB1c8bdUwO\n",
              "1moXkXx+HNMmISbHNk/6EPBZfqXZ6qMVG6PeZ2Owa/To/Dn3Vmro5B2/Ex4DZ1G6pnsqt5jUg4hF\n",
              "PxYWoP6Elmg2/qYkBBbtoclCd47AtVzCsFo1MX1pswlmvUX02cgOvPmzghXHkf2zQD6EbjnApbK/\n",
              "GdppMoXHS6RtFyBG05JjqQRoma2xkF8RaIYUxScKKZouXTWE7/gh9svZa+WGOS0KyxFrWUisLMNn\n",
              "A+vUKKqqeBB+eyST2xPSa5xqk0C7KBMyoSYjDQOFoVL0tMCX0/va3kE3HC3+8zAGGa6i+9Ki5WH/\n",
              "l8eMPw6pQIx8VE6ByBpKbvR994UMogEOyIjXH/F62hvCmzPbVmoshGpv0mAAAAO7QZuzSeEPJlMF\n",
              "ETwz//6eEAAKfieoBAawXKMQkfVqlyODuBJ3Nx/NaNkxV+VQKhNd3xu3vPUzRiYHvT/pDERpu1Gv\n",
              "xoYPXtMymxlU0Qo4qYxFXaM1AkcO5dIRT274ZlW/Stx7wo+GT4fsnYwMOtriOskj7hq7EO1UUC6i\n",
              "y9EV4Xw/n6P+9vaVnrRjrSjNpjqTdc5pAkb3C8qBL101FfjJPy3lemmYWjhZthdzVftLXe09H++e\n",
              "FG1UpctYHoZzUrjCozgyTr8rcehB+7CFVduQJRAQuNMRIUSau60c7XaI6Yt/wTUCctZ96gZIfJFW\n",
              "d6lqv8KR4NGhhdHV5+XbC1UHz3L1SEtZApzxFl6+j0P5ag0FEh1p9HPDZh4nVcRkOomzNYYImlNB\n",
              "X/GmIkOjZnLVVLaPoEQNDT5hVJ+WlupifL7QrMPiGYn2npK7ayvaSt39jxErcpkMNCpLE+TiBfl2\n",
              "v6DcIIGtC4r15bwGdJ1Vww1Y4geANavKB555Rca0cEEs/gwIWtCqbtgKXd/Dw7bfRhW8cX/TJiG2\n",
              "Hh4DBT3wFcD/7tZIXrFImDp7PPDZFZM1iyQlpR+KGqgV3Yo4BDPPNqB4ZSDgNPxPRmYdLD8SF7/O\n",
              "Ex+p56NYTMB3ID/B2f9pFFSZ86aZcuXOvN9v7/0fyqajOZG2HsmbwgJXiuBOroNxZrgbAZpZHK7J\n",
              "8zGlYQPU1fwBcmDIQxIBlBr87rt52n9vh7hSQDisk8lF+Y0y4mq6n8GTBAWMVCCCjNIlU9PpNXY1\n",
              "hU0YLD9pByVOCPSz+wti3Z+eBGKryjLHfa1LD4EmiPm9Y9PS2Jr7FMrmZJA8mH62nELBZ3hk93OO\n",
              "AbQ+Wwb95J+/yyVC0bZ5sCTx2pAbM0JEbJMHxYIci37rSpBVRsQf/C+qxE5FwOxgIN/y9ce3OzJb\n",
              "MVB7ou5mfeNZc4DQS3f+FWrT2FLYeVOFHpPUkMC98TSevJMDcpY9UkIZkODPPg1ehQ8A/AnLgKTP\n",
              "GX8qLWS3d8cMel2c59RqpC/HJgV+Fm45w9LIdIlUhJrQVVtP3XHQ8oSK0MjjZ3ncd6aejg+rIq7p\n",
              "70aQOrZK2ratA+scVqlK0dpKJns5Itc7lbr40M4f2oHmKy3QBT4u1vHd2beEW8qEqbsrJcjajnxU\n",
              "1TAQTW9DdvBWjG0bJxjlalqqICv71/uPNm+XSMDJIbW2/1cXKikKZMhIeYscReeQk9s7SGosoB/R\n",
              "jmdUWVUoamHC2UcmkG3gwPxP+fkNMkwAHW9wigLd89iPgQAAANkBn9JqR/8AAuo/TDIZBbJUy619\n",
              "G5+uwAFuDclCaIUAVXq7DHNBR9QareqMxwkpsh03mddguzF+RuKgNZlugcbOXAWdDVok+5AaiqYA\n",
              "fdoeP14xopduR5KZlDeg/cPiR1M9pZKid0vRHQe/b649c4KxpDmSBvWTBIk8bZHTArX2ZcZIf7cM\n",
              "iNB5WV5tgOYhTi4hWpIeYv+5tHskKbPmf5w7mWaC8cCkkMelbwNPnf9SIN0XqT0W02EW2w9Qn8NY\n",
              "W/X2d1BkoMQgyPnvNp4T3JQpL3bnE3n4zQ1IAAAFSUGb10nhDyZTAhn//p4QAA1+5NyADa6eCPdK\n",
              "gafnuVp++NCWzF5UA/W7StrVV2nBibW2UJZVUcO0fh4teAFWEVwG1R3rYj/VUfbEdk6dJGoKpmzF\n",
              "UvA/tIuvkaqC1xNWSekQ1uuAR+HEzlzYG1D66UEBKFAXplWARzIHaHnp6qhxnEa3lBEw6p4jHZUs\n",
              "m/LJVb0bPy/ptqenS3PXKVtgVaQFBbZ6HBGP/R8m0lvnvQbM18QT8r+sYp+Oo7WQT+YfGDITWrlS\n",
              "I+aG/ebziZw4lhNIKxdG6j8e8vPRbnbuAP542dRm62L/LuoQUVOc9r8DVAW0p8VIBaEw3gf2QoNa\n",
              "t+DE/LEc1pEuo1OzaUFJfDxj8Mkn/ZilxpwsktKFsXSh+BMLLygz5KUM/AYMLIOXJLykTgDdhOY9\n",
              "SgAue2fnATNHCROcVuYrOjeLzx7lfNM3bqtdXBC4xSAAJVWkvB5+Nn8cB4m7ojvT1+AQRqOA1CVM\n",
              "ZXOBXdZATyNtAVAE6LSAZNB/Vq1T6Q0MD6aJcZW9yA8IBPlwRzOsu9dW/DeS2v147g8dSkGtP1jC\n",
              "Ca+v+6HODtIrmiPH5R6IvjsqoG0WaQaRk4dMbv0MKahCqoXhpC4izlKg+yyhTgAI/RR06t3GqNgq\n",
              "Owy8Lvp9JW7arSVCG7Zv2WuQ190x4kCaur3RXqkmb1Ec2p/CsergjZFlDbtGbXVx6D2mKanD8ohW\n",
              "exzu8Z/MWifamjJzxT2VQVphrpdQ/Gkug1caUlXsxB1SX0ML93+0Bz9Vm/JvbNfW7tyq+MEe/T6G\n",
              "tMuVigu+LZFJrrYOkZh64mwrhZSwW7RGvt8uXEqSfs28kXLXkjNRGHo04RG88hPRCyR8pS23RdjR\n",
              "xTXB0c3Aj5gA+8g0ygV17R663R57i0HGsz3m/0yqCCMHOPADuBVs4MvHtmyb8hicTMuZI9rg4Y09\n",
              "e8/yf//+hqfLWEWPSuRFuj6QoKyh2fMPexneSldU8srl1tEi1s5PUpGrVwNVHjuXkn2za0Abv7ja\n",
              "Pw8xJMe0QApXzTHeRwq4MIWdM2faPpsnUtVWK9fVJvg+acTGl0nn8SWEcSdUgqerbBL0CNAUItKa\n",
              "tcSzmNW7xWlgbQRsEZZm0jy4ECEUq3NYDIz/B0FbzGE8ZrFQCcs8WlSGM+lKzqQGBeas+EBuzlvh\n",
              "9WEIiVI+CMQ/EPWAsc7czq6jvC1xsY4GXKR5L3i3NN/0XK86Lb9bTIdpO8ACZxYrqU5QHi68LJ/f\n",
              "yNOmIaO6enufQ5fm+75LM/AoCzgRaZPC3RMXEnzAt60gbYKA4h9i0GopTgCCS5akWfP5p8juWRs8\n",
              "njC+TOsm9MMMJd8a7xisJ9xv7kT3zgr15jpapC5UWxIVtwdubn1rqy4oerj3FIW9fq26vnmq/tsK\n",
              "ehg1h1iT3Jrj/gYNZPdeY4qx7z2nGmWbZsYDQ+MqWzdLRPuPMjyOCDKa/6xcjGanmmmVRt4RGC29\n",
              "RvUObm8MQeqh6S+kSm+dLpDULVVOPDpR7ejB+OCuqj6g5t/hrJYzkmGKQzwr2TJQAW6FrQkIN2Xt\n",
              "FbZGxI73JV2G/XpblZuIv2AWSlaaXN0JRW42udgNBZXtpXKM3B3v5mO77oXmp7jPDykMvyZU04lj\n",
              "t/UiMH0jG5iLCd/PwzggO3j04zXUAnnmZu8vs2erIw42tq2d3RU68uvEFeTrhqkDP3+9HSBvO0lA\n",
              "JldUrTT1Li1X/+gGLYKUmSABTIjcBcd3RRxJupbEiBNtx0abeoeoBopZC3Bxb3xzzGnq/jJeLe8+\n",
              "Kb/5tGgvyLSlZjJrRm1kYAAAAcNBn/VFETwj/wAEU6TeNRoFBvEOmJooVnmiCAFuedQnzfqHuIXd\n",
              "HgQLDIDoyNmNsgQtCT1YN1h/X6ZSCVyxSoGOxGxKZSi6pr6LBd/gZBIK19eTkMqGbbM5ddkDrn9o\n",
              "iKelq3mDm3uL8shGD+x1YQjFdaRrcklo/infqTFxHvIS1QDGtc2Z1qAfVWqNoQhsmEs8BRpLSm2H\n",
              "yqoVTnZX16TfgyD3hm1X3gAQUqnbG7yRtB9T0h9RY47z1MkARh/ZaX7heevUiM5n0KYphKX8A4rC\n",
              "+DgmGN1vVBnBEAggN0RvvLz+NMfz+M9CfgS0s7oY+MSxitNihk6aNZrdDJd7klt5cq3SYb5BWTFS\n",
              "D24fqUII80HU/Og+h9gGIqLD5BJtFvAeWGhTK1KNc2uDu9bQJm1H6AOVyoE4bLzKfpCZfGk9/+QF\n",
              "UYp8NlRI/2wjHBGBNshI8iX6CXfQuBmBhZYFQjeP2YbRQC37t+135/oNhfTNN5I0uKZn5bJAAgEA\n",
              "F9mp3Xj2pWFMVNOPBxWE71bvxckXqPXagDF/zzLRTqwS6IEewcqv0kTLSDEcs6r0QTlGM8Ygn4y/\n",
              "fZYUzH83w5J8YY06DKBdAAAA5AGeFHRH/wAG6uEn1wwwkm7l78gAWxGvVRODsO6He2tPtvi45bmK\n",
              "NWhJk31Ev6yKl55I/9JirFbWSZYk2XElV1t97hl0P4hoekbCayWX0UICoYmmpJ0bfvwUj0qk7XOK\n",
              "lpO8NkmYnPlAdjQ1MEfeGpW0s52z3gUwoB21bnN+G1Mw4NCqktoyAz+0x9Krae59msQvdZNg6dYQ\n",
              "/vkt0t7pfPt9rxQhDEavzo61vljCKSiFbA4YtEpS4CcGw4mppU21ZLMYj/EM1QpFhwXX/kcbGgrD\n",
              "EF44RCAt2JYcuIVWpWkPEAQB3QAAAPEBnhZqR/8ABtQBeOM9doaZPIYDRlWoAJk0YcMF7cXzWWLq\n",
              "KK0ndZUnIfOqNCwaiwkS14/aRVHI64GbOgRBLfHT1nCUGAGlGYs38IkhTReLcOEDTFd1aVg4axLa\n",
              "0Eva/YzeB4eBr5rUZn15jbm5mCnJbysTjba5yg7tq6h/NLOJgjALWZKE+a36ihKvtYFmWyjcqxmI\n",
              "c2YmON8WfpxDVofoXN5/LwVTMLFw3+YoM9GRY9KdI+gg11oS8J5eH6CXo+Is7YO+mwZuq2ShCSRf\n",
              "j7Axs7UU1MGt6W/+MzRqDnNi3v/0DGaLxt+DroUJSfYUIG7pAAAF7UGaG0moQWiZTAhf//6MsAAN\n",
              "49OgAON6YETzddwrv8lil6Ouvjtpfp6PlgLUspT6c3K5UojgBc8AiVfwxm2zY4ZSYH3iB9aGWHyg\n",
              "JdK3McqOas1G3fy6gij3Z0jWxlIYcI6pZxYZUOz/18ubCcsGNoy1toAUG8KvyETXvgsjOadTuA/c\n",
              "VUBkicwICyW8KvZqgx+8YLpVPhdSepL+ZmIbcU8qoxN8VS5wkZZn0rcDn8WptZzGO+NhIdUFhOfb\n",
              "zBsHdunmhBaookAFFRfOQdkkujkWjuJZcqzGc0gwSH84AeG5FWRpXtB9YxQVAbRnnyZ7U80tA3Lp\n",
              "2gILUp8zaEhzHx73I8gD+Jny+cc9p/Pt3puD61Z8vSfhUOmA7KOi4YHefd1fGOOfQhUt8wwZVqiY\n",
              "IvgFYw7FcMwdSqFfP58rryWT6m96lw9Ay3gcIZT78Lkl/zLDcTz6BFUldOZyUmE9qxZfw4FpsUGE\n",
              "QmfdLKTqca2iT/3tT+Eivtuh49nTtGMSiF/7clqSlO/74xdS52UMuaDDW4hkYTZNX6+KHgEjs8Rb\n",
              "luL9vT2ipOQxsF/hkegMeg5oJUpGJcfcjETtGnkaVwZo+zfzbLzz4U4yMcVZ1wmbWmaS30AFqjmo\n",
              "9O5EKkwbAoYeMeAyUQpXLBOJwOEWPQ/GzOu05fgLE7+t2mkNowdLCDYCYKIasJ06xrEmoisVubm0\n",
              "dSFjJubfhL5b1p3rG8zjRvMMtBt9r2a1xxHar4TCIPe8NJNQ36E5AulEHhBI9HxZ7JzpDmGs5L++\n",
              "V0hhXJzw8YhZZa7mz9dzJF2S34jcsLpSOreVuxYva9qbGX3ifnbtUfMoe4yMCHm9ymAXvj1/7bwx\n",
              "eLzuMoXzZZ8cS3HoJ+vRcvf4QRsZEFC1T7xPqudcZuA5oVVF9RkLl4TXzOj24NuxtX8rZUait87l\n",
              "mL0dGdVw2ha7GJ9k+X9F5sNL8SjyvJF46xYMiFAP6L77d62YG6pjBcQLCsRKDqY1fKAaBC6NittP\n",
              "L2lpQVxthdszpaD5N5l4inGXd1+JwqaCorTJRYoJ+AUJZyx+EKG1ffgrJleWzq8xlMk0tWSn3qvO\n",
              "ziiDYNst+HZOqy51Pv9u8v+5saj0ity2z8dPGYsq1AWaiAt1TH6S9i/v8Kh6w+UyHjBIgnM9OTsk\n",
              "ThRdj10mGwuKwrF65ZjlPet+6wTgP+IKjc0uM2neKctSLEMDQTbQLd0M+SZK9M0zNFdWRT3+LlJ9\n",
              "FEMY5JgjdimFVRNDxXMsxa6hwUplb3ZX2GxMJWOHpCNKAsN8cQrSybEGDVKNOowPbnKmGYvmS848\n",
              "VjtymS7X+t0o0aUY8X/MMVadXhSpbu6uJUobKhOCD4f7x01bxjHofLAnzOHqSiSOpXwtW/HNON05\n",
              "LcGogDYcZ5/Pgi7sdm2yqaAx+dUS6swFOmnWldzZW5jZcLL4DkYVyYTaOEMWjfI7qWbLd0Ltr7sn\n",
              "ZC9bxrgOo/b6AuYdBmAO0hhF6Qx79R79xTyjkAzLmoaRh86xlXZSFVHrhb2WPW99vUTjte37ZUxv\n",
              "TCeSlcHFDTIK/rSRkZ5biOwHA2A6U7ka/5NzkA68AyHGR8QRB21V3vIK2aL/95oPSVMLQ8su6tm6\n",
              "qykTHoKCByeZir6PasblUl2aHRuLYtRg5Pld1yI4LeA3hIXriWsAowT5K7EnkCziVHsSz7z178rM\n",
              "g1Unt/TPDaohnmJnME+tLPuA8cAGqQx+lGLUH/tyGp3kR+e4elciA88BToWM9JpJBPcZqdHj4U0/\n",
              "TnZPQ16t5ZXB8ootUxM8Khn4hEq5Kxi0R5lnOlnh50KW2Jm4JijQCQNTx01+IFtdf9OY1VaLuFCf\n",
              "ywYd6ZK7jg+Gy17jOKw6jPgIwlKCCU99zisVr2QJheZEmcfO2Ld15bgseEdK4NgaH0BH7j8rxHJ+\n",
              "khetDAF5x29Q9TLy9HihQNZWTwLPkWKS03xONPGgFsWn98ylrCGo7lnzJ8Ytofg4NcJjlDohNFHW\n",
              "Zxp5fc83cWb26IAn+XVkA+pJAAABmkGeOUURLCP/AARmxlBKNCg6r9ptIAJasPhFmcizvmXYlYHP\n",
              "IfMs5eqi/ySllZ/+iPGJyWBsB+B5V7ZBsSORSMUuAjS2IzhjrXkjf6utR6V6PCZrxqmfxbA58dSB\n",
              "gvMtj+cfTLsnQ8KYVD01aA2KrCmAYjONIOJnwLmFzCKS8CGOCxiDDDDv2iVgVBX+ZN8GDyLBlZMA\n",
              "T9iz7wjS0kOdxfDR6S+xEh/b+XisjstJ6xohkaIhhlDq5bnej0JDVVnw+aUasW13v6HMh49DF0Gx\n",
              "G5stuufQT1MWyUbfefZez4X4qdbG+UXEfGlicy7VankXZMZLkjBj7/HyB2T7rFur1y2exefmQFUY\n",
              "XBDyjxbQBSb6DVFErOg0vpABeEuXoJy6czcV0ky7ITDU/KLC0XuzEJxJNXVDsuTjWZGdP3lO7Xil\n",
              "nVo6w1N0MSY1bYsadYpCL7rBTMDb9rjVWyX/+6KgpO0YA2Bq6vV7dbYcXIFva0xx0Bg3BGHOHmzF\n",
              "XuAm9nNPnJguGN50N3nhuIt7sse+QVtqR1g3FI/+CGfAAAAAwgGeWHRH/wAG/I/1Xuq/Qsg2BcCF\n",
              "I3VJ39kktLKAB/ZANYxty52htxwAQvvKh+NpGivU+UbA09Dwdujdz+qGUWyeHHtKshqc7YxODG02\n",
              "KWnUcvCaiIONnU74VFmxqM+3ouOou9vFQ8WMJhnnV9B1h1EbLSysmzQodqvR5K8ZEMRA2jfXuBEA\n",
              "S6xH6axfCWIOb0uCJ3UlU0XmWSj/fJXhEcejsbozHia3CD6pkccpy3qLruSs0I1WCQlojRHiWdci\n",
              "IEndAAAAsAGeWmpH/wAG/IFkk8nEXjedamAC2WYABL2au70hPx+ikoH5fI/TDVi9NZbXM3tq+pQA\n",
              "ebiEr/2q0qIpO3NAWPOpLVSlTF/vX6zP0nR1e/Oh0wam/vAO1g8FvyYPOLfXQ6+Rb8D05c4pFzj4\n",
              "TQS8nVwGrP1EjVxJtaC5mz5iSWUYLFfEI4ouVwPC8v9ZWPQx5qpkjnqh90xKgHhmLOUNuRQZjAeb\n",
              "jdazFnkWMQrgMDFgAAAGGkGaX0moQWyZTAhf//6MsAAiA9yABx7Xbx5RjqJBLVvOJapHSFZMKm72\n",
              "LGLH9oe+Snkvyuvv5+4WZf6IGS38NQ0mXf9sGg8nDhi3Xw1030inDP4BMn2cUeprm082e6GfoTfT\n",
              "ZsLTeHTTOtPERccdENQHabL6CYO1uoLbLsB04j1uI3n0McOM4Bac7EOxVryojuMOp/Alg1IB/YCR\n",
              "76xx9Lo0R3PwGU2FP3ymUqJJsEXl/LnFjtABMmUcSYhuZlQPE9GQax+UabxwoGLK8h9oZV1WqA2t\n",
              "ux2XSbiDfv18tcA1qf5W6xrfT6/k7oLj6y3hhCftq5b0iU2bDWDAEFFcz5UuhNFFmONtAf5ybYav\n",
              "b/mxUv20PFPf7/dAmzyllLmc9Xx/ph/8YTFVyGDWMIAS7AG02M97F/uYczWtYd4h7/q2tQWZPAbY\n",
              "t0ZkEQepqWi/2sirZq2gdm5oLKnTkVdBMofylCOgv1Zf5aOrS0CTZosbpledNoWpnvvS/LB3Nnmj\n",
              "XgMJCN9HHETg75quapd3U51ZPuOFzLn09XL5o6xjk/XwR9Uk8j44oyxwRvGe4/j+MLgFmCKAkwVs\n",
              "mt1ZSyr1dnl7bQqD8Rw4eoH5ZNCDwuQ9kckvaX+brl1uWV7O+E7HquDjucsj30MF5rHRuHVi8bAs\n",
              "1vcqy7K/nv+eDVkAl2k2GejrDBBXu+YDm27eLH3FPQgqOmM/42oQL6EGLFjkUnaTMMziFEAdYAEh\n",
              "51vEIZH5H+ef3MBaxnypmo7iz9m/9XDlMj8rWotW2ZYzNWoDXa0TwzIPO0X/FSvLQs2gIv/B59Uu\n",
              "CiiGcMwmzFntUTUF10wmaoGEAugG/kMsRkW+1Zt0YYrf6lw7UeKKlePDrB+1tfhKJB7oOdfR2HUP\n",
              "W0gHDi/t4TMDE4pxQHm3sGs3B20NH3y1GDvNNiDTfoT/hWChPqPngBKxg4ZdBP3/f6JL9sKtpqlZ\n",
              "AhARkz1BINbw56AXUiFMPrhP1d2b6NJPxXuCv7w6fpoNZwxQZJgorKh0rhZ3Cwr367GqAARuQZoj\n",
              "cvswJuFPaSF0WdFg+PeEpxuda4xcVtPWWc7G8hBBRKn5+0XtaxJrdQ/cX7MSjik1bpfT+pwqOC8I\n",
              "VmWAcbQy3Id4lA5xcW84UsW51TkVZ+bFIAnP2FVb6i2DITwjlulWaomcmcL0dqMsizckRVchtGKu\n",
              "n76Ev/oP99TYOHjLlYdjQYhWvGSjV3YpwI3r9h93hngkHSyC3/kFbgXkDF4x7QBklHrb0yBOnVFz\n",
              "AzXmmGmqHz3VzDOJnLjbQeuQjk1ZaFo9M6JHSJUA7l9PfXGvL9kUtMZdTF1BbdgrsN18ESiVpTg3\n",
              "4NB13xBADiApeoYqBDMPGOveVVuL+T/duQ7i6zRATxqQsI7VjvHoKAXroaq4vlZ1085pKo3khEd8\n",
              "vHLbvAyvkcF2YioYe+FWvNEXk8H0C91z3r1lol3eYCqNpmF0oxp9OWKPajwyqO4b0WMDvUqVRCSM\n",
              "O9hSzMoN6I16Ng8dlABBmrHSBymfT3uME9skdomleLDsVnzY1NfU0+EZEhrxPvK7+Bbin3406nUy\n",
              "N7e9XG4p4KlNdcTLG69VZ/H+3wmFV3IEX+Z0AKk15AoF2qFBP3iLaW2dBUmWu3EFkD//7wNaVSE7\n",
              "o18lKLJYESbGRI+OakLwLt1mwILy+jegrRglue260/6ZMXjv95TQAaQtvAZ+bg5S7/k+CEEfebeO\n",
              "jH/rlG/hS5nUYcxXmOlMaPG+KIZ/YeyrD131oNgeqOUnpf6imEGB+e0NM4y4WCL3LjC7nMcKKDs0\n",
              "sA6BhFxeaE4Imn/NxdAMl4MNqRgyj7CsD7MFt4HSo8F3rhjrSw6++Kl+1J7RCt7fiVkMmZNLnsBq\n",
              "9186nmq5HHVJpyCgkWfwy9BDuXjmUI8rl/IogjJxJ3kDIsic5SWDRS1sAbDXQTPrL3L0NgYMfIpB\n",
              "/KLmhCjH74bocOSaE2cLUNGrNQfu9UT6kan8NOWVCoiiyG53SK+myp1fGpZxjeiM1csYUqe2inue\n",
              "LCBzP79l9Umyl3J4aJoi0uR41NfGf/Vv97bHeUz6jjXckd8rsETBAAABtUGefUUVLCP/AAsWIeha\n",
              "2dULrspxdFqIgBZoZar0GsRCwM/pSFoUxgegGnMVeeoxJZ9V2z7Do1yodh1OkpNEufUFseX8cVQX\n",
              "iSIzRQ3A6l6YcrV67TSNlQ4xgi3Ag5vF7t+GydtNn04RwcHjZ1aCDWIQaFFT0HHOckCsKdbEklJz\n",
              "QIb5KHHKQ+ygR7vkp+b04lEg9BrgDvvuuUqQFGcCAAp7Z32SgzsJeCzIc4ibBr5pY+VvOjSnXQ3Y\n",
              "A0tqAHn2z41V6d6PAwTRV6PYXa0CI8kQYaBDCMhjwYSBraJepC0Iv+NvbmG1PxlJk9zv1ZpQCt+G\n",
              "eXt+MDUNWao5JFJbRaxHDZSnt9LNRfrIzNoAEcQ+ocqcRG22dRYFfJiX59P2Lvz+Fhq+S7KAd5hJ\n",
              "/NFDjo7VKHDJKfl9wGCorPWG/m0vZpNFzbKjO+QBTCNVHtW86PVypQZiDLmMTXSmYdUl+NYbXzkx\n",
              "DACpfZeTRfk0u+KcS0i0U93Jwmf2J1WN3CgplsWwic0kZxAGQmO0SzNNcBUap3cQYIUDASAeNJ16\n",
              "2u4yWGVm1DnDpp2GeGlGtkY8AztJpuNnAAAAkAGenHRH/wAG/GFPQxF42N1xu6QAfmtf/E9866u9\n",
              "0mNLLnwXEWMGn1CBjRcHXCsU6XRmMTcpWjVzV9Ky3C/tikReIxLDai1uLdY6jBbRnoZWvW5SrQYM\n",
              "Sl+GFPFyT2bJx5VkdGGEPW3C4CfO0/P7Z/nPSIgKfNlUoEzhoTPAkfbaGJO2P9SEMBZIgbd/RfYF\n",
              "BAAAAMABnp5qR/8AEWqQgBGOuXukHO34Q1rN++i4TcE+wAsWEHvaoCqpq6gaP3Seu/MWBw9iyypm\n",
              "T5zUNb0oUNfriEQdu3/NViX1GUpTfm3sbqbKDDA8CAFNLlqbNOAwhB210C6dIE/7zAp4Vk09AaFJ\n",
              "1xKCtMq+NuN/X3Jvn6FJieqZFPCdLqeZxRrhJNhlq1vDbTu/p4P33OH3gqBviJzzmVNmER8lrtz0\n",
              "nZ2I6Xke+Q8dnUXS1mUzQr9SEm/rQ6BAr4AAAATZQZqBSahBbJlMFEwz//6eEAAhmzh/mESAG01n\n",
              "7Kyo3WvzfJwpATDPHEmKTYKxuY0g5z9z1YShvE7p29+LmTxiaFnGU9nJMkE0dlvZ3bGcQQu9Dksm\n",
              "wZyHRdTuM7k+OPQVvVeSwOPYrBEmiccdAWl6pXtdxc9q450r2uh0QoEOepRMlaBXM42l6uqnled/\n",
              "EX1hk9PeL/O3Wemlt9RnrH9Dwppk9vpGy1brURu4mjWSVm3dSVoRkM3xYDB9nATjXk/W25YzwbSn\n",
              "PhYdfiTTBopbxAEgfntMj8UaGPksMc9Bf+ZxzUROwrxuFyrIY5N15vLHvNoYL9AXsxEs0CCbd6Vl\n",
              "J12M/CzsCymwf0/KsRpR+Ns394K4AKeJSP05/BdRlSWzHC8ObhiKNr+mns7g+AaJf3Nd3/BYPSOg\n",
              "XfKIp5H8dgT5aPhij/BQnK+bdP0cBgKFndDSZ9gbJqzE8gcN9grytSz3uVSw7HXukApn3EIHOkBO\n",
              "hVAe7AtaGT47N8c0WRQdSNVbyKqyEw/NigtY5Vw3mUAwN4wAW3A7U3qrK01D8jFM6PIdPEnWiCgN\n",
              "mDv+93UtBj9EjUjl2ulNfPbsxN4OTUF5CUYxvqwf1FY35QosPaBL5M3P1vuSAA5R7r/U/Xf+goT/\n",
              "Tm6GzDlaNJTTk2Yt0ZbwtpHaEb2wgrtzTCbbsUIqdq/BbIL81bAPc8IXBFffuHKG8vHq5hFgAr2b\n",
              "S8wuEJ9ylQe/HaMfXl68uJMIzyZpsjTacSpQAbME75C2ebKKo9XM67WWCI586V89xw4y0om+rIew\n",
              "1BjySB7EE/LMev7iLh8d0Yp+DG3r3rYs0tN2hC911uVCZm5ySw1WuNR/jtXh4mOTnAx2X5vBYANz\n",
              "oam3VJ9xVHsu+X0gw71mpw/J6EUJxzjE2KgvEFYl1i2pEtHs+mJ96cLKrSH6z2TpjAmDoQvwWZmJ\n",
              "3EnoQUGbeGRyQd0FuwI7n5G6nD3sWns+h9dEZeKqF3H375YfpFjVC4G1NuXDRGTqK+PrzGOk94b9\n",
              "5Ptc1uGSmep8f42c58PcoZ9OysXn2BomUfyKiwMXqnySUf3Dnm2wjrdfXGcvPWMpJaizZKoO01Fl\n",
              "0uPifRJLdWB8mZknWHB1bR1ir7wWU16O9+GerhhFeQSojxPAC6Hr1isTU/HmoET6mfqx+XM/3h3y\n",
              "yZkN4EzP0/FYyPvpOmecNH017nadbohCMgrhFs1ATxLhkvMHUiq801t99uOcVbVAYraKwg77f4p0\n",
              "hAFFynr46EscJwoNisUiMgyJ/ZSNYlGWpIkZc9sKYFyVM4mz/9jrUitK91OimotxfwY6SGf4nEmb\n",
              "/6765R7elbqqfvUBMTluYLiqAI+7U54nkJavqiw4rHxsXSKmgBDPydx5qKanlzQOgKvVA0cv8Cj7\n",
              "gQvoxWnrBpMfVAdFzwVE3TN7SUz+BqmLSduYLw+QqTztotglXU0GdTubve5qxCVMryGotmW06RMl\n",
              "Jw3ulbdaJbgC7xdZG3QQRrgG4zOJkS97OCnXXexwYM8eIXV5XiqO68s6JALKZhhGl9l5Qq050Wq6\n",
              "IqtIW7g50F2+ehH1LSjJ+yBCipNc0leW1XA5ytF7DtsE8MXJDrV67G9ftqwVMRyJQKVkDZtHA9dN\n",
              "SYmXJh7RchtrFu30oaqSGl8AAACQAZ6gakf/ABEcADaQzkAAasX1e+ejL2Z2sLZxL1LwAbStRTya\n",
              "RAfI6FIH52zAm9/CJSMWXqcm1Axt3dg9vxO9BMZYOsous4zB3OKkwHX+Dkwran1pKBGqxXQuxLqD\n",
              "XzetEkUD7+d60KwkBgedJeUeyJA58gz7KT8F1WKPRXguFLtNY5IBVM7eykyqsmA1MgNSAAAF9kGa\n",
              "pUnhClJlMCGf/p4QACHMGRCjADT3cQJCd1ycvgsb9ajEga2YerDLjXyre5qEvx+J4Y26qj0t4n3l\n",
              "4VQ2gfPN+hzBYHWpyhkd8a6gFGtfjY09Cjd8+yUC0i59hl+9EYQgUZgyl03TfZG1NqoNBQzcwVFL\n",
              "XupmkNr9irXKnggVevuiq3YRxcEk0ulvpSeHcH4uUgCFEe/BWN56QGPPMIBFk8ubAD9znPE8Cecv\n",
              "c3hBB0qjs+VHl2n/8+rThoR1XWnIoMQ7riJR1SQ98DmK77kAraNbUAlRtm4NWNGdwm/8aIGNx6BI\n",
              "eBMCBiIxJO1OH2lEUGoggHlBemYS73TLuk8OYjtCzx1+8LtqKSxCKccBEbqVbMtCYQnNfr7KnvSj\n",
              "EmaXDGphDxEsa4FpvcoAE5esOo0tfegSV200Be4gLAw9HOMcPVBZSFjN5i8E9qVnwpygVz6YJ2dN\n",
              "HU4GxPyKTOvXTYGOUTeFSLuRTuwNYom2x+nIxgzWDGg9ErBC5wVsdCKg1VMmKxLQLeX3+A60XlB8\n",
              "1f0cBq4b07gWfEBTn48yzswKUL3GTRrWId9m2mEVRN2vFhtQXfDRy50mAVBOHw6lPfOGyUss8//K\n",
              "HZ1wu6Ev2l2TBI4oVOfDaxgFXrTB1aggzxfKN0YXkfIakA+gAQU9bFv2WCo91vTxiIBwmclyzRKY\n",
              "9+U8Yu591Nqy+0SpAI3xWVfrgczBxhWhg4zIp/ntILPnVO1g7SI7y9PWuhFGrDgnrw+syor2s9bW\n",
              "4CKErZOaWne7s/J956D0GhFE4+JUBAe7R1FqKPZvj7qS7OpcF6vsZO7Mxl64wUnIEkv8fXtU3jUA\n",
              "uz9BQZgqbK4sg54/+6d/bd1yDQY7HAoLVdA0DC2w3oCyF24NWLqppM44In0CsQkt/wctO9tPErxw\n",
              "oPYkEaSuLMmwQ475+aHqsLWRDy5Nr5LCFjQc77eFPK6X7KPnKJdwPuZeTO/FdJsS8ZiJ7qks73Gh\n",
              "0xM/S7P1AKqZdE1YfAUsEBEnf/fNHpodb5jkw0LV5LPSyEZH71mQhWPBRR/09XNAPc4jH2bB8Af6\n",
              "40cot8ghpgmq3FsOkJGO83rt/ZfQC2ug5tTu2I81XUZgXrJlsbYbC33iTbPXpoQ6cpcmkmspZQCw\n",
              "nIjzK7oENrBl2bQNHFNxqoeG30H27Axt4gbV6UEfYR9LeiRM2N7DW2u9VGc0sxmijIixebpE6X9r\n",
              "30sCADi5BOIeWM+ZQ2qPbZSnkCDrCkJiX3UzYDrFKAxJUSf8QYjWD0p6s8NeJNLSXMx5ZGKEl+DI\n",
              "wzVBK5+PY9D8siOZ6WCZSRwmrLe1ihQlPjUVr5izO6otbHvNPA6KjUp/cvtTw1t6CdcuFqzV75QZ\n",
              "jgLLhGohxz8epkDDErkSRLLPAgPX7Wgdp9Cp5ZwJODtJYAu3TV8XkffJ7+LJM+xqFVnGso75merL\n",
              "NOIklTzNBEn98AGElG5Jj0+zWVJ4/nbG3FMSY1B8/mHo107vuYWyrpmpdp0ho1/ZA1xQk5VuyI3p\n",
              "lIHaWOnrnZ8LFwNKUrbdAZNUQ2K1N4TVj1SSLSKJww/s+rOXXVONEvZXa0C33Y8OPIVA7PZUOA3Z\n",
              "elfMKffCGx75vpiZX6T5IWR5ywzF/vXYrRVVSye40gANrRJ4dDM7k56/wb6/T6uhXpM/BsBMuu5E\n",
              "fqHLVvDRLWcsu5L82IvLxyW9I8gFPInG+9a6n7pdskoo7Wap76Ke6hGdIExwL9htxPFfsrk57NaU\n",
              "vGkEDSrCXBGQc4/H2g2l9oDOT73n6Cfg4R8tRKy7LAoUtbHaZ6UMqO3z+HxRqSK3e/q0bOc89elY\n",
              "YHNi/uBk+JzzbekMFNbvv1odrwJ6QWzTmK8PFEWMQgeQdpLA8zk0I9KtXpamGJu9byZKEGEqoiVy\n",
              "o54CKz1xSjAqDwgGPmi8WZC/pVPq/EzTU11ZPc0yWFLqofSHU9uXK1U/ieQX4u1FnJnIWBMusbF9\n",
              "U9taVG2GjDFYEXtFqe/R0GHQRq4/LZJ57E88D8QI8sKxfzK9cd38z5V1AAABOkGew0U0TCP/AAsE\n",
              "r6p/n2QAOCuWdaOqqdG+pdj118BTPU/8btUsWbu1zyUsT9a3JMuAjNU20qkxxCAIc7ej1Rw1lGjy\n",
              "1fEH3Ect/UfuqQZqEAZ9F6RFSzJnnibLmxj7wGbjhe7TthDRwmPKf0ILMyPhSIOZgJShB9UFv2cX\n",
              "jQAe1FCHafBwRIVUjaasxumduQn8UNBDUNGicZJY2+HfFHfP2QfllWoBCsJWDBGA3pRGBiN7aXcv\n",
              "m3EFBs/hQ8832fUyEu6KSlMSnypfZDfBqXPK2xWQ2EgUEliy90xSfqWjwxo8XNP1vLA20NrkcjNU\n",
              "93Wg2x1eKxODfT5lXVOUvcyKxx9d6zH59TATJjMiIEMD1tIGhi5djJYzszH88sb6bW/RSDUjGJoO\n",
              "ziZSaJ07sEljEyO6FcCHaBBAAAAAdgGe4nRH/wARRGe8RsX90JKLhLeoASXd8kTq/uQJUXFjnIfQ\n",
              "R6rqNclX5sFZhP9rk0HS/0q8IyIyjAZuKxq+ZJ+cA/Oi+FQBF6m2pv/lCfzZGcesnOkp+K+lcI88\n",
              "xkoNLCdAYsZ+INTWIvU15fpXaLHamQxSA3sAAAB9AZ7kakf/ABE/4PS4v/wh5bagIeGRlM4cp2Nr\n",
              "BlPAljf4hzuwfqlon898FsQJPtwALR3R65RieFfv77jJySyL8gg4+g/fbCgbo4xT9++xQFZyFfQt\n",
              "f9XXDVLaFQd5I3sWzmHgBXxvhWvDjQpjrSbk+g42mgG6X5DWZh/WB/kAAAXaQZrpSahBaJlMCGf/\n",
              "/p4QACKkS5AHMPuFo8ljG+rDp/39YJqfHyk6WLb15MygJGxwGHqCJjU/PSzYd/FK5M39Zha7d1We\n",
              "DgEvzxs6HJZaVrNtovfRd0FN5GP503MWkRY/vbaCvbbJ+wKNXj8WEyFm/zrZOfx9xjZcAmw8a79g\n",
              "EIJ2lsHMg/g7ZF0fCbSyi1GieP2/YCYztdZeEHZshR7x2iWCNS0NoGqsI9H6cyN4uaEnTrc1tNih\n",
              "ryhzS+Jk0xEWX7cxgtisRPh9eLbkOfMOnpymu0dwfBbQWH3dV8YXP1Ev/M55WXSXJ2ueePEKoYxS\n",
              "0MDqPq6W7k4rEDDP+1M4EsokKQcmkoA9ns4zoSI2UrWcfB03og4ariYUczkBvSJQejLFXa6TsIJe\n",
              "2+CwJY/Oht3FdPv3IuwTJz7AWw7oWSfMel/vdY7GpV19HLImVyA/85IcUWv9rpQBrVsk1laCzJw9\n",
              "2AtKMJCg7TsNwhron/u5b+JHiJsOD8zYPkIhSvhp0DZAERf24mM1kCgLC9vmqCRZAPqllQefIhq8\n",
              "ahNi5LYTLJT1pK6aLhv4N2ugm1+PN+IpfL8p1nkBppSH3BSzSwV1z+csHmWpvs+mqQNQxHWo5nl1\n",
              "pAkoXAzAZMl9aB6b/h4198hq5WaeegX1xPATj2pgNgn8fsGKfIgzjrIygNcBNJARk4OIAp+Up8St\n",
              "RtGO7tXLo3wWFEKiM2zAV9DRsu7JgOhmOPgrBp6MYl4YlEsInMh+H+dWK5veT3jEt6s4NCLqoZW7\n",
              "ZBXM3gwPGtKQRRVUtv3goUJo2vDNv+SCGePy2ik+xpn2WZZ4WBaADSZ5lpKRz6So0LGSZ4OfnVi+\n",
              "DnHfjtwHGBmqe8O8fLP2AFUeBeLm89brk5PoTyj4IBpSszSMehWOxSuVDxG4/OPAUUPR4TC7qz7K\n",
              "3BAURayXk+Sc4jrzepK337fIvLYznfl9MnpMzgdelL3C+OrCF//c/zRkalgvzONVFCuYD/K4mYsA\n",
              "OJmzHzyq2cI+k6oIr5U9HUw4M2AFlZrIEtfz5QFiRZvHguOPx5vHCnaVEj6C4pcDq6wE0WnGwp0z\n",
              "j+j3vxDlejn84WERMavwDRRH2mATTvr0hbiPQfzxqFUIWpQvs9Yq6ZlUdvLoaqBsEktncwTW8vNK\n",
              "2CtuaVAmNlGBAcqPLG7AS+EBMGYvgcLWlwyLxLZuCS0buQpBPXvX4DYLr/023L8sspEUSIpfUliB\n",
              "bBMf5KTMkP6F+ymrn6DQAar++acfFGH14FxFFR36AWJ1LHnwkT5Z0s3Yk0S/HtRxKESxnxDK1byr\n",
              "b/FynPxdVGUbayfJMxVksJy+aol86+s6yoW8yAP675S55/qQWKvSK3moKxVhpNrZ371+JQnFl1EH\n",
              "RUxSYik5a6Wa7K1YMT4Ewqnpr2zDH0VLbiIbDB4NBvoV98sJEQAmlBxQpSjUuhyqV+E1eIFKBpqH\n",
              "u76FAMxvgUfJHnolpEDF+Fuxxk2fwdGte0eUbtzScP+KsByAmtEtsIdeXLhCvPVbRXlmWcg/COwY\n",
              "kJ4avM0BoCLvAoIH9ItQ6DNk9IfGLvG8yZTdqbpHOF5y+o3SkFt/SF9EKhzN0D36uOGIcuI0e1QS\n",
              "3vUbPBzGQMxpQl5ANELDGOgtOKrfGbqAOxL1l73SHWhXly1jj31xTCPrBt3wADIwDfPFt5yJp6Qt\n",
              "wmeMJadhR4DJjCHWETBBbaWVQidtdAZxCfVFEZ6rAk2lRtvPlzbDBOoZtE+FgwOF1r1CCRw0AFnI\n",
              "Xu4OLgmzSu5kwU81xyY21/keNPYqSLJFwGajw6LpRqdauZDc9vDRe/iC/Dr2pqQR63sC9PKacvXA\n",
              "MWnk4DZGiibXImKjeDwDhGzWyLdSDYMwLwGYENVS2dEdmhgQiOcLeE1g7AKgUe9vfHXOvILzPRIS\n",
              "QFLOaqUViKFQA+1Sy8KtxHKVGc7A4Wsj4uD1fvjkVtchtG5OlynKr8nO5XR3Li84+INrH2+oPurJ\n",
              "lRvYmQAAAONBnwdFESwj/wALXgmVRML7tuGABQsAd92qEUPLWVSfr/LXSTKb2P1Twz3ew48G7Vol\n",
              "k1s0SxhaJPPrOdHvjm/M/Rcdcnq1JclvRujpc0C94lrL1BLaO6L7KIKfm+MYeybAzFucjEIY5UKZ\n",
              "XKz5E+ygikfh7qgKxykeKzL02xCRXaTnw+rdUBtosh2synQ0GkHusnAzW1BAWhlIU/EZL0qYEo6K\n",
              "9aIfsiZMlqRvQbi5sT+DysKNcmFnIsvIuCyszvby3hXVwRDbuGdrj/+D1hdc0ZOwnXTiH9KvJgFH\n",
              "l2qoAuoasQAAAH8BnyZ0R/8AEURo4Lvb4P5sk4AVieaIP5dCHD+3WSPqPBF4TVjDCCKt/0vZIrzf\n",
              "4AF25ZlIhfcHqCoPyPPtBqCVcHJpLDomT8YavkHqYwOLL5X3SNALCt6GKm8uD+qKjjYDiE7sDgkd\n",
              "CfwIOwbsEWNd0P7RcSvlN9LE7tkhSOFlAAAAZgGfKGpH/wAR481qH+UQ+6+iVABcgLPqQ2k45VRB\n",
              "xjvoe8X2qWo8Mg/STvrX/eATkOS3OYc51dw0eYYFbuEKuDkZufuIohjl+35DfpO20wIQYK1XHCOv\n",
              "D1SQFrY/OZQklFzzN+ANSAAABWtBmy1JqEFsmUwIZ//+nhAAIps41/70jjBWAA4OpkEZsjW3IUaa\n",
              "LwaidyjRbJ1h4ByRf+Uz2zZJ3g6MOKxs/dAuHGvuW8BuOGrtlzp8PZmpZFWFQsvICfKFgQg78wzp\n",
              "JTTUjFCkxKScX60fy23Rch/5rhH03vOzgax7O2d+Gby1Yq7OB6nLsWfHZaJMoycJhFLFRbGehTI3\n",
              "5+TAxrU24+9gJILCxjIlCnNczV0oJb/7PEBkdHE2j/yv11/NS6Of2YtZUGuUepLqajNj9FRBVtaD\n",
              "hQjS5IqKmjj6X8wnyW0uVzsyV3qTpREUBrP6c/nvOmS8VEa5K+KOn2ikYq02cQG/fSCrBXm8wB6U\n",
              "/gS4rKlksqU1u7YVvlrB112GN6wPiSjjtWZVDtFs0T/ROCL/HADQntuuks0vMu4OVRHx/yF4gcy9\n",
              "OSzWGqVuaPpC1KA5VvgnUL31JQ/xXCQYLu0NJcFAZcncojpPsYmhTBssyo0NwBfeWUgSKGwnwcgK\n",
              "RQAPpiOQ6+z/MRDaLCUB4FvPztNSsulOe4AEc6n7wnQil6sL76sXmKrkkw3x0Tozg3kctMaATQE8\n",
              "xtvdhXce4Z5Qj3Kw2W9nSJDyrvlbCN7j8pB1Bm41rW87iLtoMLVqVyNvvS9m0HphS7pVUlUHJPHo\n",
              "G39d+uMnzk9Aw64Q77pyJ8xs9wQuLtu/5Db7gbM3Gt840DB1qJDAPK69cZ0bf7mbkBpwcjPX/T9z\n",
              "eIdUBKOEb99iFRsqaXMMoxzRkb22t2bu77wBc7UqZ5hempVX1SP4QhLhcZuRhIPRzNQGxqIy7AYu\n",
              "lO9S8mxig70rakBlU5iFvVEzobqNpblPUw5UaQzFG3O7vv4VB2hmfitO/gpemTdfL3QUH0mRaxGq\n",
              "bBUIJ0fu3EO8eRB0DcitQvtLeBw/M773XC5NVW+uuwzYRXm6imhHkGJZJtG+fnBMZQ4HseNwKD3x\n",
              "W52yROzbHxpGnWaVwvncO46FaKfheXgAspbFwSkayctJYUMf/LkzugdQA+JYQeveRgyapj5T5FRo\n",
              "RscGHvwzYzkXHVTPV38Cp3RBXu5PdSnJvWcNWBNdxF9prmfA1WTqoMhs4FzAvYv/tD2VwGES9gfv\n",
              "cLBbaSXn/SX+IQGhRw0tNsR1S5pNA5AnwjxOUzXwevUv/NQ6BlsxaY162BTqqyQ2S1/YsEGhoxOL\n",
              "OX8WyDOIJOYrSo7laL5o16HI+5A+aUYgKcUeO0BrTNcM1ULhQoB5sHfOxZdZO2mx6w8Jax3qxBOc\n",
              "4hAzrEhD7ZVNia9LkUxf8FsgN9V8plB1bEW05NR6SdPT3psVKQeApshOhykVKb+nfN9A5U9cjNXY\n",
              "XFV0NChc5athH2WE271oOE9GzrBEwFSy8GHE3X/4woG0wsaUMPYIZ623FqtqBbgr7w331tqDR+No\n",
              "FtM1Whz8dxmqFigf+smCqB5S+WojZTtGDPqWM/mkRmn51gQWuS41n+3NewBYfQC5mmAYkKn6e76q\n",
              "ju+GZt4vrCIe0r9asRHyB9S96cqYmZCyhaO2lGOq/CgOGF9EYEWPZTr+nLxF+NLzWq0l0k6GtIOD\n",
              "ktRt/FNY62OZBEFGRI685AV9WpOA8lREQkRxPIvHGkBBwM0Sl+QFSJnujJjiGPhXgKDGNcV5SLy8\n",
              "q/wCEVoedfTyxWtqZ1HwE5TQP7EvVO+sUMIrICn3BYth95fbt0Kr7xWzFI7mhqTVF5cuhkCNpINW\n",
              "rFa3dh5wJiKcw5+TALujJrBoDcqoQYHIGWAAxuCl2aUuQXuzjEZlnVSZ+/WtxNtW3+NsO6mO/dzN\n",
              "R6BgUKnVMpZ5Rn5b2H4W/DKeEb3naOEz9F8vmEOer525xky5VdtpAAAAl0GfS0UVLCP/AAs2HGhG\n",
              "Gf0TaxqrdWh0GV1dqiUdZACWktd+dqZPc47wgtXv5dJZ9o9HvTvX3NniAhrQa/+2tvXfweuj7gjg\n",
              "XqS74Vl4aAiI81V8ATkG8m0O7UtX/T4SV87vzzcZKA2uREbbSOB0hu86oN7w9hXCvYYn1FecWMTx\n",
              "6QFQAEi6A8Bk8Xqcj9lWU9TDzXdYh4AAAABIAZ9qdEf/ABEb6eIs1MckeiSf1ACRxw1w31Xy+Fb/\n",
              "xvLcnbm/Z97b3PE32rn3o9m5VMAJ4NwSSQyJKX6FAgZcxUCKJy4lsKGAAAAAVQGfbGpH/wAR6pCA\n",
              "C6HSiZ1XqTodtSj+UX4jixWBSEQl3KWSUCFA9/QDMSEIi6nNcvk3D00bWv9RgddSCWLUq1q3T+9F\n",
              "MEEF1flTW3v00WXuAjkoZUEAAATfQZtxSahBbJlMCF///oywACL5SkGp8AHHqaS3yOcbFjCybD6b\n",
              "Qxvh3Z+JNEUszQ3j2tETdEdVz9e+7Bbi8wi6Fb6G1Bf9l6PsmfZ/AwDzgPjPyer36qFuDILUXsYl\n",
              "32ogR/zzgQH+p5Q8nzcK0jgjlo5gHKxo3GRP1SMS6CVKNRV5KjeZV+l/njYuo7bEsCU156P5wCLG\n",
              "ig1oqMjMNVE/hqXwbW9ksFno4RVJdrdCemocprZxIOJGTjQOF67U6BRSgFlDrfhBOmqbfXM9GiIO\n",
              "bnAz3i4RZrAJmtkT2EUyxjFgxDkQ2xxTk1Kem21RQPhZbkUnoz6LMe0eBfeinlIcQIT4iQ4wEkAn\n",
              "Ge7AP8WeRLNcjX/dScPYTuvMjzc0r/50tQqgiScDxrI3OA+UbQ4y1JLFCscYKd5SD4LIYYNBXCEH\n",
              "mDMSwn4rNpLRXiJnzOLIJnGsoGYzPj9Yl8qONQ61cQF37lNhTC9k469ByQivw+4cdYgRuroy1pUO\n",
              "OLex3YsntJYhifiwMYTcjP//D8004G+1Igy8HN54VcZHlR6kG0Wbf2AknXZNAU55U4nX+LGGzYtR\n",
              "GBeS0LoKejatjXFX1nneUB21+1vEdoW5kA7dMvvSp4m+w0By3/1P/ZI2wty2rzbUE+zLBjObOe8R\n",
              "9jdiDAdJybBzAoC31/4kqDzjASCJJM8SUtUXOo8NW/a6tJP1zGJr+AWkP8N3Dzq2awiitESHKaRa\n",
              "Fpk5NM8yplF8QdG5DFkI1/+J157xtcXPAq4Hz0Usjg6A1I+ilzCyKfXyuyP7vADG/G2w3BLCBncY\n",
              "8LuWHEhoK/w5zjtEKW0S3hcF9JxUPN0O/qj75Sk5bJJG2u+03p3GIlMBRH7heCMUUfyfuqyC73cT\n",
              "+eNrBcKzzesV5a5T2dd5raMv9L/X4JB1h9eXqW8L45tlpAyCulwih8UU3yPD9mWf+VkLGhKBLHRh\n",
              "INXSYAdLSOCuMM23OS6e7EpXen3fTaz98kXLVZ7NP4KeX/bsAjsk7jvE7E0iZdebWdXibBHRqGL0\n",
              "gVb7owN75TRDMbNAmKtPT0ULgS764hIVCBHYYQyysj59BLrE/tNVADJIj/qfltx+YU3rBta/+67Z\n",
              "2svKeJSkFfto8XFhsO7RmTdYmqIvMgOB7MXPbW3OPqRSg9sHTQZ/Yj3Dmoh9JLPZTXAAigWgx0gs\n",
              "kg8zBDeRhO0A5YnLjyRP4LRurW7pio3Ec1NGAZoRMmO+/C+TUYkzReBgS+RvIq9HkN8I02wrfHgK\n",
              "SXr08fWMQf9vpGiT+k/gCQqTiY3RoMsM5WYuQKSCCEMJ7HmguEmVN/4u/uWYAGqixB4gjdUwbyoa\n",
              "J9+gxl03+33jRkKpmsmMroGbzkDDzFaGIdEUnHtv7Z+s70lxyhiIFRl3FP7eUUHnU5Y0Svx+o9Kz\n",
              "jewjLdXjMqpkN9VV9cNaYDa3048iqj5IYUf0LA6+4pL1iCgilBy75W1QwyOTUoWMSFrdGkJhq8yw\n",
              "7OPduzILLTWcj7EvCzChqQy/NosEEx2wkRXU5GjbQNr69vM8HN7xcnx4LcEl7jGYJki2CxR0la98\n",
              "PA5E+mh1Kyyfu27xCoGfKb9iMXs7Rbvga+SAKtsTiyS2nIw3Wg0e+Ywgw8BUAy266dDY1dKFkVYk\n",
              "kbREA0uk1/B7dhc0vMEAAAB5QZ+PRRUsI/8ACzYcaC5GyhCd3VL/orpeiX00Di07CJhB115rLRIK\n",
              "aAgAWBbwnGNmkyhe66evlotnpKoyq0t/pz30GQhoOagPWudtohlVOZloNxIo1jCE/eLumWYCwa5o\n",
              "XpbmRpaT+WRKKQVFws7hZy9P7vIqDvGFTQAAAD0Bn650R/8AEVWEQIALlTKpo1whtuLOYsyG6Hor\n",
              "zw9LDPcsCXet9TVM4HwPzMm5X61xfrVba8lTVYp4YAI+AAAALAGfsGpH/wARWAf2wSUE4mu4p26E\n",
              "lwuJ9hMOrQGhUnF3hwDXKompnH7OKCpgAAAEsUGbtUmoQWyZTAhf//6MsAAi+UpK7EAF9mR7buDe\n",
              "3jzGIn3gex2qQZ94wjckxGb5UtuuJgkBSk+GxmyDR9JOVkrSBqda9JJ8LxzaW19CCiFKh6/8jvPc\n",
              "I8FXTxbFhWHgOaicov7m/TDtyWHUrbnX4jcuBb3gKAudELr3RKFgo4XeHHDo0KuU6Ejbpwda1due\n",
              "lLll2NnrpGY/6aXaWheKm7HmDVmbTGToL1OpMgvgyMD5jq1zWgPVTX8Qm+F97EfRMAOjLJ13HsWt\n",
              "dePeInFWwQ8bcI1rqNGADBwRaJntLkn6QT2Hywm5jEDeqmQ6AoQW3NYA8c33cDc2UKqXg7k3Y7hS\n",
              "clIm18FjqbZTkhHoaWU3DAgbqppURqFGmIk+WHbNw82MgrGyhbCt6JeCvSeMjpFKt087sGrbMgV0\n",
              "chKCNwfkmwmbaw51PnJFkPgWPfeOZMZhf3fuxAfeH4WK9ULZCXqnIr+qV2yoFUB7S9A0oh9eI2PL\n",
              "YMJd5SJdjjI9t+joL//vYJ9R9ZG/ZTOAcbAFY3JWeSXFTMQu8Fl5vxn9eNZVRUCrLljmwsoc6Upz\n",
              "lev0beMs7LUbRfS2/t78fPB3Nz/xggekRSfEZkZW/SO+0RKz4WBqZpFRR2K33i5BUE4xmI1IgTvU\n",
              "fKAYX8g/0xGl7oR9cFKHhTlVNPbyshwMpy1HYECA8976RW1BXBPmolvh7EumUTJjUicsuwslwIXm\n",
              "b2RZxIjTRGHK3lGCbNXlZLpwY2TylnCG4XBmZBKYB9/NpoT0rwgrFpyUhditrXUeARIGwgallFEZ\n",
              "HmaHTsanPEh1bkkUvSXkQ5C/btBgkfjqvtGrjNQvKbwsHAbAECVb3xUk3Totd8DqRkIfGorj6xTV\n",
              "WYngJZb5wdbJ1FLQow/LPNYMad2XZ9DYL0+2LW0XAolTh+BjBj46Y5Es6eOGDdHaDlLxp0p0uzYM\n",
              "bdKE4th1MD8EBJ5wT1xrMGBS5L89LCE5W9XEmDi/OEEzQ0zByN1choQ6eS27B3e0kgyYxqHg/f/J\n",
              "nRy7I5fpF1SU2GqRu8tSh77rxHdUF0ZnqsIhIsS+bF0vlctB/rpwdIdWKos+/S+6sVaZ82bBw6DO\n",
              "RTgO9NBsX4CrsvU7278GFIkIspn1i4DO4YZ6WV9RaDPxiEbIdgbHS81e/xAdcBpbNnrAirrSDmzX\n",
              "by6GA7p/GU3k2gO0Z0rDyBS9b8cLgGNsMVW6pOZIYaqFo88MwTx+FMKbKz0dDoOWsAU9fA03SIHM\n",
              "xJ7aFziREYOu2IHL61BPeju8cE0VXhtgCv6esp/Gqu8g6mbn2R4wlcsYu4KmH1Rf6A+Xhdsmvr4P\n",
              "aChlw49mZv5tivvn8qRIr3euenbFi7aDqKzPMQpDQsU673CqIKzrwV7+2hjrEAQ92ynk38NJ63v0\n",
              "iFjvVSB2ZZmxsc5Ld7jyOm/090/pQv3wgaIfBlrIT0dAJowRbu7M8YbbOi0LKSNCZ53jtOUjsOl8\n",
              "h5Le/8k/mvaqFDhLPnudmhKI8s5l0zQmRn/YCiLjpb4w7EChfNSLHZrnw8yXUlK9fzwHuEmeSqrp\n",
              "fR7cDm9djqMaYsESRH7eOCvMcaPu+9hszJKqXJepAWEAAACPQZ/TRRUsI/8ACzYcbxNAM+7aUoYu\n",
              "nTIgAEhEbRn+x7vZyaqrUwSSY525jnZweFtMc/4A0nHazT/awGD6g/r3CHy4f8xOu97DFNgpJDf6\n",
              "OvwmEKarYnqinKNXuq4ZD9CEmZRp27hFgxPDfCj66TsXyH628dKWHRE+oyvN9EvGZGKYNKtBcxGc\n",
              "MPI+SfqQ2YAAAAAlAZ/ydEf/ABFTdxxJRPFDE4di751sPruUuHhBA1BxV2atnUCbgAAAAC4Bn/Rq\n",
              "R/8AEd94h37B7BvG7FymaNZiYa4GxqTPBLEt1kUo+LEmbaWxXe6toD/BAAAER0Gb+UmoQWyZTAhf\n",
              "//6MsAAi+UpXa3AJo8xFt908mVPTyVloISFNFwc9JUCKIGK7xaOv6gRGeSSdHcQyccsnZFf2bE6O\n",
              "As9pKQTLyfdnUaw/YH4RZ7dePYj8ICXCdJxIyRSOxweij3LvxFfXqYGYJCalvjo6U6S0REPsTnjt\n",
              "g4eTgR8t0TgCtcEnPecoLRoM2p8S4I7grMTaFYsXcrcN2FJIxLNnp5R2w08/ACy5GCgkeheORAC6\n",
              "eDfWJO+2E1gWueZB7EtF75RWEQvZbDefqP6EWh3RX6+OCA9alt0+Uk3T/CCjQthmnkVy3lhTgYwT\n",
              "a2Pb2emVTClZ2Xt7+mz9ZHUClSo4F2dnpxc0JaU11MvDCijgIAK1YA/RZ7C4FMWSHzdwRFoywfxW\n",
              "GFMgNmEPKjT/ZCHEjzO/d/dTV0u/t5+AkAkxJQTP8Cr0yNdwW31fTAZ3MthY/CtJ7dXdRnVR2+Gj\n",
              "P//IgTmBF5neEQ04tTrh3WluWY1fpAp3cYZQMtM70lvkuefTOGonuta/Z8Gcevb0YE/1Bbu49rh5\n",
              "3sv95tXWkPGHi0ghkUAVz8rnG2oV8s3MMJLL25Tz/h3xeAM4MUOCLZDmqNVmNQFVzyx4CVbWMeJ3\n",
              "j22acM5/OIxuMUOuju2WMrM0jl30icWgy9eRUB6VyJdlOcWSitTwEZtM/bvRMD2duZDUZztVHAeG\n",
              "RVu8qY7f/qk4RtF8UVcn1+4xer39dGnqG6hqxCznewJbLmI48l5QjDN7ksts/n9iNtnwE5KDlozz\n",
              "GGBKSQQKjTqSIIj+3dNG1UCawSpH6IQnYkchxZUwY3/cwsijOFZAo26ZCRn/5jBMhF8csuS3KQCy\n",
              "bhiJPuzTJvRSji2OqKd+HF8oM5TaEAL6vBLX1KVTpZ5RpmVd+cFoV93f2yH4e2SrKVuXmCMawUz8\n",
              "kEHKAeupOIWVHGR3HnuruChV1x2VzL8/o3w+d4VdVPheKeaTXI+vpMIQU48643f7sXBZRgw/CaA5\n",
              "3ah+o95WVEHdCgkvnIgAPTuqgx3tOa6DY0kxBscThLxZiGJYVMnQP40Yrd/daAdy+28W69kSrwy3\n",
              "qcSjDe1ws7E9M7RtbIrYkHLccu8d7kpZeHjoANIpesLgMhgo0VApPo3BtY0Mpm+wIy3wETWDPc1W\n",
              "5svczEZ7TFGjofEVLARSs8rmou4uW9m4uYySPoQMzRvCUsDaH7+H4GTHigT5ALhl8e1VcZ11GreI\n",
              "afMUPXKvKkx/L9hkcn36QAtXPo/khwPijAou8yHGcREmR8o7JGtE6W01v28bARfP1krkSfWd5Rqg\n",
              "hNuXOOm5ltR3p3lyGLYhDsCy5Ybzr7KbBpW5JOjRCBG3nne5SnO/PSWFHnrrLSJrQL6gpYwFNSMh\n",
              "gW69ZDAc3G9CjIPcwVhFrNQkc1VWieM7fKx0yRVm0eoVtXmeq7qxsTMx29ciynNsFrV7d+pQzzTy\n",
              "gAAAAFVBnhdFFSwj/wALEi7uAAtqyGVVLFty5xQbalWj4GQG4TDWJfoCHblLXQZUp3qIobPVONd5\n",
              "H5qW0XMDYURnnFhNafTMtM9AQs4M7e/Ds9BaZ+uEzGVBAAAAFAGeNnRH/wAAkS0dYqrcRn3+IGVB\n",
              "AAAAGgGeOGpH/wAHEWNpfF1X/tALalboPEUfAOmAAAAEHEGaPUmoQWyZTAhX//44QACGWj4e5UAL\n",
              "FgRmUdz9z6f2ASRPbC5pqZ9fnMZVhnJJgtfSSlTg/S4S9ONvyUXLbmQKw9+4NfBaydAUdf3T0FL5\n",
              "ot41eAuTSbgVIIbHjrbwDalxUSwbZPCU42e4mMzF/geeX8bXLOdc6Be+Kl4paKHuTuKbjyWc4j9z\n",
              "EMNBNfbt8WAuJmV+g4Ap7IbsRLwr+7yHdFkevXM2rNuEFB6gqvTi1CvdcI9uj88ntR+5a3TtjHpA\n",
              "xVZOLG/+k+FN0QmC6wpakkgLdPo2ggBnyx2MiQTCumOCkleLTn1mLHMKs15XZ+6qozc8saV6gAFK\n",
              "dIllm4rlZsgGpdOLXlDif8gjxupaPBkxwrZ5pE2Vr4zgHGUFNNh4zVFdABtixGY8+Kqzarixi4Qi\n",
              "F2pzVn78kIJghIsasI1XtOYqO9kT7uHoRySbEmo6BrEf/bnulodIpUzRa7o+AgDwiovR2hztjLGC\n",
              "RfBebwC2UXi5V0R1IKbL5uqGG/7LJf2Qy22eJ65Z/osGbp98Cu3ZWqKQS0WRcoEZFBkEVuSq+Ciy\n",
              "H/BahKnfIH9+Z1Ch+kt9BZeRxScYr0RmDrAev8mSzpKEpfLMYWOI4EF4diZ+op97lzo/M8F/W1Vl\n",
              "Ay6Zp8O/HVUvIU931J/5XledClYfNTst66eI0tK0rM7NX4fg41QBn+xtPh38lbiy8Kv0uTcEgFTw\n",
              "Cyzd1oOt/73DCPDkKnhkjD+eSZf/5LiWIumNopRwu9rRHnH89S8c/ktE3+BzEVsZTq1yGCsqGBGD\n",
              "BgyfVWEA/s28o2z+JB+Ra96C4Zw8xoOaopCzbq1eFpOMw5gB4zdehUp/M+VGCdysuLYgPkvLGiRz\n",
              "dEv/czGiNl956Vu5o+EFiSDldzOGdw8WCt0ppjx+r5ikkiQQ5SJ45jU2ryrCUPmxhKzpdzAtgljX\n",
              "vHHSfCz/krQrMUjmm/8Z5sIXHozn/5lGP4RfM4/YDUGHVj6Txv90EZY7ElBYRQWhLqfwWSDzIBDP\n",
              "7b3uYHDqM/YTT+vfxdLKEbidyYk37/9WMb8M2B953PVlCGdXYgOaZ872p8VGe1tFWFQz6njXo6oL\n",
              "tW401xrrbSaYWLusTTYi9lhBayFnKCEZsGBHdWqM+L11xGPDlrXEiv1soWIA1T656qI/0GJO5Wn2\n",
              "cgboCe4e8xhMQ4UNN6xAkm/aB/EaZkrK8ITSn3ARiBDM0g2LRZWg9a/WgXi0dnvZ5J7GbAC+xnHH\n",
              "ZniApHsXJBsQaZmFps2OANLIQ63Nju1gChwGotCw0F0BOjFzEB4cuAFdYHCFyW2lC4SDUJWblvL2\n",
              "Xbiic9Vho6STaEIjHn0UkC6uLs1ZF6vLILsEbTyOb9LkMsQsvPWWtUdCtkc3vlq9ufIE8qEiV4RR\n",
              "lkO5AAAAMkGeW0UVLCP/AAS3l4fat2Xu/PQzzSLZPje1wLIb4aqBZOO5qpuJYAbDyFFlFeOtDOED\n",
              "AAAAGQGeenRH/wARXWw/48+hMYq9c8T3ZU9wDukAAAAgAZ58akf/ABHY2ZWUYQ5qzewk0PnhTD0l\n",
              "rGAYGZnAj4EAAAG4QZp+SahBbJlMCFf//jhAAIaIjCAYILAJihFNd5fJs4zJxPI4GRW3T+nrR4N2\n",
              "dEBd0gJbEXUxWfaHEvoN3mbepf70nJpH07/reCYFICxkINZXMQzCXrX6Zt25C4ShcU6D0bCQJ8im\n",
              "4JRT++4Rx1Har9EdluuU0KxObgm2JqjIYxAFKFAk0rcjlKChTP0FZ9FKLFaXIKfNwt3VGyqy8jQx\n",
              "tOyPSaoYJ3Ie4/aT5wMqWg7UM+Z4hq4clB+tyBD59Fu1azXXBFLzIlaAWwgnb9HwJFEELskWQaJq\n",
              "ec3FJuaTV6Zo/gF2D7o69J0Edrj8tPBh3eo/S6uK7lAbiAJXESaBXXvCYSw9V0NX4oSCt4WUny29\n",
              "o9OxbDKutyha3EcFsd2Y+hYFIofL4LzrNIGRemZjEVBrt9xSa+izmAHDKJU516JA9PM397YR2j/9\n",
              "N9HwKX2iH1dW6aFk9xoosQqI6Tg3GopQ7CcRan3jLU/QROEUdvW2o3DHLYR81qGfV0oNRr4FKYka\n",
              "3IDGQYoAqVe77hlZj/Jnw7D0Vb5nQ+iEaB5/ZmdSyrDN+DVEdSpu8/EWB4pCyWLuyQr0gFgAAAG6\n",
              "QZqfSeEKUmUwIV/+OEAAhlkmnxgDUFHN4y9ovAnvrQ0q+L9ZiKlcB3OFbbxxzGgWCJIp2jIap0zC\n",
              "VtEtEKWZqpbx4BV48ptF+u/QNbVZ27iiwr9ghVCEVFcR2BopX5CgwucKfqwQHz704zpNLVPraT5p\n",
              "DHpPi8CRIbIoXR6K0cT/rJSWQEkyXhe/DLRqAvTa8MgF4TYY/dGOmIQF97Tff965XKh8FozbXPUx\n",
              "VibDhOz6rOezM9q3zQtl97x8q7Do+h7rU8jAHYNM08BRbJSvZqT4q1Hy+itg1VFBVP1Rq7VDPrlq\n",
              "hmoX5VEnalA5bmc0T7V6oNDJfW5fNBOoYK0Z6KF9y+nTgE5eVhitzQqWIChMnoQ/5mbdthiCPpU+\n",
              "9rHdMrseLI16TdBacpZbaQIuv/ZFZJMac/V1pCjfOQnw0BrUSy+LVhzaDM3RKJumvwdDM+ueM+jm\n",
              "w4pj+uk9XkkACRvETmbppLfG9jmuFA4YqU1GyDlOGGozdMy2QFJzOqUj0Z52Gr6FnQNnQO8vfJfl\n",
              "tatGjN/Ssyhsgo121rOSVfojghoo3dBrUft7IBMIllQ0WOf2HQxTdKd4QAAAAd9BmqBJ4Q6JlMCF\n",
              "f/44QACGihVAG350di5SNPmPF3weOl+R/vEe8MDNAn586L7fSBKXlmPCXuFuvs0N1u6h7niXTEFC\n",
              "3NNp03aYeyXHF3SitlJdoneJqqh62lpriRCymDP+gvux8AZ2rsWy0ZSTnKi37LB2DQikFnj9lIUS\n",
              "TW0vmZbZ87zkNeh7pa0zigPJvhPQiL0GpkLTowazCChgKQqwxChZqpVkn8gjbihNOIoiYPqUsnPl\n",
              "YnUOVHLjqwIBSYLap5+fsQT9UbAoPqG3JiuFaCfB/TPgW67EdXdxwVZdxVZbSyDbMqZMgzapVxoX\n",
              "cSxyeAdqOrOnYz4cn0a5UzIQO9gVvG2ib7jLUZlMwgkZ+GXU/eTx2gSWscAZProy5TUXZPTay2TC\n",
              "mUvpP1oEXcFOhKQ7Ev22SMNWJJG9WDu5WbhrC5tpknFWZYT+NnD+nhX9J3PZOxBKBa1l5ZON3faX\n",
              "5+ZX8Ypgv5vplLhfw0l7prNN9i1VuGxT99REZpYQODQ9biYHC22TctyEHP407rOCxG/QNwZ64XM9\n",
              "jDHTr5uX5hJSTe7GbE3CpjMxdE/MtM/Xz9BKUa6RgmvctCCRhCwxLCvUbX2FPASQHYyqF6d58HaO\n",
              "8IkSk8D18r5DaFzTgQAAAZ1BmsFJ4Q8mUwIV//44QACGWSayIAWsBB3Rx9ojqUEE5R4OgBkEtffF\n",
              "h24lfijHZspwyrzY0gi1FwHmbji+jnbRTnhi5f0BKL2IfwTK59ltlo2KmrjmBP02NApor6pEFkOt\n",
              "GDeTVbOn07FvZQ8Guue1TGcKFMsdMjpEkf8gsSh7PKh5bfJ2MQyVH4qn8ugFT+bmNv8VNzHdTarS\n",
              "ENDL2kXTlMddxzQQI/+OiAk1Yed56VGmUbcDwIbhYCeB9FK9v9u8Pp26d9e0Q2VnQAnXtA16hvWn\n",
              "T5MR96ztVtANbfhVFY0/ZLDjcS5w89rX0qI9yQkFb7Pt5QQWIhi6Lp6xhTpWC7xeZVsZP+vzm2ZR\n",
              "vcmaHW6LzGa4BK5EmP6Y9TBJTrvGy4SITlsMsqxBELG71mMM2J+PzdIjB94R9uHW/NObi9Z5r2Jn\n",
              "c3edn7skInXARkhjY2V9S8ezVGJjTUyVoWlK/yGKaEJ4ft03owNiJP3gDIQi0Fe11jiR9xpAOgql\n",
              "1/HPjY/AWgBCzvCXgPjeVPAqlgfqmGFYR9pEq5HVgAAAAaRBmuJJ4Q8mUwIV//44QACGiF4AVmp1\n",
              "1r5gtDCR11iUQl0sQV9SiIa3E4dc6FEqEXJ+vLPi8sg8r4SFEh3XRPbOXSzDhh6UwGJA5QO+rpdc\n",
              "mks3h/JcHwKHnAkQYYDVWkn53QOyBA+y1F2BaUDuzUmlxjkw1MIgpC32+vg7xYFHJVBUs5wmfS9w\n",
              "bVmR8R/6TItfmG+NRG8cU/BjUT5xfF/s3FxExU9Lyrk5fiZHo+NyMRQBVWqgVPwX/bDOCCwoOgMq\n",
              "4Xl3PljJkyP47soO5Z8Ch+PhM059y4heEGNJ4tRHtHvsQcvnO7MWF+cT55af5LsbFLAclfyqOuNO\n",
              "ZMtWv7ioc/iXn9QASH8a+2jAbzO5ee6EnQoo9nW/KewBwRxbomg0f293fVzAHr/nnZMGLCrGQFMo\n",
              "lwTnJTnbF7X2OTpyOLeIvk244Mo/uDeqwC4SU+e9ZI/WOefPsfGJ2EMWIc5FxX5ed/+G3xlblVa7\n",
              "cFavXu1ger8TvoJ8VbXje1ikOul7vfu49Ah8KNKWif9iDEEl+AzzsrsR8+/5G422aUAKWILGA0kA\n",
              "AAHaQZsDSeEPJlMCFf/+OEAAhoheAFmGvd3k3Jb37EiCY6pykSNXIRbbL3qoi4/RDJ2UouwXljoW\n",
              "9G/03lW4kmi/yY9LFW7JwMEe4sQu9pwOL3P1gPDOELGrUoBK5AmzMkj/dacTWLi8GbtsJK6N9g3L\n",
              "R+H+X3pguqvQ8wbZVCxMz7oiGHWWMeMtYrOaAro4Y9I/rv2GY/uaCQ8HH/ngw7RtbkJeE3E2Oclp\n",
              "IBnqWSst1cWFj6pMLfCWb1zyT3/rHT6JQgPlFFlntf5b2sB1tAAjiXLEuuJlI4d/pF3yES+L/mGM\n",
              "7/g0cCcVhRlv788I3Bv8Q6nQHIk6qIP2LhYGz9kZoJfHIXuEuTRP1rSEJcjRm13LlUmFPnf8I+nv\n",
              "ggoEKGI4HhB3aWto1VSM423OxMuS9UV1VnHYMqxnVj8Yp7mkI4OEfacjt6NYmiJ4Tqyr8RHbQDsE\n",
              "3Fu9HAYVkFaUrol7tcJYrPA5VUWLj2s+G5HS6DYBfTr70IjrTjeyeQlWctvMuuDNAA+FYBJkgXhR\n",
              "IY5pDMMCo8HhRDoqmi2cCHGhVmAF036w/tMrKa+fXbf2+aEDEDMxAxz1Fjj/WSrpoj1tnueTsugG\n",
              "8lc7PchZVC2/NMJ/KjyM4bzhhNxYAAABj0GbJEnhDyZTAhf//oywACMD3IAQeiy+pRqDPvnG8UA9\n",
              "zX51zf0qL1zQifZMnYA+J5E43bsc5T/O9mX4enf+qDiTW8RWPixssOVxPk2oZVy6nEFZ02EzeRSR\n",
              "MhiI7b+DmZ+0HVXyvWs75M1h3jMRmyHJGNJsvjx+cUfC6e9T7ifRhw7T/diNtt1WdwCQDd1StKNv\n",
              "DW/kaZJv8VJq5W75ZJ1Ds2fLiSJw4jMduMHlJpETHHhucCT6h9X4UlTzaY2h02PTRtkQO3OT95PF\n",
              "UymQg7aCnfzm4yGtGV5p+icbxJWgNsLWH8HhUyEwp6nmbbclEj/mp9Q5Pd3P6sSLnp93FSy4N181\n",
              "LVtq6zCOwqISYxI6ATxoew5vBLW4OI5E58nYy6R0n5amePVw5qK1WQg0jO466mDMpK5sue8mCkmI\n",
              "QDAcqTFsBIs+x5WbaQmCGrmj7raARdhDv8Pnxr7hf8aRPb7vvL0PLlQqbYqr5d/4s5VJrUvOc6jX\n",
              "JsFltzKrFLkZopgSQcoasuySzhBSfP22gQAAAntBm0ZJ4Q8mUwURPC///oywACL5SauSAKDVxQVm\n",
              "nMNrFhINZtDkySebSdEH2shtjElpbf2oYTnesdd2+iTCnExmIfeYUxPUu0fJWFcyXpUfqgZ5frGR\n",
              "Co1LYte0I8UfX6Eub4JWkdxY1kBlZNXMO4CWBpKj1jRSD6/n3bMmXza8Bc3UzFrj+veLydychbv4\n",
              "B+kUAdJ/nelQha5TgHyvK93q2+n3rD4dCmCJ5J4iWP/M2UPVrpcfhIu57TcrXuuIgXe5rie2DMaz\n",
              "PzBPZwYh0sR3ahT0wya5es09qUyWbHKvXxj0f6QCdzE5/BsVPo3mKXF0UKZnsNlBDH4Gko+YboZK\n",
              "z799Up/ZlFhb7Fijr1ABzyxCNLK5q+A5gfmkt/s4X53ez4qaVjgQQ9ssE0pgKwgnLalnrpr7N+Mj\n",
              "qk5Xq004KL3V1ozs95Z91Yfd7eilM7Tkj1ENi3Vl2A+EirLpUhGi8zZk4BRAnAtiMEqV6OytMGIq\n",
              "aXCN9eJUlYkZa0Vq4DxFABk9fwV3OO/xfdANRzYAJIBC2D2lOeL2bm6p6RB3Eb4ZGIKVFPclgE/l\n",
              "2lieztUBaN/KbfHW1Rv00HrlkY88YbOqr+hH/J+lSnkYOiUoPoJFgKGWa825m7HBri7gRsk1CoSW\n",
              "Ty9LISTWR5dohXOeyx/I7iCZoNUA/mfkk1gaNdox4Yo3KGR/GmpEU39oOCS4FJf714+8D7c2ZSb0\n",
              "N8vw+XtzcxOPbUjikrPLQT7UWIcRmM0WOFCGyoiSNqydnCSooj3OYivW1bzvyMeUZRU/hxn4P/OL\n",
              "eS2RQOyXW7WapDZJYK9k3+xba+PdZdAAHIFVvLCtStX+6jUp7wAAAA8Bn2VqR/8AAAMAHazXtC0A\n",
              "AAI3QZtpSeEPJlMCF//+jLAAIwQwQAv9mm/8DrkLrdCx4YZUfi+08/tSO99wWbmDyWaeF+ieejQ+\n",
              "UeFwd1QndygKArZ0ZKypMprhwjHSL69lizAWTHu6mo+E9/CNH0vI7ppVK0zA7CccXP1f+qvleXvw\n",
              "UFHmOXL4HZmGg5gZVkCcouV4f/+4kewZVno0NyvwYIxSdo7axZMjZrFGlbeGCEbx6Z8hfaeoYk/N\n",
              "T85loMRdqHJrKG4PGq7THKP7VYMo6IJRyFXKKEVAIjdScQ9HXyo7zUbaC7tB50I1IXmG450lLmDi\n",
              "pY1yFnF6n1I0yHsSC389FaVtkqDzrxskC80YTcXYrOPSA0eVPhxDP6lcvWtJkH6hzGRhRjYujuAF\n",
              "OvmVqbzBn2bvrFq6l1iNnIPaiA7LemArJfVXpsFEW8/Mb5WS/crGzcqtMELOd25bc3fMMepEAfLf\n",
              "lwNvwYCaVBwWlmT9o+nkmoELpqCzIIEcQsVY9HGSJ8+cTw7b0VSScM9BI++Jb2CiDVk+yRDylo5P\n",
              "WqoqLF+CXAO32edhdtpT1jRYvgrqqXS8299BQ3COS/KEbN7FR3Gs262z6Q8YqFXHZw8064by96cQ\n",
              "Vg4XyJLiov4ohRg1O0Regmtjc1H2E1mXesdx6Tf0/AVi+DlEYIsPbXVaVRcrp/nR/ZAVT4qOFDM6\n",
              "f++9jRDL4ndRjxoMMzb50pb6ibVCQVzx9qtU+wjgiWghgNa+j+ZqA4c1rq6IQKCW7Z9bQfqJaJ7h\n",
              "AAAAFUGfh0URPCP/AAAjsDQA9YFK8JbWwAAAABQBn6hqR/8AAUdPwhlewSXlksJh8AAAAfBBm6xJ\n",
              "qEFomUwIZ//+nhAAIqShcAR7Qa+/6wfNXrmwerySRdQJHCqB3PWJtGX4Yp+pGRRGsICnO92559My\n",
              "qPmvWzhN6g0Vic9X/ZQxAKSIK0AqgdEybFwyuqAqTS9gIo081XoeMAeX8D+rgTkhVT6YbPk/agrc\n",
              "GfV9Xw5TdgzP+9kRpBjlrH4AXWFbRXv00mvEm4k5tMmUZbZR4TwCieVNIodYCXQbAeD/cQ+9WsZf\n",
              "CiLPp+q/mEALIDaHj9vd1CW5UKaFr1fPkoAwuLfxZXqsxHd45w8Ohma4j563Q3Dm6vQ88vDEIyea\n",
              "maKxif7dc2PuLO89VsTjRDCufTjImu0MzI2QZbIQrBklKMchwphu4i3yT4hCjKKGQty/VJ2bHoJA\n",
              "/jzLIO2JsPo0RbJsMIGHDk4vV9Fm2K3oWEU58hqTYBGe+Dq8RzfQ4WsJrp2fW0mtOy6jLs1+AGLH\n",
              "MIR6NDIN/6zDcAokMaNA/vonvVwv0S5MydSW1qKVWl5ZRoyinJ4NRYthXYR6ITcr5DxCpdNxqznc\n",
              "LgwWl6ReY1BojocGZXrsNCwlqGjFlgwGHpLRV+gldgZaI7j3WPeJq7IDDLzwLovm5Wum7ECxm2mF\n",
              "Gyj4zJH1HliYf6MSfhBR7LCtv0p28fKxZ/iEjX5QOISHEp3hAAAAFkGfykURLCP/AADEFQw3ybKQ\n",
              "tMOopwQAAAAOAZ/rakf/AAFHT8IABTQAAAILQZvwSahBbJlMCGf//p4QACKbOJhGACq54IyR03Jc\n",
              "ZQHbSliFs7kAzoDSfnXv8QzwHQ7lXduhZcIKY3Kd3KCi8OkUZlRzK8NQ6IKhxQoE2uTdCiJe3++v\n",
              "+NUzvZ0x7rPk3J/zxf6JWVjnNPVu9ZS+3uCX1kokLWNNBnNcSku3vCjrAVRY0OcBnUqkI5+aC2xb\n",
              "TllKS2AaQsY891BIj4b9eH4Yp+Ug4AQlYZlBLPjgd9Xa1YSLtgDUJBt32VcPabs2jQEAIZ+NYBVP\n",
              "WGJYxF8KgszeUy7WWQyL2zzxIKYXb1KNlfku3f7FTlzcd2Zz74UdDIeKwymervEHLuNxiJzTKkUr\n",
              "1oHfiVDF90197HAW2QVn/AS4C57cD1TYhXrjjQc+cFlpiDU+xxsGkJ67mSgt3Mq5V9V9ivZtgUdL\n",
              "vNQs0pVBWtOPbAr/cg6zmUOT95c8JzM8F5RlU7jTH7kytdyD7WGCkpDGFD8OlP/SxCFYCeXuZlRG\n",
              "A7aMAwD4aM5MsmiD/gXsJeT8VtukqVqcffYowKV5BBvqURJkaN+Ljlz7ptM765PvNTKnAVJIESIH\n",
              "rkRpnUPCprR8wOzd4jKVP6Oop4602lCn84QTxwmqVHutog6ZcNWkeJkHY09gmJn42q/2v+eXjCWJ\n",
              "BWknHkrlBKsWQk+ohz2PfjDZW4k+WjF70vveYlix4bZzOY66wQAAABlBng5FFSwj/wAEtf12YGl7\n",
              "/JXeg7izhcWBAAAADgGeLXRH/wARVh4QAAMLAAAADwGeL2pH/wAAAwBHZGCF7AAAATlBmjRJqEFs\n",
              "mUwIX//+jLAAIwPcgAidiAg6r231GDRFoFEhDqWT0S0mFCdtpT/yGceJzMvSOc++h5Xt0t4/0Usw\n",
              "dtndXUeZbg3+6/L4qV7nJGCwKu0unH4VmhR/LHKu0vKnQ4tzQbEWhogyMxAjd0U37dai7vALdcbq\n",
              "V0c4GYC1552s5ZEvy3UFbWsJhSwEl9ozCVBQjcWchFA+aLAzOyJIRJJ2Hd2+0B1OO5m3MJvidl/i\n",
              "R9aYCK1BaugP8gn3S0Nfpu5NlIGZcqs+Ay1cu+mJNEQ75KxA3R09xOsifAKyFSGnWUEgNcqAnrU+\n",
              "YkYu4F0yqx7rdBSKOeAvn11X6NRXAMuwJD6SwSn0spJtRc1uDW8q3fSQd1S6HXHBcxQsX8UTkdya\n",
              "0Vrt1gvEXef3YAI3kl3wEP6P2u20AAAAEkGeUkUVLCP/AAADAAMlu/ZDwQAAAA8BnnF0R/8AAAMA\n",
              "Haij2hYAAAAPAZ5zakf/AAADAAT7NQauAAABW0GaeEmoQWyZTAhf//6MsAAjA9yACNNGEUNHY8zJ\n",
              "zbUYFdrVGvO03YPtajXhmoE/ZDWdO5+AyiI32mXWU1KF+foC5zpY2hT3/rWwz2fbtri5MvUp9tog\n",
              "QxSroRKGiojGAEAVdt0oAbbv0+9X/L7pT30y4bi+aoWvdxwvAz4pOyjQgpMJNN5oBZZnYnupg5rA\n",
              "0Pmoy7ekIgXk3iOgvyHsg2FBYlu161sI5EcBX84cuuVvtVI6UDS07l3jDvnwE9F8yalYU3E4yIIi\n",
              "khwzEelyawfjgwUxpnkMOt5mr/XsJz/WqZgXjMtjl6/YC63n77NUHRB4ToHoF6jOoZkdwy4/I/SG\n",
              "1CFb4p87+JtYN7pCjix8/xYgYJKj48S4LNgAAVpg+r+nGyIcRIVAI50Rg7JA22QWrcDV14MGBUgl\n",
              "HPnPiOXTCuarZkKtDFUylOv722a3/DWe0NmJLA5ENzt3AAAAG0GelkUVLCP/AAsSrZOGypV7pJu/\n",
              "pfJXQQgbMAAAABQBnrV0R/8AADiRR8np1o9tTwPHcQAAAA0BnrdqR/8AAAMAAAYFAAAAPEGavEmo\n",
              "QWyZTAhf//6MsAAh+r4E0FpGMAAcaDavGiqWPRD8vKwfUJTAUpJYTR5lwjOCkgC7xI8V8qB0FwAA\n",
              "ABVBntpFFSwj/wAABjfvLocXMrPLIbEAAAAQAZ75dEf/AAAJ8LfupdvnUgAAABABnvtqR/8AAAn2\n",
              "agoz4cQ3AAAAWkGa4EmoQWyZTAhX//44QACGWSayIAFslcx/vbMvRHcPk3q5HzoCtAcwjzdoi3LM\n",
              "I6o0s/jsaGd/yhg/6RyHLCAPE6Wxog+RGsSvs1bBQQGkMdG+1DK3amhSQQAAABpBnx5FFSwj/wAL\n",
              "Wq2DU9fe8EDYAqNRH0AU0AAAABYBnz10R/8AAT4XAsu377tu11rttEGDAAAAEAGfP2pH/wAACfZq\n",
              "CjPhxDcAAAAVQZsjSahBbJlMCP/8hAAAAwAAAwK2AAAAE0GfQUUVLCP/AAS0yzAAfTrGtbEAAAAP\n",
              "AZ9iakf/AAADAAT7NQauAAAHb21vb3YAAABsbXZoZAAAAAAAAAAAAAAAAAAAA+gAAAfQAAEAAAEA\n",
              "AAAAAAAAAAAAAAABAAAAAAAAAAAAAAAAAAAAAQAAAAAAAAAAAAAAAAAAQAAAAAAAAAAAAAAAAAAA\n",
              "AAAAAAAAAAAAAAAAAAAAAAIAAAaZdHJhawAAAFx0a2hkAAAAAwAAAAAAAAAAAAAAAQAAAAAAAAfQ\n",
              "AAAAAAAAAAAAAAAAAAAAAAABAAAAAAAAAAAAAAAAAAAAAQAAAAAAAAAAAAAAAAAAQAAAAAJAAAAB\n",
              "jAAAAAAAJGVkdHMAAAAcZWxzdAAAAAAAAAABAAAH0AAAAgAAAQAAAAAGEW1kaWEAAAAgbWRoZAAA\n",
              "AAAAAAAAAAAAAAAAMgAAAGQAVcQAAAAAAC1oZGxyAAAAAAAAAAB2aWRlAAAAAAAAAAAAAAAAVmlk\n",
              "ZW9IYW5kbGVyAAAABbxtaW5mAAAAFHZtaGQAAAABAAAAAAAAAAAAAAAkZGluZgAAABxkcmVmAAAA\n",
              "AAAAAAEAAAAMdXJsIAAAAAEAAAV8c3RibAAAALRzdHNkAAAAAAAAAAEAAACkYXZjMQAAAAAAAAAB\n",
              "AAAAAAAAAAAAAAAAAAAAAAJAAYwASAAAAEgAAAAAAAAAAQAAAAAAAAAAAAAAAAAAAAAAAAAAAAAA\n",
              "AAAAAAAAAAAAABj//wAAADJhdmNDAWQAH//hABlnZAAfrNlAkDP7hAAAAwAEAAADAZA8YMZYAQAG\n",
              "aOvjyyLAAAAAHHV1aWRraEDyXyRPxbo5pRvPAyPzAAAAAAAAABhzdHRzAAAAAAAAAAEAAABkAAAB\n",
              "AAAAABRzdHNzAAAAAAAAAAEAAAABAAACwGN0dHMAAAAAAAAAVgAAAAUAAAIAAAAAAQAAAwAAAAAB\n",
              "AAABAAAAAAEAAAMAAAAAAQAAAQAAAAACAAACAAAAAAEAAAMAAAAAAQAAAQAAAAABAAADAAAAAAEA\n",
              "AAEAAAAAAQAAAwAAAAABAAABAAAAAAEAAAIAAAAAAQAAAwAAAAABAAABAAAAAAEAAAUAAAAAAQAA\n",
              "AgAAAAABAAAAAAAAAAEAAAEAAAAAAQAABQAAAAABAAACAAAAAAEAAAAAAAAAAQAAAQAAAAABAAAF\n",
              "AAAAAAEAAAIAAAAAAQAAAAAAAAABAAABAAAAAAEAAAMAAAAAAQAAAQAAAAABAAAFAAAAAAEAAAIA\n",
              "AAAAAQAAAAAAAAABAAABAAAAAAEAAAUAAAAAAQAAAgAAAAABAAAAAAAAAAEAAAEAAAAAAQAABQAA\n",
              "AAABAAACAAAAAAEAAAAAAAAAAQAAAQAAAAABAAAFAAAAAAEAAAIAAAAAAQAAAAAAAAABAAABAAAA\n",
              "AAEAAAUAAAAAAQAAAgAAAAABAAAAAAAAAAEAAAEAAAAAAQAABQAAAAABAAACAAAAAAEAAAAAAAAA\n",
              "AQAAAQAAAAABAAAFAAAAAAEAAAIAAAAAAQAAAAAAAAABAAABAAAAAAcAAAIAAAAAAQAAAwAAAAAB\n",
              "AAABAAAAAAEAAAQAAAAAAgAAAQAAAAABAAAEAAAAAAIAAAEAAAAAAQAABQAAAAABAAACAAAAAAEA\n",
              "AAAAAAAAAQAAAQAAAAABAAAFAAAAAAEAAAIAAAAAAQAAAAAAAAABAAABAAAAAAEAAAUAAAAAAQAA\n",
              "AgAAAAABAAAAAAAAAAEAAAEAAAAAAQAABQAAAAABAAACAAAAAAEAAAAAAAAAAQAAAQAAAAABAAAF\n",
              "AAAAAAEAAAIAAAAAAQAAAAAAAAABAAABAAAAAAEAAAQAAAAAAgAAAQAAAAAcc3RzYwAAAAAAAAAB\n",
              "AAAAAQAAAGQAAAABAAABpHN0c3oAAAAAAAAAAAAAAGQAACK3AAACmwAAAhEAAAIQAAACNwAAAw8A\n",
              "AAElAAACzQAAAPMAAAIAAAAB1gAAAwsAAADkAAADFAAAAMYAAAOUAAAA2QAAAusAAAO/AAAA3QAA\n",
              "BU0AAAHHAAAA6AAAAPUAAAXxAAABngAAAMYAAAC0AAAGHgAAAbkAAACUAAAAxAAABN0AAACUAAAF\n",
              "+gAAAT4AAAB6AAAAgQAABd4AAADnAAAAgwAAAGoAAAVvAAAAmwAAAEwAAABZAAAE4wAAAH0AAABB\n",
              "AAAAMAAABLUAAACTAAAAKQAAADIAAARLAAAAWQAAABgAAAAeAAAEIAAAADYAAAAdAAAAJAAAAbwA\n",
              "AAG+AAAB4wAAAaEAAAGoAAAB3gAAAZMAAAJ/AAAAEwAAAjsAAAAZAAAAGAAAAfQAAAAaAAAAEgAA\n",
              "Ag8AAAAdAAAAEgAAABMAAAE9AAAAFgAAABMAAAATAAABXwAAAB8AAAAYAAAAEQAAAEAAAAAZAAAA\n",
              "FAAAABQAAABeAAAAHgAAABoAAAAUAAAAGQAAABcAAAATAAAAFHN0Y28AAAAAAAAAAQAAACwAAABi\n",
              "dWR0YQAAAFptZXRhAAAAAAAAACFoZGxyAAAAAAAAAABtZGlyYXBwbAAAAAAAAAAAAAAAAC1pbHN0\n",
              "AAAAJal0b28AAAAdZGF0YQAAAAEAAAAATGF2ZjU3LjgzLjEwMA==\n",
              "\">\n",
              "  Your browser does not support the video tag.\n",
              "</video>"
            ],
            "text/plain": [
              "<matplotlib.animation.FuncAnimation at 0x7feba5fbecf8>"
            ]
          },
          "metadata": {
            "tags": []
          },
          "execution_count": 43
        }
      ]
    },
    {
      "metadata": {
        "id": "ag4kx3eaxLEn",
        "colab_type": "code",
        "colab": {}
      },
      "cell_type": "code",
      "source": [
        ""
      ],
      "execution_count": 0,
      "outputs": []
    }
  ]
}